{
 "cells": [
  {
   "cell_type": "markdown",
   "metadata": {},
   "source": [
    "# Constitutive modeling of the gastrointestinal tissues:  where are we? "
   ]
  },
  {
   "cell_type": "markdown",
   "metadata": {},
   "source": [
    "## Bhavesh Patel"
   ]
  },
  {
   "cell_type": "markdown",
   "metadata": {},
   "source": [
    "This notebook is a complement to our review paper. It enables an interactive visualization of the results from our review as well as provides a base for viewers to generate additional plots and make further findings/observations. "
   ]
  },
  {
   "cell_type": "markdown",
   "metadata": {},
   "source": [
    "# 1. Import required modules  "
   ]
  },
  {
   "cell_type": "code",
   "execution_count": 34,
   "metadata": {},
   "outputs": [],
   "source": [
    "import os\n",
    "import pandas as pd\n",
    "import plotly\n",
    "import plotly.graph_objects as go\n",
    "import ipywidgets as ipw\n",
    "import plotly.express as px\n",
    "import numpy as np\n",
    "from ipywidgets import widgets\n",
    "\n",
    "organ_list = [\"Esophagus\", \"Stomach\", \"Small intestine\", \"Large intestine\", \"Rectum\"]\n",
    "\n",
    "#color for plots\n",
    "plot_background_color = 'rgba(242, 241, 239, 0.8)'\n",
    "\n",
    "color_6 = '#fb5607'\n",
    "color_5 = '#ef476f'\n",
    "color_2 = '#ffd166'\n",
    "color_3 = '#06d6a0'\n",
    "color_4 = '#118ab2'\n",
    "color_1 = '#073b4c'\n",
    "color_palette = [color_1, color_2, color_3, color_4, color_5, color_6]"
   ]
  },
  {
   "cell_type": "markdown",
   "metadata": {},
   "source": [
    "# 2. Import data  "
   ]
  },
  {
   "cell_type": "markdown",
   "metadata": {},
   "source": [
    "Review results have been stored in an excel spreadsheet stored under docs\\review-results.xlsx. There is one sheet for each organ plus a summary sheet with an overview of our research strategy and one sheet with a definition of the term used. Data from this spreadsheet is imported first in the notebook for subsequent analysis. "
   ]
  },
  {
   "cell_type": "code",
   "execution_count": 35,
   "metadata": {},
   "outputs": [
    {
     "name": "stdout",
     "output_type": "stream",
     "text": [
      "START\n",
      "Imported sheet: Esophagus\n",
      "Imported sheet: Stomach\n",
      "Imported sheet: Small intestine\n",
      "Imported sheet: Large intestine\n",
      "Imported sheet: Rectum\n",
      "COMPLETED: Data has been imported\n"
     ]
    }
   ],
   "source": [
    "# import data\n",
    "current_folder = os.getcwd() # folder where this notebook is stored (code folder)\n",
    "main_folder = os.path.dirname(current_folder) # one folder up\n",
    "data_folder = \"docs\" # folder where data file \"review-results.xlsx\" is stored\n",
    "data_file = \"review-results.xlsx\" # data file name\n",
    "data_path = os.path.join(main_folder, data_folder, data_file) # full path of the data file\n",
    "xl_data = pd.ExcelFile(data_path) # import data from the spreadsheet\n",
    "\n",
    "# extract each sheet as a panda dataframe and store them in a Python dictionary for subsequent use\n",
    "data_dict = {} \n",
    "print('START')\n",
    "all_sheets = xl_data.sheet_names\n",
    "desired_sheets = organ_list\n",
    "for sheet in all_sheets: \n",
    "    if sheet in desired_sheets:\n",
    "        df = pd.read_excel(xl_data, sheet_name = sheet)\n",
    "        df[\"Organ\"] = sheet\n",
    "        data_dict[sheet] = df\n",
    "        print('Imported sheet:', sheet)\n",
    "print('COMPLETED: Data has been imported')"
   ]
  },
  {
   "cell_type": "code",
   "execution_count": 36,
   "metadata": {},
   "outputs": [
    {
     "data": {
      "text/html": [
       "<div>\n",
       "<style scoped>\n",
       "    .dataframe tbody tr th:only-of-type {\n",
       "        vertical-align: middle;\n",
       "    }\n",
       "\n",
       "    .dataframe tbody tr th {\n",
       "        vertical-align: top;\n",
       "    }\n",
       "\n",
       "    .dataframe thead th {\n",
       "        text-align: right;\n",
       "    }\n",
       "</style>\n",
       "<table border=\"1\" class=\"dataframe\">\n",
       "  <thead>\n",
       "    <tr style=\"text-align: right;\">\n",
       "      <th></th>\n",
       "      <th>#</th>\n",
       "      <th>Title</th>\n",
       "      <th>DOI</th>\n",
       "      <th>Author</th>\n",
       "      <th>Year</th>\n",
       "      <th>Comments</th>\n",
       "      <th>Species mentioned</th>\n",
       "      <th>Species category</th>\n",
       "      <th>Number of subjects</th>\n",
       "      <th>Sex</th>\n",
       "      <th>...</th>\n",
       "      <th>Hyperelastic model category</th>\n",
       "      <th>Hyperelastic model type</th>\n",
       "      <th>Viscous model type</th>\n",
       "      <th>Active model category</th>\n",
       "      <th>Active model type</th>\n",
       "      <th>Zero stress state</th>\n",
       "      <th>Incompressibility ref</th>\n",
       "      <th>Viscoelasticity ref</th>\n",
       "      <th>Organ</th>\n",
       "      <th>Unnamed: 25</th>\n",
       "    </tr>\n",
       "  </thead>\n",
       "  <tbody>\n",
       "    <tr>\n",
       "      <th>22</th>\n",
       "      <td>1</td>\n",
       "      <td>Biomechanics of small bowel motility</td>\n",
       "      <td>https://doi.org/10.1016/1350-4533(90)90007-U</td>\n",
       "      <td>Miftakhov &amp; al.</td>\n",
       "      <td>1994</td>\n",
       "      <td>Modeled passive tissue behavior using a Fung t...</td>\n",
       "      <td>NaN</td>\n",
       "      <td>NaN</td>\n",
       "      <td>NaN</td>\n",
       "      <td>NaN</td>\n",
       "      <td>...</td>\n",
       "      <td>Phenomenological</td>\n",
       "      <td>Fung</td>\n",
       "      <td>NaN</td>\n",
       "      <td>NaN</td>\n",
       "      <td>NaN</td>\n",
       "      <td>No</td>\n",
       "      <td>Not mentioned</td>\n",
       "      <td>Not mentioned</td>\n",
       "      <td>Small intestine</td>\n",
       "      <td>NaN</td>\n",
       "    </tr>\n",
       "    <tr>\n",
       "      <th>0</th>\n",
       "      <td>1</td>\n",
       "      <td>Stress distribution in the layered wall of the...</td>\n",
       "      <td>https://doi.org/10.1016/S1350-4533(03)00122-X</td>\n",
       "      <td>Liao &amp; al.</td>\n",
       "      <td>2003</td>\n",
       "      <td>Intact tissue and individual layers (mucosa-su...</td>\n",
       "      <td>Rat</td>\n",
       "      <td>Rodent</td>\n",
       "      <td>5</td>\n",
       "      <td>M</td>\n",
       "      <td>...</td>\n",
       "      <td>Phenomenological</td>\n",
       "      <td>Fung</td>\n",
       "      <td>NaN</td>\n",
       "      <td>NaN</td>\n",
       "      <td>NaN</td>\n",
       "      <td>Yes</td>\n",
       "      <td>NaN</td>\n",
       "      <td>NaN</td>\n",
       "      <td>Esophagus</td>\n",
       "      <td>NaN</td>\n",
       "    </tr>\n",
       "    <tr>\n",
       "      <th>23</th>\n",
       "      <td>2</td>\n",
       "      <td>Morphology and stress-strain properties along ...</td>\n",
       "      <td>https://doi.org/10.1115/1.1560140</td>\n",
       "      <td>Dou &amp; al.</td>\n",
       "      <td>2003</td>\n",
       "      <td>duodenum, jejunum, and ileum studied individually</td>\n",
       "      <td>Rat</td>\n",
       "      <td>Rodent</td>\n",
       "      <td>12</td>\n",
       "      <td>F</td>\n",
       "      <td>...</td>\n",
       "      <td>Phenomenological</td>\n",
       "      <td>Fung</td>\n",
       "      <td>NaN</td>\n",
       "      <td>NaN</td>\n",
       "      <td>NaN</td>\n",
       "      <td>Yes</td>\n",
       "      <td>No ref \"assuming incompressibility of the inte...</td>\n",
       "      <td>Not mentioned</td>\n",
       "      <td>Small intestine</td>\n",
       "      <td>NaN</td>\n",
       "    </tr>\n",
       "    <tr>\n",
       "      <th>24</th>\n",
       "      <td>3</td>\n",
       "      <td>Biomechanical and morphometric intestinal remo...</td>\n",
       "      <td>https://doi.org/10.1007/s00125-003-1233-2</td>\n",
       "      <td>Zhao &amp; al.</td>\n",
       "      <td>2003</td>\n",
       "      <td>duodenum, jejunum, and ileum studied individua...</td>\n",
       "      <td>Rat</td>\n",
       "      <td>Rodent</td>\n",
       "      <td>50</td>\n",
       "      <td>M</td>\n",
       "      <td>...</td>\n",
       "      <td>Phenomenological</td>\n",
       "      <td>Fung</td>\n",
       "      <td>NaN</td>\n",
       "      <td>NaN</td>\n",
       "      <td>NaN</td>\n",
       "      <td>Yes</td>\n",
       "      <td>No ref \"assuming incompressibility of the inte...</td>\n",
       "      <td>Not mentioned</td>\n",
       "      <td>Small intestine</td>\n",
       "      <td>NaN</td>\n",
       "    </tr>\n",
       "    <tr>\n",
       "      <th>1</th>\n",
       "      <td>2</td>\n",
       "      <td>Torque properties of a rat oesophagus for phys...</td>\n",
       "      <td>https://doi.org/10.1088/0967-3334/25/5/011</td>\n",
       "      <td>Zeng &amp; al.</td>\n",
       "      <td>2004</td>\n",
       "      <td>8 normal, 27 diseased (diabetic) with differen...</td>\n",
       "      <td>Rat</td>\n",
       "      <td>Rodent</td>\n",
       "      <td>35</td>\n",
       "      <td>M-F</td>\n",
       "      <td>...</td>\n",
       "      <td>Phenomenological</td>\n",
       "      <td>Fung</td>\n",
       "      <td>NaN</td>\n",
       "      <td>NaN</td>\n",
       "      <td>NaN</td>\n",
       "      <td>No</td>\n",
       "      <td>NaN</td>\n",
       "      <td>NaN</td>\n",
       "      <td>Esophagus</td>\n",
       "      <td>NaN</td>\n",
       "    </tr>\n",
       "    <tr>\n",
       "      <th>2</th>\n",
       "      <td>3</td>\n",
       "      <td>Shear modulus of elasticity of the esophagus</td>\n",
       "      <td>https://doi.org/10.1114/B%3AABME.0000039356.24...</td>\n",
       "      <td>Yang &amp; al.</td>\n",
       "      <td>2004</td>\n",
       "      <td>NaN</td>\n",
       "      <td>Rat</td>\n",
       "      <td>Rodent</td>\n",
       "      <td>8</td>\n",
       "      <td>M-F</td>\n",
       "      <td>...</td>\n",
       "      <td>Phenomenological</td>\n",
       "      <td>Fung</td>\n",
       "      <td>NaN</td>\n",
       "      <td>NaN</td>\n",
       "      <td>NaN</td>\n",
       "      <td>Yes</td>\n",
       "      <td>NaN</td>\n",
       "      <td>NaN</td>\n",
       "      <td>Esophagus</td>\n",
       "      <td>NaN</td>\n",
       "    </tr>\n",
       "    <tr>\n",
       "      <th>3</th>\n",
       "      <td>4</td>\n",
       "      <td>Directional, Regional, and Layer Variations of...</td>\n",
       "      <td>https://doi.org/10.1115/1.2187033</td>\n",
       "      <td>Yang &amp; al.</td>\n",
       "      <td>2006</td>\n",
       "      <td>Mucosa-submucosa and muscle layers tested indi...</td>\n",
       "      <td>Porcine/Pig</td>\n",
       "      <td>Swine</td>\n",
       "      <td>NP</td>\n",
       "      <td>NP</td>\n",
       "      <td>...</td>\n",
       "      <td>Structure-based</td>\n",
       "      <td>Holzapfel - Modified exponential - Bilinear</td>\n",
       "      <td>NaN</td>\n",
       "      <td>NaN</td>\n",
       "      <td>NaN</td>\n",
       "      <td>Yes</td>\n",
       "      <td>NaN</td>\n",
       "      <td>NaN</td>\n",
       "      <td>Esophagus</td>\n",
       "      <td>NaN</td>\n",
       "    </tr>\n",
       "    <tr>\n",
       "      <th>4</th>\n",
       "      <td>5</td>\n",
       "      <td>3D Mechanical Properties of the Layered Esopha...</td>\n",
       "      <td>https://doi.org/10.1115/1.2354206</td>\n",
       "      <td>Yang &amp; al.</td>\n",
       "      <td>2006</td>\n",
       "      <td>Only Muscle and mucosa layers tested individua...</td>\n",
       "      <td>Porcine/Pig</td>\n",
       "      <td>Swine</td>\n",
       "      <td>NP</td>\n",
       "      <td>NP</td>\n",
       "      <td>...</td>\n",
       "      <td>Structure-based</td>\n",
       "      <td>Holzapfel - Modified exponential - Bilinear</td>\n",
       "      <td>NaN</td>\n",
       "      <td>NaN</td>\n",
       "      <td>NaN</td>\n",
       "      <td>Yes</td>\n",
       "      <td>NaN</td>\n",
       "      <td>NaN</td>\n",
       "      <td>Esophagus</td>\n",
       "      <td>NaN</td>\n",
       "    </tr>\n",
       "    <tr>\n",
       "      <th>5</th>\n",
       "      <td>6</td>\n",
       "      <td>Three-dimensional finite element model of the ...</td>\n",
       "      <td>https://doi.org/10.1243%2F09544119JEIM47</td>\n",
       "      <td>Yang &amp; al.</td>\n",
       "      <td>2007</td>\n",
       "      <td>FE + opening angle + buckling of mucosa + two ...</td>\n",
       "      <td>NaN</td>\n",
       "      <td>NaN</td>\n",
       "      <td>NaN</td>\n",
       "      <td>NaN</td>\n",
       "      <td>...</td>\n",
       "      <td>Structure-based</td>\n",
       "      <td>Holzapfel - Modified exponential - Bilinear</td>\n",
       "      <td>NaN</td>\n",
       "      <td>Active stress</td>\n",
       "      <td>Phenomenological</td>\n",
       "      <td>Yes</td>\n",
       "      <td>NaN</td>\n",
       "      <td>NaN</td>\n",
       "      <td>Esophagus</td>\n",
       "      <td>NaN</td>\n",
       "    </tr>\n",
       "    <tr>\n",
       "      <th>33</th>\n",
       "      <td>1</td>\n",
       "      <td>In vivo measurements and constitutive modeling...</td>\n",
       "      <td>https://doi.org/10.1007/978-3-540-36841-0_805</td>\n",
       "      <td>Higa &amp; al.</td>\n",
       "      <td>2007</td>\n",
       "      <td>NaN</td>\n",
       "      <td>Goat</td>\n",
       "      <td>Goat</td>\n",
       "      <td>1</td>\n",
       "      <td>NP</td>\n",
       "      <td>...</td>\n",
       "      <td>NaN</td>\n",
       "      <td>Mooney-Rivlin</td>\n",
       "      <td>Convolution integral</td>\n",
       "      <td>NaN</td>\n",
       "      <td>NaN</td>\n",
       "      <td>No</td>\n",
       "      <td>No ref \"Here, the tissue is assumed to be isot...</td>\n",
       "      <td>\"In this study, Mooney-Rivlin model incorporat...</td>\n",
       "      <td>Large intestine</td>\n",
       "      <td>NaN</td>\n",
       "    </tr>\n",
       "    <tr>\n",
       "      <th>16</th>\n",
       "      <td>1</td>\n",
       "      <td>Numerical Analysis of Pouch Filling and Emptyi...</td>\n",
       "      <td>https://doi.org/10.1007/s11695-007-9314-9</td>\n",
       "      <td>Gao &amp; al.</td>\n",
       "      <td>2008</td>\n",
       "      <td>NaN</td>\n",
       "      <td>Pig</td>\n",
       "      <td>Swine</td>\n",
       "      <td>2.0</td>\n",
       "      <td>NP</td>\n",
       "      <td>...</td>\n",
       "      <td>Phenomenological</td>\n",
       "      <td>Ogden</td>\n",
       "      <td>NaN</td>\n",
       "      <td>NaN</td>\n",
       "      <td>NaN</td>\n",
       "      <td>NaN</td>\n",
       "      <td>No</td>\n",
       "      <td>Not mentioned</td>\n",
       "      <td>Stomach</td>\n",
       "      <td>Not mentioned</td>\n",
       "    </tr>\n",
       "    <tr>\n",
       "      <th>47</th>\n",
       "      <td>1</td>\n",
       "      <td>Finite element simulation of interactions betw...</td>\n",
       "      <td>https://doi.org/10.1016/j.jbiomech.2009.05.022</td>\n",
       "      <td>Boubaker &amp; al.</td>\n",
       "      <td>2009</td>\n",
       "      <td>Experimental data used from Rubod, C., M. Bouk...</td>\n",
       "      <td>Patient/Cadaver</td>\n",
       "      <td>Human</td>\n",
       "      <td>NP</td>\n",
       "      <td>F</td>\n",
       "      <td>...</td>\n",
       "      <td>Phenomenological</td>\n",
       "      <td>Ogden</td>\n",
       "      <td>NaN</td>\n",
       "      <td>NaN</td>\n",
       "      <td>NaN</td>\n",
       "      <td>No</td>\n",
       "      <td>No mentioned</td>\n",
       "      <td>Ingnored. Literaturemeasurementsofthemechanica...</td>\n",
       "      <td>Rectum</td>\n",
       "      <td>NaN</td>\n",
       "    </tr>\n",
       "    <tr>\n",
       "      <th>25</th>\n",
       "      <td>4</td>\n",
       "      <td>Modelling the elastin, collagen and smooth mus...</td>\n",
       "      <td>https://doi.org/10.1111/j.1365-2982.2009.01314.x</td>\n",
       "      <td>Gao &amp; al.</td>\n",
       "      <td>2009</td>\n",
       "      <td>duodenum, 6 patients (3M, 3F) all with establi...</td>\n",
       "      <td>Patient/Volunteer</td>\n",
       "      <td>Human</td>\n",
       "      <td>11</td>\n",
       "      <td>M-F</td>\n",
       "      <td>...</td>\n",
       "      <td>NaN</td>\n",
       "      <td>NaN</td>\n",
       "      <td>NaN</td>\n",
       "      <td>Active stress</td>\n",
       "      <td>Experimental</td>\n",
       "      <td>No</td>\n",
       "      <td>Not mentioned</td>\n",
       "      <td>Not mentioned</td>\n",
       "      <td>Small intestine</td>\n",
       "      <td>NaN</td>\n",
       "    </tr>\n",
       "    <tr>\n",
       "      <th>7</th>\n",
       "      <td>8</td>\n",
       "      <td>Biomechanical and histological characteristics...</td>\n",
       "      <td>https://doi.org/10.1016/j.jbiomech.2009.08.018</td>\n",
       "      <td>Stavropoulou &amp; al.</td>\n",
       "      <td>2009</td>\n",
       "      <td>3 fung type SEF tested: Fung (Classic 3 parame...</td>\n",
       "      <td>Rabbit</td>\n",
       "      <td>Rabbit</td>\n",
       "      <td>7</td>\n",
       "      <td>M</td>\n",
       "      <td>...</td>\n",
       "      <td>Phenomenological</td>\n",
       "      <td>Fung</td>\n",
       "      <td>NaN</td>\n",
       "      <td>NaN</td>\n",
       "      <td>NaN</td>\n",
       "      <td>Yes</td>\n",
       "      <td>NaN</td>\n",
       "      <td>NaN</td>\n",
       "      <td>Esophagus</td>\n",
       "      <td>NaN</td>\n",
       "    </tr>\n",
       "    <tr>\n",
       "      <th>6</th>\n",
       "      <td>7</td>\n",
       "      <td>Biomechanical behaviour of oesophageal tissues...</td>\n",
       "      <td>https://doi.org/10.1016/j.medengphy.2009.07.003</td>\n",
       "      <td>Natali &amp; al.</td>\n",
       "      <td>2009</td>\n",
       "      <td>Test data obtained from https://doi.org/10.111...</td>\n",
       "      <td>Porcine/Pig</td>\n",
       "      <td>Swine</td>\n",
       "      <td>NP</td>\n",
       "      <td>NP</td>\n",
       "      <td>...</td>\n",
       "      <td>Structure-based</td>\n",
       "      <td>Natali</td>\n",
       "      <td>NaN</td>\n",
       "      <td>NaN</td>\n",
       "      <td>NaN</td>\n",
       "      <td>No</td>\n",
       "      <td>NaN</td>\n",
       "      <td>NaN</td>\n",
       "      <td>Esophagus</td>\n",
       "      <td>NaN</td>\n",
       "    </tr>\n",
       "    <tr>\n",
       "      <th>34</th>\n",
       "      <td>2</td>\n",
       "      <td>Hyperelastic Model of Anisotropic Fiber Reinfo...</td>\n",
       "      <td>https://doi.org/10.1177/0278364909101190</td>\n",
       "      <td>Ciarletta &amp; al.</td>\n",
       "      <td>2009</td>\n",
       "      <td>Not clear what tissue used for shear test. Ten...</td>\n",
       "      <td>Porcine/Pig</td>\n",
       "      <td>Swine</td>\n",
       "      <td>5</td>\n",
       "      <td>NP</td>\n",
       "      <td>...</td>\n",
       "      <td>Structure-based</td>\n",
       "      <td>Holzapfel</td>\n",
       "      <td>NaN</td>\n",
       "      <td>NaN</td>\n",
       "      <td>NaN</td>\n",
       "      <td>No</td>\n",
       "      <td>A ref given but does not lead to any GI study ...</td>\n",
       "      <td>aim to describe the purely elastic response in...</td>\n",
       "      <td>Large intestine</td>\n",
       "      <td>NaN</td>\n",
       "    </tr>\n",
       "    <tr>\n",
       "      <th>8</th>\n",
       "      <td>9</td>\n",
       "      <td>Modeling of the mechanical function of the hum...</td>\n",
       "      <td>https://doi.org/10.1016/j.jbiomech.2009.04.041</td>\n",
       "      <td>Yassi &amp; al.</td>\n",
       "      <td>2009</td>\n",
       "      <td>junction finite elasticity human cadaveric ima...</td>\n",
       "      <td>NP</td>\n",
       "      <td>NP</td>\n",
       "      <td>NP</td>\n",
       "      <td>NP</td>\n",
       "      <td>...</td>\n",
       "      <td>Phenomenological</td>\n",
       "      <td>Fung-Guccione</td>\n",
       "      <td>NaN</td>\n",
       "      <td>Active stress</td>\n",
       "      <td>Phenomenological</td>\n",
       "      <td>Yes</td>\n",
       "      <td>NaN</td>\n",
       "      <td>NaN</td>\n",
       "      <td>Esophagus</td>\n",
       "      <td>NaN</td>\n",
       "    </tr>\n",
       "    <tr>\n",
       "      <th>26</th>\n",
       "      <td>5</td>\n",
       "      <td>3d Mechanical properties of the partially obst...</td>\n",
       "      <td>https://doi.org/10.1016/j.jbiomech.2010.04.008</td>\n",
       "      <td>Liao &amp; al.</td>\n",
       "      <td>2010</td>\n",
       "      <td>Normal (n=4) and Diseased (n=5): 2 weeks Parti...</td>\n",
       "      <td>Guinea pig</td>\n",
       "      <td>Guinea pig</td>\n",
       "      <td>9</td>\n",
       "      <td>M</td>\n",
       "      <td>...</td>\n",
       "      <td>Phenomenological</td>\n",
       "      <td>Fung</td>\n",
       "      <td>NaN</td>\n",
       "      <td>NaN</td>\n",
       "      <td>NaN</td>\n",
       "      <td>Yes</td>\n",
       "      <td>Not mentioned</td>\n",
       "      <td>Not mentioned</td>\n",
       "      <td>Small intestine</td>\n",
       "      <td>NaN</td>\n",
       "    </tr>\n",
       "    <tr>\n",
       "      <th>9</th>\n",
       "      <td>10</td>\n",
       "      <td>Strain-energy function and three-dimensional s...</td>\n",
       "      <td>https://doi.org/10.1016/j.jbiomech.2010.06.007</td>\n",
       "      <td>Sokolis &amp; al.</td>\n",
       "      <td>2010</td>\n",
       "      <td>Intact + mucosa-submucosa and muscle layer tested</td>\n",
       "      <td>Rabbit</td>\n",
       "      <td>Rabbit</td>\n",
       "      <td>7</td>\n",
       "      <td>M</td>\n",
       "      <td>...</td>\n",
       "      <td>Phenomenological</td>\n",
       "      <td>Fung</td>\n",
       "      <td>NaN</td>\n",
       "      <td>NaN</td>\n",
       "      <td>NaN</td>\n",
       "      <td>Yes</td>\n",
       "      <td>NaN</td>\n",
       "      <td>NaN</td>\n",
       "      <td>Esophagus</td>\n",
       "      <td>NaN</td>\n",
       "    </tr>\n",
       "    <tr>\n",
       "      <th>35</th>\n",
       "      <td>3</td>\n",
       "      <td>Biomechanical testing and material characteriz...</td>\n",
       "      <td>https://doi.org/10.1088/0967-3334/32/12/007</td>\n",
       "      <td>Sokolis &amp; al.</td>\n",
       "      <td>2011</td>\n",
       "      <td>Large intestine and rectum tested and modeled</td>\n",
       "      <td>Rat</td>\n",
       "      <td>Rodent</td>\n",
       "      <td>5</td>\n",
       "      <td>NP</td>\n",
       "      <td>...</td>\n",
       "      <td>Phenomenological</td>\n",
       "      <td>Fung</td>\n",
       "      <td>NaN</td>\n",
       "      <td>NaN</td>\n",
       "      <td>NaN</td>\n",
       "      <td>Yes</td>\n",
       "      <td>No ref \"With incompressibility enforced as per...</td>\n",
       "      <td>No mentioned</td>\n",
       "      <td>Large intestine</td>\n",
       "      <td>NaN</td>\n",
       "    </tr>\n",
       "    <tr>\n",
       "      <th>36</th>\n",
       "      <td>4</td>\n",
       "      <td>Experimental and computational approach to stu...</td>\n",
       "      <td>https://doi.org/10.21269/300</td>\n",
       "      <td>Tran &amp; al.</td>\n",
       "      <td>2011</td>\n",
       "      <td>Refered in Novacek 2012, 6 porcine transverse ...</td>\n",
       "      <td>Porcine</td>\n",
       "      <td>Swine</td>\n",
       "      <td>9</td>\n",
       "      <td>NP</td>\n",
       "      <td>...</td>\n",
       "      <td>Phenomenological</td>\n",
       "      <td>Ogden</td>\n",
       "      <td>NaN</td>\n",
       "      <td>NaN</td>\n",
       "      <td>NaN</td>\n",
       "      <td>No</td>\n",
       "      <td>No ref \"The tissue is modeled as an incompress...</td>\n",
       "      <td>No mentioned</td>\n",
       "      <td>Large intestine</td>\n",
       "      <td>NaN</td>\n",
       "    </tr>\n",
       "    <tr>\n",
       "      <th>48</th>\n",
       "      <td>2</td>\n",
       "      <td>Biomechanical testing and material characteriz...</td>\n",
       "      <td>https://doi.org/10.1088/0967-3334/32/12/007</td>\n",
       "      <td>Sokolis &amp; al.</td>\n",
       "      <td>2011</td>\n",
       "      <td>Large intestine and rectum tested and modeled</td>\n",
       "      <td>Rat</td>\n",
       "      <td>Rodent</td>\n",
       "      <td>5</td>\n",
       "      <td>NP</td>\n",
       "      <td>...</td>\n",
       "      <td>Phenomenological</td>\n",
       "      <td>Fung</td>\n",
       "      <td>NaN</td>\n",
       "      <td>NaN</td>\n",
       "      <td>NaN</td>\n",
       "      <td>Yes</td>\n",
       "      <td>cf colon</td>\n",
       "      <td>Viscoelasticity discussed and shown through ex...</td>\n",
       "      <td>Rectum</td>\n",
       "      <td>NaN</td>\n",
       "    </tr>\n",
       "    <tr>\n",
       "      <th>27</th>\n",
       "      <td>small</td>\n",
       "      <td>Biaxial mechanical modeling of the small intes...</td>\n",
       "      <td>https://doi.org/10.1016/j.jmbbm.2011.05.030</td>\n",
       "      <td>Bellini &amp; al.</td>\n",
       "      <td>2011</td>\n",
       "      <td>duodenum (10), jejunum(8), and ileum (10) stud...</td>\n",
       "      <td>Porcine/Pig</td>\n",
       "      <td>Swine</td>\n",
       "      <td>10</td>\n",
       "      <td>NP</td>\n",
       "      <td>...</td>\n",
       "      <td>Phenomenological</td>\n",
       "      <td>Fung - Neo Hookean - Mooney-Rivlin</td>\n",
       "      <td>NaN</td>\n",
       "      <td>NaN</td>\n",
       "      <td>NaN</td>\n",
       "      <td>No</td>\n",
       "      <td>No ref \"The small intestine was modeled as an ...</td>\n",
       "      <td>\"The material models proposed in our study wer...</td>\n",
       "      <td>Small intestine</td>\n",
       "      <td>NaN</td>\n",
       "    </tr>\n",
       "    <tr>\n",
       "      <th>10</th>\n",
       "      <td>11</td>\n",
       "      <td>Biomechanical behavior and histological organi...</td>\n",
       "      <td>https://doi.org/10.1177%2F0954411912444073</td>\n",
       "      <td>Stavropoulou &amp; al.</td>\n",
       "      <td>2012</td>\n",
       "      <td>3 layer tested and modeled: mucosa-submucosa, ...</td>\n",
       "      <td>Pig</td>\n",
       "      <td>Swine</td>\n",
       "      <td>8</td>\n",
       "      <td>M</td>\n",
       "      <td>...</td>\n",
       "      <td>Phenomenological</td>\n",
       "      <td>Fung</td>\n",
       "      <td>NaN</td>\n",
       "      <td>NaN</td>\n",
       "      <td>NaN</td>\n",
       "      <td>No</td>\n",
       "      <td>NaN</td>\n",
       "      <td>NaN</td>\n",
       "      <td>Esophagus</td>\n",
       "      <td>NaN</td>\n",
       "    </tr>\n",
       "    <tr>\n",
       "      <th>49</th>\n",
       "      <td>3</td>\n",
       "      <td>Biomechanical Properties of Human Pelvic Organs</td>\n",
       "      <td>https://doi.org/10.1016/j.urology.2011.11.010</td>\n",
       "      <td>Rubod &amp; al.</td>\n",
       "      <td>2012</td>\n",
       "      <td>Tissue from cadaver, Uniaxial along trans and ...</td>\n",
       "      <td>Cadaver</td>\n",
       "      <td>Human</td>\n",
       "      <td>5</td>\n",
       "      <td>F</td>\n",
       "      <td>...</td>\n",
       "      <td>Phenomenological</td>\n",
       "      <td>Mooney-Rivlin</td>\n",
       "      <td>NaN</td>\n",
       "      <td>NaN</td>\n",
       "      <td>NaN</td>\n",
       "      <td>No</td>\n",
       "      <td>No mentioned</td>\n",
       "      <td>\"We were able to demonstrate a nonlinear relat...</td>\n",
       "      <td>Rectum</td>\n",
       "      <td>NaN</td>\n",
       "    </tr>\n",
       "    <tr>\n",
       "      <th>12</th>\n",
       "      <td>13</td>\n",
       "      <td>Multiaxial mechanical response and constitutiv...</td>\n",
       "      <td>https://doi.org/10.1016/j.actbio.2013.07.041</td>\n",
       "      <td>Sommer &amp; al.</td>\n",
       "      <td>2013</td>\n",
       "      <td>Mucosa-submucosa and muscle tested</td>\n",
       "      <td>Ovine</td>\n",
       "      <td>Ovine</td>\n",
       "      <td>12</td>\n",
       "      <td>NP</td>\n",
       "      <td>...</td>\n",
       "      <td>Structure-based</td>\n",
       "      <td>Holzapfel</td>\n",
       "      <td>NaN</td>\n",
       "      <td>NaN</td>\n",
       "      <td>NaN</td>\n",
       "      <td>Yes</td>\n",
       "      <td>NaN</td>\n",
       "      <td>NaN</td>\n",
       "      <td>Esophagus</td>\n",
       "      <td>NaN</td>\n",
       "    </tr>\n",
       "    <tr>\n",
       "      <th>50</th>\n",
       "      <td>4</td>\n",
       "      <td>Microstructure-based constitutive modeling for...</td>\n",
       "      <td>https://doi.org/10.1016/j.jmbbm.2013.02.016</td>\n",
       "      <td>Sokolis &amp; al.</td>\n",
       "      <td>2013</td>\n",
       "      <td>5 of the 7 datasets are from Sokolis 2011 (htt...</td>\n",
       "      <td>Rat</td>\n",
       "      <td>Rodent</td>\n",
       "      <td>7</td>\n",
       "      <td>NP</td>\n",
       "      <td>...</td>\n",
       "      <td>Structure-based</td>\n",
       "      <td>Holzapfel</td>\n",
       "      <td>NaN</td>\n",
       "      <td>NaN</td>\n",
       "      <td>NaN</td>\n",
       "      <td>Yes</td>\n",
       "      <td>cf colon</td>\n",
       "      <td>NaN</td>\n",
       "      <td>Rectum</td>\n",
       "      <td>NaN</td>\n",
       "    </tr>\n",
       "    <tr>\n",
       "      <th>39</th>\n",
       "      <td>7</td>\n",
       "      <td>Study of the Behavior of a Bell-Shaped Colonic...</td>\n",
       "      <td>https://doi.org/10.1155/2013/370582</td>\n",
       "      <td>Puértolas &amp; al.</td>\n",
       "      <td>2013</td>\n",
       "      <td>Test data from another paper is used:  https:/...</td>\n",
       "      <td>Human</td>\n",
       "      <td>Human</td>\n",
       "      <td>46</td>\n",
       "      <td>NP</td>\n",
       "      <td>...</td>\n",
       "      <td>Phenomenological</td>\n",
       "      <td>Mooney-Rivlin</td>\n",
       "      <td>NaN</td>\n",
       "      <td>NaN</td>\n",
       "      <td>NaN</td>\n",
       "      <td>No</td>\n",
       "      <td>Not mentioned</td>\n",
       "      <td>Not mentioned</td>\n",
       "      <td>Large intestine</td>\n",
       "      <td>NaN</td>\n",
       "    </tr>\n",
       "    <tr>\n",
       "      <th>38</th>\n",
       "      <td>6</td>\n",
       "      <td>Constitutive formulations for the mechanical i...</td>\n",
       "      <td>https://doi.org/10.1002/jbm.a.34787</td>\n",
       "      <td>Carniel &amp; al.</td>\n",
       "      <td>2013</td>\n",
       "      <td>Uniaxial test along multiple directions on hau...</td>\n",
       "      <td>Pig</td>\n",
       "      <td>Swine</td>\n",
       "      <td>15</td>\n",
       "      <td>NP</td>\n",
       "      <td>...</td>\n",
       "      <td>Structure-based</td>\n",
       "      <td>Natali</td>\n",
       "      <td>NaN</td>\n",
       "      <td>NaN</td>\n",
       "      <td>NaN</td>\n",
       "      <td>No</td>\n",
       "      <td>No ref \"The constitutive parameters Kv and r c...</td>\n",
       "      <td>Neglected based on approriate strain rate chos...</td>\n",
       "      <td>Large intestine</td>\n",
       "      <td>NaN</td>\n",
       "    </tr>\n",
       "    <tr>\n",
       "      <th>11</th>\n",
       "      <td>12</td>\n",
       "      <td>Structurally-motivated characterization of the...</td>\n",
       "      <td>https://doi.org/10.1016/j.compbiomed.2013.06.009</td>\n",
       "      <td>Sokolis &amp; al.</td>\n",
       "      <td>2013</td>\n",
       "      <td>Mucosa alone, mucosa submucosa, and muscle tes...</td>\n",
       "      <td>Rabbit</td>\n",
       "      <td>Rabbit</td>\n",
       "      <td>5</td>\n",
       "      <td>M</td>\n",
       "      <td>...</td>\n",
       "      <td>Structure-based</td>\n",
       "      <td>Holzapfel</td>\n",
       "      <td>NaN</td>\n",
       "      <td>NaN</td>\n",
       "      <td>NaN</td>\n",
       "      <td>Yes</td>\n",
       "      <td>NaN</td>\n",
       "      <td>NaN</td>\n",
       "      <td>Esophagus</td>\n",
       "      <td>NaN</td>\n",
       "    </tr>\n",
       "    <tr>\n",
       "      <th>37</th>\n",
       "      <td>5</td>\n",
       "      <td>Microstructure-based constitutive modeling for...</td>\n",
       "      <td>https://doi.org/10.1016/j.jmbbm.2013.02.016</td>\n",
       "      <td>Sokolis &amp; al.</td>\n",
       "      <td>2013</td>\n",
       "      <td>5 of the 7 datasets are from Sokolis 2011 (htt...</td>\n",
       "      <td>Rat</td>\n",
       "      <td>Rodent</td>\n",
       "      <td>7</td>\n",
       "      <td>NP</td>\n",
       "      <td>...</td>\n",
       "      <td>Structure-based</td>\n",
       "      <td>Holzapfel</td>\n",
       "      <td>NaN</td>\n",
       "      <td>NaN</td>\n",
       "      <td>NaN</td>\n",
       "      <td>Yes</td>\n",
       "      <td>Not mentioned</td>\n",
       "      <td>No mentioned</td>\n",
       "      <td>Large intestine</td>\n",
       "      <td>NaN</td>\n",
       "    </tr>\n",
       "    <tr>\n",
       "      <th>13</th>\n",
       "      <td>14</td>\n",
       "      <td>A Microcontinuum Model for Mechanical Properti...</td>\n",
       "      <td>https://doi.org/10.1007/s10439-013-0897-0</td>\n",
       "      <td>Sanchez-Molina &amp; al.</td>\n",
       "      <td>2014</td>\n",
       "      <td>1 intact tested Long, 1 intact Circ, 2 muscle ...</td>\n",
       "      <td>Porcine</td>\n",
       "      <td>Swine</td>\n",
       "      <td>8</td>\n",
       "      <td>NP</td>\n",
       "      <td>...</td>\n",
       "      <td>Structure-based</td>\n",
       "      <td>Microcontinuum Mechanics</td>\n",
       "      <td>NaN</td>\n",
       "      <td>NaN</td>\n",
       "      <td>NaN</td>\n",
       "      <td>No</td>\n",
       "      <td>Incompressibility not mentioned</td>\n",
       "      <td>\"Due to this low strain rate, the viscoelastic...</td>\n",
       "      <td>Esophagus</td>\n",
       "      <td>NaN</td>\n",
       "    </tr>\n",
       "    <tr>\n",
       "      <th>41</th>\n",
       "      <td>9</td>\n",
       "      <td>Characterization of the anisotropic mechanical...</td>\n",
       "      <td>https://doi.org/10.1113/expphysiol.2013.076091</td>\n",
       "      <td>Carniel &amp; al.</td>\n",
       "      <td>2014</td>\n",
       "      <td>Look  very similar to Carniel 2013 but no refe...</td>\n",
       "      <td>Pig</td>\n",
       "      <td>Swine</td>\n",
       "      <td>15</td>\n",
       "      <td>NP</td>\n",
       "      <td>...</td>\n",
       "      <td>Structure-based</td>\n",
       "      <td>Natali</td>\n",
       "      <td>NaN</td>\n",
       "      <td>NaN</td>\n",
       "      <td>NaN</td>\n",
       "      <td>No</td>\n",
       "      <td>No ref \"The ground matrix contribution was spl...</td>\n",
       "      <td>Not considered based on appropriate strain rat...</td>\n",
       "      <td>Large intestine</td>\n",
       "      <td>NaN</td>\n",
       "    </tr>\n",
       "    <tr>\n",
       "      <th>40</th>\n",
       "      <td>8</td>\n",
       "      <td>Experimental evidence and mathematical modelin...</td>\n",
       "      <td>https://doi.org/10.1152/ajpgi.00385.2013</td>\n",
       "      <td>Altomare &amp; al.</td>\n",
       "      <td>2014</td>\n",
       "      <td>Healthy margins of colonic resections from 10 ...</td>\n",
       "      <td>Patient</td>\n",
       "      <td>Human</td>\n",
       "      <td>10</td>\n",
       "      <td>M-F</td>\n",
       "      <td>...</td>\n",
       "      <td>Structure-based</td>\n",
       "      <td>Holzapfel</td>\n",
       "      <td>NaN</td>\n",
       "      <td>Active strain</td>\n",
       "      <td>Experimental - Phenomenological</td>\n",
       "      <td>No</td>\n",
       "      <td>Not mentioned</td>\n",
       "      <td>Not mentioned</td>\n",
       "      <td>Large intestine</td>\n",
       "      <td>NaN</td>\n",
       "    </tr>\n",
       "    <tr>\n",
       "      <th>14</th>\n",
       "      <td>15</td>\n",
       "      <td>A fully resolved active musculo-mechanical mod...</td>\n",
       "      <td>https://doi.org/10.1016/j.jcp.2015.05.049</td>\n",
       "      <td>Kou &amp; al.</td>\n",
       "      <td>2015</td>\n",
       "      <td>Immersed boundary + Finite Element + anisotrop...</td>\n",
       "      <td>NaN</td>\n",
       "      <td>NaN</td>\n",
       "      <td>NaN</td>\n",
       "      <td>NaN</td>\n",
       "      <td>...</td>\n",
       "      <td>NaN</td>\n",
       "      <td>NaN</td>\n",
       "      <td>NaN</td>\n",
       "      <td>Active stress</td>\n",
       "      <td>Phenomenological</td>\n",
       "      <td>No</td>\n",
       "      <td>NaN</td>\n",
       "      <td>Active viscoelastic?</td>\n",
       "      <td>Esophagus</td>\n",
       "      <td>NaN</td>\n",
       "    </tr>\n",
       "    <tr>\n",
       "      <th>51</th>\n",
       "      <td>5</td>\n",
       "      <td>Predictive model of the prostate motion in the...</td>\n",
       "      <td>https://doi.org/10.1016/j.jmbbm.2015.04.016</td>\n",
       "      <td>Boubaker &amp; al.</td>\n",
       "      <td>2015</td>\n",
       "      <td>uniaxial tensile test in longitudinal and circ...</td>\n",
       "      <td>Pig</td>\n",
       "      <td>Swine</td>\n",
       "      <td>1</td>\n",
       "      <td>M</td>\n",
       "      <td>...</td>\n",
       "      <td>Phenomenological</td>\n",
       "      <td>Ogden</td>\n",
       "      <td>NaN</td>\n",
       "      <td>NaN</td>\n",
       "      <td>NaN</td>\n",
       "      <td>No</td>\n",
       "      <td>\"Soft biologicaltissuesarequasi-incompressible...</td>\n",
       "      <td>Ignored \"Thesetissuesalso exhibited aviscoelas...</td>\n",
       "      <td>Rectum</td>\n",
       "      <td>NaN</td>\n",
       "    </tr>\n",
       "    <tr>\n",
       "      <th>28</th>\n",
       "      <td>7</td>\n",
       "      <td>Viscoelectromechanics modeling of intestine wa...</td>\n",
       "      <td>https://doi.org/10.1080/15502287.2015.1082678</td>\n",
       "      <td>Gizzi &amp; al.</td>\n",
       "      <td>2016</td>\n",
       "      <td>Active material parameters values chosen from ...</td>\n",
       "      <td>Porcine</td>\n",
       "      <td>Swine</td>\n",
       "      <td>10</td>\n",
       "      <td>NP</td>\n",
       "      <td>...</td>\n",
       "      <td>Structure-based</td>\n",
       "      <td>Holzapfel</td>\n",
       "      <td>Neo-Hookean</td>\n",
       "      <td>Active electromechanics</td>\n",
       "      <td>Physiological</td>\n",
       "      <td>No</td>\n",
       "      <td>Not mentioned (the formulation reveal that com...</td>\n",
       "      <td>\"Viscoelectromechanics modeling of intestine w...</td>\n",
       "      <td>Small intestine</td>\n",
       "      <td>NaN</td>\n",
       "    </tr>\n",
       "    <tr>\n",
       "      <th>17</th>\n",
       "      <td>2</td>\n",
       "      <td>In Situ Mechanical Characterization of Multila...</td>\n",
       "      <td>https://doi.org/10.1109/TBME.2016.2644651</td>\n",
       "      <td>Dargar &amp; al.</td>\n",
       "      <td>2016</td>\n",
       "      <td>A total of four porcine stomachs were tested a...</td>\n",
       "      <td>Pig</td>\n",
       "      <td>Swine</td>\n",
       "      <td>4.0</td>\n",
       "      <td>NP</td>\n",
       "      <td>...</td>\n",
       "      <td>Phenomenological</td>\n",
       "      <td>2nd order reduced polynomial</td>\n",
       "      <td>NaN</td>\n",
       "      <td>NaN</td>\n",
       "      <td>NaN</td>\n",
       "      <td>NaN</td>\n",
       "      <td>No</td>\n",
       "      <td>No ref \"Most biological materials exhibit vary...</td>\n",
       "      <td>Stomach</td>\n",
       "      <td>Not mentioned</td>\n",
       "    </tr>\n",
       "    <tr>\n",
       "      <th>18</th>\n",
       "      <td>3</td>\n",
       "      <td>Experimental characterization of the biaxial m...</td>\n",
       "      <td>https://doi.org/10.1016/j.jmbbm.2017.07.028</td>\n",
       "      <td>Aydin &amp; al.</td>\n",
       "      <td>2017</td>\n",
       "      <td>Biaxial mechanical test of different stomach r...</td>\n",
       "      <td>Porcine/Pig</td>\n",
       "      <td>Swine</td>\n",
       "      <td>11.0</td>\n",
       "      <td>F</td>\n",
       "      <td>...</td>\n",
       "      <td>Phenomenological</td>\n",
       "      <td>Fung</td>\n",
       "      <td>NaN</td>\n",
       "      <td>NaN</td>\n",
       "      <td>NaN</td>\n",
       "      <td>NaN</td>\n",
       "      <td>No</td>\n",
       "      <td>Ref to other studies not refering to GI proof ...</td>\n",
       "      <td>Stomach</td>\n",
       "      <td>Neglected based on slow strain rate \"ensuring ...</td>\n",
       "    </tr>\n",
       "    <tr>\n",
       "      <th>30</th>\n",
       "      <td>9</td>\n",
       "      <td>Shear Modulus of the Partially Obstructed Rat ...</td>\n",
       "      <td>https://doi.org/10.1007/s10439-016-1739-7</td>\n",
       "      <td>Sun &amp; al.</td>\n",
       "      <td>2017</td>\n",
       "      <td>2 weeks mid-jejunum obstruction in 7 rats, 5 w...</td>\n",
       "      <td>Rat</td>\n",
       "      <td>Rodent</td>\n",
       "      <td>12</td>\n",
       "      <td>M</td>\n",
       "      <td>...</td>\n",
       "      <td>Phenomenological</td>\n",
       "      <td>Fung</td>\n",
       "      <td>NaN</td>\n",
       "      <td>NaN</td>\n",
       "      <td>NaN</td>\n",
       "      <td>Yes</td>\n",
       "      <td>No ref \"For incompressible materials, the NH m...</td>\n",
       "      <td>\"This limitation could be overcome in the futu...</td>\n",
       "      <td>Small intestine</td>\n",
       "      <td>NaN</td>\n",
       "    </tr>\n",
       "    <tr>\n",
       "      <th>29</th>\n",
       "      <td>8</td>\n",
       "      <td>Experimental study and biomechanical character...</td>\n",
       "      <td>https://doi.org/10.1016/j.jmbbm.2017.05.026</td>\n",
       "      <td>Sokolis</td>\n",
       "      <td>2017</td>\n",
       "      <td>3 Fung-type SEF tested (Classic 3 parameters e...</td>\n",
       "      <td>Rat</td>\n",
       "      <td>Rodent</td>\n",
       "      <td>5</td>\n",
       "      <td>M</td>\n",
       "      <td>...</td>\n",
       "      <td>Phenomenological</td>\n",
       "      <td>Fung</td>\n",
       "      <td>NaN</td>\n",
       "      <td>NaN</td>\n",
       "      <td>NaN</td>\n",
       "      <td>Yes</td>\n",
       "      <td>No ref to GI \"According to Fung (1993), biolog...</td>\n",
       "      <td>\"Note that the chosen formulation did not acco...</td>\n",
       "      <td>Small intestine</td>\n",
       "      <td>NaN</td>\n",
       "    </tr>\n",
       "    <tr>\n",
       "      <th>42</th>\n",
       "      <td>10</td>\n",
       "      <td>Constitutive modeling of the passive inflation...</td>\n",
       "      <td>https://doi.org/10.1016/j.jmbbm.2017.08.031</td>\n",
       "      <td>Patel &amp; al.</td>\n",
       "      <td>2018</td>\n",
       "      <td>12 animal used total, but results from 5 used ...</td>\n",
       "      <td>Swine</td>\n",
       "      <td>Swine</td>\n",
       "      <td>5</td>\n",
       "      <td>NP</td>\n",
       "      <td>...</td>\n",
       "      <td>Structure-based</td>\n",
       "      <td>Holzapfel</td>\n",
       "      <td>NaN</td>\n",
       "      <td>NaN</td>\n",
       "      <td>NaN</td>\n",
       "      <td>Yes</td>\n",
       "      <td>No ref \"Moreover, the colon tissue has been as...</td>\n",
       "      <td>Not mentioned</td>\n",
       "      <td>Large intestine</td>\n",
       "      <td>NaN</td>\n",
       "    </tr>\n",
       "    <tr>\n",
       "      <th>43</th>\n",
       "      <td>11</td>\n",
       "      <td>Numerical evaluation of the efficacy of smallc...</td>\n",
       "      <td>https://doi.org/10.1080/10255842.2018.1524885</td>\n",
       "      <td>Zhou &amp; al.</td>\n",
       "      <td>2018</td>\n",
       "      <td>Mooney Rivlin + c11 term</td>\n",
       "      <td>Porcine</td>\n",
       "      <td>Swine</td>\n",
       "      <td>NP</td>\n",
       "      <td>NP</td>\n",
       "      <td>...</td>\n",
       "      <td>Phenomenological</td>\n",
       "      <td>Mooney-Rivlin extended</td>\n",
       "      <td>NaN</td>\n",
       "      <td>NaN</td>\n",
       "      <td>NaN</td>\n",
       "      <td>No</td>\n",
       "      <td>No ref or justification. \"using an isotropic a...</td>\n",
       "      <td>Not mentioned</td>\n",
       "      <td>Large intestine</td>\n",
       "      <td>NaN</td>\n",
       "    </tr>\n",
       "    <tr>\n",
       "      <th>15</th>\n",
       "      <td>16</td>\n",
       "      <td>An in silico biomechanical analysis of the ste...</td>\n",
       "      <td>https://doi.org/10.1007/s10237-017-0948-9</td>\n",
       "      <td>Peirlinck &amp; al.</td>\n",
       "      <td>2018</td>\n",
       "      <td>Integration of soft tissue mechanics and stent...</td>\n",
       "      <td>Ovine</td>\n",
       "      <td>Ovine</td>\n",
       "      <td>12</td>\n",
       "      <td>NP</td>\n",
       "      <td>...</td>\n",
       "      <td>Structure-based</td>\n",
       "      <td>Holzapfel</td>\n",
       "      <td>NaN</td>\n",
       "      <td>Active strain</td>\n",
       "      <td>Phenomenological</td>\n",
       "      <td>Yes</td>\n",
       "      <td>\"As the esophageal tissue can be considered ne...</td>\n",
       "      <td>\"Longterm effects, such as the inclusion of a ...</td>\n",
       "      <td>Esophagus</td>\n",
       "      <td>NaN</td>\n",
       "    </tr>\n",
       "    <tr>\n",
       "      <th>19</th>\n",
       "      <td>4</td>\n",
       "      <td>Computational model of gastric motility with a...</td>\n",
       "      <td>https://doi.org/10.1002/zamm.201800166</td>\n",
       "      <td>Brandstaeter &amp; al.</td>\n",
       "      <td>2018</td>\n",
       "      <td>Active electromechanics. Model parameters are ...</td>\n",
       "      <td>NaN</td>\n",
       "      <td>NaN</td>\n",
       "      <td>NaN</td>\n",
       "      <td>NaN</td>\n",
       "      <td>...</td>\n",
       "      <td>Phenomenological</td>\n",
       "      <td>Neo-Hookean</td>\n",
       "      <td>NaN</td>\n",
       "      <td>Active strain</td>\n",
       "      <td>Physiological</td>\n",
       "      <td>NaN</td>\n",
       "      <td>No</td>\n",
       "      <td>No ref \"we assume an isotropic, incompressible...</td>\n",
       "      <td>Stomach</td>\n",
       "      <td>Not mentioned</td>\n",
       "    </tr>\n",
       "    <tr>\n",
       "      <th>31</th>\n",
       "      <td>10</td>\n",
       "      <td>A viscoelastic framework for inflation testing...</td>\n",
       "      <td>https://doi.org/10.1016/j.jmbbm.2019.103569</td>\n",
       "      <td>Panda &amp; al.</td>\n",
       "      <td>2019</td>\n",
       "      <td>Neo-Hookean model and Humphrey model (we have ...</td>\n",
       "      <td>Human</td>\n",
       "      <td>Human</td>\n",
       "      <td>NP</td>\n",
       "      <td>NP</td>\n",
       "      <td>...</td>\n",
       "      <td>Phenomenological</td>\n",
       "      <td>Neo-Hookean</td>\n",
       "      <td>Panda-type linear and nonlinear</td>\n",
       "      <td>NaN</td>\n",
       "      <td>NaN</td>\n",
       "      <td>No</td>\n",
       "      <td>No ref</td>\n",
       "      <td>Considered</td>\n",
       "      <td>Small intestine</td>\n",
       "      <td>NaN</td>\n",
       "    </tr>\n",
       "    <tr>\n",
       "      <th>44</th>\n",
       "      <td>12</td>\n",
       "      <td>A comparative study of hyperelastic constituti...</td>\n",
       "      <td>https://doi.org/10.1016/j.jmbbm.2019.103507</td>\n",
       "      <td>Puertolas &amp; al.</td>\n",
       "      <td>2019</td>\n",
       "      <td>5 passive models tested: 3 Holzapfel types, an...</td>\n",
       "      <td>Pig</td>\n",
       "      <td>Swine</td>\n",
       "      <td>5</td>\n",
       "      <td>F</td>\n",
       "      <td>...</td>\n",
       "      <td>Structure-based - Microstructure-based</td>\n",
       "      <td>Holzapfel - Microfiber Von Mises - Microfiber ...</td>\n",
       "      <td>NaN</td>\n",
       "      <td>NaN</td>\n",
       "      <td>NaN</td>\n",
       "      <td>No</td>\n",
       "      <td>No ref or justification \"The tissue was assume...</td>\n",
       "      <td>Not considered based on experiement showing na...</td>\n",
       "      <td>Large intestine</td>\n",
       "      <td>NaN</td>\n",
       "    </tr>\n",
       "    <tr>\n",
       "      <th>45</th>\n",
       "      <td>13</td>\n",
       "      <td>A viscoelastic framework for inflation testing...</td>\n",
       "      <td>https://doi.org/10.1016/j.jmbbm.2019.103569</td>\n",
       "      <td>Panda &amp; al.</td>\n",
       "      <td>2019</td>\n",
       "      <td>Neo-Hookean model and Humphrey model (we have ...</td>\n",
       "      <td>Porcine</td>\n",
       "      <td>Swine</td>\n",
       "      <td>NP</td>\n",
       "      <td>NP</td>\n",
       "      <td>...</td>\n",
       "      <td>Phenomenological</td>\n",
       "      <td>Fung</td>\n",
       "      <td>Panda-type linear</td>\n",
       "      <td>NaN</td>\n",
       "      <td>NaN</td>\n",
       "      <td>No</td>\n",
       "      <td>No ref</td>\n",
       "      <td>Considered</td>\n",
       "      <td>Large intestine</td>\n",
       "      <td>NaN</td>\n",
       "    </tr>\n",
       "    <tr>\n",
       "      <th>52</th>\n",
       "      <td>6</td>\n",
       "      <td>A viscoelastic framework for inflation testing...</td>\n",
       "      <td>https://doi.org/10.1016/j.jmbbm.2019.103569</td>\n",
       "      <td>Panda &amp; al.</td>\n",
       "      <td>2019</td>\n",
       "      <td>Neo-Hookean model and Humphrey model (we have ...</td>\n",
       "      <td>Porcine</td>\n",
       "      <td>Swine</td>\n",
       "      <td>NP</td>\n",
       "      <td>NP</td>\n",
       "      <td>...</td>\n",
       "      <td>Phenomenological</td>\n",
       "      <td>Neo-Hookean</td>\n",
       "      <td>Panda type linear</td>\n",
       "      <td>NaN</td>\n",
       "      <td>NaN</td>\n",
       "      <td>No</td>\n",
       "      <td>No ref</td>\n",
       "      <td>Considered</td>\n",
       "      <td>Rectum</td>\n",
       "      <td>NaN</td>\n",
       "    </tr>\n",
       "    <tr>\n",
       "      <th>20</th>\n",
       "      <td>5</td>\n",
       "      <td>Computational Models for the Mechanical Invest...</td>\n",
       "      <td>https://doi.org/10.1007/s10439-019-02229-w</td>\n",
       "      <td>Fontanella &amp; al.</td>\n",
       "      <td>2019</td>\n",
       "      <td>experiment + model fiber- reinforced visco-hyp...</td>\n",
       "      <td>Piglet/Pig</td>\n",
       "      <td>Swine</td>\n",
       "      <td>7.0</td>\n",
       "      <td>NP</td>\n",
       "      <td>...</td>\n",
       "      <td>Structure-based</td>\n",
       "      <td>Natali</td>\n",
       "      <td>Viscous variables</td>\n",
       "      <td>NaN</td>\n",
       "      <td>NaN</td>\n",
       "      <td>NaN</td>\n",
       "      <td>No</td>\n",
       "      <td>Ref no GI \"The high liquid content of ground m...</td>\n",
       "      <td>Stomach</td>\n",
       "      <td>the constitutive model was defined in the fram...</td>\n",
       "    </tr>\n",
       "    <tr>\n",
       "      <th>46</th>\n",
       "      <td>14</td>\n",
       "      <td>Computational Modeling of Mouse Colorectum Cap...</td>\n",
       "      <td>https://doi.org/10.1016/j.jmbbm.2020.104127</td>\n",
       "      <td>Zhao &amp; al.</td>\n",
       "      <td>2020</td>\n",
       "      <td>Colon and rectum, Used planar biaxial test of ...</td>\n",
       "      <td>Mouse</td>\n",
       "      <td>Rodent</td>\n",
       "      <td>25</td>\n",
       "      <td>M-F</td>\n",
       "      <td>...</td>\n",
       "      <td>Structure-based</td>\n",
       "      <td>Holzapfel</td>\n",
       "      <td>NaN</td>\n",
       "      <td>NaN</td>\n",
       "      <td>NaN</td>\n",
       "      <td>No</td>\n",
       "      <td>No ref but accounted in formulation. \"and κ is...</td>\n",
       "      <td>Not mentioned</td>\n",
       "      <td>Large intestine</td>\n",
       "      <td>NaN</td>\n",
       "    </tr>\n",
       "    <tr>\n",
       "      <th>21</th>\n",
       "      <td>6</td>\n",
       "      <td>On a coupled electro-chemomechanical model of ...</td>\n",
       "      <td>https://doi.org/10.1016/j.actbio.2020.04.007</td>\n",
       "      <td>Klemm &amp; al.</td>\n",
       "      <td>2020</td>\n",
       "      <td>Planar uniaxial test on tissue strips in two d...</td>\n",
       "      <td>Porcine/Pig</td>\n",
       "      <td>Swine</td>\n",
       "      <td>20.0</td>\n",
       "      <td>F</td>\n",
       "      <td>...</td>\n",
       "      <td>Structure-based</td>\n",
       "      <td>Holzapfel</td>\n",
       "      <td>NaN</td>\n",
       "      <td>Active stress</td>\n",
       "      <td>Physiological</td>\n",
       "      <td>NaN</td>\n",
       "      <td>No</td>\n",
       "      <td>NaN</td>\n",
       "      <td>Stomach</td>\n",
       "      <td>Finally, the stomach shows viscoleastic and hi...</td>\n",
       "    </tr>\n",
       "    <tr>\n",
       "      <th>53</th>\n",
       "      <td>7</td>\n",
       "      <td>Computational Modeling of Mouse Colorectum Cap...</td>\n",
       "      <td>https://doi.org/10.1016/j.jmbbm.2020.104127</td>\n",
       "      <td>Zhao &amp; al.</td>\n",
       "      <td>2020</td>\n",
       "      <td>Colon and rectum, Used planar biaxial test of ...</td>\n",
       "      <td>Mouse</td>\n",
       "      <td>Rodent</td>\n",
       "      <td>25</td>\n",
       "      <td>M-F</td>\n",
       "      <td>...</td>\n",
       "      <td>Structure-based</td>\n",
       "      <td>Holzapfel</td>\n",
       "      <td>NaN</td>\n",
       "      <td>NaN</td>\n",
       "      <td>NaN</td>\n",
       "      <td>No</td>\n",
       "      <td>cf colon</td>\n",
       "      <td>NaN</td>\n",
       "      <td>Rectum</td>\n",
       "      <td>NaN</td>\n",
       "    </tr>\n",
       "    <tr>\n",
       "      <th>32</th>\n",
       "      <td>11</td>\n",
       "      <td>Variation of Passive Biomechanical Properties ...</td>\n",
       "      <td>https://doi.org/10.3390/bioengineering8030032</td>\n",
       "      <td>Sokolis</td>\n",
       "      <td>2021</td>\n",
       "      <td>data from https://doi.org/10.1016/j.jmbbm.2017...</td>\n",
       "      <td>Rat</td>\n",
       "      <td>Rodent</td>\n",
       "      <td>6</td>\n",
       "      <td>M</td>\n",
       "      <td>...</td>\n",
       "      <td>Structure-based</td>\n",
       "      <td>Holzapfel</td>\n",
       "      <td>NaN</td>\n",
       "      <td>NaN</td>\n",
       "      <td>NaN</td>\n",
       "      <td>Yes</td>\n",
       "      <td>No ref \"Incompressibility was assumed, but it ...</td>\n",
       "      <td>Not mentioned</td>\n",
       "      <td>Small intestine</td>\n",
       "      <td>NaN</td>\n",
       "    </tr>\n",
       "  </tbody>\n",
       "</table>\n",
       "<p>54 rows × 27 columns</p>\n",
       "</div>"
      ],
      "text/plain": [
       "         #                                              Title  \\\n",
       "22       1               Biomechanics of small bowel motility   \n",
       "0        1  Stress distribution in the layered wall of the...   \n",
       "23       2  Morphology and stress-strain properties along ...   \n",
       "24       3  Biomechanical and morphometric intestinal remo...   \n",
       "1        2  Torque properties of a rat oesophagus for phys...   \n",
       "2        3       Shear modulus of elasticity of the esophagus   \n",
       "3        4  Directional, Regional, and Layer Variations of...   \n",
       "4        5  3D Mechanical Properties of the Layered Esopha...   \n",
       "5        6  Three-dimensional finite element model of the ...   \n",
       "33       1  In vivo measurements and constitutive modeling...   \n",
       "16       1  Numerical Analysis of Pouch Filling and Emptyi...   \n",
       "47       1  Finite element simulation of interactions betw...   \n",
       "25       4  Modelling the elastin, collagen and smooth mus...   \n",
       "7        8  Biomechanical and histological characteristics...   \n",
       "6        7  Biomechanical behaviour of oesophageal tissues...   \n",
       "34       2  Hyperelastic Model of Anisotropic Fiber Reinfo...   \n",
       "8        9  Modeling of the mechanical function of the hum...   \n",
       "26       5  3d Mechanical properties of the partially obst...   \n",
       "9       10  Strain-energy function and three-dimensional s...   \n",
       "35       3  Biomechanical testing and material characteriz...   \n",
       "36       4  Experimental and computational approach to stu...   \n",
       "48       2  Biomechanical testing and material characteriz...   \n",
       "27  small   Biaxial mechanical modeling of the small intes...   \n",
       "10      11  Biomechanical behavior and histological organi...   \n",
       "49       3    Biomechanical Properties of Human Pelvic Organs   \n",
       "12      13  Multiaxial mechanical response and constitutiv...   \n",
       "50       4  Microstructure-based constitutive modeling for...   \n",
       "39       7  Study of the Behavior of a Bell-Shaped Colonic...   \n",
       "38       6  Constitutive formulations for the mechanical i...   \n",
       "11      12  Structurally-motivated characterization of the...   \n",
       "37       5  Microstructure-based constitutive modeling for...   \n",
       "13      14  A Microcontinuum Model for Mechanical Properti...   \n",
       "41       9  Characterization of the anisotropic mechanical...   \n",
       "40       8  Experimental evidence and mathematical modelin...   \n",
       "14      15  A fully resolved active musculo-mechanical mod...   \n",
       "51       5  Predictive model of the prostate motion in the...   \n",
       "28       7  Viscoelectromechanics modeling of intestine wa...   \n",
       "17       2  In Situ Mechanical Characterization of Multila...   \n",
       "18       3  Experimental characterization of the biaxial m...   \n",
       "30       9  Shear Modulus of the Partially Obstructed Rat ...   \n",
       "29       8  Experimental study and biomechanical character...   \n",
       "42      10  Constitutive modeling of the passive inflation...   \n",
       "43      11  Numerical evaluation of the efficacy of smallc...   \n",
       "15      16  An in silico biomechanical analysis of the ste...   \n",
       "19       4  Computational model of gastric motility with a...   \n",
       "31      10  A viscoelastic framework for inflation testing...   \n",
       "44      12  A comparative study of hyperelastic constituti...   \n",
       "45      13  A viscoelastic framework for inflation testing...   \n",
       "52       6  A viscoelastic framework for inflation testing...   \n",
       "20       5  Computational Models for the Mechanical Invest...   \n",
       "46      14  Computational Modeling of Mouse Colorectum Cap...   \n",
       "21       6  On a coupled electro-chemomechanical model of ...   \n",
       "53       7  Computational Modeling of Mouse Colorectum Cap...   \n",
       "32      11  Variation of Passive Biomechanical Properties ...   \n",
       "\n",
       "                                                  DOI                Author  \\\n",
       "22       https://doi.org/10.1016/1350-4533(90)90007-U       Miftakhov & al.   \n",
       "0       https://doi.org/10.1016/S1350-4533(03)00122-X            Liao & al.   \n",
       "23                  https://doi.org/10.1115/1.1560140             Dou & al.   \n",
       "24          https://doi.org/10.1007/s00125-003-1233-2            Zhao & al.   \n",
       "1          https://doi.org/10.1088/0967-3334/25/5/011            Zeng & al.   \n",
       "2   https://doi.org/10.1114/B%3AABME.0000039356.24...            Yang & al.   \n",
       "3                   https://doi.org/10.1115/1.2187033            Yang & al.   \n",
       "4                   https://doi.org/10.1115/1.2354206            Yang & al.   \n",
       "5            https://doi.org/10.1243%2F09544119JEIM47            Yang & al.   \n",
       "33      https://doi.org/10.1007/978-3-540-36841-0_805            Higa & al.   \n",
       "16          https://doi.org/10.1007/s11695-007-9314-9             Gao & al.   \n",
       "47     https://doi.org/10.1016/j.jbiomech.2009.05.022        Boubaker & al.   \n",
       "25   https://doi.org/10.1111/j.1365-2982.2009.01314.x             Gao & al.   \n",
       "7      https://doi.org/10.1016/j.jbiomech.2009.08.018    Stavropoulou & al.   \n",
       "6     https://doi.org/10.1016/j.medengphy.2009.07.003          Natali & al.   \n",
       "34           https://doi.org/10.1177/0278364909101190       Ciarletta & al.   \n",
       "8      https://doi.org/10.1016/j.jbiomech.2009.04.041           Yassi & al.   \n",
       "26     https://doi.org/10.1016/j.jbiomech.2010.04.008            Liao & al.   \n",
       "9      https://doi.org/10.1016/j.jbiomech.2010.06.007         Sokolis & al.   \n",
       "35        https://doi.org/10.1088/0967-3334/32/12/007         Sokolis & al.   \n",
       "36                       https://doi.org/10.21269/300            Tran & al.   \n",
       "48        https://doi.org/10.1088/0967-3334/32/12/007         Sokolis & al.   \n",
       "27        https://doi.org/10.1016/j.jmbbm.2011.05.030         Bellini & al.   \n",
       "10         https://doi.org/10.1177%2F0954411912444073    Stavropoulou & al.   \n",
       "49      https://doi.org/10.1016/j.urology.2011.11.010           Rubod & al.   \n",
       "12       https://doi.org/10.1016/j.actbio.2013.07.041          Sommer & al.   \n",
       "50        https://doi.org/10.1016/j.jmbbm.2013.02.016         Sokolis & al.   \n",
       "39                https://doi.org/10.1155/2013/370582       Puértolas & al.   \n",
       "38                https://doi.org/10.1002/jbm.a.34787         Carniel & al.   \n",
       "11   https://doi.org/10.1016/j.compbiomed.2013.06.009         Sokolis & al.   \n",
       "37        https://doi.org/10.1016/j.jmbbm.2013.02.016         Sokolis & al.   \n",
       "13          https://doi.org/10.1007/s10439-013-0897-0  Sanchez-Molina & al.   \n",
       "41     https://doi.org/10.1113/expphysiol.2013.076091         Carniel & al.   \n",
       "40           https://doi.org/10.1152/ajpgi.00385.2013        Altomare & al.   \n",
       "14          https://doi.org/10.1016/j.jcp.2015.05.049             Kou & al.   \n",
       "51        https://doi.org/10.1016/j.jmbbm.2015.04.016        Boubaker & al.   \n",
       "28      https://doi.org/10.1080/15502287.2015.1082678           Gizzi & al.   \n",
       "17          https://doi.org/10.1109/TBME.2016.2644651          Dargar & al.   \n",
       "18        https://doi.org/10.1016/j.jmbbm.2017.07.028           Aydin & al.   \n",
       "30          https://doi.org/10.1007/s10439-016-1739-7             Sun & al.   \n",
       "29        https://doi.org/10.1016/j.jmbbm.2017.05.026               Sokolis   \n",
       "42        https://doi.org/10.1016/j.jmbbm.2017.08.031           Patel & al.   \n",
       "43      https://doi.org/10.1080/10255842.2018.1524885            Zhou & al.   \n",
       "15          https://doi.org/10.1007/s10237-017-0948-9       Peirlinck & al.   \n",
       "19             https://doi.org/10.1002/zamm.201800166    Brandstaeter & al.   \n",
       "31        https://doi.org/10.1016/j.jmbbm.2019.103569           Panda & al.   \n",
       "44        https://doi.org/10.1016/j.jmbbm.2019.103507       Puertolas & al.   \n",
       "45        https://doi.org/10.1016/j.jmbbm.2019.103569           Panda & al.   \n",
       "52        https://doi.org/10.1016/j.jmbbm.2019.103569           Panda & al.   \n",
       "20         https://doi.org/10.1007/s10439-019-02229-w      Fontanella & al.   \n",
       "46        https://doi.org/10.1016/j.jmbbm.2020.104127            Zhao & al.   \n",
       "21       https://doi.org/10.1016/j.actbio.2020.04.007           Klemm & al.   \n",
       "53        https://doi.org/10.1016/j.jmbbm.2020.104127            Zhao & al.   \n",
       "32      https://doi.org/10.3390/bioengineering8030032               Sokolis   \n",
       "\n",
       "    Year                                           Comments  \\\n",
       "22  1994  Modeled passive tissue behavior using a Fung t...   \n",
       "0   2003  Intact tissue and individual layers (mucosa-su...   \n",
       "23  2003  duodenum, jejunum, and ileum studied individually   \n",
       "24  2003  duodenum, jejunum, and ileum studied individua...   \n",
       "1   2004  8 normal, 27 diseased (diabetic) with differen...   \n",
       "2   2004                                                NaN   \n",
       "3   2006  Mucosa-submucosa and muscle layers tested indi...   \n",
       "4   2006  Only Muscle and mucosa layers tested individua...   \n",
       "5   2007  FE + opening angle + buckling of mucosa + two ...   \n",
       "33  2007                                                NaN   \n",
       "16  2008                                                NaN   \n",
       "47  2009  Experimental data used from Rubod, C., M. Bouk...   \n",
       "25  2009  duodenum, 6 patients (3M, 3F) all with establi...   \n",
       "7   2009  3 fung type SEF tested: Fung (Classic 3 parame...   \n",
       "6   2009  Test data obtained from https://doi.org/10.111...   \n",
       "34  2009  Not clear what tissue used for shear test. Ten...   \n",
       "8   2009  junction finite elasticity human cadaveric ima...   \n",
       "26  2010  Normal (n=4) and Diseased (n=5): 2 weeks Parti...   \n",
       "9   2010  Intact + mucosa-submucosa and muscle layer tested   \n",
       "35  2011      Large intestine and rectum tested and modeled   \n",
       "36  2011  Refered in Novacek 2012, 6 porcine transverse ...   \n",
       "48  2011      Large intestine and rectum tested and modeled   \n",
       "27  2011  duodenum (10), jejunum(8), and ileum (10) stud...   \n",
       "10  2012  3 layer tested and modeled: mucosa-submucosa, ...   \n",
       "49  2012  Tissue from cadaver, Uniaxial along trans and ...   \n",
       "12  2013                 Mucosa-submucosa and muscle tested   \n",
       "50  2013  5 of the 7 datasets are from Sokolis 2011 (htt...   \n",
       "39  2013  Test data from another paper is used:  https:/...   \n",
       "38  2013  Uniaxial test along multiple directions on hau...   \n",
       "11  2013  Mucosa alone, mucosa submucosa, and muscle tes...   \n",
       "37  2013  5 of the 7 datasets are from Sokolis 2011 (htt...   \n",
       "13  2014  1 intact tested Long, 1 intact Circ, 2 muscle ...   \n",
       "41  2014  Look  very similar to Carniel 2013 but no refe...   \n",
       "40  2014  Healthy margins of colonic resections from 10 ...   \n",
       "14  2015  Immersed boundary + Finite Element + anisotrop...   \n",
       "51  2015  uniaxial tensile test in longitudinal and circ...   \n",
       "28  2016  Active material parameters values chosen from ...   \n",
       "17  2016  A total of four porcine stomachs were tested a...   \n",
       "18  2017  Biaxial mechanical test of different stomach r...   \n",
       "30  2017  2 weeks mid-jejunum obstruction in 7 rats, 5 w...   \n",
       "29  2017  3 Fung-type SEF tested (Classic 3 parameters e...   \n",
       "42  2018  12 animal used total, but results from 5 used ...   \n",
       "43  2018                           Mooney Rivlin + c11 term   \n",
       "15  2018  Integration of soft tissue mechanics and stent...   \n",
       "19  2018  Active electromechanics. Model parameters are ...   \n",
       "31  2019  Neo-Hookean model and Humphrey model (we have ...   \n",
       "44  2019  5 passive models tested: 3 Holzapfel types, an...   \n",
       "45  2019  Neo-Hookean model and Humphrey model (we have ...   \n",
       "52  2019  Neo-Hookean model and Humphrey model (we have ...   \n",
       "20  2019  experiment + model fiber- reinforced visco-hyp...   \n",
       "46  2020  Colon and rectum, Used planar biaxial test of ...   \n",
       "21  2020  Planar uniaxial test on tissue strips in two d...   \n",
       "53  2020  Colon and rectum, Used planar biaxial test of ...   \n",
       "32  2021  data from https://doi.org/10.1016/j.jmbbm.2017...   \n",
       "\n",
       "    Species mentioned Species category Number of subjects  Sex  ...  \\\n",
       "22                NaN              NaN                NaN  NaN  ...   \n",
       "0                 Rat           Rodent                  5    M  ...   \n",
       "23                Rat           Rodent                 12    F  ...   \n",
       "24                Rat           Rodent                 50    M  ...   \n",
       "1                 Rat           Rodent                 35  M-F  ...   \n",
       "2                 Rat           Rodent                  8  M-F  ...   \n",
       "3         Porcine/Pig            Swine                 NP   NP  ...   \n",
       "4         Porcine/Pig            Swine                 NP   NP  ...   \n",
       "5                 NaN              NaN                NaN  NaN  ...   \n",
       "33               Goat             Goat                  1   NP  ...   \n",
       "16                Pig            Swine                2.0   NP  ...   \n",
       "47    Patient/Cadaver            Human                 NP    F  ...   \n",
       "25  Patient/Volunteer            Human                 11  M-F  ...   \n",
       "7              Rabbit           Rabbit                  7    M  ...   \n",
       "6         Porcine/Pig            Swine                 NP   NP  ...   \n",
       "34        Porcine/Pig            Swine                  5   NP  ...   \n",
       "8                  NP               NP                 NP   NP  ...   \n",
       "26         Guinea pig       Guinea pig                  9    M  ...   \n",
       "9              Rabbit           Rabbit                  7    M  ...   \n",
       "35                Rat           Rodent                  5   NP  ...   \n",
       "36            Porcine            Swine                  9   NP  ...   \n",
       "48                Rat           Rodent                  5   NP  ...   \n",
       "27        Porcine/Pig            Swine                 10   NP  ...   \n",
       "10                Pig            Swine                  8    M  ...   \n",
       "49            Cadaver            Human                  5    F  ...   \n",
       "12              Ovine            Ovine                 12   NP  ...   \n",
       "50                Rat           Rodent                  7   NP  ...   \n",
       "39              Human            Human                 46   NP  ...   \n",
       "38                Pig            Swine                 15   NP  ...   \n",
       "11             Rabbit           Rabbit                  5    M  ...   \n",
       "37                Rat           Rodent                  7   NP  ...   \n",
       "13            Porcine            Swine                  8   NP  ...   \n",
       "41                Pig            Swine                 15   NP  ...   \n",
       "40            Patient            Human                 10  M-F  ...   \n",
       "14                NaN              NaN                NaN  NaN  ...   \n",
       "51                Pig            Swine                  1    M  ...   \n",
       "28            Porcine            Swine                 10   NP  ...   \n",
       "17                Pig            Swine                4.0   NP  ...   \n",
       "18        Porcine/Pig            Swine               11.0    F  ...   \n",
       "30                Rat           Rodent                 12    M  ...   \n",
       "29                Rat           Rodent                  5    M  ...   \n",
       "42              Swine            Swine                  5   NP  ...   \n",
       "43            Porcine            Swine                 NP   NP  ...   \n",
       "15              Ovine            Ovine                 12   NP  ...   \n",
       "19                NaN              NaN                NaN  NaN  ...   \n",
       "31              Human            Human                 NP   NP  ...   \n",
       "44                Pig            Swine                  5    F  ...   \n",
       "45            Porcine            Swine                 NP   NP  ...   \n",
       "52            Porcine            Swine                 NP   NP  ...   \n",
       "20         Piglet/Pig            Swine                7.0   NP  ...   \n",
       "46              Mouse           Rodent                 25  M-F  ...   \n",
       "21        Porcine/Pig            Swine               20.0    F  ...   \n",
       "53              Mouse           Rodent                 25  M-F  ...   \n",
       "32                Rat           Rodent                  6    M  ...   \n",
       "\n",
       "               Hyperelastic model category  \\\n",
       "22                        Phenomenological   \n",
       "0                         Phenomenological   \n",
       "23                        Phenomenological   \n",
       "24                        Phenomenological   \n",
       "1                         Phenomenological   \n",
       "2                         Phenomenological   \n",
       "3                          Structure-based   \n",
       "4                          Structure-based   \n",
       "5                          Structure-based   \n",
       "33                                     NaN   \n",
       "16                        Phenomenological   \n",
       "47                        Phenomenological   \n",
       "25                                     NaN   \n",
       "7                         Phenomenological   \n",
       "6                          Structure-based   \n",
       "34                         Structure-based   \n",
       "8                         Phenomenological   \n",
       "26                        Phenomenological   \n",
       "9                         Phenomenological   \n",
       "35                        Phenomenological   \n",
       "36                        Phenomenological   \n",
       "48                        Phenomenological   \n",
       "27                        Phenomenological   \n",
       "10                        Phenomenological   \n",
       "49                        Phenomenological   \n",
       "12                         Structure-based   \n",
       "50                         Structure-based   \n",
       "39                        Phenomenological   \n",
       "38                         Structure-based   \n",
       "11                         Structure-based   \n",
       "37                         Structure-based   \n",
       "13                         Structure-based   \n",
       "41                         Structure-based   \n",
       "40                         Structure-based   \n",
       "14                                     NaN   \n",
       "51                        Phenomenological   \n",
       "28                         Structure-based   \n",
       "17                        Phenomenological   \n",
       "18                        Phenomenological   \n",
       "30                        Phenomenological   \n",
       "29                        Phenomenological   \n",
       "42                         Structure-based   \n",
       "43                        Phenomenological   \n",
       "15                         Structure-based   \n",
       "19                        Phenomenological   \n",
       "31                        Phenomenological   \n",
       "44  Structure-based - Microstructure-based   \n",
       "45                        Phenomenological   \n",
       "52                        Phenomenological   \n",
       "20                         Structure-based   \n",
       "46                         Structure-based   \n",
       "21                         Structure-based   \n",
       "53                         Structure-based   \n",
       "32                         Structure-based   \n",
       "\n",
       "                              Hyperelastic model type  \\\n",
       "22                                               Fung   \n",
       "0                                                Fung   \n",
       "23                                               Fung   \n",
       "24                                               Fung   \n",
       "1                                                Fung   \n",
       "2                                                Fung   \n",
       "3         Holzapfel - Modified exponential - Bilinear   \n",
       "4         Holzapfel - Modified exponential - Bilinear   \n",
       "5         Holzapfel - Modified exponential - Bilinear   \n",
       "33                                      Mooney-Rivlin   \n",
       "16                                              Ogden   \n",
       "47                                              Ogden   \n",
       "25                                                NaN   \n",
       "7                                                Fung   \n",
       "6                                              Natali   \n",
       "34                                          Holzapfel   \n",
       "8                                       Fung-Guccione   \n",
       "26                                               Fung   \n",
       "9                                                Fung   \n",
       "35                                               Fung   \n",
       "36                                              Ogden   \n",
       "48                                               Fung   \n",
       "27                 Fung - Neo Hookean - Mooney-Rivlin   \n",
       "10                                               Fung   \n",
       "49                                      Mooney-Rivlin   \n",
       "12                                          Holzapfel   \n",
       "50                                          Holzapfel   \n",
       "39                                      Mooney-Rivlin   \n",
       "38                                             Natali   \n",
       "11                                          Holzapfel   \n",
       "37                                          Holzapfel   \n",
       "13                           Microcontinuum Mechanics   \n",
       "41                                             Natali   \n",
       "40                                          Holzapfel   \n",
       "14                                                NaN   \n",
       "51                                              Ogden   \n",
       "28                                          Holzapfel   \n",
       "17                       2nd order reduced polynomial   \n",
       "18                                               Fung   \n",
       "30                                               Fung   \n",
       "29                                               Fung   \n",
       "42                                          Holzapfel   \n",
       "43                             Mooney-Rivlin extended   \n",
       "15                                          Holzapfel   \n",
       "19                                        Neo-Hookean   \n",
       "31                                        Neo-Hookean   \n",
       "44  Holzapfel - Microfiber Von Mises - Microfiber ...   \n",
       "45                                               Fung   \n",
       "52                                        Neo-Hookean   \n",
       "20                                             Natali   \n",
       "46                                          Holzapfel   \n",
       "21                                          Holzapfel   \n",
       "53                                          Holzapfel   \n",
       "32                                          Holzapfel   \n",
       "\n",
       "                 Viscous model type    Active model category  \\\n",
       "22                              NaN                      NaN   \n",
       "0                               NaN                      NaN   \n",
       "23                              NaN                      NaN   \n",
       "24                              NaN                      NaN   \n",
       "1                               NaN                      NaN   \n",
       "2                               NaN                      NaN   \n",
       "3                               NaN                      NaN   \n",
       "4                               NaN                      NaN   \n",
       "5                               NaN            Active stress   \n",
       "33             Convolution integral                      NaN   \n",
       "16                              NaN                      NaN   \n",
       "47                              NaN                      NaN   \n",
       "25                              NaN            Active stress   \n",
       "7                               NaN                      NaN   \n",
       "6                               NaN                      NaN   \n",
       "34                              NaN                      NaN   \n",
       "8                               NaN            Active stress   \n",
       "26                              NaN                      NaN   \n",
       "9                               NaN                      NaN   \n",
       "35                              NaN                      NaN   \n",
       "36                              NaN                      NaN   \n",
       "48                              NaN                      NaN   \n",
       "27                              NaN                      NaN   \n",
       "10                              NaN                      NaN   \n",
       "49                              NaN                      NaN   \n",
       "12                              NaN                      NaN   \n",
       "50                              NaN                      NaN   \n",
       "39                              NaN                      NaN   \n",
       "38                              NaN                      NaN   \n",
       "11                              NaN                      NaN   \n",
       "37                              NaN                      NaN   \n",
       "13                              NaN                      NaN   \n",
       "41                              NaN                      NaN   \n",
       "40                              NaN            Active strain   \n",
       "14                              NaN            Active stress   \n",
       "51                              NaN                      NaN   \n",
       "28                      Neo-Hookean  Active electromechanics   \n",
       "17                              NaN                      NaN   \n",
       "18                              NaN                      NaN   \n",
       "30                              NaN                      NaN   \n",
       "29                              NaN                      NaN   \n",
       "42                              NaN                      NaN   \n",
       "43                              NaN                      NaN   \n",
       "15                              NaN            Active strain   \n",
       "19                              NaN            Active strain   \n",
       "31  Panda-type linear and nonlinear                      NaN   \n",
       "44                              NaN                      NaN   \n",
       "45                Panda-type linear                      NaN   \n",
       "52                Panda type linear                      NaN   \n",
       "20                Viscous variables                      NaN   \n",
       "46                              NaN                      NaN   \n",
       "21                              NaN            Active stress   \n",
       "53                              NaN                      NaN   \n",
       "32                              NaN                      NaN   \n",
       "\n",
       "                  Active model type Zero stress state  \\\n",
       "22                              NaN                No   \n",
       "0                               NaN               Yes   \n",
       "23                              NaN               Yes   \n",
       "24                              NaN               Yes   \n",
       "1                               NaN                No   \n",
       "2                               NaN               Yes   \n",
       "3                               NaN               Yes   \n",
       "4                               NaN               Yes   \n",
       "5                  Phenomenological               Yes   \n",
       "33                              NaN                No   \n",
       "16                              NaN               NaN   \n",
       "47                              NaN                No   \n",
       "25                     Experimental                No   \n",
       "7                               NaN               Yes   \n",
       "6                               NaN                No   \n",
       "34                              NaN                No   \n",
       "8                  Phenomenological               Yes   \n",
       "26                              NaN               Yes   \n",
       "9                               NaN               Yes   \n",
       "35                              NaN               Yes   \n",
       "36                              NaN                No   \n",
       "48                              NaN               Yes   \n",
       "27                              NaN                No   \n",
       "10                              NaN                No   \n",
       "49                              NaN                No   \n",
       "12                              NaN               Yes   \n",
       "50                              NaN               Yes   \n",
       "39                              NaN                No   \n",
       "38                              NaN                No   \n",
       "11                              NaN               Yes   \n",
       "37                              NaN               Yes   \n",
       "13                              NaN                No   \n",
       "41                              NaN                No   \n",
       "40  Experimental - Phenomenological                No   \n",
       "14                 Phenomenological                No   \n",
       "51                              NaN                No   \n",
       "28                    Physiological                No   \n",
       "17                              NaN               NaN   \n",
       "18                              NaN               NaN   \n",
       "30                              NaN               Yes   \n",
       "29                              NaN               Yes   \n",
       "42                              NaN               Yes   \n",
       "43                              NaN                No   \n",
       "15                 Phenomenological               Yes   \n",
       "19                    Physiological               NaN   \n",
       "31                              NaN                No   \n",
       "44                              NaN                No   \n",
       "45                              NaN                No   \n",
       "52                              NaN                No   \n",
       "20                              NaN               NaN   \n",
       "46                              NaN                No   \n",
       "21                    Physiological               NaN   \n",
       "53                              NaN                No   \n",
       "32                              NaN               Yes   \n",
       "\n",
       "                                Incompressibility ref  \\\n",
       "22                                      Not mentioned   \n",
       "0                                                 NaN   \n",
       "23  No ref \"assuming incompressibility of the inte...   \n",
       "24  No ref \"assuming incompressibility of the inte...   \n",
       "1                                                 NaN   \n",
       "2                                                 NaN   \n",
       "3                                                 NaN   \n",
       "4                                                 NaN   \n",
       "5                                                 NaN   \n",
       "33  No ref \"Here, the tissue is assumed to be isot...   \n",
       "16                                                 No   \n",
       "47                                       No mentioned   \n",
       "25                                      Not mentioned   \n",
       "7                                                 NaN   \n",
       "6                                                 NaN   \n",
       "34  A ref given but does not lead to any GI study ...   \n",
       "8                                                 NaN   \n",
       "26                                      Not mentioned   \n",
       "9                                                 NaN   \n",
       "35  No ref \"With incompressibility enforced as per...   \n",
       "36  No ref \"The tissue is modeled as an incompress...   \n",
       "48                                           cf colon   \n",
       "27  No ref \"The small intestine was modeled as an ...   \n",
       "10                                                NaN   \n",
       "49                                       No mentioned   \n",
       "12                                                NaN   \n",
       "50                                           cf colon   \n",
       "39                                      Not mentioned   \n",
       "38  No ref \"The constitutive parameters Kv and r c...   \n",
       "11                                                NaN   \n",
       "37                                      Not mentioned   \n",
       "13                   Incompressibility not mentioned    \n",
       "41  No ref \"The ground matrix contribution was spl...   \n",
       "40                                      Not mentioned   \n",
       "14                                                NaN   \n",
       "51  \"Soft biologicaltissuesarequasi-incompressible...   \n",
       "28  Not mentioned (the formulation reveal that com...   \n",
       "17                                                 No   \n",
       "18                                                 No   \n",
       "30  No ref \"For incompressible materials, the NH m...   \n",
       "29  No ref to GI \"According to Fung (1993), biolog...   \n",
       "42  No ref \"Moreover, the colon tissue has been as...   \n",
       "43  No ref or justification. \"using an isotropic a...   \n",
       "15  \"As the esophageal tissue can be considered ne...   \n",
       "19                                                 No   \n",
       "31                                             No ref   \n",
       "44  No ref or justification \"The tissue was assume...   \n",
       "45                                             No ref   \n",
       "52                                             No ref   \n",
       "20                                                 No   \n",
       "46  No ref but accounted in formulation. \"and κ is...   \n",
       "21                                                 No   \n",
       "53                                           cf colon   \n",
       "32  No ref \"Incompressibility was assumed, but it ...   \n",
       "\n",
       "                                  Viscoelasticity ref            Organ  \\\n",
       "22                                      Not mentioned  Small intestine   \n",
       "0                                                 NaN        Esophagus   \n",
       "23                                      Not mentioned  Small intestine   \n",
       "24                                      Not mentioned  Small intestine   \n",
       "1                                                 NaN        Esophagus   \n",
       "2                                                 NaN        Esophagus   \n",
       "3                                                 NaN        Esophagus   \n",
       "4                                                 NaN        Esophagus   \n",
       "5                                                 NaN        Esophagus   \n",
       "33  \"In this study, Mooney-Rivlin model incorporat...  Large intestine   \n",
       "16                                      Not mentioned          Stomach   \n",
       "47  Ingnored. Literaturemeasurementsofthemechanica...           Rectum   \n",
       "25                                      Not mentioned  Small intestine   \n",
       "7                                                 NaN        Esophagus   \n",
       "6                                                 NaN        Esophagus   \n",
       "34  aim to describe the purely elastic response in...  Large intestine   \n",
       "8                                                 NaN        Esophagus   \n",
       "26                                      Not mentioned  Small intestine   \n",
       "9                                                 NaN        Esophagus   \n",
       "35                                       No mentioned  Large intestine   \n",
       "36                                       No mentioned  Large intestine   \n",
       "48  Viscoelasticity discussed and shown through ex...           Rectum   \n",
       "27  \"The material models proposed in our study wer...  Small intestine   \n",
       "10                                                NaN        Esophagus   \n",
       "49  \"We were able to demonstrate a nonlinear relat...           Rectum   \n",
       "12                                                NaN        Esophagus   \n",
       "50                                                NaN           Rectum   \n",
       "39                                      Not mentioned  Large intestine   \n",
       "38  Neglected based on approriate strain rate chos...  Large intestine   \n",
       "11                                                NaN        Esophagus   \n",
       "37                                       No mentioned  Large intestine   \n",
       "13  \"Due to this low strain rate, the viscoelastic...        Esophagus   \n",
       "41  Not considered based on appropriate strain rat...  Large intestine   \n",
       "40                                      Not mentioned  Large intestine   \n",
       "14                               Active viscoelastic?        Esophagus   \n",
       "51  Ignored \"Thesetissuesalso exhibited aviscoelas...           Rectum   \n",
       "28  \"Viscoelectromechanics modeling of intestine w...  Small intestine   \n",
       "17  No ref \"Most biological materials exhibit vary...          Stomach   \n",
       "18  Ref to other studies not refering to GI proof ...          Stomach   \n",
       "30  \"This limitation could be overcome in the futu...  Small intestine   \n",
       "29  \"Note that the chosen formulation did not acco...  Small intestine   \n",
       "42                                      Not mentioned  Large intestine   \n",
       "43                                      Not mentioned  Large intestine   \n",
       "15  \"Longterm effects, such as the inclusion of a ...        Esophagus   \n",
       "19  No ref \"we assume an isotropic, incompressible...          Stomach   \n",
       "31                                         Considered  Small intestine   \n",
       "44  Not considered based on experiement showing na...  Large intestine   \n",
       "45                                         Considered  Large intestine   \n",
       "52                                         Considered           Rectum   \n",
       "20  Ref no GI \"The high liquid content of ground m...          Stomach   \n",
       "46                                      Not mentioned  Large intestine   \n",
       "21                                                NaN          Stomach   \n",
       "53                                                NaN           Rectum   \n",
       "32                                      Not mentioned  Small intestine   \n",
       "\n",
       "                                          Unnamed: 25  \n",
       "22                                                NaN  \n",
       "0                                                 NaN  \n",
       "23                                                NaN  \n",
       "24                                                NaN  \n",
       "1                                                 NaN  \n",
       "2                                                 NaN  \n",
       "3                                                 NaN  \n",
       "4                                                 NaN  \n",
       "5                                                 NaN  \n",
       "33                                                NaN  \n",
       "16                                      Not mentioned  \n",
       "47                                                NaN  \n",
       "25                                                NaN  \n",
       "7                                                 NaN  \n",
       "6                                                 NaN  \n",
       "34                                                NaN  \n",
       "8                                                 NaN  \n",
       "26                                                NaN  \n",
       "9                                                 NaN  \n",
       "35                                                NaN  \n",
       "36                                                NaN  \n",
       "48                                                NaN  \n",
       "27                                                NaN  \n",
       "10                                                NaN  \n",
       "49                                                NaN  \n",
       "12                                                NaN  \n",
       "50                                                NaN  \n",
       "39                                                NaN  \n",
       "38                                                NaN  \n",
       "11                                                NaN  \n",
       "37                                                NaN  \n",
       "13                                                NaN  \n",
       "41                                                NaN  \n",
       "40                                                NaN  \n",
       "14                                                NaN  \n",
       "51                                                NaN  \n",
       "28                                                NaN  \n",
       "17                                      Not mentioned  \n",
       "18  Neglected based on slow strain rate \"ensuring ...  \n",
       "30                                                NaN  \n",
       "29                                                NaN  \n",
       "42                                                NaN  \n",
       "43                                                NaN  \n",
       "15                                                NaN  \n",
       "19                                      Not mentioned  \n",
       "31                                                NaN  \n",
       "44                                                NaN  \n",
       "45                                                NaN  \n",
       "52                                                NaN  \n",
       "20  the constitutive model was defined in the fram...  \n",
       "46                                                NaN  \n",
       "21  Finally, the stomach shows viscoleastic and hi...  \n",
       "53                                                NaN  \n",
       "32                                                NaN  \n",
       "\n",
       "[54 rows x 27 columns]"
      ]
     },
     "execution_count": 36,
     "metadata": {},
     "output_type": "execute_result"
    }
   ],
   "source": [
    "# Combine data from all organs into a single data frame\n",
    "df_all_data = pd.concat(data_dict, ignore_index=True)\n",
    "df_all_data.sort_values(\"Year\")"
   ]
  },
  {
   "cell_type": "markdown",
   "metadata": {},
   "source": [
    "# 3. Review outcomes"
   ]
  },
  {
   "cell_type": "code",
   "execution_count": 37,
   "metadata": {},
   "outputs": [
    {
     "name": "stdout",
     "output_type": "stream",
     "text": [
      "There are  49  unique manuscripts included in our review\n",
      "There are  4  manuscripts among them that are studying more than one organ\n"
     ]
    },
    {
     "data": {
      "text/html": [
       "<div>\n",
       "<style scoped>\n",
       "    .dataframe tbody tr th:only-of-type {\n",
       "        vertical-align: middle;\n",
       "    }\n",
       "\n",
       "    .dataframe tbody tr th {\n",
       "        vertical-align: top;\n",
       "    }\n",
       "\n",
       "    .dataframe thead th {\n",
       "        text-align: right;\n",
       "    }\n",
       "</style>\n",
       "<table border=\"1\" class=\"dataframe\">\n",
       "  <thead>\n",
       "    <tr style=\"text-align: right;\">\n",
       "      <th></th>\n",
       "      <th>Author</th>\n",
       "      <th>Year</th>\n",
       "      <th>DOI</th>\n",
       "      <th>Organ</th>\n",
       "    </tr>\n",
       "  </thead>\n",
       "  <tbody>\n",
       "    <tr>\n",
       "      <th>37</th>\n",
       "      <td>Sokolis &amp; al.</td>\n",
       "      <td>2013</td>\n",
       "      <td>https://doi.org/10.1016/j.jmbbm.2013.02.016</td>\n",
       "      <td>Large intestine</td>\n",
       "    </tr>\n",
       "    <tr>\n",
       "      <th>50</th>\n",
       "      <td>Sokolis &amp; al.</td>\n",
       "      <td>2013</td>\n",
       "      <td>https://doi.org/10.1016/j.jmbbm.2013.02.016</td>\n",
       "      <td>Rectum</td>\n",
       "    </tr>\n",
       "    <tr>\n",
       "      <th>31</th>\n",
       "      <td>Panda &amp; al.</td>\n",
       "      <td>2019</td>\n",
       "      <td>https://doi.org/10.1016/j.jmbbm.2019.103569</td>\n",
       "      <td>Small intestine</td>\n",
       "    </tr>\n",
       "    <tr>\n",
       "      <th>45</th>\n",
       "      <td>Panda &amp; al.</td>\n",
       "      <td>2019</td>\n",
       "      <td>https://doi.org/10.1016/j.jmbbm.2019.103569</td>\n",
       "      <td>Large intestine</td>\n",
       "    </tr>\n",
       "    <tr>\n",
       "      <th>52</th>\n",
       "      <td>Panda &amp; al.</td>\n",
       "      <td>2019</td>\n",
       "      <td>https://doi.org/10.1016/j.jmbbm.2019.103569</td>\n",
       "      <td>Rectum</td>\n",
       "    </tr>\n",
       "    <tr>\n",
       "      <th>46</th>\n",
       "      <td>Zhao &amp; al.</td>\n",
       "      <td>2020</td>\n",
       "      <td>https://doi.org/10.1016/j.jmbbm.2020.104127</td>\n",
       "      <td>Large intestine</td>\n",
       "    </tr>\n",
       "    <tr>\n",
       "      <th>53</th>\n",
       "      <td>Zhao &amp; al.</td>\n",
       "      <td>2020</td>\n",
       "      <td>https://doi.org/10.1016/j.jmbbm.2020.104127</td>\n",
       "      <td>Rectum</td>\n",
       "    </tr>\n",
       "    <tr>\n",
       "      <th>35</th>\n",
       "      <td>Sokolis &amp; al.</td>\n",
       "      <td>2011</td>\n",
       "      <td>https://doi.org/10.1088/0967-3334/32/12/007</td>\n",
       "      <td>Large intestine</td>\n",
       "    </tr>\n",
       "    <tr>\n",
       "      <th>48</th>\n",
       "      <td>Sokolis &amp; al.</td>\n",
       "      <td>2011</td>\n",
       "      <td>https://doi.org/10.1088/0967-3334/32/12/007</td>\n",
       "      <td>Rectum</td>\n",
       "    </tr>\n",
       "  </tbody>\n",
       "</table>\n",
       "</div>"
      ],
      "text/plain": [
       "           Author  Year                                          DOI  \\\n",
       "37  Sokolis & al.  2013  https://doi.org/10.1016/j.jmbbm.2013.02.016   \n",
       "50  Sokolis & al.  2013  https://doi.org/10.1016/j.jmbbm.2013.02.016   \n",
       "31    Panda & al.  2019  https://doi.org/10.1016/j.jmbbm.2019.103569   \n",
       "45    Panda & al.  2019  https://doi.org/10.1016/j.jmbbm.2019.103569   \n",
       "52    Panda & al.  2019  https://doi.org/10.1016/j.jmbbm.2019.103569   \n",
       "46     Zhao & al.  2020  https://doi.org/10.1016/j.jmbbm.2020.104127   \n",
       "53     Zhao & al.  2020  https://doi.org/10.1016/j.jmbbm.2020.104127   \n",
       "35  Sokolis & al.  2011  https://doi.org/10.1088/0967-3334/32/12/007   \n",
       "48  Sokolis & al.  2011  https://doi.org/10.1088/0967-3334/32/12/007   \n",
       "\n",
       "              Organ  \n",
       "37  Large intestine  \n",
       "50           Rectum  \n",
       "31  Small intestine  \n",
       "45  Large intestine  \n",
       "52           Rectum  \n",
       "46  Large intestine  \n",
       "53           Rectum  \n",
       "35  Large intestine  \n",
       "48           Rectum  "
      ]
     },
     "metadata": {},
     "output_type": "display_data"
    },
    {
     "name": "stdout",
     "output_type": "stream",
     "text": [
      "Three of them are studing the large intestine and rectum\n",
      "One is studing the small intestine, large intestine, and rectum\n",
      "We are counting them for each organ seperately for convenience, thus have a total of  54  studies in our review\n"
     ]
    }
   ],
   "source": [
    "#Number of unique studies\n",
    "df_unique_studies = df_all_data.drop_duplicates(subset =\"DOI\")\n",
    "n_unique_studies = len(df_unique_studies)\n",
    "print(\"There are \", str(n_unique_studies), \" unique manuscripts included in our review\")\n",
    "\n",
    "# Duplicates\n",
    "df_duplicate_studies = df_all_data[df_all_data.duplicated(['DOI'], keep=\"first\")]\n",
    "df_duplicate_studies = df_duplicate_studies.drop_duplicates(subset =\"DOI\")\n",
    "\n",
    "n_duplicate_studies = len(df_duplicate_studies)\n",
    "print(\"There are \", str(n_duplicate_studies), \" manuscripts among them that are studying more than one organ\")\n",
    "\n",
    "df_duplicate_studies_all = df_all_data[df_all_data.duplicated(['DOI'], keep=False)]\n",
    "n_duplicate_total = len(df_duplicate_studies_all)\n",
    "display(df_duplicate_studies_all[[\"Author\", \"Year\", \"DOI\", \"Organ\"]].sort_values(\"DOI\"))\n",
    "print(\"Three of them are studing the large intestine and rectum\")\n",
    "print(\"One is studing the small intestine, large intestine, and rectum\")\n",
    "\n",
    "print(\"We are counting them for each organ seperately for convenience, thus have a total of \", str(len(df_all_data)), \" studies in our review\")"
   ]
  },
  {
   "cell_type": "code",
   "execution_count": 38,
   "metadata": {},
   "outputs": [
    {
     "data": {
      "text/html": [
       "<div>\n",
       "<style scoped>\n",
       "    .dataframe tbody tr th:only-of-type {\n",
       "        vertical-align: middle;\n",
       "    }\n",
       "\n",
       "    .dataframe tbody tr th {\n",
       "        vertical-align: top;\n",
       "    }\n",
       "\n",
       "    .dataframe thead th {\n",
       "        text-align: right;\n",
       "    }\n",
       "</style>\n",
       "<table border=\"1\" class=\"dataframe\">\n",
       "  <thead>\n",
       "    <tr style=\"text-align: right;\">\n",
       "      <th></th>\n",
       "      <th>Author</th>\n",
       "      <th>Year</th>\n",
       "      <th>Organ</th>\n",
       "      <th>Incompressible</th>\n",
       "      <th>Hyperelastic model type</th>\n",
       "      <th>Viscous model type</th>\n",
       "      <th>Active model type</th>\n",
       "    </tr>\n",
       "  </thead>\n",
       "  <tbody>\n",
       "    <tr>\n",
       "      <th>6</th>\n",
       "      <td>Natali &amp; al.</td>\n",
       "      <td>2009</td>\n",
       "      <td>Esophagus</td>\n",
       "      <td>No</td>\n",
       "      <td>Natali</td>\n",
       "      <td>NaN</td>\n",
       "      <td>NaN</td>\n",
       "    </tr>\n",
       "    <tr>\n",
       "      <th>38</th>\n",
       "      <td>Carniel &amp; al.</td>\n",
       "      <td>2013</td>\n",
       "      <td>Large intestine</td>\n",
       "      <td>No</td>\n",
       "      <td>Natali</td>\n",
       "      <td>NaN</td>\n",
       "      <td>NaN</td>\n",
       "    </tr>\n",
       "    <tr>\n",
       "      <th>41</th>\n",
       "      <td>Carniel &amp; al.</td>\n",
       "      <td>2014</td>\n",
       "      <td>Large intestine</td>\n",
       "      <td>No</td>\n",
       "      <td>Natali</td>\n",
       "      <td>NaN</td>\n",
       "      <td>NaN</td>\n",
       "    </tr>\n",
       "    <tr>\n",
       "      <th>28</th>\n",
       "      <td>Gizzi &amp; al.</td>\n",
       "      <td>2016</td>\n",
       "      <td>Small intestine</td>\n",
       "      <td>No</td>\n",
       "      <td>Holzapfel</td>\n",
       "      <td>Neo-Hookean</td>\n",
       "      <td>Physiological</td>\n",
       "    </tr>\n",
       "    <tr>\n",
       "      <th>21</th>\n",
       "      <td>Klemm &amp; al.</td>\n",
       "      <td>2020</td>\n",
       "      <td>Stomach</td>\n",
       "      <td>No</td>\n",
       "      <td>Holzapfel</td>\n",
       "      <td>NaN</td>\n",
       "      <td>Physiological</td>\n",
       "    </tr>\n",
       "    <tr>\n",
       "      <th>46</th>\n",
       "      <td>Zhao &amp; al.</td>\n",
       "      <td>2020</td>\n",
       "      <td>Large intestine</td>\n",
       "      <td>No</td>\n",
       "      <td>Holzapfel</td>\n",
       "      <td>NaN</td>\n",
       "      <td>NaN</td>\n",
       "    </tr>\n",
       "    <tr>\n",
       "      <th>53</th>\n",
       "      <td>Zhao &amp; al.</td>\n",
       "      <td>2020</td>\n",
       "      <td>Rectum</td>\n",
       "      <td>No</td>\n",
       "      <td>Holzapfel</td>\n",
       "      <td>NaN</td>\n",
       "      <td>NaN</td>\n",
       "    </tr>\n",
       "  </tbody>\n",
       "</table>\n",
       "</div>"
      ],
      "text/plain": [
       "           Author  Year            Organ Incompressible  \\\n",
       "6    Natali & al.  2009        Esophagus             No   \n",
       "38  Carniel & al.  2013  Large intestine             No   \n",
       "41  Carniel & al.  2014  Large intestine             No   \n",
       "28    Gizzi & al.  2016  Small intestine             No   \n",
       "21    Klemm & al.  2020          Stomach             No   \n",
       "46     Zhao & al.  2020  Large intestine             No   \n",
       "53     Zhao & al.  2020           Rectum             No   \n",
       "\n",
       "   Hyperelastic model type Viscous model type Active model type  \n",
       "6                   Natali                NaN               NaN  \n",
       "38                  Natali                NaN               NaN  \n",
       "41                  Natali                NaN               NaN  \n",
       "28               Holzapfel        Neo-Hookean     Physiological  \n",
       "21               Holzapfel                NaN     Physiological  \n",
       "46               Holzapfel                NaN               NaN  \n",
       "53               Holzapfel                NaN               NaN  "
      ]
     },
     "metadata": {},
     "output_type": "display_data"
    }
   ],
   "source": [
    "# Studies not making incompressible tissue assumption\n",
    "df_sub = df_all_data[df_all_data[\"Incompressible\"].str.contains(\"No\", na = False)]\n",
    "df_incompressible = df_sub[[\"Author\", \"Year\", \"Organ\", \"Incompressible\", \"Hyperelastic model type\", \"Viscous model type\", \"Active model type\"]].sort_values([\"Year\", \"Author\"])\n",
    "display(df_incompressible)"
   ]
  },
  {
   "cell_type": "markdown",
   "metadata": {},
   "source": [
    "# 4. Sort different hyperelastic model types"
   ]
  },
  {
   "cell_type": "code",
   "execution_count": 39,
   "metadata": {},
   "outputs": [
    {
     "data": {
      "text/html": [
       "<div>\n",
       "<style scoped>\n",
       "    .dataframe tbody tr th:only-of-type {\n",
       "        vertical-align: middle;\n",
       "    }\n",
       "\n",
       "    .dataframe tbody tr th {\n",
       "        vertical-align: top;\n",
       "    }\n",
       "\n",
       "    .dataframe thead th {\n",
       "        text-align: right;\n",
       "    }\n",
       "</style>\n",
       "<table border=\"1\" class=\"dataframe\">\n",
       "  <thead>\n",
       "    <tr style=\"text-align: right;\">\n",
       "      <th></th>\n",
       "      <th>Author</th>\n",
       "      <th>Year</th>\n",
       "      <th>Organ</th>\n",
       "      <th>Test protocol</th>\n",
       "      <th>Modeled entity</th>\n",
       "      <th>Hyperelastic model type</th>\n",
       "      <th>Viscous model type</th>\n",
       "      <th>Active model category</th>\n",
       "    </tr>\n",
       "  </thead>\n",
       "  <tbody>\n",
       "    <tr>\n",
       "      <th>22</th>\n",
       "      <td>Miftakhov &amp; al.</td>\n",
       "      <td>1994</td>\n",
       "      <td>Small intestine</td>\n",
       "      <td>NaN</td>\n",
       "      <td>Intact tissue</td>\n",
       "      <td>Fung</td>\n",
       "      <td>NaN</td>\n",
       "      <td>NaN</td>\n",
       "    </tr>\n",
       "    <tr>\n",
       "      <th>23</th>\n",
       "      <td>Dou &amp; al.</td>\n",
       "      <td>2003</td>\n",
       "      <td>Small intestine</td>\n",
       "      <td>Tubular inflation</td>\n",
       "      <td>Intact tissue</td>\n",
       "      <td>Fung</td>\n",
       "      <td>NaN</td>\n",
       "      <td>NaN</td>\n",
       "    </tr>\n",
       "    <tr>\n",
       "      <th>0</th>\n",
       "      <td>Liao &amp; al.</td>\n",
       "      <td>2003</td>\n",
       "      <td>Esophagus</td>\n",
       "      <td>Tubular inflation</td>\n",
       "      <td>Intact tissue - Individual layer</td>\n",
       "      <td>Fung</td>\n",
       "      <td>NaN</td>\n",
       "      <td>NaN</td>\n",
       "    </tr>\n",
       "    <tr>\n",
       "      <th>24</th>\n",
       "      <td>Zhao &amp; al.</td>\n",
       "      <td>2003</td>\n",
       "      <td>Small intestine</td>\n",
       "      <td>Tubular inflation</td>\n",
       "      <td>Intact tissue</td>\n",
       "      <td>Fung</td>\n",
       "      <td>NaN</td>\n",
       "      <td>NaN</td>\n",
       "    </tr>\n",
       "    <tr>\n",
       "      <th>2</th>\n",
       "      <td>Yang &amp; al.</td>\n",
       "      <td>2004</td>\n",
       "      <td>Esophagus</td>\n",
       "      <td>Tubular extension - Tubular inflation - Tubula...</td>\n",
       "      <td>Intact  tissue</td>\n",
       "      <td>Fung</td>\n",
       "      <td>NaN</td>\n",
       "      <td>NaN</td>\n",
       "    </tr>\n",
       "    <tr>\n",
       "      <th>1</th>\n",
       "      <td>Zeng &amp; al.</td>\n",
       "      <td>2004</td>\n",
       "      <td>Esophagus</td>\n",
       "      <td>Tubular extension - Tubular inflation - Tubula...</td>\n",
       "      <td>Intact  tissue</td>\n",
       "      <td>Fung</td>\n",
       "      <td>NaN</td>\n",
       "      <td>NaN</td>\n",
       "    </tr>\n",
       "    <tr>\n",
       "      <th>3</th>\n",
       "      <td>Yang &amp; al.</td>\n",
       "      <td>2006</td>\n",
       "      <td>Esophagus</td>\n",
       "      <td>Planar uniaxial</td>\n",
       "      <td>Individual layer</td>\n",
       "      <td>Holzapfel - Modified exponential - Bilinear</td>\n",
       "      <td>NaN</td>\n",
       "      <td>NaN</td>\n",
       "    </tr>\n",
       "    <tr>\n",
       "      <th>4</th>\n",
       "      <td>Yang &amp; al.</td>\n",
       "      <td>2006</td>\n",
       "      <td>Esophagus</td>\n",
       "      <td>Planar uniaxial - Tubular extension - Tubular ...</td>\n",
       "      <td>Individual layer</td>\n",
       "      <td>Holzapfel - Modified exponential - Bilinear</td>\n",
       "      <td>NaN</td>\n",
       "      <td>NaN</td>\n",
       "    </tr>\n",
       "    <tr>\n",
       "      <th>16</th>\n",
       "      <td>Gao &amp; al.</td>\n",
       "      <td>2008</td>\n",
       "      <td>Stomach</td>\n",
       "      <td>Planar uniaxial</td>\n",
       "      <td>Intact tissue</td>\n",
       "      <td>Ogden</td>\n",
       "      <td>NaN</td>\n",
       "      <td>NaN</td>\n",
       "    </tr>\n",
       "    <tr>\n",
       "      <th>47</th>\n",
       "      <td>Boubaker &amp; al.</td>\n",
       "      <td>2009</td>\n",
       "      <td>Rectum</td>\n",
       "      <td>Planar uniaxial</td>\n",
       "      <td>Intact tissue</td>\n",
       "      <td>Ogden</td>\n",
       "      <td>NaN</td>\n",
       "      <td>NaN</td>\n",
       "    </tr>\n",
       "    <tr>\n",
       "      <th>34</th>\n",
       "      <td>Ciarletta &amp; al.</td>\n",
       "      <td>2009</td>\n",
       "      <td>Large intestine</td>\n",
       "      <td>Planar uniaxial - Planar shear</td>\n",
       "      <td>Intact tissue</td>\n",
       "      <td>Holzapfel</td>\n",
       "      <td>NaN</td>\n",
       "      <td>NaN</td>\n",
       "    </tr>\n",
       "    <tr>\n",
       "      <th>6</th>\n",
       "      <td>Natali &amp; al.</td>\n",
       "      <td>2009</td>\n",
       "      <td>Esophagus</td>\n",
       "      <td>Planar uniaxial</td>\n",
       "      <td>Individual layer</td>\n",
       "      <td>Natali</td>\n",
       "      <td>NaN</td>\n",
       "      <td>NaN</td>\n",
       "    </tr>\n",
       "    <tr>\n",
       "      <th>7</th>\n",
       "      <td>Stavropoulou &amp; al.</td>\n",
       "      <td>2009</td>\n",
       "      <td>Esophagus</td>\n",
       "      <td>Tubular extension - Tubular inflation</td>\n",
       "      <td>Individual layer</td>\n",
       "      <td>Fung</td>\n",
       "      <td>NaN</td>\n",
       "      <td>NaN</td>\n",
       "    </tr>\n",
       "    <tr>\n",
       "      <th>26</th>\n",
       "      <td>Liao &amp; al.</td>\n",
       "      <td>2010</td>\n",
       "      <td>Small intestine</td>\n",
       "      <td>Tubular extension - Tubular inflation</td>\n",
       "      <td>Intact tissue</td>\n",
       "      <td>Fung</td>\n",
       "      <td>NaN</td>\n",
       "      <td>NaN</td>\n",
       "    </tr>\n",
       "    <tr>\n",
       "      <th>9</th>\n",
       "      <td>Sokolis &amp; al.</td>\n",
       "      <td>2010</td>\n",
       "      <td>Esophagus</td>\n",
       "      <td>Tubular extension - Tubular inflation</td>\n",
       "      <td>Intact tissue - Individual layer</td>\n",
       "      <td>Fung</td>\n",
       "      <td>NaN</td>\n",
       "      <td>NaN</td>\n",
       "    </tr>\n",
       "    <tr>\n",
       "      <th>27</th>\n",
       "      <td>Bellini &amp; al.</td>\n",
       "      <td>2011</td>\n",
       "      <td>Small intestine</td>\n",
       "      <td>Planar biaxial</td>\n",
       "      <td>Intact tissue</td>\n",
       "      <td>Fung - Neo Hookean - Mooney-Rivlin</td>\n",
       "      <td>NaN</td>\n",
       "      <td>NaN</td>\n",
       "    </tr>\n",
       "    <tr>\n",
       "      <th>35</th>\n",
       "      <td>Sokolis &amp; al.</td>\n",
       "      <td>2011</td>\n",
       "      <td>Large intestine</td>\n",
       "      <td>Tubular extension - Tubular inflation</td>\n",
       "      <td>Intact tissue</td>\n",
       "      <td>Fung</td>\n",
       "      <td>NaN</td>\n",
       "      <td>NaN</td>\n",
       "    </tr>\n",
       "    <tr>\n",
       "      <th>48</th>\n",
       "      <td>Sokolis &amp; al.</td>\n",
       "      <td>2011</td>\n",
       "      <td>Rectum</td>\n",
       "      <td>Tubular extension - Tubular inflation</td>\n",
       "      <td>Intact tissue</td>\n",
       "      <td>Fung</td>\n",
       "      <td>NaN</td>\n",
       "      <td>NaN</td>\n",
       "    </tr>\n",
       "    <tr>\n",
       "      <th>36</th>\n",
       "      <td>Tran &amp; al.</td>\n",
       "      <td>2011</td>\n",
       "      <td>Large intestine</td>\n",
       "      <td>Compression - Planar uniaxial</td>\n",
       "      <td>Intact tissue</td>\n",
       "      <td>Ogden</td>\n",
       "      <td>NaN</td>\n",
       "      <td>NaN</td>\n",
       "    </tr>\n",
       "    <tr>\n",
       "      <th>49</th>\n",
       "      <td>Rubod &amp; al.</td>\n",
       "      <td>2012</td>\n",
       "      <td>Rectum</td>\n",
       "      <td>Planar uniaxial</td>\n",
       "      <td>Intact tissue</td>\n",
       "      <td>Mooney-Rivlin</td>\n",
       "      <td>NaN</td>\n",
       "      <td>NaN</td>\n",
       "    </tr>\n",
       "    <tr>\n",
       "      <th>10</th>\n",
       "      <td>Stavropoulou &amp; al.</td>\n",
       "      <td>2012</td>\n",
       "      <td>Esophagus</td>\n",
       "      <td>Planar uniaxial</td>\n",
       "      <td>Individual layer</td>\n",
       "      <td>Fung</td>\n",
       "      <td>NaN</td>\n",
       "      <td>NaN</td>\n",
       "    </tr>\n",
       "    <tr>\n",
       "      <th>38</th>\n",
       "      <td>Carniel &amp; al.</td>\n",
       "      <td>2013</td>\n",
       "      <td>Large intestine</td>\n",
       "      <td>Planar uniaxial</td>\n",
       "      <td>Intact tissue</td>\n",
       "      <td>Natali</td>\n",
       "      <td>NaN</td>\n",
       "      <td>NaN</td>\n",
       "    </tr>\n",
       "    <tr>\n",
       "      <th>39</th>\n",
       "      <td>Puértolas &amp; al.</td>\n",
       "      <td>2013</td>\n",
       "      <td>Large intestine</td>\n",
       "      <td>Planar uniaxial</td>\n",
       "      <td>Intact tissue</td>\n",
       "      <td>Mooney-Rivlin</td>\n",
       "      <td>NaN</td>\n",
       "      <td>NaN</td>\n",
       "    </tr>\n",
       "    <tr>\n",
       "      <th>11</th>\n",
       "      <td>Sokolis &amp; al.</td>\n",
       "      <td>2013</td>\n",
       "      <td>Esophagus</td>\n",
       "      <td>Tubular extension - Tubular inflation</td>\n",
       "      <td>Intact tissue - Individual layer</td>\n",
       "      <td>Holzapfel</td>\n",
       "      <td>NaN</td>\n",
       "      <td>NaN</td>\n",
       "    </tr>\n",
       "    <tr>\n",
       "      <th>37</th>\n",
       "      <td>Sokolis &amp; al.</td>\n",
       "      <td>2013</td>\n",
       "      <td>Large intestine</td>\n",
       "      <td>Tubular extension - Tubular inflation</td>\n",
       "      <td>Intact tissue</td>\n",
       "      <td>Holzapfel</td>\n",
       "      <td>NaN</td>\n",
       "      <td>NaN</td>\n",
       "    </tr>\n",
       "    <tr>\n",
       "      <th>50</th>\n",
       "      <td>Sokolis &amp; al.</td>\n",
       "      <td>2013</td>\n",
       "      <td>Rectum</td>\n",
       "      <td>Tubular extension - Tubular inflation</td>\n",
       "      <td>Intact tissue</td>\n",
       "      <td>Holzapfel</td>\n",
       "      <td>NaN</td>\n",
       "      <td>NaN</td>\n",
       "    </tr>\n",
       "    <tr>\n",
       "      <th>12</th>\n",
       "      <td>Sommer &amp; al.</td>\n",
       "      <td>2013</td>\n",
       "      <td>Esophagus</td>\n",
       "      <td>Planar uniaxial - Planar biaxial - Tubular ext...</td>\n",
       "      <td>Individual layer</td>\n",
       "      <td>Holzapfel</td>\n",
       "      <td>NaN</td>\n",
       "      <td>NaN</td>\n",
       "    </tr>\n",
       "    <tr>\n",
       "      <th>41</th>\n",
       "      <td>Carniel &amp; al.</td>\n",
       "      <td>2014</td>\n",
       "      <td>Large intestine</td>\n",
       "      <td>Planar uniaxial</td>\n",
       "      <td>Intact tissue</td>\n",
       "      <td>Natali</td>\n",
       "      <td>NaN</td>\n",
       "      <td>NaN</td>\n",
       "    </tr>\n",
       "    <tr>\n",
       "      <th>13</th>\n",
       "      <td>Sanchez-Molina &amp; al.</td>\n",
       "      <td>2014</td>\n",
       "      <td>Esophagus</td>\n",
       "      <td>Planar uniaxial</td>\n",
       "      <td>Intact tissue - Individual layer</td>\n",
       "      <td>Microcontinuum Mechanics</td>\n",
       "      <td>NaN</td>\n",
       "      <td>NaN</td>\n",
       "    </tr>\n",
       "    <tr>\n",
       "      <th>51</th>\n",
       "      <td>Boubaker &amp; al.</td>\n",
       "      <td>2015</td>\n",
       "      <td>Rectum</td>\n",
       "      <td>Planar uniaxial</td>\n",
       "      <td>Intact tissue</td>\n",
       "      <td>Ogden</td>\n",
       "      <td>NaN</td>\n",
       "      <td>NaN</td>\n",
       "    </tr>\n",
       "    <tr>\n",
       "      <th>17</th>\n",
       "      <td>Dargar &amp; al.</td>\n",
       "      <td>2016</td>\n",
       "      <td>Stomach</td>\n",
       "      <td>Compression</td>\n",
       "      <td>Individual layer</td>\n",
       "      <td>2nd order reduced polynomial</td>\n",
       "      <td>NaN</td>\n",
       "      <td>NaN</td>\n",
       "    </tr>\n",
       "    <tr>\n",
       "      <th>18</th>\n",
       "      <td>Aydin &amp; al.</td>\n",
       "      <td>2017</td>\n",
       "      <td>Stomach</td>\n",
       "      <td>Planar biaxial</td>\n",
       "      <td>Intact tissue</td>\n",
       "      <td>Fung</td>\n",
       "      <td>NaN</td>\n",
       "      <td>NaN</td>\n",
       "    </tr>\n",
       "    <tr>\n",
       "      <th>29</th>\n",
       "      <td>Sokolis</td>\n",
       "      <td>2017</td>\n",
       "      <td>Small intestine</td>\n",
       "      <td>Tubular extension - Tubular inflation</td>\n",
       "      <td>Intact tissue</td>\n",
       "      <td>Fung</td>\n",
       "      <td>NaN</td>\n",
       "      <td>NaN</td>\n",
       "    </tr>\n",
       "    <tr>\n",
       "      <th>30</th>\n",
       "      <td>Sun &amp; al.</td>\n",
       "      <td>2017</td>\n",
       "      <td>Small intestine</td>\n",
       "      <td>Tubular extension - Tubular inflation - Tubula...</td>\n",
       "      <td>Intact tissue</td>\n",
       "      <td>Fung</td>\n",
       "      <td>NaN</td>\n",
       "      <td>NaN</td>\n",
       "    </tr>\n",
       "    <tr>\n",
       "      <th>42</th>\n",
       "      <td>Patel &amp; al.</td>\n",
       "      <td>2018</td>\n",
       "      <td>Large intestine</td>\n",
       "      <td>Tubular extension - Tubular inflation</td>\n",
       "      <td>Intact tissue</td>\n",
       "      <td>Holzapfel</td>\n",
       "      <td>NaN</td>\n",
       "      <td>NaN</td>\n",
       "    </tr>\n",
       "    <tr>\n",
       "      <th>43</th>\n",
       "      <td>Zhou &amp; al.</td>\n",
       "      <td>2018</td>\n",
       "      <td>Large intestine</td>\n",
       "      <td>Planar uniaxial</td>\n",
       "      <td>Intact tissue</td>\n",
       "      <td>Mooney-Rivlin extended</td>\n",
       "      <td>NaN</td>\n",
       "      <td>NaN</td>\n",
       "    </tr>\n",
       "    <tr>\n",
       "      <th>44</th>\n",
       "      <td>Puertolas &amp; al.</td>\n",
       "      <td>2019</td>\n",
       "      <td>Large intestine</td>\n",
       "      <td>Planar biaxial</td>\n",
       "      <td>Intact tissue</td>\n",
       "      <td>Holzapfel - Microfiber Von Mises - Microfiber ...</td>\n",
       "      <td>NaN</td>\n",
       "      <td>NaN</td>\n",
       "    </tr>\n",
       "    <tr>\n",
       "      <th>46</th>\n",
       "      <td>Zhao &amp; al.</td>\n",
       "      <td>2020</td>\n",
       "      <td>Large intestine</td>\n",
       "      <td>Planar biaxial - Tubular inflation</td>\n",
       "      <td>Individual layer</td>\n",
       "      <td>Holzapfel</td>\n",
       "      <td>NaN</td>\n",
       "      <td>NaN</td>\n",
       "    </tr>\n",
       "    <tr>\n",
       "      <th>53</th>\n",
       "      <td>Zhao &amp; al.</td>\n",
       "      <td>2020</td>\n",
       "      <td>Rectum</td>\n",
       "      <td>Planar biaxial - Tubular inflation</td>\n",
       "      <td>Individual layer</td>\n",
       "      <td>Holzapfel</td>\n",
       "      <td>NaN</td>\n",
       "      <td>NaN</td>\n",
       "    </tr>\n",
       "    <tr>\n",
       "      <th>32</th>\n",
       "      <td>Sokolis</td>\n",
       "      <td>2021</td>\n",
       "      <td>Small intestine</td>\n",
       "      <td>Tubular extension - Tubular inflation</td>\n",
       "      <td>Intact tissue</td>\n",
       "      <td>Holzapfel</td>\n",
       "      <td>NaN</td>\n",
       "      <td>NaN</td>\n",
       "    </tr>\n",
       "  </tbody>\n",
       "</table>\n",
       "</div>"
      ],
      "text/plain": [
       "                  Author  Year            Organ  \\\n",
       "22       Miftakhov & al.  1994  Small intestine   \n",
       "23             Dou & al.  2003  Small intestine   \n",
       "0             Liao & al.  2003        Esophagus   \n",
       "24            Zhao & al.  2003  Small intestine   \n",
       "2             Yang & al.  2004        Esophagus   \n",
       "1             Zeng & al.  2004        Esophagus   \n",
       "3             Yang & al.  2006        Esophagus   \n",
       "4             Yang & al.  2006        Esophagus   \n",
       "16             Gao & al.  2008          Stomach   \n",
       "47        Boubaker & al.  2009           Rectum   \n",
       "34       Ciarletta & al.  2009  Large intestine   \n",
       "6           Natali & al.  2009        Esophagus   \n",
       "7     Stavropoulou & al.  2009        Esophagus   \n",
       "26            Liao & al.  2010  Small intestine   \n",
       "9          Sokolis & al.  2010        Esophagus   \n",
       "27         Bellini & al.  2011  Small intestine   \n",
       "35         Sokolis & al.  2011  Large intestine   \n",
       "48         Sokolis & al.  2011           Rectum   \n",
       "36            Tran & al.  2011  Large intestine   \n",
       "49           Rubod & al.  2012           Rectum   \n",
       "10    Stavropoulou & al.  2012        Esophagus   \n",
       "38         Carniel & al.  2013  Large intestine   \n",
       "39       Puértolas & al.  2013  Large intestine   \n",
       "11         Sokolis & al.  2013        Esophagus   \n",
       "37         Sokolis & al.  2013  Large intestine   \n",
       "50         Sokolis & al.  2013           Rectum   \n",
       "12          Sommer & al.  2013        Esophagus   \n",
       "41         Carniel & al.  2014  Large intestine   \n",
       "13  Sanchez-Molina & al.  2014        Esophagus   \n",
       "51        Boubaker & al.  2015           Rectum   \n",
       "17          Dargar & al.  2016          Stomach   \n",
       "18           Aydin & al.  2017          Stomach   \n",
       "29               Sokolis  2017  Small intestine   \n",
       "30             Sun & al.  2017  Small intestine   \n",
       "42           Patel & al.  2018  Large intestine   \n",
       "43            Zhou & al.  2018  Large intestine   \n",
       "44       Puertolas & al.  2019  Large intestine   \n",
       "46            Zhao & al.  2020  Large intestine   \n",
       "53            Zhao & al.  2020           Rectum   \n",
       "32               Sokolis  2021  Small intestine   \n",
       "\n",
       "                                        Test protocol  \\\n",
       "22                                                NaN   \n",
       "23                                  Tubular inflation   \n",
       "0                                   Tubular inflation   \n",
       "24                                  Tubular inflation   \n",
       "2   Tubular extension - Tubular inflation - Tubula...   \n",
       "1   Tubular extension - Tubular inflation - Tubula...   \n",
       "3                                     Planar uniaxial   \n",
       "4   Planar uniaxial - Tubular extension - Tubular ...   \n",
       "16                                    Planar uniaxial   \n",
       "47                                    Planar uniaxial   \n",
       "34                     Planar uniaxial - Planar shear   \n",
       "6                                     Planar uniaxial   \n",
       "7               Tubular extension - Tubular inflation   \n",
       "26              Tubular extension - Tubular inflation   \n",
       "9               Tubular extension - Tubular inflation   \n",
       "27                                     Planar biaxial   \n",
       "35              Tubular extension - Tubular inflation   \n",
       "48              Tubular extension - Tubular inflation   \n",
       "36                      Compression - Planar uniaxial   \n",
       "49                                    Planar uniaxial   \n",
       "10                                    Planar uniaxial   \n",
       "38                                    Planar uniaxial   \n",
       "39                                    Planar uniaxial   \n",
       "11              Tubular extension - Tubular inflation   \n",
       "37              Tubular extension - Tubular inflation   \n",
       "50              Tubular extension - Tubular inflation   \n",
       "12  Planar uniaxial - Planar biaxial - Tubular ext...   \n",
       "41                                    Planar uniaxial   \n",
       "13                                    Planar uniaxial   \n",
       "51                                    Planar uniaxial   \n",
       "17                                        Compression   \n",
       "18                                     Planar biaxial   \n",
       "29              Tubular extension - Tubular inflation   \n",
       "30  Tubular extension - Tubular inflation - Tubula...   \n",
       "42              Tubular extension - Tubular inflation   \n",
       "43                                    Planar uniaxial   \n",
       "44                                     Planar biaxial   \n",
       "46                 Planar biaxial - Tubular inflation   \n",
       "53                 Planar biaxial - Tubular inflation   \n",
       "32              Tubular extension - Tubular inflation   \n",
       "\n",
       "                      Modeled entity  \\\n",
       "22                     Intact tissue   \n",
       "23                     Intact tissue   \n",
       "0   Intact tissue - Individual layer   \n",
       "24                     Intact tissue   \n",
       "2                     Intact  tissue   \n",
       "1                     Intact  tissue   \n",
       "3                   Individual layer   \n",
       "4                   Individual layer   \n",
       "16                     Intact tissue   \n",
       "47                     Intact tissue   \n",
       "34                     Intact tissue   \n",
       "6                   Individual layer   \n",
       "7                   Individual layer   \n",
       "26                     Intact tissue   \n",
       "9   Intact tissue - Individual layer   \n",
       "27                     Intact tissue   \n",
       "35                     Intact tissue   \n",
       "48                     Intact tissue   \n",
       "36                     Intact tissue   \n",
       "49                     Intact tissue   \n",
       "10                  Individual layer   \n",
       "38                     Intact tissue   \n",
       "39                     Intact tissue   \n",
       "11  Intact tissue - Individual layer   \n",
       "37                     Intact tissue   \n",
       "50                     Intact tissue   \n",
       "12                  Individual layer   \n",
       "41                     Intact tissue   \n",
       "13  Intact tissue - Individual layer   \n",
       "51                     Intact tissue   \n",
       "17                  Individual layer   \n",
       "18                     Intact tissue   \n",
       "29                     Intact tissue   \n",
       "30                     Intact tissue   \n",
       "42                     Intact tissue   \n",
       "43                     Intact tissue   \n",
       "44                     Intact tissue   \n",
       "46                  Individual layer   \n",
       "53                  Individual layer   \n",
       "32                     Intact tissue   \n",
       "\n",
       "                              Hyperelastic model type Viscous model type  \\\n",
       "22                                               Fung                NaN   \n",
       "23                                               Fung                NaN   \n",
       "0                                                Fung                NaN   \n",
       "24                                               Fung                NaN   \n",
       "2                                                Fung                NaN   \n",
       "1                                                Fung                NaN   \n",
       "3         Holzapfel - Modified exponential - Bilinear                NaN   \n",
       "4         Holzapfel - Modified exponential - Bilinear                NaN   \n",
       "16                                              Ogden                NaN   \n",
       "47                                              Ogden                NaN   \n",
       "34                                          Holzapfel                NaN   \n",
       "6                                              Natali                NaN   \n",
       "7                                                Fung                NaN   \n",
       "26                                               Fung                NaN   \n",
       "9                                                Fung                NaN   \n",
       "27                 Fung - Neo Hookean - Mooney-Rivlin                NaN   \n",
       "35                                               Fung                NaN   \n",
       "48                                               Fung                NaN   \n",
       "36                                              Ogden                NaN   \n",
       "49                                      Mooney-Rivlin                NaN   \n",
       "10                                               Fung                NaN   \n",
       "38                                             Natali                NaN   \n",
       "39                                      Mooney-Rivlin                NaN   \n",
       "11                                          Holzapfel                NaN   \n",
       "37                                          Holzapfel                NaN   \n",
       "50                                          Holzapfel                NaN   \n",
       "12                                          Holzapfel                NaN   \n",
       "41                                             Natali                NaN   \n",
       "13                           Microcontinuum Mechanics                NaN   \n",
       "51                                              Ogden                NaN   \n",
       "17                       2nd order reduced polynomial                NaN   \n",
       "18                                               Fung                NaN   \n",
       "29                                               Fung                NaN   \n",
       "30                                               Fung                NaN   \n",
       "42                                          Holzapfel                NaN   \n",
       "43                             Mooney-Rivlin extended                NaN   \n",
       "44  Holzapfel - Microfiber Von Mises - Microfiber ...                NaN   \n",
       "46                                          Holzapfel                NaN   \n",
       "53                                          Holzapfel                NaN   \n",
       "32                                          Holzapfel                NaN   \n",
       "\n",
       "   Active model category  \n",
       "22                   NaN  \n",
       "23                   NaN  \n",
       "0                    NaN  \n",
       "24                   NaN  \n",
       "2                    NaN  \n",
       "1                    NaN  \n",
       "3                    NaN  \n",
       "4                    NaN  \n",
       "16                   NaN  \n",
       "47                   NaN  \n",
       "34                   NaN  \n",
       "6                    NaN  \n",
       "7                    NaN  \n",
       "26                   NaN  \n",
       "9                    NaN  \n",
       "27                   NaN  \n",
       "35                   NaN  \n",
       "48                   NaN  \n",
       "36                   NaN  \n",
       "49                   NaN  \n",
       "10                   NaN  \n",
       "38                   NaN  \n",
       "39                   NaN  \n",
       "11                   NaN  \n",
       "37                   NaN  \n",
       "50                   NaN  \n",
       "12                   NaN  \n",
       "41                   NaN  \n",
       "13                   NaN  \n",
       "51                   NaN  \n",
       "17                   NaN  \n",
       "18                   NaN  \n",
       "29                   NaN  \n",
       "30                   NaN  \n",
       "42                   NaN  \n",
       "43                   NaN  \n",
       "44                   NaN  \n",
       "46                   NaN  \n",
       "53                   NaN  \n",
       "32                   NaN  "
      ]
     },
     "metadata": {},
     "output_type": "display_data"
    }
   ],
   "source": [
    "# All hyperelastic only studies (exlude viscousand active part)\n",
    "df_hyperelastic = df_all_data[df_all_data[\"Hyperelastic model category\"].notna() & df_all_data[\"Viscous model type\"].isnull() & df_all_data[\"Active model category\"].isnull()]\n",
    "display(df_hyperelastic[[\"Author\", \"Year\", \"Organ\", \"Test protocol\", \"Modeled entity\", \"Hyperelastic model type\", \"Viscous model type\", \"Active model category\"]].sort_values([\"Year\", \"Author\"]))"
   ]
  },
  {
   "cell_type": "markdown",
   "metadata": {},
   "source": [
    "### 4.1. Fung type"
   ]
  },
  {
   "cell_type": "code",
   "execution_count": 40,
   "metadata": {},
   "outputs": [
    {
     "data": {
      "text/html": [
       "<div>\n",
       "<style scoped>\n",
       "    .dataframe tbody tr th:only-of-type {\n",
       "        vertical-align: middle;\n",
       "    }\n",
       "\n",
       "    .dataframe tbody tr th {\n",
       "        vertical-align: top;\n",
       "    }\n",
       "\n",
       "    .dataframe thead th {\n",
       "        text-align: right;\n",
       "    }\n",
       "</style>\n",
       "<table border=\"1\" class=\"dataframe\">\n",
       "  <thead>\n",
       "    <tr style=\"text-align: right;\">\n",
       "      <th></th>\n",
       "      <th>Author</th>\n",
       "      <th>Year</th>\n",
       "      <th>Organ</th>\n",
       "      <th>Test protocol</th>\n",
       "      <th>Modeled entity</th>\n",
       "      <th>Hyperelastic model type</th>\n",
       "    </tr>\n",
       "  </thead>\n",
       "  <tbody>\n",
       "    <tr>\n",
       "      <th>22</th>\n",
       "      <td>Miftakhov &amp; al.</td>\n",
       "      <td>1994</td>\n",
       "      <td>Small intestine</td>\n",
       "      <td>NaN</td>\n",
       "      <td>Intact tissue</td>\n",
       "      <td>Fung</td>\n",
       "    </tr>\n",
       "    <tr>\n",
       "      <th>23</th>\n",
       "      <td>Dou &amp; al.</td>\n",
       "      <td>2003</td>\n",
       "      <td>Small intestine</td>\n",
       "      <td>Tubular inflation</td>\n",
       "      <td>Intact tissue</td>\n",
       "      <td>Fung</td>\n",
       "    </tr>\n",
       "    <tr>\n",
       "      <th>0</th>\n",
       "      <td>Liao &amp; al.</td>\n",
       "      <td>2003</td>\n",
       "      <td>Esophagus</td>\n",
       "      <td>Tubular inflation</td>\n",
       "      <td>Intact tissue - Individual layer</td>\n",
       "      <td>Fung</td>\n",
       "    </tr>\n",
       "    <tr>\n",
       "      <th>24</th>\n",
       "      <td>Zhao &amp; al.</td>\n",
       "      <td>2003</td>\n",
       "      <td>Small intestine</td>\n",
       "      <td>Tubular inflation</td>\n",
       "      <td>Intact tissue</td>\n",
       "      <td>Fung</td>\n",
       "    </tr>\n",
       "    <tr>\n",
       "      <th>2</th>\n",
       "      <td>Yang &amp; al.</td>\n",
       "      <td>2004</td>\n",
       "      <td>Esophagus</td>\n",
       "      <td>Tubular extension - Tubular inflation - Tubula...</td>\n",
       "      <td>Intact  tissue</td>\n",
       "      <td>Fung</td>\n",
       "    </tr>\n",
       "    <tr>\n",
       "      <th>1</th>\n",
       "      <td>Zeng &amp; al.</td>\n",
       "      <td>2004</td>\n",
       "      <td>Esophagus</td>\n",
       "      <td>Tubular extension - Tubular inflation - Tubula...</td>\n",
       "      <td>Intact  tissue</td>\n",
       "      <td>Fung</td>\n",
       "    </tr>\n",
       "    <tr>\n",
       "      <th>7</th>\n",
       "      <td>Stavropoulou &amp; al.</td>\n",
       "      <td>2009</td>\n",
       "      <td>Esophagus</td>\n",
       "      <td>Tubular extension - Tubular inflation</td>\n",
       "      <td>Individual layer</td>\n",
       "      <td>Fung</td>\n",
       "    </tr>\n",
       "    <tr>\n",
       "      <th>26</th>\n",
       "      <td>Liao &amp; al.</td>\n",
       "      <td>2010</td>\n",
       "      <td>Small intestine</td>\n",
       "      <td>Tubular extension - Tubular inflation</td>\n",
       "      <td>Intact tissue</td>\n",
       "      <td>Fung</td>\n",
       "    </tr>\n",
       "    <tr>\n",
       "      <th>9</th>\n",
       "      <td>Sokolis &amp; al.</td>\n",
       "      <td>2010</td>\n",
       "      <td>Esophagus</td>\n",
       "      <td>Tubular extension - Tubular inflation</td>\n",
       "      <td>Intact tissue - Individual layer</td>\n",
       "      <td>Fung</td>\n",
       "    </tr>\n",
       "    <tr>\n",
       "      <th>27</th>\n",
       "      <td>Bellini &amp; al.</td>\n",
       "      <td>2011</td>\n",
       "      <td>Small intestine</td>\n",
       "      <td>Planar biaxial</td>\n",
       "      <td>Intact tissue</td>\n",
       "      <td>Fung - Neo Hookean - Mooney-Rivlin</td>\n",
       "    </tr>\n",
       "    <tr>\n",
       "      <th>35</th>\n",
       "      <td>Sokolis &amp; al.</td>\n",
       "      <td>2011</td>\n",
       "      <td>Large intestine</td>\n",
       "      <td>Tubular extension - Tubular inflation</td>\n",
       "      <td>Intact tissue</td>\n",
       "      <td>Fung</td>\n",
       "    </tr>\n",
       "    <tr>\n",
       "      <th>48</th>\n",
       "      <td>Sokolis &amp; al.</td>\n",
       "      <td>2011</td>\n",
       "      <td>Rectum</td>\n",
       "      <td>Tubular extension - Tubular inflation</td>\n",
       "      <td>Intact tissue</td>\n",
       "      <td>Fung</td>\n",
       "    </tr>\n",
       "    <tr>\n",
       "      <th>10</th>\n",
       "      <td>Stavropoulou &amp; al.</td>\n",
       "      <td>2012</td>\n",
       "      <td>Esophagus</td>\n",
       "      <td>Planar uniaxial</td>\n",
       "      <td>Individual layer</td>\n",
       "      <td>Fung</td>\n",
       "    </tr>\n",
       "    <tr>\n",
       "      <th>18</th>\n",
       "      <td>Aydin &amp; al.</td>\n",
       "      <td>2017</td>\n",
       "      <td>Stomach</td>\n",
       "      <td>Planar biaxial</td>\n",
       "      <td>Intact tissue</td>\n",
       "      <td>Fung</td>\n",
       "    </tr>\n",
       "    <tr>\n",
       "      <th>29</th>\n",
       "      <td>Sokolis</td>\n",
       "      <td>2017</td>\n",
       "      <td>Small intestine</td>\n",
       "      <td>Tubular extension - Tubular inflation</td>\n",
       "      <td>Intact tissue</td>\n",
       "      <td>Fung</td>\n",
       "    </tr>\n",
       "    <tr>\n",
       "      <th>30</th>\n",
       "      <td>Sun &amp; al.</td>\n",
       "      <td>2017</td>\n",
       "      <td>Small intestine</td>\n",
       "      <td>Tubular extension - Tubular inflation - Tubula...</td>\n",
       "      <td>Intact tissue</td>\n",
       "      <td>Fung</td>\n",
       "    </tr>\n",
       "  </tbody>\n",
       "</table>\n",
       "</div>"
      ],
      "text/plain": [
       "                Author  Year            Organ  \\\n",
       "22     Miftakhov & al.  1994  Small intestine   \n",
       "23           Dou & al.  2003  Small intestine   \n",
       "0           Liao & al.  2003        Esophagus   \n",
       "24          Zhao & al.  2003  Small intestine   \n",
       "2           Yang & al.  2004        Esophagus   \n",
       "1           Zeng & al.  2004        Esophagus   \n",
       "7   Stavropoulou & al.  2009        Esophagus   \n",
       "26          Liao & al.  2010  Small intestine   \n",
       "9        Sokolis & al.  2010        Esophagus   \n",
       "27       Bellini & al.  2011  Small intestine   \n",
       "35       Sokolis & al.  2011  Large intestine   \n",
       "48       Sokolis & al.  2011           Rectum   \n",
       "10  Stavropoulou & al.  2012        Esophagus   \n",
       "18         Aydin & al.  2017          Stomach   \n",
       "29             Sokolis  2017  Small intestine   \n",
       "30           Sun & al.  2017  Small intestine   \n",
       "\n",
       "                                        Test protocol  \\\n",
       "22                                                NaN   \n",
       "23                                  Tubular inflation   \n",
       "0                                   Tubular inflation   \n",
       "24                                  Tubular inflation   \n",
       "2   Tubular extension - Tubular inflation - Tubula...   \n",
       "1   Tubular extension - Tubular inflation - Tubula...   \n",
       "7               Tubular extension - Tubular inflation   \n",
       "26              Tubular extension - Tubular inflation   \n",
       "9               Tubular extension - Tubular inflation   \n",
       "27                                     Planar biaxial   \n",
       "35              Tubular extension - Tubular inflation   \n",
       "48              Tubular extension - Tubular inflation   \n",
       "10                                    Planar uniaxial   \n",
       "18                                     Planar biaxial   \n",
       "29              Tubular extension - Tubular inflation   \n",
       "30  Tubular extension - Tubular inflation - Tubula...   \n",
       "\n",
       "                      Modeled entity             Hyperelastic model type  \n",
       "22                     Intact tissue                                Fung  \n",
       "23                     Intact tissue                                Fung  \n",
       "0   Intact tissue - Individual layer                                Fung  \n",
       "24                     Intact tissue                                Fung  \n",
       "2                     Intact  tissue                                Fung  \n",
       "1                     Intact  tissue                                Fung  \n",
       "7                   Individual layer                                Fung  \n",
       "26                     Intact tissue                                Fung  \n",
       "9   Intact tissue - Individual layer                                Fung  \n",
       "27                     Intact tissue  Fung - Neo Hookean - Mooney-Rivlin  \n",
       "35                     Intact tissue                                Fung  \n",
       "48                     Intact tissue                                Fung  \n",
       "10                  Individual layer                                Fung  \n",
       "18                     Intact tissue                                Fung  \n",
       "29                     Intact tissue                                Fung  \n",
       "30                     Intact tissue                                Fung  "
      ]
     },
     "metadata": {},
     "output_type": "display_data"
    }
   ],
   "source": [
    "df_sub = df_hyperelastic[df_hyperelastic[\"Hyperelastic model type\"].str.contains(\"Fung\", na = False)]\n",
    "df_fung = df_sub[[\"Author\", \"Year\", \"Organ\", \"Test protocol\", \"Modeled entity\", \"Hyperelastic model type\"]].sort_values([\"Year\", \"Author\"])\n",
    "#df_fung.to_excel(\"fung.xlsx\")\n",
    "display(df_fung)"
   ]
  },
  {
   "cell_type": "markdown",
   "metadata": {},
   "source": [
    "### 4.2. Isotropic phenomenological"
   ]
  },
  {
   "cell_type": "code",
   "execution_count": 41,
   "metadata": {},
   "outputs": [
    {
     "data": {
      "text/html": [
       "<div>\n",
       "<style scoped>\n",
       "    .dataframe tbody tr th:only-of-type {\n",
       "        vertical-align: middle;\n",
       "    }\n",
       "\n",
       "    .dataframe tbody tr th {\n",
       "        vertical-align: top;\n",
       "    }\n",
       "\n",
       "    .dataframe thead th {\n",
       "        text-align: right;\n",
       "    }\n",
       "</style>\n",
       "<table border=\"1\" class=\"dataframe\">\n",
       "  <thead>\n",
       "    <tr style=\"text-align: right;\">\n",
       "      <th></th>\n",
       "      <th>Author</th>\n",
       "      <th>Year</th>\n",
       "      <th>Organ</th>\n",
       "      <th>Test protocol</th>\n",
       "      <th>Modeled entity</th>\n",
       "      <th>Hyperelastic model type</th>\n",
       "    </tr>\n",
       "  </thead>\n",
       "  <tbody>\n",
       "    <tr>\n",
       "      <th>16</th>\n",
       "      <td>Gao &amp; al.</td>\n",
       "      <td>2008</td>\n",
       "      <td>Stomach</td>\n",
       "      <td>Planar uniaxial</td>\n",
       "      <td>Intact tissue</td>\n",
       "      <td>Ogden</td>\n",
       "    </tr>\n",
       "    <tr>\n",
       "      <th>47</th>\n",
       "      <td>Boubaker &amp; al.</td>\n",
       "      <td>2009</td>\n",
       "      <td>Rectum</td>\n",
       "      <td>Planar uniaxial</td>\n",
       "      <td>Intact tissue</td>\n",
       "      <td>Ogden</td>\n",
       "    </tr>\n",
       "    <tr>\n",
       "      <th>36</th>\n",
       "      <td>Tran &amp; al.</td>\n",
       "      <td>2011</td>\n",
       "      <td>Large intestine</td>\n",
       "      <td>Compression - Planar uniaxial</td>\n",
       "      <td>Intact tissue</td>\n",
       "      <td>Ogden</td>\n",
       "    </tr>\n",
       "    <tr>\n",
       "      <th>49</th>\n",
       "      <td>Rubod &amp; al.</td>\n",
       "      <td>2012</td>\n",
       "      <td>Rectum</td>\n",
       "      <td>Planar uniaxial</td>\n",
       "      <td>Intact tissue</td>\n",
       "      <td>Mooney-Rivlin</td>\n",
       "    </tr>\n",
       "    <tr>\n",
       "      <th>39</th>\n",
       "      <td>Puértolas &amp; al.</td>\n",
       "      <td>2013</td>\n",
       "      <td>Large intestine</td>\n",
       "      <td>Planar uniaxial</td>\n",
       "      <td>Intact tissue</td>\n",
       "      <td>Mooney-Rivlin</td>\n",
       "    </tr>\n",
       "    <tr>\n",
       "      <th>51</th>\n",
       "      <td>Boubaker &amp; al.</td>\n",
       "      <td>2015</td>\n",
       "      <td>Rectum</td>\n",
       "      <td>Planar uniaxial</td>\n",
       "      <td>Intact tissue</td>\n",
       "      <td>Ogden</td>\n",
       "    </tr>\n",
       "    <tr>\n",
       "      <th>17</th>\n",
       "      <td>Dargar &amp; al.</td>\n",
       "      <td>2016</td>\n",
       "      <td>Stomach</td>\n",
       "      <td>Compression</td>\n",
       "      <td>Individual layer</td>\n",
       "      <td>2nd order reduced polynomial</td>\n",
       "    </tr>\n",
       "    <tr>\n",
       "      <th>43</th>\n",
       "      <td>Zhou &amp; al.</td>\n",
       "      <td>2018</td>\n",
       "      <td>Large intestine</td>\n",
       "      <td>Planar uniaxial</td>\n",
       "      <td>Intact tissue</td>\n",
       "      <td>Mooney-Rivlin extended</td>\n",
       "    </tr>\n",
       "  </tbody>\n",
       "</table>\n",
       "</div>"
      ],
      "text/plain": [
       "             Author  Year            Organ                  Test protocol  \\\n",
       "16        Gao & al.  2008          Stomach                Planar uniaxial   \n",
       "47   Boubaker & al.  2009           Rectum                Planar uniaxial   \n",
       "36       Tran & al.  2011  Large intestine  Compression - Planar uniaxial   \n",
       "49      Rubod & al.  2012           Rectum                Planar uniaxial   \n",
       "39  Puértolas & al.  2013  Large intestine                Planar uniaxial   \n",
       "51   Boubaker & al.  2015           Rectum                Planar uniaxial   \n",
       "17     Dargar & al.  2016          Stomach                    Compression   \n",
       "43       Zhou & al.  2018  Large intestine                Planar uniaxial   \n",
       "\n",
       "      Modeled entity       Hyperelastic model type  \n",
       "16     Intact tissue                         Ogden  \n",
       "47     Intact tissue                         Ogden  \n",
       "36     Intact tissue                         Ogden  \n",
       "49     Intact tissue                 Mooney-Rivlin  \n",
       "39     Intact tissue                 Mooney-Rivlin  \n",
       "51     Intact tissue                         Ogden  \n",
       "17  Individual layer  2nd order reduced polynomial  \n",
       "43     Intact tissue        Mooney-Rivlin extended  "
      ]
     },
     "execution_count": 41,
     "metadata": {},
     "output_type": "execute_result"
    }
   ],
   "source": [
    "df_sub = df_hyperelastic[df_hyperelastic[\"Hyperelastic model category\"].str.contains(\"Phenomenological\", na = False)]\n",
    "df_sub = df_sub[~df_sub[\"Hyperelastic model type\"].str.contains(\"Fung\", na = False)]\n",
    "df_isotropic = df_sub[[\"Author\", \"Year\", \"Organ\", \"Test protocol\", \"Modeled entity\", \"Hyperelastic model type\"]].sort_values([\"Year\", \"Author\"])\n",
    "#df_isotropic.to_excel(\"isotropic-phenomenological.xlsx\")\n",
    "df_isotropic"
   ]
  },
  {
   "cell_type": "markdown",
   "metadata": {},
   "source": [
    "### 4.3. Holzapfel type"
   ]
  },
  {
   "cell_type": "code",
   "execution_count": 42,
   "metadata": {},
   "outputs": [
    {
     "data": {
      "text/html": [
       "<div>\n",
       "<style scoped>\n",
       "    .dataframe tbody tr th:only-of-type {\n",
       "        vertical-align: middle;\n",
       "    }\n",
       "\n",
       "    .dataframe tbody tr th {\n",
       "        vertical-align: top;\n",
       "    }\n",
       "\n",
       "    .dataframe thead th {\n",
       "        text-align: right;\n",
       "    }\n",
       "</style>\n",
       "<table border=\"1\" class=\"dataframe\">\n",
       "  <thead>\n",
       "    <tr style=\"text-align: right;\">\n",
       "      <th></th>\n",
       "      <th>Author</th>\n",
       "      <th>Year</th>\n",
       "      <th>Organ</th>\n",
       "      <th>Test protocol</th>\n",
       "      <th>Modeled entity</th>\n",
       "      <th>Hyperelastic model type</th>\n",
       "    </tr>\n",
       "  </thead>\n",
       "  <tbody>\n",
       "    <tr>\n",
       "      <th>3</th>\n",
       "      <td>Yang &amp; al.</td>\n",
       "      <td>2006</td>\n",
       "      <td>Esophagus</td>\n",
       "      <td>Planar uniaxial</td>\n",
       "      <td>Individual layer</td>\n",
       "      <td>Holzapfel - Modified exponential - Bilinear</td>\n",
       "    </tr>\n",
       "    <tr>\n",
       "      <th>4</th>\n",
       "      <td>Yang &amp; al.</td>\n",
       "      <td>2006</td>\n",
       "      <td>Esophagus</td>\n",
       "      <td>Planar uniaxial - Tubular extension - Tubular ...</td>\n",
       "      <td>Individual layer</td>\n",
       "      <td>Holzapfel - Modified exponential - Bilinear</td>\n",
       "    </tr>\n",
       "    <tr>\n",
       "      <th>34</th>\n",
       "      <td>Ciarletta &amp; al.</td>\n",
       "      <td>2009</td>\n",
       "      <td>Large intestine</td>\n",
       "      <td>Planar uniaxial - Planar shear</td>\n",
       "      <td>Intact tissue</td>\n",
       "      <td>Holzapfel</td>\n",
       "    </tr>\n",
       "    <tr>\n",
       "      <th>11</th>\n",
       "      <td>Sokolis &amp; al.</td>\n",
       "      <td>2013</td>\n",
       "      <td>Esophagus</td>\n",
       "      <td>Tubular extension - Tubular inflation</td>\n",
       "      <td>Intact tissue - Individual layer</td>\n",
       "      <td>Holzapfel</td>\n",
       "    </tr>\n",
       "    <tr>\n",
       "      <th>37</th>\n",
       "      <td>Sokolis &amp; al.</td>\n",
       "      <td>2013</td>\n",
       "      <td>Large intestine</td>\n",
       "      <td>Tubular extension - Tubular inflation</td>\n",
       "      <td>Intact tissue</td>\n",
       "      <td>Holzapfel</td>\n",
       "    </tr>\n",
       "    <tr>\n",
       "      <th>50</th>\n",
       "      <td>Sokolis &amp; al.</td>\n",
       "      <td>2013</td>\n",
       "      <td>Rectum</td>\n",
       "      <td>Tubular extension - Tubular inflation</td>\n",
       "      <td>Intact tissue</td>\n",
       "      <td>Holzapfel</td>\n",
       "    </tr>\n",
       "    <tr>\n",
       "      <th>12</th>\n",
       "      <td>Sommer &amp; al.</td>\n",
       "      <td>2013</td>\n",
       "      <td>Esophagus</td>\n",
       "      <td>Planar uniaxial - Planar biaxial - Tubular ext...</td>\n",
       "      <td>Individual layer</td>\n",
       "      <td>Holzapfel</td>\n",
       "    </tr>\n",
       "    <tr>\n",
       "      <th>42</th>\n",
       "      <td>Patel &amp; al.</td>\n",
       "      <td>2018</td>\n",
       "      <td>Large intestine</td>\n",
       "      <td>Tubular extension - Tubular inflation</td>\n",
       "      <td>Intact tissue</td>\n",
       "      <td>Holzapfel</td>\n",
       "    </tr>\n",
       "    <tr>\n",
       "      <th>44</th>\n",
       "      <td>Puertolas &amp; al.</td>\n",
       "      <td>2019</td>\n",
       "      <td>Large intestine</td>\n",
       "      <td>Planar biaxial</td>\n",
       "      <td>Intact tissue</td>\n",
       "      <td>Holzapfel - Microfiber Von Mises - Microfiber ...</td>\n",
       "    </tr>\n",
       "    <tr>\n",
       "      <th>46</th>\n",
       "      <td>Zhao &amp; al.</td>\n",
       "      <td>2020</td>\n",
       "      <td>Large intestine</td>\n",
       "      <td>Planar biaxial - Tubular inflation</td>\n",
       "      <td>Individual layer</td>\n",
       "      <td>Holzapfel</td>\n",
       "    </tr>\n",
       "    <tr>\n",
       "      <th>53</th>\n",
       "      <td>Zhao &amp; al.</td>\n",
       "      <td>2020</td>\n",
       "      <td>Rectum</td>\n",
       "      <td>Planar biaxial - Tubular inflation</td>\n",
       "      <td>Individual layer</td>\n",
       "      <td>Holzapfel</td>\n",
       "    </tr>\n",
       "    <tr>\n",
       "      <th>32</th>\n",
       "      <td>Sokolis</td>\n",
       "      <td>2021</td>\n",
       "      <td>Small intestine</td>\n",
       "      <td>Tubular extension - Tubular inflation</td>\n",
       "      <td>Intact tissue</td>\n",
       "      <td>Holzapfel</td>\n",
       "    </tr>\n",
       "  </tbody>\n",
       "</table>\n",
       "</div>"
      ],
      "text/plain": [
       "             Author  Year            Organ  \\\n",
       "3        Yang & al.  2006        Esophagus   \n",
       "4        Yang & al.  2006        Esophagus   \n",
       "34  Ciarletta & al.  2009  Large intestine   \n",
       "11    Sokolis & al.  2013        Esophagus   \n",
       "37    Sokolis & al.  2013  Large intestine   \n",
       "50    Sokolis & al.  2013           Rectum   \n",
       "12     Sommer & al.  2013        Esophagus   \n",
       "42      Patel & al.  2018  Large intestine   \n",
       "44  Puertolas & al.  2019  Large intestine   \n",
       "46       Zhao & al.  2020  Large intestine   \n",
       "53       Zhao & al.  2020           Rectum   \n",
       "32          Sokolis  2021  Small intestine   \n",
       "\n",
       "                                        Test protocol  \\\n",
       "3                                     Planar uniaxial   \n",
       "4   Planar uniaxial - Tubular extension - Tubular ...   \n",
       "34                     Planar uniaxial - Planar shear   \n",
       "11              Tubular extension - Tubular inflation   \n",
       "37              Tubular extension - Tubular inflation   \n",
       "50              Tubular extension - Tubular inflation   \n",
       "12  Planar uniaxial - Planar biaxial - Tubular ext...   \n",
       "42              Tubular extension - Tubular inflation   \n",
       "44                                     Planar biaxial   \n",
       "46                 Planar biaxial - Tubular inflation   \n",
       "53                 Planar biaxial - Tubular inflation   \n",
       "32              Tubular extension - Tubular inflation   \n",
       "\n",
       "                      Modeled entity  \\\n",
       "3                   Individual layer   \n",
       "4                   Individual layer   \n",
       "34                     Intact tissue   \n",
       "11  Intact tissue - Individual layer   \n",
       "37                     Intact tissue   \n",
       "50                     Intact tissue   \n",
       "12                  Individual layer   \n",
       "42                     Intact tissue   \n",
       "44                     Intact tissue   \n",
       "46                  Individual layer   \n",
       "53                  Individual layer   \n",
       "32                     Intact tissue   \n",
       "\n",
       "                              Hyperelastic model type  \n",
       "3         Holzapfel - Modified exponential - Bilinear  \n",
       "4         Holzapfel - Modified exponential - Bilinear  \n",
       "34                                          Holzapfel  \n",
       "11                                          Holzapfel  \n",
       "37                                          Holzapfel  \n",
       "50                                          Holzapfel  \n",
       "12                                          Holzapfel  \n",
       "42                                          Holzapfel  \n",
       "44  Holzapfel - Microfiber Von Mises - Microfiber ...  \n",
       "46                                          Holzapfel  \n",
       "53                                          Holzapfel  \n",
       "32                                          Holzapfel  "
      ]
     },
     "execution_count": 42,
     "metadata": {},
     "output_type": "execute_result"
    }
   ],
   "source": [
    "df_sub = df_hyperelastic[df_hyperelastic[\"Hyperelastic model type\"].str.contains(\"Holzapfel\", na = False)]\n",
    "df_holzapfel = df_sub[[\"Author\", \"Year\", \"Organ\", \"Test protocol\", \"Modeled entity\", \"Hyperelastic model type\"]].sort_values([\"Year\", \"Author\"])\n",
    "#df_holzapfel.to_excel(\"holzapfel.xlsx\")\n",
    "df_holzapfel"
   ]
  },
  {
   "cell_type": "markdown",
   "metadata": {},
   "source": [
    "### 4.4. Natali type"
   ]
  },
  {
   "cell_type": "code",
   "execution_count": 43,
   "metadata": {},
   "outputs": [
    {
     "name": "stderr",
     "output_type": "stream",
     "text": [
      "C:\\Users\\Bhavesh\\Anaconda3\\envs\\env-GI-review\\lib\\site-packages\\ipykernel_launcher.py:1: UserWarning:\n",
      "\n",
      "Boolean Series key will be reindexed to match DataFrame index.\n",
      "\n"
     ]
    },
    {
     "data": {
      "text/html": [
       "<div>\n",
       "<style scoped>\n",
       "    .dataframe tbody tr th:only-of-type {\n",
       "        vertical-align: middle;\n",
       "    }\n",
       "\n",
       "    .dataframe tbody tr th {\n",
       "        vertical-align: top;\n",
       "    }\n",
       "\n",
       "    .dataframe thead th {\n",
       "        text-align: right;\n",
       "    }\n",
       "</style>\n",
       "<table border=\"1\" class=\"dataframe\">\n",
       "  <thead>\n",
       "    <tr style=\"text-align: right;\">\n",
       "      <th></th>\n",
       "      <th>Author</th>\n",
       "      <th>Year</th>\n",
       "      <th>Organ</th>\n",
       "      <th>Test protocol</th>\n",
       "      <th>Modeled entity</th>\n",
       "      <th>Hyperelastic model type</th>\n",
       "    </tr>\n",
       "  </thead>\n",
       "  <tbody>\n",
       "    <tr>\n",
       "      <th>6</th>\n",
       "      <td>Natali &amp; al.</td>\n",
       "      <td>2009</td>\n",
       "      <td>Esophagus</td>\n",
       "      <td>Planar uniaxial</td>\n",
       "      <td>Individual layer</td>\n",
       "      <td>Natali</td>\n",
       "    </tr>\n",
       "    <tr>\n",
       "      <th>38</th>\n",
       "      <td>Carniel &amp; al.</td>\n",
       "      <td>2013</td>\n",
       "      <td>Large intestine</td>\n",
       "      <td>Planar uniaxial</td>\n",
       "      <td>Intact tissue</td>\n",
       "      <td>Natali</td>\n",
       "    </tr>\n",
       "    <tr>\n",
       "      <th>41</th>\n",
       "      <td>Carniel &amp; al.</td>\n",
       "      <td>2014</td>\n",
       "      <td>Large intestine</td>\n",
       "      <td>Planar uniaxial</td>\n",
       "      <td>Intact tissue</td>\n",
       "      <td>Natali</td>\n",
       "    </tr>\n",
       "    <tr>\n",
       "      <th>13</th>\n",
       "      <td>Sanchez-Molina &amp; al.</td>\n",
       "      <td>2014</td>\n",
       "      <td>Esophagus</td>\n",
       "      <td>Planar uniaxial</td>\n",
       "      <td>Intact tissue - Individual layer</td>\n",
       "      <td>Microcontinuum Mechanics</td>\n",
       "    </tr>\n",
       "  </tbody>\n",
       "</table>\n",
       "</div>"
      ],
      "text/plain": [
       "                  Author  Year            Organ    Test protocol  \\\n",
       "6           Natali & al.  2009        Esophagus  Planar uniaxial   \n",
       "38         Carniel & al.  2013  Large intestine  Planar uniaxial   \n",
       "41         Carniel & al.  2014  Large intestine  Planar uniaxial   \n",
       "13  Sanchez-Molina & al.  2014        Esophagus  Planar uniaxial   \n",
       "\n",
       "                      Modeled entity   Hyperelastic model type  \n",
       "6                   Individual layer                    Natali  \n",
       "38                     Intact tissue                    Natali  \n",
       "41                     Intact tissue                    Natali  \n",
       "13  Intact tissue - Individual layer  Microcontinuum Mechanics  "
      ]
     },
     "execution_count": 43,
     "metadata": {},
     "output_type": "execute_result"
    }
   ],
   "source": [
    "df_sub = df_hyperelastic[df_all_data[\"Hyperelastic model category\"].str.contains(\"Structure-based\", na = False)]\n",
    "df_sub = df_sub[~df_sub[\"Hyperelastic model type\"].str.contains(\"Holzapfel\", na = False)]\n",
    "df_natali = df_sub[[\"Author\", \"Year\", \"Organ\", \"Test protocol\", \"Modeled entity\", \"Hyperelastic model type\"]].sort_values([\"Year\", \"Author\"])\n",
    "#df_natali.to_excel(\"natali.xlsx\")\n",
    "df_natali"
   ]
  },
  {
   "cell_type": "markdown",
   "metadata": {},
   "source": [
    "### 4.5. Microstructure-based"
   ]
  },
  {
   "cell_type": "code",
   "execution_count": 44,
   "metadata": {},
   "outputs": [
    {
     "data": {
      "text/html": [
       "<div>\n",
       "<style scoped>\n",
       "    .dataframe tbody tr th:only-of-type {\n",
       "        vertical-align: middle;\n",
       "    }\n",
       "\n",
       "    .dataframe tbody tr th {\n",
       "        vertical-align: top;\n",
       "    }\n",
       "\n",
       "    .dataframe thead th {\n",
       "        text-align: right;\n",
       "    }\n",
       "</style>\n",
       "<table border=\"1\" class=\"dataframe\">\n",
       "  <thead>\n",
       "    <tr style=\"text-align: right;\">\n",
       "      <th></th>\n",
       "      <th>Author</th>\n",
       "      <th>Year</th>\n",
       "      <th>Organ</th>\n",
       "      <th>Test protocol</th>\n",
       "      <th>Modeled entity</th>\n",
       "      <th>Hyperelastic model type</th>\n",
       "    </tr>\n",
       "  </thead>\n",
       "  <tbody>\n",
       "    <tr>\n",
       "      <th>44</th>\n",
       "      <td>Puertolas &amp; al.</td>\n",
       "      <td>2019</td>\n",
       "      <td>Large intestine</td>\n",
       "      <td>Planar biaxial</td>\n",
       "      <td>Intact tissue</td>\n",
       "      <td>Holzapfel - Microfiber Von Mises - Microfiber ...</td>\n",
       "    </tr>\n",
       "  </tbody>\n",
       "</table>\n",
       "</div>"
      ],
      "text/plain": [
       "             Author  Year            Organ   Test protocol Modeled entity  \\\n",
       "44  Puertolas & al.  2019  Large intestine  Planar biaxial  Intact tissue   \n",
       "\n",
       "                              Hyperelastic model type  \n",
       "44  Holzapfel - Microfiber Von Mises - Microfiber ...  "
      ]
     },
     "execution_count": 44,
     "metadata": {},
     "output_type": "execute_result"
    }
   ],
   "source": [
    "df_sub = df_hyperelastic[df_hyperelastic[\"Hyperelastic model category\"].str.contains(\"Microstructure-based\", na = False)]\n",
    "df_micro_structure_based = df_sub[[\"Author\", \"Year\", \"Organ\", \"Test protocol\", \"Modeled entity\", \"Hyperelastic model type\"]]\n",
    "#df_micro_structure_based.to_excel(\"micro-structure-based.xlsx\")\n",
    "df_micro_structure_based.sort_values([\"Year\", \"Author\"])"
   ]
  },
  {
   "cell_type": "markdown",
   "metadata": {},
   "source": [
    "# 5. Viscous models"
   ]
  },
  {
   "cell_type": "code",
   "execution_count": 45,
   "metadata": {},
   "outputs": [
    {
     "data": {
      "text/html": [
       "<div>\n",
       "<style scoped>\n",
       "    .dataframe tbody tr th:only-of-type {\n",
       "        vertical-align: middle;\n",
       "    }\n",
       "\n",
       "    .dataframe tbody tr th {\n",
       "        vertical-align: top;\n",
       "    }\n",
       "\n",
       "    .dataframe thead th {\n",
       "        text-align: right;\n",
       "    }\n",
       "</style>\n",
       "<table border=\"1\" class=\"dataframe\">\n",
       "  <thead>\n",
       "    <tr style=\"text-align: right;\">\n",
       "      <th></th>\n",
       "      <th>Author</th>\n",
       "      <th>Year</th>\n",
       "      <th>Organ</th>\n",
       "      <th>Test protocol</th>\n",
       "      <th>Modeled entity</th>\n",
       "      <th>Hyperelastic model type</th>\n",
       "      <th>Viscous model type</th>\n",
       "      <th>Active model category</th>\n",
       "    </tr>\n",
       "  </thead>\n",
       "  <tbody>\n",
       "    <tr>\n",
       "      <th>33</th>\n",
       "      <td>Higa &amp; al.</td>\n",
       "      <td>2007</td>\n",
       "      <td>Large intestine</td>\n",
       "      <td>Compression</td>\n",
       "      <td>Intact tissue</td>\n",
       "      <td>Mooney-Rivlin</td>\n",
       "      <td>Convolution integral</td>\n",
       "      <td>NaN</td>\n",
       "    </tr>\n",
       "    <tr>\n",
       "      <th>20</th>\n",
       "      <td>Fontanella &amp; al.</td>\n",
       "      <td>2019</td>\n",
       "      <td>Stomach</td>\n",
       "      <td>Tubular inflation</td>\n",
       "      <td>Intact tissue</td>\n",
       "      <td>Natali</td>\n",
       "      <td>Viscous variables</td>\n",
       "      <td>NaN</td>\n",
       "    </tr>\n",
       "    <tr>\n",
       "      <th>31</th>\n",
       "      <td>Panda &amp; al.</td>\n",
       "      <td>2019</td>\n",
       "      <td>Small intestine</td>\n",
       "      <td>Tubular inflation</td>\n",
       "      <td>Intact tissue</td>\n",
       "      <td>Neo-Hookean</td>\n",
       "      <td>Panda-type linear and nonlinear</td>\n",
       "      <td>NaN</td>\n",
       "    </tr>\n",
       "    <tr>\n",
       "      <th>45</th>\n",
       "      <td>Panda &amp; al.</td>\n",
       "      <td>2019</td>\n",
       "      <td>Large intestine</td>\n",
       "      <td>Tubular inflation</td>\n",
       "      <td>Intact tissue</td>\n",
       "      <td>Fung</td>\n",
       "      <td>Panda-type linear</td>\n",
       "      <td>NaN</td>\n",
       "    </tr>\n",
       "    <tr>\n",
       "      <th>52</th>\n",
       "      <td>Panda &amp; al.</td>\n",
       "      <td>2019</td>\n",
       "      <td>Rectum</td>\n",
       "      <td>Tubular inflation</td>\n",
       "      <td>Intact tissue</td>\n",
       "      <td>Neo-Hookean</td>\n",
       "      <td>Panda type linear</td>\n",
       "      <td>NaN</td>\n",
       "    </tr>\n",
       "  </tbody>\n",
       "</table>\n",
       "</div>"
      ],
      "text/plain": [
       "              Author  Year            Organ      Test protocol Modeled entity  \\\n",
       "33        Higa & al.  2007  Large intestine        Compression  Intact tissue   \n",
       "20  Fontanella & al.  2019          Stomach  Tubular inflation  Intact tissue   \n",
       "31       Panda & al.  2019  Small intestine  Tubular inflation  Intact tissue   \n",
       "45       Panda & al.  2019  Large intestine  Tubular inflation  Intact tissue   \n",
       "52       Panda & al.  2019           Rectum  Tubular inflation  Intact tissue   \n",
       "\n",
       "   Hyperelastic model type               Viscous model type  \\\n",
       "33           Mooney-Rivlin             Convolution integral   \n",
       "20                  Natali                Viscous variables   \n",
       "31             Neo-Hookean  Panda-type linear and nonlinear   \n",
       "45                    Fung                Panda-type linear   \n",
       "52             Neo-Hookean                Panda type linear   \n",
       "\n",
       "   Active model category  \n",
       "33                   NaN  \n",
       "20                   NaN  \n",
       "31                   NaN  \n",
       "45                   NaN  \n",
       "52                   NaN  "
      ]
     },
     "metadata": {},
     "output_type": "display_data"
    }
   ],
   "source": [
    "# All hyperelastic only studies (exlude viscousand active part)\n",
    "df_viscous = df_all_data[df_all_data[\"Viscous model type\"].notna() & df_all_data[\"Active model category\"].isnull()]\n",
    "#df_viscous.to_excel(\"viscous.xlsx\")\n",
    "display(df_viscous[[\"Author\", \"Year\", \"Organ\", \"Test protocol\", \"Modeled entity\", \"Hyperelastic model type\", \"Viscous model type\", \"Active model category\"]].sort_values([\"Year\", \"Author\"]))"
   ]
  },
  {
   "cell_type": "markdown",
   "metadata": {},
   "source": [
    "# 6. Active models"
   ]
  },
  {
   "cell_type": "code",
   "execution_count": 46,
   "metadata": {},
   "outputs": [
    {
     "data": {
      "text/html": [
       "<div>\n",
       "<style scoped>\n",
       "    .dataframe tbody tr th:only-of-type {\n",
       "        vertical-align: middle;\n",
       "    }\n",
       "\n",
       "    .dataframe tbody tr th {\n",
       "        vertical-align: top;\n",
       "    }\n",
       "\n",
       "    .dataframe thead th {\n",
       "        text-align: right;\n",
       "    }\n",
       "</style>\n",
       "<table border=\"1\" class=\"dataframe\">\n",
       "  <thead>\n",
       "    <tr style=\"text-align: right;\">\n",
       "      <th></th>\n",
       "      <th>Author</th>\n",
       "      <th>Year</th>\n",
       "      <th>Organ</th>\n",
       "      <th>Test protocol</th>\n",
       "      <th>Modeled entity</th>\n",
       "      <th>Hyperelastic model category</th>\n",
       "      <th>Viscous model type</th>\n",
       "      <th>Active model category</th>\n",
       "    </tr>\n",
       "  </thead>\n",
       "  <tbody>\n",
       "    <tr>\n",
       "      <th>5</th>\n",
       "      <td>Yang &amp; al.</td>\n",
       "      <td>2007</td>\n",
       "      <td>Esophagus</td>\n",
       "      <td>Planar uniaxial - Tubular inflation - Other</td>\n",
       "      <td>Intact tissue - Individual layer</td>\n",
       "      <td>Structure-based</td>\n",
       "      <td>NaN</td>\n",
       "      <td>Active stress</td>\n",
       "    </tr>\n",
       "    <tr>\n",
       "      <th>8</th>\n",
       "      <td>Yassi &amp; al.</td>\n",
       "      <td>2009</td>\n",
       "      <td>Esophagus</td>\n",
       "      <td>NP</td>\n",
       "      <td>Individual layer</td>\n",
       "      <td>Phenomenological</td>\n",
       "      <td>NaN</td>\n",
       "      <td>Active stress</td>\n",
       "    </tr>\n",
       "    <tr>\n",
       "      <th>25</th>\n",
       "      <td>Gao &amp; al.</td>\n",
       "      <td>2009</td>\n",
       "      <td>Small intestine</td>\n",
       "      <td>Impedance planimetry</td>\n",
       "      <td>Intact tissue</td>\n",
       "      <td>NaN</td>\n",
       "      <td>NaN</td>\n",
       "      <td>Active stress</td>\n",
       "    </tr>\n",
       "    <tr>\n",
       "      <th>40</th>\n",
       "      <td>Altomare &amp; al.</td>\n",
       "      <td>2014</td>\n",
       "      <td>Large intestine</td>\n",
       "      <td>Planar uniaxial - Other</td>\n",
       "      <td>Individual layer</td>\n",
       "      <td>Structure-based</td>\n",
       "      <td>NaN</td>\n",
       "      <td>Active strain</td>\n",
       "    </tr>\n",
       "    <tr>\n",
       "      <th>14</th>\n",
       "      <td>Kou &amp; al.</td>\n",
       "      <td>2015</td>\n",
       "      <td>Esophagus</td>\n",
       "      <td>NaN</td>\n",
       "      <td>Intact tissue - Individual layer</td>\n",
       "      <td>NaN</td>\n",
       "      <td>NaN</td>\n",
       "      <td>Active stress</td>\n",
       "    </tr>\n",
       "    <tr>\n",
       "      <th>28</th>\n",
       "      <td>Gizzi &amp; al.</td>\n",
       "      <td>2016</td>\n",
       "      <td>Small intestine</td>\n",
       "      <td>Planar biaxial</td>\n",
       "      <td>Intact tissue</td>\n",
       "      <td>Structure-based</td>\n",
       "      <td>Neo-Hookean</td>\n",
       "      <td>Active electromechanics</td>\n",
       "    </tr>\n",
       "    <tr>\n",
       "      <th>15</th>\n",
       "      <td>Peirlinck &amp; al.</td>\n",
       "      <td>2018</td>\n",
       "      <td>Esophagus</td>\n",
       "      <td>Planar uniaxial - Planar biaxial - Tubular ext...</td>\n",
       "      <td>Intact tissue - Individual layer</td>\n",
       "      <td>Structure-based</td>\n",
       "      <td>NaN</td>\n",
       "      <td>Active strain</td>\n",
       "    </tr>\n",
       "    <tr>\n",
       "      <th>19</th>\n",
       "      <td>Brandstaeter &amp; al.</td>\n",
       "      <td>2018</td>\n",
       "      <td>Stomach</td>\n",
       "      <td>NaN</td>\n",
       "      <td>Intact tissue</td>\n",
       "      <td>Phenomenological</td>\n",
       "      <td>NaN</td>\n",
       "      <td>Active strain</td>\n",
       "    </tr>\n",
       "    <tr>\n",
       "      <th>21</th>\n",
       "      <td>Klemm &amp; al.</td>\n",
       "      <td>2020</td>\n",
       "      <td>Stomach</td>\n",
       "      <td>Planar uniaxial</td>\n",
       "      <td>Individual layer</td>\n",
       "      <td>Structure-based</td>\n",
       "      <td>NaN</td>\n",
       "      <td>Active stress</td>\n",
       "    </tr>\n",
       "  </tbody>\n",
       "</table>\n",
       "</div>"
      ],
      "text/plain": [
       "                Author  Year            Organ  \\\n",
       "5           Yang & al.  2007        Esophagus   \n",
       "8          Yassi & al.  2009        Esophagus   \n",
       "25           Gao & al.  2009  Small intestine   \n",
       "40      Altomare & al.  2014  Large intestine   \n",
       "14           Kou & al.  2015        Esophagus   \n",
       "28         Gizzi & al.  2016  Small intestine   \n",
       "15     Peirlinck & al.  2018        Esophagus   \n",
       "19  Brandstaeter & al.  2018          Stomach   \n",
       "21         Klemm & al.  2020          Stomach   \n",
       "\n",
       "                                        Test protocol  \\\n",
       "5         Planar uniaxial - Tubular inflation - Other   \n",
       "8                                                  NP   \n",
       "25                               Impedance planimetry   \n",
       "40                            Planar uniaxial - Other   \n",
       "14                                                NaN   \n",
       "28                                     Planar biaxial   \n",
       "15  Planar uniaxial - Planar biaxial - Tubular ext...   \n",
       "19                                                NaN   \n",
       "21                                    Planar uniaxial   \n",
       "\n",
       "                      Modeled entity Hyperelastic model category  \\\n",
       "5   Intact tissue - Individual layer             Structure-based   \n",
       "8                   Individual layer            Phenomenological   \n",
       "25                     Intact tissue                         NaN   \n",
       "40                  Individual layer             Structure-based   \n",
       "14  Intact tissue - Individual layer                         NaN   \n",
       "28                     Intact tissue             Structure-based   \n",
       "15  Intact tissue - Individual layer             Structure-based   \n",
       "19                     Intact tissue            Phenomenological   \n",
       "21                  Individual layer             Structure-based   \n",
       "\n",
       "   Viscous model type    Active model category  \n",
       "5                 NaN            Active stress  \n",
       "8                 NaN            Active stress  \n",
       "25                NaN            Active stress  \n",
       "40                NaN            Active strain  \n",
       "14                NaN            Active stress  \n",
       "28        Neo-Hookean  Active electromechanics  \n",
       "15                NaN            Active strain  \n",
       "19                NaN            Active strain  \n",
       "21                NaN            Active stress  "
      ]
     },
     "metadata": {},
     "output_type": "display_data"
    }
   ],
   "source": [
    "df_active = df_all_data[df_all_data[\"Active model category\"].notna()]\n",
    "df_sub = df_active[[\"Author\", \"Year\", \"Organ\", \"Test protocol\", \"Modeled entity\", \"Hyperelastic model category\", \"Viscous model type\", \"Active model category\"]].sort_values(\"Year\")\n",
    "#df_sub.to_excel(\"active.xlsx\")\n",
    "display(df_sub)"
   ]
  },
  {
   "cell_type": "markdown",
   "metadata": {},
   "source": [
    "# 7. Overall analysis"
   ]
  },
  {
   "cell_type": "code",
   "execution_count": 47,
   "metadata": {},
   "outputs": [],
   "source": [
    "#Sort data by increasing year and reinitialize the index for convenience\n",
    "df_all_data_year = df_all_data.sort_values(\"Year\")\n",
    "df_all_data_year = df_all_data_year.reset_index(drop=True)\n",
    "\n",
    "organ_list = [\"Esophagus\", \"Stomach\", \"Small intestine\", \"Large intestine\", \"Rectum\"]"
   ]
  },
  {
   "cell_type": "markdown",
   "metadata": {},
   "source": [
    "## 7.1. Overview of the study distribution by organ and passive/active studies"
   ]
  },
  {
   "cell_type": "markdown",
   "metadata": {},
   "source": [
    "### 7.1.1. Total number of studies per organ and passive/active behavior"
   ]
  },
  {
   "cell_type": "code",
   "execution_count": 48,
   "metadata": {},
   "outputs": [
    {
     "name": "stdout",
     "output_type": "stream",
     "text": [
      "Total studies:  54\n",
      "Passive proportion:  40  i.e.  74 %\n",
      "Viscohyperelastic proportion:  5  i.e.  9 %\n",
      "Active proportion:  9  i.e.  17 %\n"
     ]
    }
   ],
   "source": [
    "total_all = len(df_all_data)\n",
    "total_hyperelastic = len(df_hyperelastic)\n",
    "total_viscohyper = len(df_viscous)\n",
    "total_active = len(df_active)\n",
    "\n",
    "ratio_hyperelastic = total_hyperelastic/total_all*100\n",
    "ratio_viscohyper = total_viscohyper/total_all*100\n",
    "ratio_active = total_active/total_all*100\n",
    "\n",
    "print(\"Total studies: \", str(total_all))\n",
    "print(\"Passive proportion: \", str(total_hyperelastic), \" i.e. \",  str(round(ratio_hyperelastic)), \"%\")\n",
    "print(\"Viscohyperelastic proportion: \", str(total_viscohyper), \" i.e. \", str(round(ratio_viscohyper)), \"%\")\n",
    "print(\"Active proportion: \", str(total_active), \" i.e. \", str(round(ratio_active)), \"%\")"
   ]
  },
  {
   "cell_type": "code",
   "execution_count": 49,
   "metadata": {},
   "outputs": [
    {
     "data": {
      "application/vnd.plotly.v1+json": {
       "config": {
        "plotlyServerURL": "https://plot.ly"
       },
       "data": [
        {
         "marker": {
          "color": "#073b4c"
         },
         "name": "Hyperelastic model studies",
         "text": [
          "40",
          "12",
          "3",
          "8",
          "11",
          "6"
         ],
         "textposition": "auto",
         "type": "bar",
         "x": [
          "All studies",
          "Esophagus",
          "Stomach",
          "Small <br> intestine",
          "Large <br>intestine",
          "Rectum"
         ],
         "y": [
          40,
          12,
          3,
          8,
          11,
          6
         ]
        },
        {
         "marker": {
          "color": "#ffd166"
         },
         "name": "Viscohyperelastic model studies",
         "text": [
          "5",
          "0",
          "1",
          "1",
          "2",
          "1"
         ],
         "textposition": "auto",
         "type": "bar",
         "x": [
          "All studies",
          "Esophagus",
          "Stomach",
          "Small <br> intestine",
          "Large <br>intestine",
          "Rectum"
         ],
         "y": [
          5,
          0,
          1,
          1,
          2,
          1
         ]
        },
        {
         "marker": {
          "color": "#06d6a0"
         },
         "name": "Active model studies",
         "text": [
          "9",
          "4",
          "2",
          "2",
          "1",
          "0"
         ],
         "textangle": 0,
         "textposition": "auto",
         "type": "bar",
         "x": [
          "All studies",
          "Esophagus",
          "Stomach",
          "Small <br> intestine",
          "Large <br>intestine",
          "Rectum"
         ],
         "y": [
          9,
          4,
          2,
          2,
          1,
          0
         ]
        }
       ],
       "layout": {
        "autosize": false,
        "bargap": 0.5,
        "barmode": "stack",
        "height": 900,
        "legend": {
         "traceorder": "normal",
         "x": 0.99,
         "xanchor": "right",
         "y": 0.99,
         "yanchor": "top"
        },
        "margin": {
         "t": 10
        },
        "plot_bgcolor": "rgba(242, 241, 239, 0.8)",
        "template": {
         "data": {
          "bar": [
           {
            "error_x": {
             "color": "#2a3f5f"
            },
            "error_y": {
             "color": "#2a3f5f"
            },
            "marker": {
             "line": {
              "color": "#E5ECF6",
              "width": 0.5
             },
             "pattern": {
              "fillmode": "overlay",
              "size": 10,
              "solidity": 0.2
             }
            },
            "type": "bar"
           }
          ],
          "barpolar": [
           {
            "marker": {
             "line": {
              "color": "#E5ECF6",
              "width": 0.5
             },
             "pattern": {
              "fillmode": "overlay",
              "size": 10,
              "solidity": 0.2
             }
            },
            "type": "barpolar"
           }
          ],
          "carpet": [
           {
            "aaxis": {
             "endlinecolor": "#2a3f5f",
             "gridcolor": "white",
             "linecolor": "white",
             "minorgridcolor": "white",
             "startlinecolor": "#2a3f5f"
            },
            "baxis": {
             "endlinecolor": "#2a3f5f",
             "gridcolor": "white",
             "linecolor": "white",
             "minorgridcolor": "white",
             "startlinecolor": "#2a3f5f"
            },
            "type": "carpet"
           }
          ],
          "choropleth": [
           {
            "colorbar": {
             "outlinewidth": 0,
             "ticks": ""
            },
            "type": "choropleth"
           }
          ],
          "contour": [
           {
            "colorbar": {
             "outlinewidth": 0,
             "ticks": ""
            },
            "colorscale": [
             [
              0,
              "#0d0887"
             ],
             [
              0.1111111111111111,
              "#46039f"
             ],
             [
              0.2222222222222222,
              "#7201a8"
             ],
             [
              0.3333333333333333,
              "#9c179e"
             ],
             [
              0.4444444444444444,
              "#bd3786"
             ],
             [
              0.5555555555555556,
              "#d8576b"
             ],
             [
              0.6666666666666666,
              "#ed7953"
             ],
             [
              0.7777777777777778,
              "#fb9f3a"
             ],
             [
              0.8888888888888888,
              "#fdca26"
             ],
             [
              1,
              "#f0f921"
             ]
            ],
            "type": "contour"
           }
          ],
          "contourcarpet": [
           {
            "colorbar": {
             "outlinewidth": 0,
             "ticks": ""
            },
            "type": "contourcarpet"
           }
          ],
          "heatmap": [
           {
            "colorbar": {
             "outlinewidth": 0,
             "ticks": ""
            },
            "colorscale": [
             [
              0,
              "#0d0887"
             ],
             [
              0.1111111111111111,
              "#46039f"
             ],
             [
              0.2222222222222222,
              "#7201a8"
             ],
             [
              0.3333333333333333,
              "#9c179e"
             ],
             [
              0.4444444444444444,
              "#bd3786"
             ],
             [
              0.5555555555555556,
              "#d8576b"
             ],
             [
              0.6666666666666666,
              "#ed7953"
             ],
             [
              0.7777777777777778,
              "#fb9f3a"
             ],
             [
              0.8888888888888888,
              "#fdca26"
             ],
             [
              1,
              "#f0f921"
             ]
            ],
            "type": "heatmap"
           }
          ],
          "heatmapgl": [
           {
            "colorbar": {
             "outlinewidth": 0,
             "ticks": ""
            },
            "colorscale": [
             [
              0,
              "#0d0887"
             ],
             [
              0.1111111111111111,
              "#46039f"
             ],
             [
              0.2222222222222222,
              "#7201a8"
             ],
             [
              0.3333333333333333,
              "#9c179e"
             ],
             [
              0.4444444444444444,
              "#bd3786"
             ],
             [
              0.5555555555555556,
              "#d8576b"
             ],
             [
              0.6666666666666666,
              "#ed7953"
             ],
             [
              0.7777777777777778,
              "#fb9f3a"
             ],
             [
              0.8888888888888888,
              "#fdca26"
             ],
             [
              1,
              "#f0f921"
             ]
            ],
            "type": "heatmapgl"
           }
          ],
          "histogram": [
           {
            "marker": {
             "pattern": {
              "fillmode": "overlay",
              "size": 10,
              "solidity": 0.2
             }
            },
            "type": "histogram"
           }
          ],
          "histogram2d": [
           {
            "colorbar": {
             "outlinewidth": 0,
             "ticks": ""
            },
            "colorscale": [
             [
              0,
              "#0d0887"
             ],
             [
              0.1111111111111111,
              "#46039f"
             ],
             [
              0.2222222222222222,
              "#7201a8"
             ],
             [
              0.3333333333333333,
              "#9c179e"
             ],
             [
              0.4444444444444444,
              "#bd3786"
             ],
             [
              0.5555555555555556,
              "#d8576b"
             ],
             [
              0.6666666666666666,
              "#ed7953"
             ],
             [
              0.7777777777777778,
              "#fb9f3a"
             ],
             [
              0.8888888888888888,
              "#fdca26"
             ],
             [
              1,
              "#f0f921"
             ]
            ],
            "type": "histogram2d"
           }
          ],
          "histogram2dcontour": [
           {
            "colorbar": {
             "outlinewidth": 0,
             "ticks": ""
            },
            "colorscale": [
             [
              0,
              "#0d0887"
             ],
             [
              0.1111111111111111,
              "#46039f"
             ],
             [
              0.2222222222222222,
              "#7201a8"
             ],
             [
              0.3333333333333333,
              "#9c179e"
             ],
             [
              0.4444444444444444,
              "#bd3786"
             ],
             [
              0.5555555555555556,
              "#d8576b"
             ],
             [
              0.6666666666666666,
              "#ed7953"
             ],
             [
              0.7777777777777778,
              "#fb9f3a"
             ],
             [
              0.8888888888888888,
              "#fdca26"
             ],
             [
              1,
              "#f0f921"
             ]
            ],
            "type": "histogram2dcontour"
           }
          ],
          "mesh3d": [
           {
            "colorbar": {
             "outlinewidth": 0,
             "ticks": ""
            },
            "type": "mesh3d"
           }
          ],
          "parcoords": [
           {
            "line": {
             "colorbar": {
              "outlinewidth": 0,
              "ticks": ""
             }
            },
            "type": "parcoords"
           }
          ],
          "pie": [
           {
            "automargin": true,
            "type": "pie"
           }
          ],
          "scatter": [
           {
            "marker": {
             "colorbar": {
              "outlinewidth": 0,
              "ticks": ""
             }
            },
            "type": "scatter"
           }
          ],
          "scatter3d": [
           {
            "line": {
             "colorbar": {
              "outlinewidth": 0,
              "ticks": ""
             }
            },
            "marker": {
             "colorbar": {
              "outlinewidth": 0,
              "ticks": ""
             }
            },
            "type": "scatter3d"
           }
          ],
          "scattercarpet": [
           {
            "marker": {
             "colorbar": {
              "outlinewidth": 0,
              "ticks": ""
             }
            },
            "type": "scattercarpet"
           }
          ],
          "scattergeo": [
           {
            "marker": {
             "colorbar": {
              "outlinewidth": 0,
              "ticks": ""
             }
            },
            "type": "scattergeo"
           }
          ],
          "scattergl": [
           {
            "marker": {
             "colorbar": {
              "outlinewidth": 0,
              "ticks": ""
             }
            },
            "type": "scattergl"
           }
          ],
          "scattermapbox": [
           {
            "marker": {
             "colorbar": {
              "outlinewidth": 0,
              "ticks": ""
             }
            },
            "type": "scattermapbox"
           }
          ],
          "scatterpolar": [
           {
            "marker": {
             "colorbar": {
              "outlinewidth": 0,
              "ticks": ""
             }
            },
            "type": "scatterpolar"
           }
          ],
          "scatterpolargl": [
           {
            "marker": {
             "colorbar": {
              "outlinewidth": 0,
              "ticks": ""
             }
            },
            "type": "scatterpolargl"
           }
          ],
          "scatterternary": [
           {
            "marker": {
             "colorbar": {
              "outlinewidth": 0,
              "ticks": ""
             }
            },
            "type": "scatterternary"
           }
          ],
          "surface": [
           {
            "colorbar": {
             "outlinewidth": 0,
             "ticks": ""
            },
            "colorscale": [
             [
              0,
              "#0d0887"
             ],
             [
              0.1111111111111111,
              "#46039f"
             ],
             [
              0.2222222222222222,
              "#7201a8"
             ],
             [
              0.3333333333333333,
              "#9c179e"
             ],
             [
              0.4444444444444444,
              "#bd3786"
             ],
             [
              0.5555555555555556,
              "#d8576b"
             ],
             [
              0.6666666666666666,
              "#ed7953"
             ],
             [
              0.7777777777777778,
              "#fb9f3a"
             ],
             [
              0.8888888888888888,
              "#fdca26"
             ],
             [
              1,
              "#f0f921"
             ]
            ],
            "type": "surface"
           }
          ],
          "table": [
           {
            "cells": {
             "fill": {
              "color": "#EBF0F8"
             },
             "line": {
              "color": "white"
             }
            },
            "header": {
             "fill": {
              "color": "#C8D4E3"
             },
             "line": {
              "color": "white"
             }
            },
            "type": "table"
           }
          ]
         },
         "layout": {
          "annotationdefaults": {
           "arrowcolor": "#2a3f5f",
           "arrowhead": 0,
           "arrowwidth": 1
          },
          "autotypenumbers": "strict",
          "coloraxis": {
           "colorbar": {
            "outlinewidth": 0,
            "ticks": ""
           }
          },
          "colorscale": {
           "diverging": [
            [
             0,
             "#8e0152"
            ],
            [
             0.1,
             "#c51b7d"
            ],
            [
             0.2,
             "#de77ae"
            ],
            [
             0.3,
             "#f1b6da"
            ],
            [
             0.4,
             "#fde0ef"
            ],
            [
             0.5,
             "#f7f7f7"
            ],
            [
             0.6,
             "#e6f5d0"
            ],
            [
             0.7,
             "#b8e186"
            ],
            [
             0.8,
             "#7fbc41"
            ],
            [
             0.9,
             "#4d9221"
            ],
            [
             1,
             "#276419"
            ]
           ],
           "sequential": [
            [
             0,
             "#0d0887"
            ],
            [
             0.1111111111111111,
             "#46039f"
            ],
            [
             0.2222222222222222,
             "#7201a8"
            ],
            [
             0.3333333333333333,
             "#9c179e"
            ],
            [
             0.4444444444444444,
             "#bd3786"
            ],
            [
             0.5555555555555556,
             "#d8576b"
            ],
            [
             0.6666666666666666,
             "#ed7953"
            ],
            [
             0.7777777777777778,
             "#fb9f3a"
            ],
            [
             0.8888888888888888,
             "#fdca26"
            ],
            [
             1,
             "#f0f921"
            ]
           ],
           "sequentialminus": [
            [
             0,
             "#0d0887"
            ],
            [
             0.1111111111111111,
             "#46039f"
            ],
            [
             0.2222222222222222,
             "#7201a8"
            ],
            [
             0.3333333333333333,
             "#9c179e"
            ],
            [
             0.4444444444444444,
             "#bd3786"
            ],
            [
             0.5555555555555556,
             "#d8576b"
            ],
            [
             0.6666666666666666,
             "#ed7953"
            ],
            [
             0.7777777777777778,
             "#fb9f3a"
            ],
            [
             0.8888888888888888,
             "#fdca26"
            ],
            [
             1,
             "#f0f921"
            ]
           ]
          },
          "colorway": [
           "#636efa",
           "#EF553B",
           "#00cc96",
           "#ab63fa",
           "#FFA15A",
           "#19d3f3",
           "#FF6692",
           "#B6E880",
           "#FF97FF",
           "#FECB52"
          ],
          "font": {
           "color": "#2a3f5f"
          },
          "geo": {
           "bgcolor": "white",
           "lakecolor": "white",
           "landcolor": "#E5ECF6",
           "showlakes": true,
           "showland": true,
           "subunitcolor": "white"
          },
          "hoverlabel": {
           "align": "left"
          },
          "hovermode": "closest",
          "mapbox": {
           "style": "light"
          },
          "paper_bgcolor": "white",
          "plot_bgcolor": "#E5ECF6",
          "polar": {
           "angularaxis": {
            "gridcolor": "white",
            "linecolor": "white",
            "ticks": ""
           },
           "bgcolor": "#E5ECF6",
           "radialaxis": {
            "gridcolor": "white",
            "linecolor": "white",
            "ticks": ""
           }
          },
          "scene": {
           "xaxis": {
            "backgroundcolor": "#E5ECF6",
            "gridcolor": "white",
            "gridwidth": 2,
            "linecolor": "white",
            "showbackground": true,
            "ticks": "",
            "zerolinecolor": "white"
           },
           "yaxis": {
            "backgroundcolor": "#E5ECF6",
            "gridcolor": "white",
            "gridwidth": 2,
            "linecolor": "white",
            "showbackground": true,
            "ticks": "",
            "zerolinecolor": "white"
           },
           "zaxis": {
            "backgroundcolor": "#E5ECF6",
            "gridcolor": "white",
            "gridwidth": 2,
            "linecolor": "white",
            "showbackground": true,
            "ticks": "",
            "zerolinecolor": "white"
           }
          },
          "shapedefaults": {
           "line": {
            "color": "#2a3f5f"
           }
          },
          "ternary": {
           "aaxis": {
            "gridcolor": "white",
            "linecolor": "white",
            "ticks": ""
           },
           "baxis": {
            "gridcolor": "white",
            "linecolor": "white",
            "ticks": ""
           },
           "bgcolor": "#E5ECF6",
           "caxis": {
            "gridcolor": "white",
            "linecolor": "white",
            "ticks": ""
           }
          },
          "title": {
           "x": 0.05
          },
          "xaxis": {
           "automargin": true,
           "gridcolor": "white",
           "linecolor": "white",
           "ticks": "",
           "title": {
            "standoff": 15
           },
           "zerolinecolor": "white",
           "zerolinewidth": 2
          },
          "yaxis": {
           "automargin": true,
           "gridcolor": "white",
           "linecolor": "white",
           "ticks": "",
           "title": {
            "standoff": 15
           },
           "zerolinecolor": "white",
           "zerolinewidth": 2
          }
         }
        },
        "width": 900,
        "xaxis": {
         "autorange": true,
         "dtick": 1,
         "range": [
          -0.5,
          5.5
         ],
         "showgrid": false,
         "title": {
          "text": "<b> Organ <b>"
         },
         "type": "category"
        },
        "yaxis": {
         "autorange": true,
         "range": [
          0,
          56.8421052631579
         ],
         "title": {
          "text": "<b> Number of studies <b>"
         },
         "type": "linear"
        }
       }
      },
      "image/png": "[encoded data removed]",
      "text/html": [
       "<div>                            <div id=\"51495433-a679-4aac-acb0-79913b148565\" class=\"plotly-graph-div\" style=\"height:900px; width:900px;\"></div>            <script type=\"text/javascript\">                require([\"plotly\"], function(Plotly) {                    window.PLOTLYENV=window.PLOTLYENV || {};                                    if (document.getElementById(\"51495433-a679-4aac-acb0-79913b148565\")) {                    Plotly.newPlot(                        \"51495433-a679-4aac-acb0-79913b148565\",                        [{\"marker\":{\"color\":\"#073b4c\"},\"name\":\"Hyperelastic model studies\",\"text\":[\"40\",\"12\",\"3\",\"8\",\"11\",\"6\"],\"textposition\":\"auto\",\"type\":\"bar\",\"x\":[\"All studies\",\"Esophagus\",\"Stomach\",\"Small <br> intestine\",\"Large <br>intestine\",\"Rectum\"],\"y\":[40,12,3,8,11,6]},{\"marker\":{\"color\":\"#ffd166\"},\"name\":\"Viscohyperelastic model studies\",\"text\":[\"5\",\"0\",\"1\",\"1\",\"2\",\"1\"],\"textposition\":\"auto\",\"type\":\"bar\",\"x\":[\"All studies\",\"Esophagus\",\"Stomach\",\"Small <br> intestine\",\"Large <br>intestine\",\"Rectum\"],\"y\":[5,0,1,1,2,1]},{\"marker\":{\"color\":\"#06d6a0\"},\"name\":\"Active model studies\",\"text\":[\"9\",\"4\",\"2\",\"2\",\"1\",\"0\"],\"textangle\":0,\"textposition\":\"auto\",\"type\":\"bar\",\"x\":[\"All studies\",\"Esophagus\",\"Stomach\",\"Small <br> intestine\",\"Large <br>intestine\",\"Rectum\"],\"y\":[9,4,2,2,1,0]}],                        {\"autosize\":false,\"bargap\":0.5,\"barmode\":\"stack\",\"height\":900,\"legend\":{\"traceorder\":\"normal\",\"x\":0.99,\"xanchor\":\"right\",\"y\":0.99,\"yanchor\":\"top\"},\"margin\":{\"t\":10},\"plot_bgcolor\":\"rgba(242, 241, 239, 0.8)\",\"template\":{\"data\":{\"bar\":[{\"error_x\":{\"color\":\"#2a3f5f\"},\"error_y\":{\"color\":\"#2a3f5f\"},\"marker\":{\"line\":{\"color\":\"#E5ECF6\",\"width\":0.5},\"pattern\":{\"fillmode\":\"overlay\",\"size\":10,\"solidity\":0.2}},\"type\":\"bar\"}],\"barpolar\":[{\"marker\":{\"line\":{\"color\":\"#E5ECF6\",\"width\":0.5},\"pattern\":{\"fillmode\":\"overlay\",\"size\":10,\"solidity\":0.2}},\"type\":\"barpolar\"}],\"carpet\":[{\"aaxis\":{\"endlinecolor\":\"#2a3f5f\",\"gridcolor\":\"white\",\"linecolor\":\"white\",\"minorgridcolor\":\"white\",\"startlinecolor\":\"#2a3f5f\"},\"baxis\":{\"endlinecolor\":\"#2a3f5f\",\"gridcolor\":\"white\",\"linecolor\":\"white\",\"minorgridcolor\":\"white\",\"startlinecolor\":\"#2a3f5f\"},\"type\":\"carpet\"}],\"choropleth\":[{\"colorbar\":{\"outlinewidth\":0,\"ticks\":\"\"},\"type\":\"choropleth\"}],\"contour\":[{\"colorbar\":{\"outlinewidth\":0,\"ticks\":\"\"},\"colorscale\":[[0.0,\"#0d0887\"],[0.1111111111111111,\"#46039f\"],[0.2222222222222222,\"#7201a8\"],[0.3333333333333333,\"#9c179e\"],[0.4444444444444444,\"#bd3786\"],[0.5555555555555556,\"#d8576b\"],[0.6666666666666666,\"#ed7953\"],[0.7777777777777778,\"#fb9f3a\"],[0.8888888888888888,\"#fdca26\"],[1.0,\"#f0f921\"]],\"type\":\"contour\"}],\"contourcarpet\":[{\"colorbar\":{\"outlinewidth\":0,\"ticks\":\"\"},\"type\":\"contourcarpet\"}],\"heatmap\":[{\"colorbar\":{\"outlinewidth\":0,\"ticks\":\"\"},\"colorscale\":[[0.0,\"#0d0887\"],[0.1111111111111111,\"#46039f\"],[0.2222222222222222,\"#7201a8\"],[0.3333333333333333,\"#9c179e\"],[0.4444444444444444,\"#bd3786\"],[0.5555555555555556,\"#d8576b\"],[0.6666666666666666,\"#ed7953\"],[0.7777777777777778,\"#fb9f3a\"],[0.8888888888888888,\"#fdca26\"],[1.0,\"#f0f921\"]],\"type\":\"heatmap\"}],\"heatmapgl\":[{\"colorbar\":{\"outlinewidth\":0,\"ticks\":\"\"},\"colorscale\":[[0.0,\"#0d0887\"],[0.1111111111111111,\"#46039f\"],[0.2222222222222222,\"#7201a8\"],[0.3333333333333333,\"#9c179e\"],[0.4444444444444444,\"#bd3786\"],[0.5555555555555556,\"#d8576b\"],[0.6666666666666666,\"#ed7953\"],[0.7777777777777778,\"#fb9f3a\"],[0.8888888888888888,\"#fdca26\"],[1.0,\"#f0f921\"]],\"type\":\"heatmapgl\"}],\"histogram\":[{\"marker\":{\"pattern\":{\"fillmode\":\"overlay\",\"size\":10,\"solidity\":0.2}},\"type\":\"histogram\"}],\"histogram2d\":[{\"colorbar\":{\"outlinewidth\":0,\"ticks\":\"\"},\"colorscale\":[[0.0,\"#0d0887\"],[0.1111111111111111,\"#46039f\"],[0.2222222222222222,\"#7201a8\"],[0.3333333333333333,\"#9c179e\"],[0.4444444444444444,\"#bd3786\"],[0.5555555555555556,\"#d8576b\"],[0.6666666666666666,\"#ed7953\"],[0.7777777777777778,\"#fb9f3a\"],[0.8888888888888888,\"#fdca26\"],[1.0,\"#f0f921\"]],\"type\":\"histogram2d\"}],\"histogram2dcontour\":[{\"colorbar\":{\"outlinewidth\":0,\"ticks\":\"\"},\"colorscale\":[[0.0,\"#0d0887\"],[0.1111111111111111,\"#46039f\"],[0.2222222222222222,\"#7201a8\"],[0.3333333333333333,\"#9c179e\"],[0.4444444444444444,\"#bd3786\"],[0.5555555555555556,\"#d8576b\"],[0.6666666666666666,\"#ed7953\"],[0.7777777777777778,\"#fb9f3a\"],[0.8888888888888888,\"#fdca26\"],[1.0,\"#f0f921\"]],\"type\":\"histogram2dcontour\"}],\"mesh3d\":[{\"colorbar\":{\"outlinewidth\":0,\"ticks\":\"\"},\"type\":\"mesh3d\"}],\"parcoords\":[{\"line\":{\"colorbar\":{\"outlinewidth\":0,\"ticks\":\"\"}},\"type\":\"parcoords\"}],\"pie\":[{\"automargin\":true,\"type\":\"pie\"}],\"scatter\":[{\"marker\":{\"colorbar\":{\"outlinewidth\":0,\"ticks\":\"\"}},\"type\":\"scatter\"}],\"scatter3d\":[{\"line\":{\"colorbar\":{\"outlinewidth\":0,\"ticks\":\"\"}},\"marker\":{\"colorbar\":{\"outlinewidth\":0,\"ticks\":\"\"}},\"type\":\"scatter3d\"}],\"scattercarpet\":[{\"marker\":{\"colorbar\":{\"outlinewidth\":0,\"ticks\":\"\"}},\"type\":\"scattercarpet\"}],\"scattergeo\":[{\"marker\":{\"colorbar\":{\"outlinewidth\":0,\"ticks\":\"\"}},\"type\":\"scattergeo\"}],\"scattergl\":[{\"marker\":{\"colorbar\":{\"outlinewidth\":0,\"ticks\":\"\"}},\"type\":\"scattergl\"}],\"scattermapbox\":[{\"marker\":{\"colorbar\":{\"outlinewidth\":0,\"ticks\":\"\"}},\"type\":\"scattermapbox\"}],\"scatterpolar\":[{\"marker\":{\"colorbar\":{\"outlinewidth\":0,\"ticks\":\"\"}},\"type\":\"scatterpolar\"}],\"scatterpolargl\":[{\"marker\":{\"colorbar\":{\"outlinewidth\":0,\"ticks\":\"\"}},\"type\":\"scatterpolargl\"}],\"scatterternary\":[{\"marker\":{\"colorbar\":{\"outlinewidth\":0,\"ticks\":\"\"}},\"type\":\"scatterternary\"}],\"surface\":[{\"colorbar\":{\"outlinewidth\":0,\"ticks\":\"\"},\"colorscale\":[[0.0,\"#0d0887\"],[0.1111111111111111,\"#46039f\"],[0.2222222222222222,\"#7201a8\"],[0.3333333333333333,\"#9c179e\"],[0.4444444444444444,\"#bd3786\"],[0.5555555555555556,\"#d8576b\"],[0.6666666666666666,\"#ed7953\"],[0.7777777777777778,\"#fb9f3a\"],[0.8888888888888888,\"#fdca26\"],[1.0,\"#f0f921\"]],\"type\":\"surface\"}],\"table\":[{\"cells\":{\"fill\":{\"color\":\"#EBF0F8\"},\"line\":{\"color\":\"white\"}},\"header\":{\"fill\":{\"color\":\"#C8D4E3\"},\"line\":{\"color\":\"white\"}},\"type\":\"table\"}]},\"layout\":{\"annotationdefaults\":{\"arrowcolor\":\"#2a3f5f\",\"arrowhead\":0,\"arrowwidth\":1},\"autotypenumbers\":\"strict\",\"coloraxis\":{\"colorbar\":{\"outlinewidth\":0,\"ticks\":\"\"}},\"colorscale\":{\"diverging\":[[0,\"#8e0152\"],[0.1,\"#c51b7d\"],[0.2,\"#de77ae\"],[0.3,\"#f1b6da\"],[0.4,\"#fde0ef\"],[0.5,\"#f7f7f7\"],[0.6,\"#e6f5d0\"],[0.7,\"#b8e186\"],[0.8,\"#7fbc41\"],[0.9,\"#4d9221\"],[1,\"#276419\"]],\"sequential\":[[0.0,\"#0d0887\"],[0.1111111111111111,\"#46039f\"],[0.2222222222222222,\"#7201a8\"],[0.3333333333333333,\"#9c179e\"],[0.4444444444444444,\"#bd3786\"],[0.5555555555555556,\"#d8576b\"],[0.6666666666666666,\"#ed7953\"],[0.7777777777777778,\"#fb9f3a\"],[0.8888888888888888,\"#fdca26\"],[1.0,\"#f0f921\"]],\"sequentialminus\":[[0.0,\"#0d0887\"],[0.1111111111111111,\"#46039f\"],[0.2222222222222222,\"#7201a8\"],[0.3333333333333333,\"#9c179e\"],[0.4444444444444444,\"#bd3786\"],[0.5555555555555556,\"#d8576b\"],[0.6666666666666666,\"#ed7953\"],[0.7777777777777778,\"#fb9f3a\"],[0.8888888888888888,\"#fdca26\"],[1.0,\"#f0f921\"]]},\"colorway\":[\"#636efa\",\"#EF553B\",\"#00cc96\",\"#ab63fa\",\"#FFA15A\",\"#19d3f3\",\"#FF6692\",\"#B6E880\",\"#FF97FF\",\"#FECB52\"],\"font\":{\"color\":\"#2a3f5f\"},\"geo\":{\"bgcolor\":\"white\",\"lakecolor\":\"white\",\"landcolor\":\"#E5ECF6\",\"showlakes\":true,\"showland\":true,\"subunitcolor\":\"white\"},\"hoverlabel\":{\"align\":\"left\"},\"hovermode\":\"closest\",\"mapbox\":{\"style\":\"light\"},\"paper_bgcolor\":\"white\",\"plot_bgcolor\":\"#E5ECF6\",\"polar\":{\"angularaxis\":{\"gridcolor\":\"white\",\"linecolor\":\"white\",\"ticks\":\"\"},\"bgcolor\":\"#E5ECF6\",\"radialaxis\":{\"gridcolor\":\"white\",\"linecolor\":\"white\",\"ticks\":\"\"}},\"scene\":{\"xaxis\":{\"backgroundcolor\":\"#E5ECF6\",\"gridcolor\":\"white\",\"gridwidth\":2,\"linecolor\":\"white\",\"showbackground\":true,\"ticks\":\"\",\"zerolinecolor\":\"white\"},\"yaxis\":{\"backgroundcolor\":\"#E5ECF6\",\"gridcolor\":\"white\",\"gridwidth\":2,\"linecolor\":\"white\",\"showbackground\":true,\"ticks\":\"\",\"zerolinecolor\":\"white\"},\"zaxis\":{\"backgroundcolor\":\"#E5ECF6\",\"gridcolor\":\"white\",\"gridwidth\":2,\"linecolor\":\"white\",\"showbackground\":true,\"ticks\":\"\",\"zerolinecolor\":\"white\"}},\"shapedefaults\":{\"line\":{\"color\":\"#2a3f5f\"}},\"ternary\":{\"aaxis\":{\"gridcolor\":\"white\",\"linecolor\":\"white\",\"ticks\":\"\"},\"baxis\":{\"gridcolor\":\"white\",\"linecolor\":\"white\",\"ticks\":\"\"},\"bgcolor\":\"#E5ECF6\",\"caxis\":{\"gridcolor\":\"white\",\"linecolor\":\"white\",\"ticks\":\"\"}},\"title\":{\"x\":0.05},\"xaxis\":{\"automargin\":true,\"gridcolor\":\"white\",\"linecolor\":\"white\",\"ticks\":\"\",\"title\":{\"standoff\":15},\"zerolinecolor\":\"white\",\"zerolinewidth\":2},\"yaxis\":{\"automargin\":true,\"gridcolor\":\"white\",\"linecolor\":\"white\",\"ticks\":\"\",\"title\":{\"standoff\":15},\"zerolinecolor\":\"white\",\"zerolinewidth\":2}}},\"width\":900,\"xaxis\":{\"dtick\":1,\"showgrid\":false,\"title\":{\"text\":\"<b> Organ <b>\"}},\"yaxis\":{\"title\":{\"text\":\"<b> Number of studies <b>\"}}},                        {\"responsive\": true}                    ).then(function(){\n",
       "                            \n",
       "var gd = document.getElementById('51495433-a679-4aac-acb0-79913b148565');\n",
       "var x = new MutationObserver(function (mutations, observer) {{\n",
       "        var display = window.getComputedStyle(gd).display;\n",
       "        if (!display || display === 'none') {{\n",
       "            console.log([gd, 'removed!']);\n",
       "            Plotly.purge(gd);\n",
       "            observer.disconnect();\n",
       "        }}\n",
       "}});\n",
       "\n",
       "// Listen for the removal of the full notebook cells\n",
       "var notebookContainer = gd.closest('#notebook-container');\n",
       "if (notebookContainer) {{\n",
       "    x.observe(notebookContainer, {childList: true});\n",
       "}}\n",
       "\n",
       "// Listen for the clearing of the current output cell\n",
       "var outputEl = gd.closest('.output');\n",
       "if (outputEl) {{\n",
       "    x.observe(outputEl, {childList: true});\n",
       "}}\n",
       "\n",
       "                        })                };                });            </script>        </div>"
      ]
     },
     "metadata": {},
     "output_type": "display_data"
    }
   ],
   "source": [
    "#Study count\n",
    "hyperelastic_count = []\n",
    "hyperelastic_count.append(total_hyperelastic)\n",
    "for organ in organ_list:\n",
    "    hyperelastic_count.append(len(df_hyperelastic[(df_hyperelastic[\"Organ\"].str.contains(organ, na = False))]))\n",
    "\n",
    "viscohyper_count = []\n",
    "viscohyper_count.append(total_viscohyper)\n",
    "for organ in organ_list:\n",
    "    viscohyper_count.append(len(df_viscous[(df_viscous[\"Organ\"].str.contains(organ, na = False))]))\n",
    "    \n",
    "active_count = []\n",
    "active_count.append(total_active)\n",
    "for organ in organ_list:\n",
    "    active_count.append(len(df_active[(df_active[\"Organ\"].str.contains(organ, na = False))]))\n",
    "\n",
    "fig12 = go.Figure(data=[go.Bar(name = 'Hyperelastic model studies',\n",
    "            x=['All studies', 'Esophagus', 'Stomach', 'Small <br> intestine', 'Large <br>intestine', 'Rectum'], y=hyperelastic_count,\n",
    "            text=hyperelastic_count,\n",
    "            textposition='auto',\n",
    "            marker=dict(color=color_palette[0])\n",
    "            ),\n",
    "            go.Bar(name = 'Viscohyperelastic model studies',\n",
    "            x=['All studies', 'Esophagus', 'Stomach', 'Small <br> intestine', 'Large <br>intestine', 'Rectum'], y=viscohyper_count,\n",
    "            text=viscohyper_count,\n",
    "            textposition='auto',\n",
    "            marker=dict(color=color_palette[1])\n",
    "            ),\n",
    "            go.Bar(name = 'Active model studies',\n",
    "            x=['All studies', 'Esophagus', 'Stomach', 'Small <br> intestine', 'Large <br>intestine', 'Rectum'], y=active_count,\n",
    "            text=active_count,\n",
    "            textangle = 0,\n",
    "            textposition='auto',\n",
    "            marker=dict(color=color_palette[2])\n",
    "            )\n",
    "    ])\n",
    "\n",
    "fig12.update_layout(\n",
    "    barmode = 'stack',\n",
    "    bargap = 0.5,\n",
    "    autosize = False,\n",
    "    width = 900,\n",
    "    height = 900,\n",
    "    xaxis = dict(title=\"<b> Organ <b>\", showgrid = False, dtick = 1),\n",
    "    yaxis = dict(title=\"<b> Number of studies <b>\"),\n",
    "    plot_bgcolor = plot_background_color,\n",
    "    legend = dict(yanchor=\"top\", y=0.99, xanchor=\"right\", x=0.99), \n",
    "    legend_traceorder = 'normal',\n",
    "    margin = go.layout.Margin(\n",
    "        t = 10, #top margin\n",
    "    )\n",
    ")\n",
    "\n",
    "fig12.show()\n",
    "#fig12.write_image(\"total-organ-wise.png\", engine=\"kaleido\", scale = 1.0)"
   ]
  },
  {
   "cell_type": "code",
   "execution_count": 50,
   "metadata": {},
   "outputs": [
    {
     "name": "stdout",
     "output_type": "stream",
     "text": [
      "TOTAL\n",
      "Proportion of total studies: esophagus 29.6%, stomach 11.1%, small intestine 20.4%, large intestine 25.9%, rectum 13.0%\n",
      "Total esophagus + large intestine:  55.5\n",
      "ACTIVE\n",
      "Proportion of active studies: esophagus 44.4%, stomach 22.2%, small intestine 22.2%, large intestine 11.1%, rectum 0.0%\n"
     ]
    }
   ],
   "source": [
    "#Total studies\n",
    "print(\"TOTAL\")\n",
    "total = hyperelastic_count[0] + viscohyper_count[0] + active_count[0]\n",
    "total_esophagus = hyperelastic_count[1] + viscohyper_count[1] + active_count[1]\n",
    "total_stomach = hyperelastic_count[2] + viscohyper_count[2] + active_count[2]\n",
    "total_small_intestine = hyperelastic_count[3] + viscohyper_count[3] + active_count[3]\n",
    "total_large_intestine = hyperelastic_count[4] + viscohyper_count[4] + active_count[4]\n",
    "total_rectum = hyperelastic_count[5] + viscohyper_count[5] + active_count[5]\n",
    "\n",
    "proportion_esophagus = round(total_esophagus/total*100, 1)\n",
    "proportion_stomach = round(total_stomach/total*100, 1)\n",
    "proportion_small_intestine = round(total_small_intestine/total*100, 1)\n",
    "proportion_large_intestine = round(total_large_intestine/total*100, 1)\n",
    "proportion_rectum = round(total_rectum/total*100, 1)\n",
    "\n",
    "message = \"Proportion of total studies: esophagus \" + str(proportion_esophagus) \\\n",
    "        + \"%, stomach \" + str(proportion_stomach) \\\n",
    "        + \"%, small intestine \" + str(proportion_small_intestine) \\\n",
    "        + \"%, large intestine \" + str(proportion_large_intestine) \\\n",
    "        + \"%, rectum \" + str(proportion_rectum) + \"%\"\n",
    "print(message)\n",
    "print(\"Total esophagus + large intestine: \", str(proportion_esophagus+proportion_large_intestine))\n",
    "\n",
    "#Active\n",
    "print(\"ACTIVE\")\n",
    "message = \"Proportion of active studies: esophagus \" + str(round(active_count[1]/active_count[0]*100, 1)) \\\n",
    "        + \"%, stomach \" + str(round(active_count[2]/active_count[0]*100, 1)) \\\n",
    "        + \"%, small intestine \" + str(round(active_count[3]/active_count[0]*100, 1)) \\\n",
    "        + \"%, large intestine \" + str(round(active_count[4]/active_count[0]*100, 1)) \\\n",
    "        + \"%, rectum \" + str(round(active_count[5]/active_count[0]*100, 1)) + \"%\"\n",
    "print(message)"
   ]
  },
  {
   "cell_type": "markdown",
   "metadata": {},
   "source": [
    "### 7.1.2. Passive/active studies distribution over the years"
   ]
  },
  {
   "cell_type": "code",
   "execution_count": 51,
   "metadata": {},
   "outputs": [],
   "source": [
    "# get number of passive studies, active studies over the years\n",
    "year_list = np.arange(1994, 2022)\n",
    "yearwise_distribution_dict = {}\n",
    "for organ in organ_list:\n",
    "    df_sub_hyperelastic = df_hyperelastic[(df_hyperelastic[\"Organ\"].str.contains(organ, na = False))]\n",
    "    df_sub_viscous = df_viscous[(df_viscous[\"Organ\"].str.contains(organ, na = False))]\n",
    "    df_sub_active = df_active[(df_active[\"Organ\"].str.contains(organ, na = False))]\n",
    "    hyperelastic_count = []\n",
    "    viscous_count = []\n",
    "    active_count = []\n",
    "    for year in year_list:\n",
    "        hyperelastic_count.append(len(df_sub_hyperelastic[df_sub_hyperelastic[\"Year\"] == year]))\n",
    "        viscous_count.append(len(df_sub_viscous[df_sub_viscous[\"Year\"] == year]))\n",
    "        active_count.append(len(df_sub_active[df_sub_active[\"Year\"] == year]))\n",
    "    #print(organ, hyperelastic_count, viscous_count, active_count)\n",
    "    \n",
    "    yearwise_distribution_dict[organ] = pd.DataFrame(list(zip(year_list, hyperelastic_count, viscous_count, active_count)), columns=['Year', 'Number of hyperelastic studies', 'Number of visco-hyperelastic studies', 'Number of active studies'])"
   ]
  },
  {
   "cell_type": "code",
   "execution_count": 52,
   "metadata": {},
   "outputs": [
    {
     "data": {
      "application/vnd.plotly.v1+json": {
       "config": {
        "plotlyServerURL": "https://plot.ly"
       },
       "data": [
        {
         "marker": {
          "color": "#073b4c"
         },
         "name": "Hyperelastic model studies",
         "text": [
          0,
          0,
          0,
          0,
          0,
          0,
          0,
          0,
          0,
          1,
          2,
          0,
          2,
          0,
          0,
          2,
          1,
          0,
          1,
          2,
          1,
          0,
          0,
          0,
          0,
          0,
          0,
          0
         ],
         "textposition": "auto",
         "type": "bar",
         "x": [
          1994,
          1995,
          1996,
          1997,
          1998,
          1999,
          2000,
          2001,
          2002,
          2003,
          2004,
          2005,
          2006,
          2007,
          2008,
          2009,
          2010,
          2011,
          2012,
          2013,
          2014,
          2015,
          2016,
          2017,
          2018,
          2019,
          2020,
          2021
         ],
         "y": [
          0,
          0,
          0,
          0,
          0,
          0,
          0,
          0,
          0,
          1,
          2,
          0,
          2,
          0,
          0,
          2,
          1,
          0,
          1,
          2,
          1,
          0,
          0,
          0,
          0,
          0,
          0,
          0
         ]
        },
        {
         "marker": {
          "color": "#ffd166"
         },
         "name": "Visco-hyperelastic model studies",
         "text": [
          0,
          0,
          0,
          0,
          0,
          0,
          0,
          0,
          0,
          0,
          0,
          0,
          0,
          0,
          0,
          0,
          0,
          0,
          0,
          0,
          0,
          0,
          0,
          0,
          0,
          0,
          0,
          0
         ],
         "textposition": "auto",
         "type": "bar",
         "x": [
          1994,
          1995,
          1996,
          1997,
          1998,
          1999,
          2000,
          2001,
          2002,
          2003,
          2004,
          2005,
          2006,
          2007,
          2008,
          2009,
          2010,
          2011,
          2012,
          2013,
          2014,
          2015,
          2016,
          2017,
          2018,
          2019,
          2020,
          2021
         ],
         "y": [
          0,
          0,
          0,
          0,
          0,
          0,
          0,
          0,
          0,
          0,
          0,
          0,
          0,
          0,
          0,
          0,
          0,
          0,
          0,
          0,
          0,
          0,
          0,
          0,
          0,
          0,
          0,
          0
         ]
        },
        {
         "marker": {
          "color": "#06d6a0"
         },
         "name": "Active model studies",
         "text": [
          0,
          0,
          0,
          0,
          0,
          0,
          0,
          0,
          0,
          0,
          0,
          0,
          0,
          1,
          0,
          1,
          0,
          0,
          0,
          0,
          0,
          1,
          0,
          0,
          1,
          0,
          0,
          0
         ],
         "textposition": "auto",
         "type": "bar",
         "x": [
          1994,
          1995,
          1996,
          1997,
          1998,
          1999,
          2000,
          2001,
          2002,
          2003,
          2004,
          2005,
          2006,
          2007,
          2008,
          2009,
          2010,
          2011,
          2012,
          2013,
          2014,
          2015,
          2016,
          2017,
          2018,
          2019,
          2020,
          2021
         ],
         "y": [
          0,
          0,
          0,
          0,
          0,
          0,
          0,
          0,
          0,
          0,
          0,
          0,
          0,
          1,
          0,
          1,
          0,
          0,
          0,
          0,
          0,
          1,
          0,
          0,
          1,
          0,
          0,
          0
         ]
        }
       ],
       "layout": {
        "annotations": [
         {
          "font": {
           "color": "black",
           "size": 14
          },
          "showarrow": false,
          "text": "Esophagus",
          "x": 1,
          "xref": "paper",
          "y": 0.95,
          "yref": "paper"
         }
        ],
        "autosize": false,
        "bargap": 0.5,
        "barmode": "stack",
        "height": 200,
        "legend": {
         "traceorder": "normal",
         "x": 0.01,
         "xanchor": "left",
         "y": 0.99,
         "yanchor": "top"
        },
        "margin": {
         "t": 30
        },
        "plot_bgcolor": "rgba(242, 241, 239, 0.8)",
        "showlegend": true,
        "template": {
         "data": {
          "bar": [
           {
            "error_x": {
             "color": "#2a3f5f"
            },
            "error_y": {
             "color": "#2a3f5f"
            },
            "marker": {
             "line": {
              "color": "#E5ECF6",
              "width": 0.5
             },
             "pattern": {
              "fillmode": "overlay",
              "size": 10,
              "solidity": 0.2
             }
            },
            "type": "bar"
           }
          ],
          "barpolar": [
           {
            "marker": {
             "line": {
              "color": "#E5ECF6",
              "width": 0.5
             },
             "pattern": {
              "fillmode": "overlay",
              "size": 10,
              "solidity": 0.2
             }
            },
            "type": "barpolar"
           }
          ],
          "carpet": [
           {
            "aaxis": {
             "endlinecolor": "#2a3f5f",
             "gridcolor": "white",
             "linecolor": "white",
             "minorgridcolor": "white",
             "startlinecolor": "#2a3f5f"
            },
            "baxis": {
             "endlinecolor": "#2a3f5f",
             "gridcolor": "white",
             "linecolor": "white",
             "minorgridcolor": "white",
             "startlinecolor": "#2a3f5f"
            },
            "type": "carpet"
           }
          ],
          "choropleth": [
           {
            "colorbar": {
             "outlinewidth": 0,
             "ticks": ""
            },
            "type": "choropleth"
           }
          ],
          "contour": [
           {
            "colorbar": {
             "outlinewidth": 0,
             "ticks": ""
            },
            "colorscale": [
             [
              0,
              "#0d0887"
             ],
             [
              0.1111111111111111,
              "#46039f"
             ],
             [
              0.2222222222222222,
              "#7201a8"
             ],
             [
              0.3333333333333333,
              "#9c179e"
             ],
             [
              0.4444444444444444,
              "#bd3786"
             ],
             [
              0.5555555555555556,
              "#d8576b"
             ],
             [
              0.6666666666666666,
              "#ed7953"
             ],
             [
              0.7777777777777778,
              "#fb9f3a"
             ],
             [
              0.8888888888888888,
              "#fdca26"
             ],
             [
              1,
              "#f0f921"
             ]
            ],
            "type": "contour"
           }
          ],
          "contourcarpet": [
           {
            "colorbar": {
             "outlinewidth": 0,
             "ticks": ""
            },
            "type": "contourcarpet"
           }
          ],
          "heatmap": [
           {
            "colorbar": {
             "outlinewidth": 0,
             "ticks": ""
            },
            "colorscale": [
             [
              0,
              "#0d0887"
             ],
             [
              0.1111111111111111,
              "#46039f"
             ],
             [
              0.2222222222222222,
              "#7201a8"
             ],
             [
              0.3333333333333333,
              "#9c179e"
             ],
             [
              0.4444444444444444,
              "#bd3786"
             ],
             [
              0.5555555555555556,
              "#d8576b"
             ],
             [
              0.6666666666666666,
              "#ed7953"
             ],
             [
              0.7777777777777778,
              "#fb9f3a"
             ],
             [
              0.8888888888888888,
              "#fdca26"
             ],
             [
              1,
              "#f0f921"
             ]
            ],
            "type": "heatmap"
           }
          ],
          "heatmapgl": [
           {
            "colorbar": {
             "outlinewidth": 0,
             "ticks": ""
            },
            "colorscale": [
             [
              0,
              "#0d0887"
             ],
             [
              0.1111111111111111,
              "#46039f"
             ],
             [
              0.2222222222222222,
              "#7201a8"
             ],
             [
              0.3333333333333333,
              "#9c179e"
             ],
             [
              0.4444444444444444,
              "#bd3786"
             ],
             [
              0.5555555555555556,
              "#d8576b"
             ],
             [
              0.6666666666666666,
              "#ed7953"
             ],
             [
              0.7777777777777778,
              "#fb9f3a"
             ],
             [
              0.8888888888888888,
              "#fdca26"
             ],
             [
              1,
              "#f0f921"
             ]
            ],
            "type": "heatmapgl"
           }
          ],
          "histogram": [
           {
            "marker": {
             "pattern": {
              "fillmode": "overlay",
              "size": 10,
              "solidity": 0.2
             }
            },
            "type": "histogram"
           }
          ],
          "histogram2d": [
           {
            "colorbar": {
             "outlinewidth": 0,
             "ticks": ""
            },
            "colorscale": [
             [
              0,
              "#0d0887"
             ],
             [
              0.1111111111111111,
              "#46039f"
             ],
             [
              0.2222222222222222,
              "#7201a8"
             ],
             [
              0.3333333333333333,
              "#9c179e"
             ],
             [
              0.4444444444444444,
              "#bd3786"
             ],
             [
              0.5555555555555556,
              "#d8576b"
             ],
             [
              0.6666666666666666,
              "#ed7953"
             ],
             [
              0.7777777777777778,
              "#fb9f3a"
             ],
             [
              0.8888888888888888,
              "#fdca26"
             ],
             [
              1,
              "#f0f921"
             ]
            ],
            "type": "histogram2d"
           }
          ],
          "histogram2dcontour": [
           {
            "colorbar": {
             "outlinewidth": 0,
             "ticks": ""
            },
            "colorscale": [
             [
              0,
              "#0d0887"
             ],
             [
              0.1111111111111111,
              "#46039f"
             ],
             [
              0.2222222222222222,
              "#7201a8"
             ],
             [
              0.3333333333333333,
              "#9c179e"
             ],
             [
              0.4444444444444444,
              "#bd3786"
             ],
             [
              0.5555555555555556,
              "#d8576b"
             ],
             [
              0.6666666666666666,
              "#ed7953"
             ],
             [
              0.7777777777777778,
              "#fb9f3a"
             ],
             [
              0.8888888888888888,
              "#fdca26"
             ],
             [
              1,
              "#f0f921"
             ]
            ],
            "type": "histogram2dcontour"
           }
          ],
          "mesh3d": [
           {
            "colorbar": {
             "outlinewidth": 0,
             "ticks": ""
            },
            "type": "mesh3d"
           }
          ],
          "parcoords": [
           {
            "line": {
             "colorbar": {
              "outlinewidth": 0,
              "ticks": ""
             }
            },
            "type": "parcoords"
           }
          ],
          "pie": [
           {
            "automargin": true,
            "type": "pie"
           }
          ],
          "scatter": [
           {
            "marker": {
             "colorbar": {
              "outlinewidth": 0,
              "ticks": ""
             }
            },
            "type": "scatter"
           }
          ],
          "scatter3d": [
           {
            "line": {
             "colorbar": {
              "outlinewidth": 0,
              "ticks": ""
             }
            },
            "marker": {
             "colorbar": {
              "outlinewidth": 0,
              "ticks": ""
             }
            },
            "type": "scatter3d"
           }
          ],
          "scattercarpet": [
           {
            "marker": {
             "colorbar": {
              "outlinewidth": 0,
              "ticks": ""
             }
            },
            "type": "scattercarpet"
           }
          ],
          "scattergeo": [
           {
            "marker": {
             "colorbar": {
              "outlinewidth": 0,
              "ticks": ""
             }
            },
            "type": "scattergeo"
           }
          ],
          "scattergl": [
           {
            "marker": {
             "colorbar": {
              "outlinewidth": 0,
              "ticks": ""
             }
            },
            "type": "scattergl"
           }
          ],
          "scattermapbox": [
           {
            "marker": {
             "colorbar": {
              "outlinewidth": 0,
              "ticks": ""
             }
            },
            "type": "scattermapbox"
           }
          ],
          "scatterpolar": [
           {
            "marker": {
             "colorbar": {
              "outlinewidth": 0,
              "ticks": ""
             }
            },
            "type": "scatterpolar"
           }
          ],
          "scatterpolargl": [
           {
            "marker": {
             "colorbar": {
              "outlinewidth": 0,
              "ticks": ""
             }
            },
            "type": "scatterpolargl"
           }
          ],
          "scatterternary": [
           {
            "marker": {
             "colorbar": {
              "outlinewidth": 0,
              "ticks": ""
             }
            },
            "type": "scatterternary"
           }
          ],
          "surface": [
           {
            "colorbar": {
             "outlinewidth": 0,
             "ticks": ""
            },
            "colorscale": [
             [
              0,
              "#0d0887"
             ],
             [
              0.1111111111111111,
              "#46039f"
             ],
             [
              0.2222222222222222,
              "#7201a8"
             ],
             [
              0.3333333333333333,
              "#9c179e"
             ],
             [
              0.4444444444444444,
              "#bd3786"
             ],
             [
              0.5555555555555556,
              "#d8576b"
             ],
             [
              0.6666666666666666,
              "#ed7953"
             ],
             [
              0.7777777777777778,
              "#fb9f3a"
             ],
             [
              0.8888888888888888,
              "#fdca26"
             ],
             [
              1,
              "#f0f921"
             ]
            ],
            "type": "surface"
           }
          ],
          "table": [
           {
            "cells": {
             "fill": {
              "color": "#EBF0F8"
             },
             "line": {
              "color": "white"
             }
            },
            "header": {
             "fill": {
              "color": "#C8D4E3"
             },
             "line": {
              "color": "white"
             }
            },
            "type": "table"
           }
          ]
         },
         "layout": {
          "annotationdefaults": {
           "arrowcolor": "#2a3f5f",
           "arrowhead": 0,
           "arrowwidth": 1
          },
          "autotypenumbers": "strict",
          "coloraxis": {
           "colorbar": {
            "outlinewidth": 0,
            "ticks": ""
           }
          },
          "colorscale": {
           "diverging": [
            [
             0,
             "#8e0152"
            ],
            [
             0.1,
             "#c51b7d"
            ],
            [
             0.2,
             "#de77ae"
            ],
            [
             0.3,
             "#f1b6da"
            ],
            [
             0.4,
             "#fde0ef"
            ],
            [
             0.5,
             "#f7f7f7"
            ],
            [
             0.6,
             "#e6f5d0"
            ],
            [
             0.7,
             "#b8e186"
            ],
            [
             0.8,
             "#7fbc41"
            ],
            [
             0.9,
             "#4d9221"
            ],
            [
             1,
             "#276419"
            ]
           ],
           "sequential": [
            [
             0,
             "#0d0887"
            ],
            [
             0.1111111111111111,
             "#46039f"
            ],
            [
             0.2222222222222222,
             "#7201a8"
            ],
            [
             0.3333333333333333,
             "#9c179e"
            ],
            [
             0.4444444444444444,
             "#bd3786"
            ],
            [
             0.5555555555555556,
             "#d8576b"
            ],
            [
             0.6666666666666666,
             "#ed7953"
            ],
            [
             0.7777777777777778,
             "#fb9f3a"
            ],
            [
             0.8888888888888888,
             "#fdca26"
            ],
            [
             1,
             "#f0f921"
            ]
           ],
           "sequentialminus": [
            [
             0,
             "#0d0887"
            ],
            [
             0.1111111111111111,
             "#46039f"
            ],
            [
             0.2222222222222222,
             "#7201a8"
            ],
            [
             0.3333333333333333,
             "#9c179e"
            ],
            [
             0.4444444444444444,
             "#bd3786"
            ],
            [
             0.5555555555555556,
             "#d8576b"
            ],
            [
             0.6666666666666666,
             "#ed7953"
            ],
            [
             0.7777777777777778,
             "#fb9f3a"
            ],
            [
             0.8888888888888888,
             "#fdca26"
            ],
            [
             1,
             "#f0f921"
            ]
           ]
          },
          "colorway": [
           "#636efa",
           "#EF553B",
           "#00cc96",
           "#ab63fa",
           "#FFA15A",
           "#19d3f3",
           "#FF6692",
           "#B6E880",
           "#FF97FF",
           "#FECB52"
          ],
          "font": {
           "color": "#2a3f5f"
          },
          "geo": {
           "bgcolor": "white",
           "lakecolor": "white",
           "landcolor": "#E5ECF6",
           "showlakes": true,
           "showland": true,
           "subunitcolor": "white"
          },
          "hoverlabel": {
           "align": "left"
          },
          "hovermode": "closest",
          "mapbox": {
           "style": "light"
          },
          "paper_bgcolor": "white",
          "plot_bgcolor": "#E5ECF6",
          "polar": {
           "angularaxis": {
            "gridcolor": "white",
            "linecolor": "white",
            "ticks": ""
           },
           "bgcolor": "#E5ECF6",
           "radialaxis": {
            "gridcolor": "white",
            "linecolor": "white",
            "ticks": ""
           }
          },
          "scene": {
           "xaxis": {
            "backgroundcolor": "#E5ECF6",
            "gridcolor": "white",
            "gridwidth": 2,
            "linecolor": "white",
            "showbackground": true,
            "ticks": "",
            "zerolinecolor": "white"
           },
           "yaxis": {
            "backgroundcolor": "#E5ECF6",
            "gridcolor": "white",
            "gridwidth": 2,
            "linecolor": "white",
            "showbackground": true,
            "ticks": "",
            "zerolinecolor": "white"
           },
           "zaxis": {
            "backgroundcolor": "#E5ECF6",
            "gridcolor": "white",
            "gridwidth": 2,
            "linecolor": "white",
            "showbackground": true,
            "ticks": "",
            "zerolinecolor": "white"
           }
          },
          "shapedefaults": {
           "line": {
            "color": "#2a3f5f"
           }
          },
          "ternary": {
           "aaxis": {
            "gridcolor": "white",
            "linecolor": "white",
            "ticks": ""
           },
           "baxis": {
            "gridcolor": "white",
            "linecolor": "white",
            "ticks": ""
           },
           "bgcolor": "#E5ECF6",
           "caxis": {
            "gridcolor": "white",
            "linecolor": "white",
            "ticks": ""
           }
          },
          "title": {
           "x": 0.05
          },
          "xaxis": {
           "automargin": true,
           "gridcolor": "white",
           "linecolor": "white",
           "ticks": "",
           "title": {
            "standoff": 15
           },
           "zerolinecolor": "white",
           "zerolinewidth": 2
          },
          "yaxis": {
           "automargin": true,
           "gridcolor": "white",
           "linecolor": "white",
           "ticks": "",
           "title": {
            "standoff": 15
           },
           "zerolinecolor": "white",
           "zerolinewidth": 2
          }
         }
        },
        "width": 1000,
        "xaxis": {
         "autorange": true,
         "dtick": 1,
         "range": [
          1993.5,
          2021.5
         ],
         "showgrid": false,
         "tickangle": -90,
         "tickvals": [],
         "type": "linear"
        },
        "yaxis": {
         "dtick": 1,
         "range": [
          0,
          3
         ],
         "type": "linear"
        }
       }
      },
      "image/png": "[encoded data removed]",
      "text/html": [
       "<div>                            <div id=\"1d78339f-b759-4683-ae43-9f853b92f840\" class=\"plotly-graph-div\" style=\"height:200px; width:1000px;\"></div>            <script type=\"text/javascript\">                require([\"plotly\"], function(Plotly) {                    window.PLOTLYENV=window.PLOTLYENV || {};                                    if (document.getElementById(\"1d78339f-b759-4683-ae43-9f853b92f840\")) {                    Plotly.newPlot(                        \"1d78339f-b759-4683-ae43-9f853b92f840\",                        [{\"marker\":{\"color\":\"#073b4c\"},\"name\":\"Hyperelastic model studies\",\"text\":[0.0,0.0,0.0,0.0,0.0,0.0,0.0,0.0,0.0,1.0,2.0,0.0,2.0,0.0,0.0,2.0,1.0,0.0,1.0,2.0,1.0,0.0,0.0,0.0,0.0,0.0,0.0,0.0],\"textposition\":\"auto\",\"type\":\"bar\",\"x\":[1994,1995,1996,1997,1998,1999,2000,2001,2002,2003,2004,2005,2006,2007,2008,2009,2010,2011,2012,2013,2014,2015,2016,2017,2018,2019,2020,2021],\"y\":[0,0,0,0,0,0,0,0,0,1,2,0,2,0,0,2,1,0,1,2,1,0,0,0,0,0,0,0]},{\"marker\":{\"color\":\"#ffd166\"},\"name\":\"Visco-hyperelastic model studies\",\"text\":[0.0,0.0,0.0,0.0,0.0,0.0,0.0,0.0,0.0,0.0,0.0,0.0,0.0,0.0,0.0,0.0,0.0,0.0,0.0,0.0,0.0,0.0,0.0,0.0,0.0,0.0,0.0,0.0],\"textposition\":\"auto\",\"type\":\"bar\",\"x\":[1994,1995,1996,1997,1998,1999,2000,2001,2002,2003,2004,2005,2006,2007,2008,2009,2010,2011,2012,2013,2014,2015,2016,2017,2018,2019,2020,2021],\"y\":[0,0,0,0,0,0,0,0,0,0,0,0,0,0,0,0,0,0,0,0,0,0,0,0,0,0,0,0]},{\"marker\":{\"color\":\"#06d6a0\"},\"name\":\"Active model studies\",\"text\":[0.0,0.0,0.0,0.0,0.0,0.0,0.0,0.0,0.0,0.0,0.0,0.0,0.0,1.0,0.0,1.0,0.0,0.0,0.0,0.0,0.0,1.0,0.0,0.0,1.0,0.0,0.0,0.0],\"textposition\":\"auto\",\"type\":\"bar\",\"x\":[1994,1995,1996,1997,1998,1999,2000,2001,2002,2003,2004,2005,2006,2007,2008,2009,2010,2011,2012,2013,2014,2015,2016,2017,2018,2019,2020,2021],\"y\":[0,0,0,0,0,0,0,0,0,0,0,0,0,1,0,1,0,0,0,0,0,1,0,0,1,0,0,0]}],                        {\"annotations\":[{\"font\":{\"color\":\"black\",\"size\":14},\"showarrow\":false,\"text\":\"Esophagus\",\"x\":1,\"xref\":\"paper\",\"y\":0.95,\"yref\":\"paper\"}],\"autosize\":false,\"bargap\":0.5,\"barmode\":\"stack\",\"height\":200,\"legend\":{\"traceorder\":\"normal\",\"x\":0.01,\"xanchor\":\"left\",\"y\":0.99,\"yanchor\":\"top\"},\"margin\":{\"t\":30},\"plot_bgcolor\":\"rgba(242, 241, 239, 0.8)\",\"showlegend\":true,\"template\":{\"data\":{\"bar\":[{\"error_x\":{\"color\":\"#2a3f5f\"},\"error_y\":{\"color\":\"#2a3f5f\"},\"marker\":{\"line\":{\"color\":\"#E5ECF6\",\"width\":0.5},\"pattern\":{\"fillmode\":\"overlay\",\"size\":10,\"solidity\":0.2}},\"type\":\"bar\"}],\"barpolar\":[{\"marker\":{\"line\":{\"color\":\"#E5ECF6\",\"width\":0.5},\"pattern\":{\"fillmode\":\"overlay\",\"size\":10,\"solidity\":0.2}},\"type\":\"barpolar\"}],\"carpet\":[{\"aaxis\":{\"endlinecolor\":\"#2a3f5f\",\"gridcolor\":\"white\",\"linecolor\":\"white\",\"minorgridcolor\":\"white\",\"startlinecolor\":\"#2a3f5f\"},\"baxis\":{\"endlinecolor\":\"#2a3f5f\",\"gridcolor\":\"white\",\"linecolor\":\"white\",\"minorgridcolor\":\"white\",\"startlinecolor\":\"#2a3f5f\"},\"type\":\"carpet\"}],\"choropleth\":[{\"colorbar\":{\"outlinewidth\":0,\"ticks\":\"\"},\"type\":\"choropleth\"}],\"contour\":[{\"colorbar\":{\"outlinewidth\":0,\"ticks\":\"\"},\"colorscale\":[[0.0,\"#0d0887\"],[0.1111111111111111,\"#46039f\"],[0.2222222222222222,\"#7201a8\"],[0.3333333333333333,\"#9c179e\"],[0.4444444444444444,\"#bd3786\"],[0.5555555555555556,\"#d8576b\"],[0.6666666666666666,\"#ed7953\"],[0.7777777777777778,\"#fb9f3a\"],[0.8888888888888888,\"#fdca26\"],[1.0,\"#f0f921\"]],\"type\":\"contour\"}],\"contourcarpet\":[{\"colorbar\":{\"outlinewidth\":0,\"ticks\":\"\"},\"type\":\"contourcarpet\"}],\"heatmap\":[{\"colorbar\":{\"outlinewidth\":0,\"ticks\":\"\"},\"colorscale\":[[0.0,\"#0d0887\"],[0.1111111111111111,\"#46039f\"],[0.2222222222222222,\"#7201a8\"],[0.3333333333333333,\"#9c179e\"],[0.4444444444444444,\"#bd3786\"],[0.5555555555555556,\"#d8576b\"],[0.6666666666666666,\"#ed7953\"],[0.7777777777777778,\"#fb9f3a\"],[0.8888888888888888,\"#fdca26\"],[1.0,\"#f0f921\"]],\"type\":\"heatmap\"}],\"heatmapgl\":[{\"colorbar\":{\"outlinewidth\":0,\"ticks\":\"\"},\"colorscale\":[[0.0,\"#0d0887\"],[0.1111111111111111,\"#46039f\"],[0.2222222222222222,\"#7201a8\"],[0.3333333333333333,\"#9c179e\"],[0.4444444444444444,\"#bd3786\"],[0.5555555555555556,\"#d8576b\"],[0.6666666666666666,\"#ed7953\"],[0.7777777777777778,\"#fb9f3a\"],[0.8888888888888888,\"#fdca26\"],[1.0,\"#f0f921\"]],\"type\":\"heatmapgl\"}],\"histogram\":[{\"marker\":{\"pattern\":{\"fillmode\":\"overlay\",\"size\":10,\"solidity\":0.2}},\"type\":\"histogram\"}],\"histogram2d\":[{\"colorbar\":{\"outlinewidth\":0,\"ticks\":\"\"},\"colorscale\":[[0.0,\"#0d0887\"],[0.1111111111111111,\"#46039f\"],[0.2222222222222222,\"#7201a8\"],[0.3333333333333333,\"#9c179e\"],[0.4444444444444444,\"#bd3786\"],[0.5555555555555556,\"#d8576b\"],[0.6666666666666666,\"#ed7953\"],[0.7777777777777778,\"#fb9f3a\"],[0.8888888888888888,\"#fdca26\"],[1.0,\"#f0f921\"]],\"type\":\"histogram2d\"}],\"histogram2dcontour\":[{\"colorbar\":{\"outlinewidth\":0,\"ticks\":\"\"},\"colorscale\":[[0.0,\"#0d0887\"],[0.1111111111111111,\"#46039f\"],[0.2222222222222222,\"#7201a8\"],[0.3333333333333333,\"#9c179e\"],[0.4444444444444444,\"#bd3786\"],[0.5555555555555556,\"#d8576b\"],[0.6666666666666666,\"#ed7953\"],[0.7777777777777778,\"#fb9f3a\"],[0.8888888888888888,\"#fdca26\"],[1.0,\"#f0f921\"]],\"type\":\"histogram2dcontour\"}],\"mesh3d\":[{\"colorbar\":{\"outlinewidth\":0,\"ticks\":\"\"},\"type\":\"mesh3d\"}],\"parcoords\":[{\"line\":{\"colorbar\":{\"outlinewidth\":0,\"ticks\":\"\"}},\"type\":\"parcoords\"}],\"pie\":[{\"automargin\":true,\"type\":\"pie\"}],\"scatter\":[{\"marker\":{\"colorbar\":{\"outlinewidth\":0,\"ticks\":\"\"}},\"type\":\"scatter\"}],\"scatter3d\":[{\"line\":{\"colorbar\":{\"outlinewidth\":0,\"ticks\":\"\"}},\"marker\":{\"colorbar\":{\"outlinewidth\":0,\"ticks\":\"\"}},\"type\":\"scatter3d\"}],\"scattercarpet\":[{\"marker\":{\"colorbar\":{\"outlinewidth\":0,\"ticks\":\"\"}},\"type\":\"scattercarpet\"}],\"scattergeo\":[{\"marker\":{\"colorbar\":{\"outlinewidth\":0,\"ticks\":\"\"}},\"type\":\"scattergeo\"}],\"scattergl\":[{\"marker\":{\"colorbar\":{\"outlinewidth\":0,\"ticks\":\"\"}},\"type\":\"scattergl\"}],\"scattermapbox\":[{\"marker\":{\"colorbar\":{\"outlinewidth\":0,\"ticks\":\"\"}},\"type\":\"scattermapbox\"}],\"scatterpolar\":[{\"marker\":{\"colorbar\":{\"outlinewidth\":0,\"ticks\":\"\"}},\"type\":\"scatterpolar\"}],\"scatterpolargl\":[{\"marker\":{\"colorbar\":{\"outlinewidth\":0,\"ticks\":\"\"}},\"type\":\"scatterpolargl\"}],\"scatterternary\":[{\"marker\":{\"colorbar\":{\"outlinewidth\":0,\"ticks\":\"\"}},\"type\":\"scatterternary\"}],\"surface\":[{\"colorbar\":{\"outlinewidth\":0,\"ticks\":\"\"},\"colorscale\":[[0.0,\"#0d0887\"],[0.1111111111111111,\"#46039f\"],[0.2222222222222222,\"#7201a8\"],[0.3333333333333333,\"#9c179e\"],[0.4444444444444444,\"#bd3786\"],[0.5555555555555556,\"#d8576b\"],[0.6666666666666666,\"#ed7953\"],[0.7777777777777778,\"#fb9f3a\"],[0.8888888888888888,\"#fdca26\"],[1.0,\"#f0f921\"]],\"type\":\"surface\"}],\"table\":[{\"cells\":{\"fill\":{\"color\":\"#EBF0F8\"},\"line\":{\"color\":\"white\"}},\"header\":{\"fill\":{\"color\":\"#C8D4E3\"},\"line\":{\"color\":\"white\"}},\"type\":\"table\"}]},\"layout\":{\"annotationdefaults\":{\"arrowcolor\":\"#2a3f5f\",\"arrowhead\":0,\"arrowwidth\":1},\"autotypenumbers\":\"strict\",\"coloraxis\":{\"colorbar\":{\"outlinewidth\":0,\"ticks\":\"\"}},\"colorscale\":{\"diverging\":[[0,\"#8e0152\"],[0.1,\"#c51b7d\"],[0.2,\"#de77ae\"],[0.3,\"#f1b6da\"],[0.4,\"#fde0ef\"],[0.5,\"#f7f7f7\"],[0.6,\"#e6f5d0\"],[0.7,\"#b8e186\"],[0.8,\"#7fbc41\"],[0.9,\"#4d9221\"],[1,\"#276419\"]],\"sequential\":[[0.0,\"#0d0887\"],[0.1111111111111111,\"#46039f\"],[0.2222222222222222,\"#7201a8\"],[0.3333333333333333,\"#9c179e\"],[0.4444444444444444,\"#bd3786\"],[0.5555555555555556,\"#d8576b\"],[0.6666666666666666,\"#ed7953\"],[0.7777777777777778,\"#fb9f3a\"],[0.8888888888888888,\"#fdca26\"],[1.0,\"#f0f921\"]],\"sequentialminus\":[[0.0,\"#0d0887\"],[0.1111111111111111,\"#46039f\"],[0.2222222222222222,\"#7201a8\"],[0.3333333333333333,\"#9c179e\"],[0.4444444444444444,\"#bd3786\"],[0.5555555555555556,\"#d8576b\"],[0.6666666666666666,\"#ed7953\"],[0.7777777777777778,\"#fb9f3a\"],[0.8888888888888888,\"#fdca26\"],[1.0,\"#f0f921\"]]},\"colorway\":[\"#636efa\",\"#EF553B\",\"#00cc96\",\"#ab63fa\",\"#FFA15A\",\"#19d3f3\",\"#FF6692\",\"#B6E880\",\"#FF97FF\",\"#FECB52\"],\"font\":{\"color\":\"#2a3f5f\"},\"geo\":{\"bgcolor\":\"white\",\"lakecolor\":\"white\",\"landcolor\":\"#E5ECF6\",\"showlakes\":true,\"showland\":true,\"subunitcolor\":\"white\"},\"hoverlabel\":{\"align\":\"left\"},\"hovermode\":\"closest\",\"mapbox\":{\"style\":\"light\"},\"paper_bgcolor\":\"white\",\"plot_bgcolor\":\"#E5ECF6\",\"polar\":{\"angularaxis\":{\"gridcolor\":\"white\",\"linecolor\":\"white\",\"ticks\":\"\"},\"bgcolor\":\"#E5ECF6\",\"radialaxis\":{\"gridcolor\":\"white\",\"linecolor\":\"white\",\"ticks\":\"\"}},\"scene\":{\"xaxis\":{\"backgroundcolor\":\"#E5ECF6\",\"gridcolor\":\"white\",\"gridwidth\":2,\"linecolor\":\"white\",\"showbackground\":true,\"ticks\":\"\",\"zerolinecolor\":\"white\"},\"yaxis\":{\"backgroundcolor\":\"#E5ECF6\",\"gridcolor\":\"white\",\"gridwidth\":2,\"linecolor\":\"white\",\"showbackground\":true,\"ticks\":\"\",\"zerolinecolor\":\"white\"},\"zaxis\":{\"backgroundcolor\":\"#E5ECF6\",\"gridcolor\":\"white\",\"gridwidth\":2,\"linecolor\":\"white\",\"showbackground\":true,\"ticks\":\"\",\"zerolinecolor\":\"white\"}},\"shapedefaults\":{\"line\":{\"color\":\"#2a3f5f\"}},\"ternary\":{\"aaxis\":{\"gridcolor\":\"white\",\"linecolor\":\"white\",\"ticks\":\"\"},\"baxis\":{\"gridcolor\":\"white\",\"linecolor\":\"white\",\"ticks\":\"\"},\"bgcolor\":\"#E5ECF6\",\"caxis\":{\"gridcolor\":\"white\",\"linecolor\":\"white\",\"ticks\":\"\"}},\"title\":{\"x\":0.05},\"xaxis\":{\"automargin\":true,\"gridcolor\":\"white\",\"linecolor\":\"white\",\"ticks\":\"\",\"title\":{\"standoff\":15},\"zerolinecolor\":\"white\",\"zerolinewidth\":2},\"yaxis\":{\"automargin\":true,\"gridcolor\":\"white\",\"linecolor\":\"white\",\"ticks\":\"\",\"title\":{\"standoff\":15},\"zerolinecolor\":\"white\",\"zerolinewidth\":2}}},\"width\":1000,\"xaxis\":{\"dtick\":1,\"showgrid\":false,\"tickangle\":-90,\"tickvals\":[]},\"yaxis\":{\"dtick\":1,\"range\":[0,3]}},                        {\"responsive\": true}                    ).then(function(){\n",
       "                            \n",
       "var gd = document.getElementById('1d78339f-b759-4683-ae43-9f853b92f840');\n",
       "var x = new MutationObserver(function (mutations, observer) {{\n",
       "        var display = window.getComputedStyle(gd).display;\n",
       "        if (!display || display === 'none') {{\n",
       "            console.log([gd, 'removed!']);\n",
       "            Plotly.purge(gd);\n",
       "            observer.disconnect();\n",
       "        }}\n",
       "}});\n",
       "\n",
       "// Listen for the removal of the full notebook cells\n",
       "var notebookContainer = gd.closest('#notebook-container');\n",
       "if (notebookContainer) {{\n",
       "    x.observe(notebookContainer, {childList: true});\n",
       "}}\n",
       "\n",
       "// Listen for the clearing of the current output cell\n",
       "var outputEl = gd.closest('.output');\n",
       "if (outputEl) {{\n",
       "    x.observe(outputEl, {childList: true});\n",
       "}}\n",
       "\n",
       "                        })                };                });            </script>        </div>"
      ]
     },
     "metadata": {},
     "output_type": "display_data"
    },
    {
     "data": {
      "application/vnd.plotly.v1+json": {
       "config": {
        "plotlyServerURL": "https://plot.ly"
       },
       "data": [
        {
         "marker": {
          "color": "#073b4c"
         },
         "name": "Hyperelastic model studies",
         "text": [
          0,
          0,
          0,
          0,
          0,
          0,
          0,
          0,
          0,
          0,
          0,
          0,
          0,
          0,
          1,
          0,
          0,
          0,
          0,
          0,
          0,
          0,
          1,
          1,
          0,
          0,
          0,
          0
         ],
         "textposition": "auto",
         "type": "bar",
         "x": [
          1994,
          1995,
          1996,
          1997,
          1998,
          1999,
          2000,
          2001,
          2002,
          2003,
          2004,
          2005,
          2006,
          2007,
          2008,
          2009,
          2010,
          2011,
          2012,
          2013,
          2014,
          2015,
          2016,
          2017,
          2018,
          2019,
          2020,
          2021
         ],
         "y": [
          0,
          0,
          0,
          0,
          0,
          0,
          0,
          0,
          0,
          0,
          0,
          0,
          0,
          0,
          1,
          0,
          0,
          0,
          0,
          0,
          0,
          0,
          1,
          1,
          0,
          0,
          0,
          0
         ]
        },
        {
         "marker": {
          "color": "#ffd166"
         },
         "name": "Visco-hyperelastic model studies",
         "text": [
          0,
          0,
          0,
          0,
          0,
          0,
          0,
          0,
          0,
          0,
          0,
          0,
          0,
          0,
          0,
          0,
          0,
          0,
          0,
          0,
          0,
          0,
          0,
          0,
          0,
          1,
          0,
          0
         ],
         "textposition": "auto",
         "type": "bar",
         "x": [
          1994,
          1995,
          1996,
          1997,
          1998,
          1999,
          2000,
          2001,
          2002,
          2003,
          2004,
          2005,
          2006,
          2007,
          2008,
          2009,
          2010,
          2011,
          2012,
          2013,
          2014,
          2015,
          2016,
          2017,
          2018,
          2019,
          2020,
          2021
         ],
         "y": [
          0,
          0,
          0,
          0,
          0,
          0,
          0,
          0,
          0,
          0,
          0,
          0,
          0,
          0,
          0,
          0,
          0,
          0,
          0,
          0,
          0,
          0,
          0,
          0,
          0,
          1,
          0,
          0
         ]
        },
        {
         "marker": {
          "color": "#06d6a0"
         },
         "name": "Active model studies",
         "text": [
          0,
          0,
          0,
          0,
          0,
          0,
          0,
          0,
          0,
          0,
          0,
          0,
          0,
          0,
          0,
          0,
          0,
          0,
          0,
          0,
          0,
          0,
          0,
          0,
          1,
          0,
          1,
          0
         ],
         "textposition": "auto",
         "type": "bar",
         "x": [
          1994,
          1995,
          1996,
          1997,
          1998,
          1999,
          2000,
          2001,
          2002,
          2003,
          2004,
          2005,
          2006,
          2007,
          2008,
          2009,
          2010,
          2011,
          2012,
          2013,
          2014,
          2015,
          2016,
          2017,
          2018,
          2019,
          2020,
          2021
         ],
         "y": [
          0,
          0,
          0,
          0,
          0,
          0,
          0,
          0,
          0,
          0,
          0,
          0,
          0,
          0,
          0,
          0,
          0,
          0,
          0,
          0,
          0,
          0,
          0,
          0,
          1,
          0,
          1,
          0
         ]
        }
       ],
       "layout": {
        "annotations": [
         {
          "font": {
           "color": "black",
           "size": 14
          },
          "showarrow": false,
          "text": "Stomach",
          "x": 1,
          "xref": "paper",
          "y": 0.95,
          "yref": "paper"
         }
        ],
        "autosize": false,
        "bargap": 0.5,
        "barmode": "stack",
        "height": 200,
        "margin": {
         "t": 30
        },
        "plot_bgcolor": "rgba(242, 241, 239, 0.8)",
        "showlegend": false,
        "template": {
         "data": {
          "bar": [
           {
            "error_x": {
             "color": "#2a3f5f"
            },
            "error_y": {
             "color": "#2a3f5f"
            },
            "marker": {
             "line": {
              "color": "#E5ECF6",
              "width": 0.5
             },
             "pattern": {
              "fillmode": "overlay",
              "size": 10,
              "solidity": 0.2
             }
            },
            "type": "bar"
           }
          ],
          "barpolar": [
           {
            "marker": {
             "line": {
              "color": "#E5ECF6",
              "width": 0.5
             },
             "pattern": {
              "fillmode": "overlay",
              "size": 10,
              "solidity": 0.2
             }
            },
            "type": "barpolar"
           }
          ],
          "carpet": [
           {
            "aaxis": {
             "endlinecolor": "#2a3f5f",
             "gridcolor": "white",
             "linecolor": "white",
             "minorgridcolor": "white",
             "startlinecolor": "#2a3f5f"
            },
            "baxis": {
             "endlinecolor": "#2a3f5f",
             "gridcolor": "white",
             "linecolor": "white",
             "minorgridcolor": "white",
             "startlinecolor": "#2a3f5f"
            },
            "type": "carpet"
           }
          ],
          "choropleth": [
           {
            "colorbar": {
             "outlinewidth": 0,
             "ticks": ""
            },
            "type": "choropleth"
           }
          ],
          "contour": [
           {
            "colorbar": {
             "outlinewidth": 0,
             "ticks": ""
            },
            "colorscale": [
             [
              0,
              "#0d0887"
             ],
             [
              0.1111111111111111,
              "#46039f"
             ],
             [
              0.2222222222222222,
              "#7201a8"
             ],
             [
              0.3333333333333333,
              "#9c179e"
             ],
             [
              0.4444444444444444,
              "#bd3786"
             ],
             [
              0.5555555555555556,
              "#d8576b"
             ],
             [
              0.6666666666666666,
              "#ed7953"
             ],
             [
              0.7777777777777778,
              "#fb9f3a"
             ],
             [
              0.8888888888888888,
              "#fdca26"
             ],
             [
              1,
              "#f0f921"
             ]
            ],
            "type": "contour"
           }
          ],
          "contourcarpet": [
           {
            "colorbar": {
             "outlinewidth": 0,
             "ticks": ""
            },
            "type": "contourcarpet"
           }
          ],
          "heatmap": [
           {
            "colorbar": {
             "outlinewidth": 0,
             "ticks": ""
            },
            "colorscale": [
             [
              0,
              "#0d0887"
             ],
             [
              0.1111111111111111,
              "#46039f"
             ],
             [
              0.2222222222222222,
              "#7201a8"
             ],
             [
              0.3333333333333333,
              "#9c179e"
             ],
             [
              0.4444444444444444,
              "#bd3786"
             ],
             [
              0.5555555555555556,
              "#d8576b"
             ],
             [
              0.6666666666666666,
              "#ed7953"
             ],
             [
              0.7777777777777778,
              "#fb9f3a"
             ],
             [
              0.8888888888888888,
              "#fdca26"
             ],
             [
              1,
              "#f0f921"
             ]
            ],
            "type": "heatmap"
           }
          ],
          "heatmapgl": [
           {
            "colorbar": {
             "outlinewidth": 0,
             "ticks": ""
            },
            "colorscale": [
             [
              0,
              "#0d0887"
             ],
             [
              0.1111111111111111,
              "#46039f"
             ],
             [
              0.2222222222222222,
              "#7201a8"
             ],
             [
              0.3333333333333333,
              "#9c179e"
             ],
             [
              0.4444444444444444,
              "#bd3786"
             ],
             [
              0.5555555555555556,
              "#d8576b"
             ],
             [
              0.6666666666666666,
              "#ed7953"
             ],
             [
              0.7777777777777778,
              "#fb9f3a"
             ],
             [
              0.8888888888888888,
              "#fdca26"
             ],
             [
              1,
              "#f0f921"
             ]
            ],
            "type": "heatmapgl"
           }
          ],
          "histogram": [
           {
            "marker": {
             "pattern": {
              "fillmode": "overlay",
              "size": 10,
              "solidity": 0.2
             }
            },
            "type": "histogram"
           }
          ],
          "histogram2d": [
           {
            "colorbar": {
             "outlinewidth": 0,
             "ticks": ""
            },
            "colorscale": [
             [
              0,
              "#0d0887"
             ],
             [
              0.1111111111111111,
              "#46039f"
             ],
             [
              0.2222222222222222,
              "#7201a8"
             ],
             [
              0.3333333333333333,
              "#9c179e"
             ],
             [
              0.4444444444444444,
              "#bd3786"
             ],
             [
              0.5555555555555556,
              "#d8576b"
             ],
             [
              0.6666666666666666,
              "#ed7953"
             ],
             [
              0.7777777777777778,
              "#fb9f3a"
             ],
             [
              0.8888888888888888,
              "#fdca26"
             ],
             [
              1,
              "#f0f921"
             ]
            ],
            "type": "histogram2d"
           }
          ],
          "histogram2dcontour": [
           {
            "colorbar": {
             "outlinewidth": 0,
             "ticks": ""
            },
            "colorscale": [
             [
              0,
              "#0d0887"
             ],
             [
              0.1111111111111111,
              "#46039f"
             ],
             [
              0.2222222222222222,
              "#7201a8"
             ],
             [
              0.3333333333333333,
              "#9c179e"
             ],
             [
              0.4444444444444444,
              "#bd3786"
             ],
             [
              0.5555555555555556,
              "#d8576b"
             ],
             [
              0.6666666666666666,
              "#ed7953"
             ],
             [
              0.7777777777777778,
              "#fb9f3a"
             ],
             [
              0.8888888888888888,
              "#fdca26"
             ],
             [
              1,
              "#f0f921"
             ]
            ],
            "type": "histogram2dcontour"
           }
          ],
          "mesh3d": [
           {
            "colorbar": {
             "outlinewidth": 0,
             "ticks": ""
            },
            "type": "mesh3d"
           }
          ],
          "parcoords": [
           {
            "line": {
             "colorbar": {
              "outlinewidth": 0,
              "ticks": ""
             }
            },
            "type": "parcoords"
           }
          ],
          "pie": [
           {
            "automargin": true,
            "type": "pie"
           }
          ],
          "scatter": [
           {
            "marker": {
             "colorbar": {
              "outlinewidth": 0,
              "ticks": ""
             }
            },
            "type": "scatter"
           }
          ],
          "scatter3d": [
           {
            "line": {
             "colorbar": {
              "outlinewidth": 0,
              "ticks": ""
             }
            },
            "marker": {
             "colorbar": {
              "outlinewidth": 0,
              "ticks": ""
             }
            },
            "type": "scatter3d"
           }
          ],
          "scattercarpet": [
           {
            "marker": {
             "colorbar": {
              "outlinewidth": 0,
              "ticks": ""
             }
            },
            "type": "scattercarpet"
           }
          ],
          "scattergeo": [
           {
            "marker": {
             "colorbar": {
              "outlinewidth": 0,
              "ticks": ""
             }
            },
            "type": "scattergeo"
           }
          ],
          "scattergl": [
           {
            "marker": {
             "colorbar": {
              "outlinewidth": 0,
              "ticks": ""
             }
            },
            "type": "scattergl"
           }
          ],
          "scattermapbox": [
           {
            "marker": {
             "colorbar": {
              "outlinewidth": 0,
              "ticks": ""
             }
            },
            "type": "scattermapbox"
           }
          ],
          "scatterpolar": [
           {
            "marker": {
             "colorbar": {
              "outlinewidth": 0,
              "ticks": ""
             }
            },
            "type": "scatterpolar"
           }
          ],
          "scatterpolargl": [
           {
            "marker": {
             "colorbar": {
              "outlinewidth": 0,
              "ticks": ""
             }
            },
            "type": "scatterpolargl"
           }
          ],
          "scatterternary": [
           {
            "marker": {
             "colorbar": {
              "outlinewidth": 0,
              "ticks": ""
             }
            },
            "type": "scatterternary"
           }
          ],
          "surface": [
           {
            "colorbar": {
             "outlinewidth": 0,
             "ticks": ""
            },
            "colorscale": [
             [
              0,
              "#0d0887"
             ],
             [
              0.1111111111111111,
              "#46039f"
             ],
             [
              0.2222222222222222,
              "#7201a8"
             ],
             [
              0.3333333333333333,
              "#9c179e"
             ],
             [
              0.4444444444444444,
              "#bd3786"
             ],
             [
              0.5555555555555556,
              "#d8576b"
             ],
             [
              0.6666666666666666,
              "#ed7953"
             ],
             [
              0.7777777777777778,
              "#fb9f3a"
             ],
             [
              0.8888888888888888,
              "#fdca26"
             ],
             [
              1,
              "#f0f921"
             ]
            ],
            "type": "surface"
           }
          ],
          "table": [
           {
            "cells": {
             "fill": {
              "color": "#EBF0F8"
             },
             "line": {
              "color": "white"
             }
            },
            "header": {
             "fill": {
              "color": "#C8D4E3"
             },
             "line": {
              "color": "white"
             }
            },
            "type": "table"
           }
          ]
         },
         "layout": {
          "annotationdefaults": {
           "arrowcolor": "#2a3f5f",
           "arrowhead": 0,
           "arrowwidth": 1
          },
          "autotypenumbers": "strict",
          "coloraxis": {
           "colorbar": {
            "outlinewidth": 0,
            "ticks": ""
           }
          },
          "colorscale": {
           "diverging": [
            [
             0,
             "#8e0152"
            ],
            [
             0.1,
             "#c51b7d"
            ],
            [
             0.2,
             "#de77ae"
            ],
            [
             0.3,
             "#f1b6da"
            ],
            [
             0.4,
             "#fde0ef"
            ],
            [
             0.5,
             "#f7f7f7"
            ],
            [
             0.6,
             "#e6f5d0"
            ],
            [
             0.7,
             "#b8e186"
            ],
            [
             0.8,
             "#7fbc41"
            ],
            [
             0.9,
             "#4d9221"
            ],
            [
             1,
             "#276419"
            ]
           ],
           "sequential": [
            [
             0,
             "#0d0887"
            ],
            [
             0.1111111111111111,
             "#46039f"
            ],
            [
             0.2222222222222222,
             "#7201a8"
            ],
            [
             0.3333333333333333,
             "#9c179e"
            ],
            [
             0.4444444444444444,
             "#bd3786"
            ],
            [
             0.5555555555555556,
             "#d8576b"
            ],
            [
             0.6666666666666666,
             "#ed7953"
            ],
            [
             0.7777777777777778,
             "#fb9f3a"
            ],
            [
             0.8888888888888888,
             "#fdca26"
            ],
            [
             1,
             "#f0f921"
            ]
           ],
           "sequentialminus": [
            [
             0,
             "#0d0887"
            ],
            [
             0.1111111111111111,
             "#46039f"
            ],
            [
             0.2222222222222222,
             "#7201a8"
            ],
            [
             0.3333333333333333,
             "#9c179e"
            ],
            [
             0.4444444444444444,
             "#bd3786"
            ],
            [
             0.5555555555555556,
             "#d8576b"
            ],
            [
             0.6666666666666666,
             "#ed7953"
            ],
            [
             0.7777777777777778,
             "#fb9f3a"
            ],
            [
             0.8888888888888888,
             "#fdca26"
            ],
            [
             1,
             "#f0f921"
            ]
           ]
          },
          "colorway": [
           "#636efa",
           "#EF553B",
           "#00cc96",
           "#ab63fa",
           "#FFA15A",
           "#19d3f3",
           "#FF6692",
           "#B6E880",
           "#FF97FF",
           "#FECB52"
          ],
          "font": {
           "color": "#2a3f5f"
          },
          "geo": {
           "bgcolor": "white",
           "lakecolor": "white",
           "landcolor": "#E5ECF6",
           "showlakes": true,
           "showland": true,
           "subunitcolor": "white"
          },
          "hoverlabel": {
           "align": "left"
          },
          "hovermode": "closest",
          "mapbox": {
           "style": "light"
          },
          "paper_bgcolor": "white",
          "plot_bgcolor": "#E5ECF6",
          "polar": {
           "angularaxis": {
            "gridcolor": "white",
            "linecolor": "white",
            "ticks": ""
           },
           "bgcolor": "#E5ECF6",
           "radialaxis": {
            "gridcolor": "white",
            "linecolor": "white",
            "ticks": ""
           }
          },
          "scene": {
           "xaxis": {
            "backgroundcolor": "#E5ECF6",
            "gridcolor": "white",
            "gridwidth": 2,
            "linecolor": "white",
            "showbackground": true,
            "ticks": "",
            "zerolinecolor": "white"
           },
           "yaxis": {
            "backgroundcolor": "#E5ECF6",
            "gridcolor": "white",
            "gridwidth": 2,
            "linecolor": "white",
            "showbackground": true,
            "ticks": "",
            "zerolinecolor": "white"
           },
           "zaxis": {
            "backgroundcolor": "#E5ECF6",
            "gridcolor": "white",
            "gridwidth": 2,
            "linecolor": "white",
            "showbackground": true,
            "ticks": "",
            "zerolinecolor": "white"
           }
          },
          "shapedefaults": {
           "line": {
            "color": "#2a3f5f"
           }
          },
          "ternary": {
           "aaxis": {
            "gridcolor": "white",
            "linecolor": "white",
            "ticks": ""
           },
           "baxis": {
            "gridcolor": "white",
            "linecolor": "white",
            "ticks": ""
           },
           "bgcolor": "#E5ECF6",
           "caxis": {
            "gridcolor": "white",
            "linecolor": "white",
            "ticks": ""
           }
          },
          "title": {
           "x": 0.05
          },
          "xaxis": {
           "automargin": true,
           "gridcolor": "white",
           "linecolor": "white",
           "ticks": "",
           "title": {
            "standoff": 15
           },
           "zerolinecolor": "white",
           "zerolinewidth": 2
          },
          "yaxis": {
           "automargin": true,
           "gridcolor": "white",
           "linecolor": "white",
           "ticks": "",
           "title": {
            "standoff": 15
           },
           "zerolinecolor": "white",
           "zerolinewidth": 2
          }
         }
        },
        "width": 1000,
        "xaxis": {
         "autorange": true,
         "dtick": 1,
         "range": [
          1993.5,
          2021.5
         ],
         "showgrid": false,
         "tickangle": -90,
         "tickvals": [],
         "type": "linear"
        },
        "yaxis": {
         "dtick": 1,
         "range": [
          0,
          3
         ],
         "type": "linear"
        }
       }
      },
      "image/png": "[encoded data removed]",
      "text/html": [
       "<div>                            <div id=\"1e380870-8642-4cda-bf6e-efe8fe46694a\" class=\"plotly-graph-div\" style=\"height:200px; width:1000px;\"></div>            <script type=\"text/javascript\">                require([\"plotly\"], function(Plotly) {                    window.PLOTLYENV=window.PLOTLYENV || {};                                    if (document.getElementById(\"1e380870-8642-4cda-bf6e-efe8fe46694a\")) {                    Plotly.newPlot(                        \"1e380870-8642-4cda-bf6e-efe8fe46694a\",                        [{\"marker\":{\"color\":\"#073b4c\"},\"name\":\"Hyperelastic model studies\",\"text\":[0.0,0.0,0.0,0.0,0.0,0.0,0.0,0.0,0.0,0.0,0.0,0.0,0.0,0.0,1.0,0.0,0.0,0.0,0.0,0.0,0.0,0.0,1.0,1.0,0.0,0.0,0.0,0.0],\"textposition\":\"auto\",\"type\":\"bar\",\"x\":[1994,1995,1996,1997,1998,1999,2000,2001,2002,2003,2004,2005,2006,2007,2008,2009,2010,2011,2012,2013,2014,2015,2016,2017,2018,2019,2020,2021],\"y\":[0,0,0,0,0,0,0,0,0,0,0,0,0,0,1,0,0,0,0,0,0,0,1,1,0,0,0,0]},{\"marker\":{\"color\":\"#ffd166\"},\"name\":\"Visco-hyperelastic model studies\",\"text\":[0.0,0.0,0.0,0.0,0.0,0.0,0.0,0.0,0.0,0.0,0.0,0.0,0.0,0.0,0.0,0.0,0.0,0.0,0.0,0.0,0.0,0.0,0.0,0.0,0.0,1.0,0.0,0.0],\"textposition\":\"auto\",\"type\":\"bar\",\"x\":[1994,1995,1996,1997,1998,1999,2000,2001,2002,2003,2004,2005,2006,2007,2008,2009,2010,2011,2012,2013,2014,2015,2016,2017,2018,2019,2020,2021],\"y\":[0,0,0,0,0,0,0,0,0,0,0,0,0,0,0,0,0,0,0,0,0,0,0,0,0,1,0,0]},{\"marker\":{\"color\":\"#06d6a0\"},\"name\":\"Active model studies\",\"text\":[0.0,0.0,0.0,0.0,0.0,0.0,0.0,0.0,0.0,0.0,0.0,0.0,0.0,0.0,0.0,0.0,0.0,0.0,0.0,0.0,0.0,0.0,0.0,0.0,1.0,0.0,1.0,0.0],\"textposition\":\"auto\",\"type\":\"bar\",\"x\":[1994,1995,1996,1997,1998,1999,2000,2001,2002,2003,2004,2005,2006,2007,2008,2009,2010,2011,2012,2013,2014,2015,2016,2017,2018,2019,2020,2021],\"y\":[0,0,0,0,0,0,0,0,0,0,0,0,0,0,0,0,0,0,0,0,0,0,0,0,1,0,1,0]}],                        {\"annotations\":[{\"font\":{\"color\":\"black\",\"size\":14},\"showarrow\":false,\"text\":\"Stomach\",\"x\":1,\"xref\":\"paper\",\"y\":0.95,\"yref\":\"paper\"}],\"autosize\":false,\"bargap\":0.5,\"barmode\":\"stack\",\"height\":200,\"margin\":{\"t\":30},\"plot_bgcolor\":\"rgba(242, 241, 239, 0.8)\",\"showlegend\":false,\"template\":{\"data\":{\"bar\":[{\"error_x\":{\"color\":\"#2a3f5f\"},\"error_y\":{\"color\":\"#2a3f5f\"},\"marker\":{\"line\":{\"color\":\"#E5ECF6\",\"width\":0.5},\"pattern\":{\"fillmode\":\"overlay\",\"size\":10,\"solidity\":0.2}},\"type\":\"bar\"}],\"barpolar\":[{\"marker\":{\"line\":{\"color\":\"#E5ECF6\",\"width\":0.5},\"pattern\":{\"fillmode\":\"overlay\",\"size\":10,\"solidity\":0.2}},\"type\":\"barpolar\"}],\"carpet\":[{\"aaxis\":{\"endlinecolor\":\"#2a3f5f\",\"gridcolor\":\"white\",\"linecolor\":\"white\",\"minorgridcolor\":\"white\",\"startlinecolor\":\"#2a3f5f\"},\"baxis\":{\"endlinecolor\":\"#2a3f5f\",\"gridcolor\":\"white\",\"linecolor\":\"white\",\"minorgridcolor\":\"white\",\"startlinecolor\":\"#2a3f5f\"},\"type\":\"carpet\"}],\"choropleth\":[{\"colorbar\":{\"outlinewidth\":0,\"ticks\":\"\"},\"type\":\"choropleth\"}],\"contour\":[{\"colorbar\":{\"outlinewidth\":0,\"ticks\":\"\"},\"colorscale\":[[0.0,\"#0d0887\"],[0.1111111111111111,\"#46039f\"],[0.2222222222222222,\"#7201a8\"],[0.3333333333333333,\"#9c179e\"],[0.4444444444444444,\"#bd3786\"],[0.5555555555555556,\"#d8576b\"],[0.6666666666666666,\"#ed7953\"],[0.7777777777777778,\"#fb9f3a\"],[0.8888888888888888,\"#fdca26\"],[1.0,\"#f0f921\"]],\"type\":\"contour\"}],\"contourcarpet\":[{\"colorbar\":{\"outlinewidth\":0,\"ticks\":\"\"},\"type\":\"contourcarpet\"}],\"heatmap\":[{\"colorbar\":{\"outlinewidth\":0,\"ticks\":\"\"},\"colorscale\":[[0.0,\"#0d0887\"],[0.1111111111111111,\"#46039f\"],[0.2222222222222222,\"#7201a8\"],[0.3333333333333333,\"#9c179e\"],[0.4444444444444444,\"#bd3786\"],[0.5555555555555556,\"#d8576b\"],[0.6666666666666666,\"#ed7953\"],[0.7777777777777778,\"#fb9f3a\"],[0.8888888888888888,\"#fdca26\"],[1.0,\"#f0f921\"]],\"type\":\"heatmap\"}],\"heatmapgl\":[{\"colorbar\":{\"outlinewidth\":0,\"ticks\":\"\"},\"colorscale\":[[0.0,\"#0d0887\"],[0.1111111111111111,\"#46039f\"],[0.2222222222222222,\"#7201a8\"],[0.3333333333333333,\"#9c179e\"],[0.4444444444444444,\"#bd3786\"],[0.5555555555555556,\"#d8576b\"],[0.6666666666666666,\"#ed7953\"],[0.7777777777777778,\"#fb9f3a\"],[0.8888888888888888,\"#fdca26\"],[1.0,\"#f0f921\"]],\"type\":\"heatmapgl\"}],\"histogram\":[{\"marker\":{\"pattern\":{\"fillmode\":\"overlay\",\"size\":10,\"solidity\":0.2}},\"type\":\"histogram\"}],\"histogram2d\":[{\"colorbar\":{\"outlinewidth\":0,\"ticks\":\"\"},\"colorscale\":[[0.0,\"#0d0887\"],[0.1111111111111111,\"#46039f\"],[0.2222222222222222,\"#7201a8\"],[0.3333333333333333,\"#9c179e\"],[0.4444444444444444,\"#bd3786\"],[0.5555555555555556,\"#d8576b\"],[0.6666666666666666,\"#ed7953\"],[0.7777777777777778,\"#fb9f3a\"],[0.8888888888888888,\"#fdca26\"],[1.0,\"#f0f921\"]],\"type\":\"histogram2d\"}],\"histogram2dcontour\":[{\"colorbar\":{\"outlinewidth\":0,\"ticks\":\"\"},\"colorscale\":[[0.0,\"#0d0887\"],[0.1111111111111111,\"#46039f\"],[0.2222222222222222,\"#7201a8\"],[0.3333333333333333,\"#9c179e\"],[0.4444444444444444,\"#bd3786\"],[0.5555555555555556,\"#d8576b\"],[0.6666666666666666,\"#ed7953\"],[0.7777777777777778,\"#fb9f3a\"],[0.8888888888888888,\"#fdca26\"],[1.0,\"#f0f921\"]],\"type\":\"histogram2dcontour\"}],\"mesh3d\":[{\"colorbar\":{\"outlinewidth\":0,\"ticks\":\"\"},\"type\":\"mesh3d\"}],\"parcoords\":[{\"line\":{\"colorbar\":{\"outlinewidth\":0,\"ticks\":\"\"}},\"type\":\"parcoords\"}],\"pie\":[{\"automargin\":true,\"type\":\"pie\"}],\"scatter\":[{\"marker\":{\"colorbar\":{\"outlinewidth\":0,\"ticks\":\"\"}},\"type\":\"scatter\"}],\"scatter3d\":[{\"line\":{\"colorbar\":{\"outlinewidth\":0,\"ticks\":\"\"}},\"marker\":{\"colorbar\":{\"outlinewidth\":0,\"ticks\":\"\"}},\"type\":\"scatter3d\"}],\"scattercarpet\":[{\"marker\":{\"colorbar\":{\"outlinewidth\":0,\"ticks\":\"\"}},\"type\":\"scattercarpet\"}],\"scattergeo\":[{\"marker\":{\"colorbar\":{\"outlinewidth\":0,\"ticks\":\"\"}},\"type\":\"scattergeo\"}],\"scattergl\":[{\"marker\":{\"colorbar\":{\"outlinewidth\":0,\"ticks\":\"\"}},\"type\":\"scattergl\"}],\"scattermapbox\":[{\"marker\":{\"colorbar\":{\"outlinewidth\":0,\"ticks\":\"\"}},\"type\":\"scattermapbox\"}],\"scatterpolar\":[{\"marker\":{\"colorbar\":{\"outlinewidth\":0,\"ticks\":\"\"}},\"type\":\"scatterpolar\"}],\"scatterpolargl\":[{\"marker\":{\"colorbar\":{\"outlinewidth\":0,\"ticks\":\"\"}},\"type\":\"scatterpolargl\"}],\"scatterternary\":[{\"marker\":{\"colorbar\":{\"outlinewidth\":0,\"ticks\":\"\"}},\"type\":\"scatterternary\"}],\"surface\":[{\"colorbar\":{\"outlinewidth\":0,\"ticks\":\"\"},\"colorscale\":[[0.0,\"#0d0887\"],[0.1111111111111111,\"#46039f\"],[0.2222222222222222,\"#7201a8\"],[0.3333333333333333,\"#9c179e\"],[0.4444444444444444,\"#bd3786\"],[0.5555555555555556,\"#d8576b\"],[0.6666666666666666,\"#ed7953\"],[0.7777777777777778,\"#fb9f3a\"],[0.8888888888888888,\"#fdca26\"],[1.0,\"#f0f921\"]],\"type\":\"surface\"}],\"table\":[{\"cells\":{\"fill\":{\"color\":\"#EBF0F8\"},\"line\":{\"color\":\"white\"}},\"header\":{\"fill\":{\"color\":\"#C8D4E3\"},\"line\":{\"color\":\"white\"}},\"type\":\"table\"}]},\"layout\":{\"annotationdefaults\":{\"arrowcolor\":\"#2a3f5f\",\"arrowhead\":0,\"arrowwidth\":1},\"autotypenumbers\":\"strict\",\"coloraxis\":{\"colorbar\":{\"outlinewidth\":0,\"ticks\":\"\"}},\"colorscale\":{\"diverging\":[[0,\"#8e0152\"],[0.1,\"#c51b7d\"],[0.2,\"#de77ae\"],[0.3,\"#f1b6da\"],[0.4,\"#fde0ef\"],[0.5,\"#f7f7f7\"],[0.6,\"#e6f5d0\"],[0.7,\"#b8e186\"],[0.8,\"#7fbc41\"],[0.9,\"#4d9221\"],[1,\"#276419\"]],\"sequential\":[[0.0,\"#0d0887\"],[0.1111111111111111,\"#46039f\"],[0.2222222222222222,\"#7201a8\"],[0.3333333333333333,\"#9c179e\"],[0.4444444444444444,\"#bd3786\"],[0.5555555555555556,\"#d8576b\"],[0.6666666666666666,\"#ed7953\"],[0.7777777777777778,\"#fb9f3a\"],[0.8888888888888888,\"#fdca26\"],[1.0,\"#f0f921\"]],\"sequentialminus\":[[0.0,\"#0d0887\"],[0.1111111111111111,\"#46039f\"],[0.2222222222222222,\"#7201a8\"],[0.3333333333333333,\"#9c179e\"],[0.4444444444444444,\"#bd3786\"],[0.5555555555555556,\"#d8576b\"],[0.6666666666666666,\"#ed7953\"],[0.7777777777777778,\"#fb9f3a\"],[0.8888888888888888,\"#fdca26\"],[1.0,\"#f0f921\"]]},\"colorway\":[\"#636efa\",\"#EF553B\",\"#00cc96\",\"#ab63fa\",\"#FFA15A\",\"#19d3f3\",\"#FF6692\",\"#B6E880\",\"#FF97FF\",\"#FECB52\"],\"font\":{\"color\":\"#2a3f5f\"},\"geo\":{\"bgcolor\":\"white\",\"lakecolor\":\"white\",\"landcolor\":\"#E5ECF6\",\"showlakes\":true,\"showland\":true,\"subunitcolor\":\"white\"},\"hoverlabel\":{\"align\":\"left\"},\"hovermode\":\"closest\",\"mapbox\":{\"style\":\"light\"},\"paper_bgcolor\":\"white\",\"plot_bgcolor\":\"#E5ECF6\",\"polar\":{\"angularaxis\":{\"gridcolor\":\"white\",\"linecolor\":\"white\",\"ticks\":\"\"},\"bgcolor\":\"#E5ECF6\",\"radialaxis\":{\"gridcolor\":\"white\",\"linecolor\":\"white\",\"ticks\":\"\"}},\"scene\":{\"xaxis\":{\"backgroundcolor\":\"#E5ECF6\",\"gridcolor\":\"white\",\"gridwidth\":2,\"linecolor\":\"white\",\"showbackground\":true,\"ticks\":\"\",\"zerolinecolor\":\"white\"},\"yaxis\":{\"backgroundcolor\":\"#E5ECF6\",\"gridcolor\":\"white\",\"gridwidth\":2,\"linecolor\":\"white\",\"showbackground\":true,\"ticks\":\"\",\"zerolinecolor\":\"white\"},\"zaxis\":{\"backgroundcolor\":\"#E5ECF6\",\"gridcolor\":\"white\",\"gridwidth\":2,\"linecolor\":\"white\",\"showbackground\":true,\"ticks\":\"\",\"zerolinecolor\":\"white\"}},\"shapedefaults\":{\"line\":{\"color\":\"#2a3f5f\"}},\"ternary\":{\"aaxis\":{\"gridcolor\":\"white\",\"linecolor\":\"white\",\"ticks\":\"\"},\"baxis\":{\"gridcolor\":\"white\",\"linecolor\":\"white\",\"ticks\":\"\"},\"bgcolor\":\"#E5ECF6\",\"caxis\":{\"gridcolor\":\"white\",\"linecolor\":\"white\",\"ticks\":\"\"}},\"title\":{\"x\":0.05},\"xaxis\":{\"automargin\":true,\"gridcolor\":\"white\",\"linecolor\":\"white\",\"ticks\":\"\",\"title\":{\"standoff\":15},\"zerolinecolor\":\"white\",\"zerolinewidth\":2},\"yaxis\":{\"automargin\":true,\"gridcolor\":\"white\",\"linecolor\":\"white\",\"ticks\":\"\",\"title\":{\"standoff\":15},\"zerolinecolor\":\"white\",\"zerolinewidth\":2}}},\"width\":1000,\"xaxis\":{\"dtick\":1,\"showgrid\":false,\"tickangle\":-90,\"tickvals\":[]},\"yaxis\":{\"dtick\":1,\"range\":[0,3]}},                        {\"responsive\": true}                    ).then(function(){\n",
       "                            \n",
       "var gd = document.getElementById('1e380870-8642-4cda-bf6e-efe8fe46694a');\n",
       "var x = new MutationObserver(function (mutations, observer) {{\n",
       "        var display = window.getComputedStyle(gd).display;\n",
       "        if (!display || display === 'none') {{\n",
       "            console.log([gd, 'removed!']);\n",
       "            Plotly.purge(gd);\n",
       "            observer.disconnect();\n",
       "        }}\n",
       "}});\n",
       "\n",
       "// Listen for the removal of the full notebook cells\n",
       "var notebookContainer = gd.closest('#notebook-container');\n",
       "if (notebookContainer) {{\n",
       "    x.observe(notebookContainer, {childList: true});\n",
       "}}\n",
       "\n",
       "// Listen for the clearing of the current output cell\n",
       "var outputEl = gd.closest('.output');\n",
       "if (outputEl) {{\n",
       "    x.observe(outputEl, {childList: true});\n",
       "}}\n",
       "\n",
       "                        })                };                });            </script>        </div>"
      ]
     },
     "metadata": {},
     "output_type": "display_data"
    },
    {
     "data": {
      "application/vnd.plotly.v1+json": {
       "config": {
        "plotlyServerURL": "https://plot.ly"
       },
       "data": [
        {
         "marker": {
          "color": "#073b4c"
         },
         "name": "Hyperelastic model studies",
         "text": [
          1,
          0,
          0,
          0,
          0,
          0,
          0,
          0,
          0,
          2,
          0,
          0,
          0,
          0,
          0,
          0,
          1,
          1,
          0,
          0,
          0,
          0,
          0,
          2,
          0,
          0,
          0,
          1
         ],
         "textposition": "auto",
         "type": "bar",
         "x": [
          1994,
          1995,
          1996,
          1997,
          1998,
          1999,
          2000,
          2001,
          2002,
          2003,
          2004,
          2005,
          2006,
          2007,
          2008,
          2009,
          2010,
          2011,
          2012,
          2013,
          2014,
          2015,
          2016,
          2017,
          2018,
          2019,
          2020,
          2021
         ],
         "y": [
          1,
          0,
          0,
          0,
          0,
          0,
          0,
          0,
          0,
          2,
          0,
          0,
          0,
          0,
          0,
          0,
          1,
          1,
          0,
          0,
          0,
          0,
          0,
          2,
          0,
          0,
          0,
          1
         ]
        },
        {
         "marker": {
          "color": "#ffd166"
         },
         "name": "Visco-hyperelastic model studies",
         "text": [
          0,
          0,
          0,
          0,
          0,
          0,
          0,
          0,
          0,
          0,
          0,
          0,
          0,
          0,
          0,
          0,
          0,
          0,
          0,
          0,
          0,
          0,
          0,
          0,
          0,
          1,
          0,
          0
         ],
         "textposition": "auto",
         "type": "bar",
         "x": [
          1994,
          1995,
          1996,
          1997,
          1998,
          1999,
          2000,
          2001,
          2002,
          2003,
          2004,
          2005,
          2006,
          2007,
          2008,
          2009,
          2010,
          2011,
          2012,
          2013,
          2014,
          2015,
          2016,
          2017,
          2018,
          2019,
          2020,
          2021
         ],
         "y": [
          0,
          0,
          0,
          0,
          0,
          0,
          0,
          0,
          0,
          0,
          0,
          0,
          0,
          0,
          0,
          0,
          0,
          0,
          0,
          0,
          0,
          0,
          0,
          0,
          0,
          1,
          0,
          0
         ]
        },
        {
         "marker": {
          "color": "#06d6a0"
         },
         "name": "Active model studies",
         "text": [
          0,
          0,
          0,
          0,
          0,
          0,
          0,
          0,
          0,
          0,
          0,
          0,
          0,
          0,
          0,
          1,
          0,
          0,
          0,
          0,
          0,
          0,
          1,
          0,
          0,
          0,
          0,
          0
         ],
         "textposition": "auto",
         "type": "bar",
         "x": [
          1994,
          1995,
          1996,
          1997,
          1998,
          1999,
          2000,
          2001,
          2002,
          2003,
          2004,
          2005,
          2006,
          2007,
          2008,
          2009,
          2010,
          2011,
          2012,
          2013,
          2014,
          2015,
          2016,
          2017,
          2018,
          2019,
          2020,
          2021
         ],
         "y": [
          0,
          0,
          0,
          0,
          0,
          0,
          0,
          0,
          0,
          0,
          0,
          0,
          0,
          0,
          0,
          1,
          0,
          0,
          0,
          0,
          0,
          0,
          1,
          0,
          0,
          0,
          0,
          0
         ]
        }
       ],
       "layout": {
        "annotations": [
         {
          "font": {
           "color": "black",
           "size": 14
          },
          "showarrow": false,
          "text": "Small intestine",
          "x": 1,
          "xref": "paper",
          "y": 0.95,
          "yref": "paper"
         }
        ],
        "autosize": false,
        "bargap": 0.5,
        "barmode": "stack",
        "height": 200,
        "margin": {
         "t": 30
        },
        "plot_bgcolor": "rgba(242, 241, 239, 0.8)",
        "showlegend": false,
        "template": {
         "data": {
          "bar": [
           {
            "error_x": {
             "color": "#2a3f5f"
            },
            "error_y": {
             "color": "#2a3f5f"
            },
            "marker": {
             "line": {
              "color": "#E5ECF6",
              "width": 0.5
             },
             "pattern": {
              "fillmode": "overlay",
              "size": 10,
              "solidity": 0.2
             }
            },
            "type": "bar"
           }
          ],
          "barpolar": [
           {
            "marker": {
             "line": {
              "color": "#E5ECF6",
              "width": 0.5
             },
             "pattern": {
              "fillmode": "overlay",
              "size": 10,
              "solidity": 0.2
             }
            },
            "type": "barpolar"
           }
          ],
          "carpet": [
           {
            "aaxis": {
             "endlinecolor": "#2a3f5f",
             "gridcolor": "white",
             "linecolor": "white",
             "minorgridcolor": "white",
             "startlinecolor": "#2a3f5f"
            },
            "baxis": {
             "endlinecolor": "#2a3f5f",
             "gridcolor": "white",
             "linecolor": "white",
             "minorgridcolor": "white",
             "startlinecolor": "#2a3f5f"
            },
            "type": "carpet"
           }
          ],
          "choropleth": [
           {
            "colorbar": {
             "outlinewidth": 0,
             "ticks": ""
            },
            "type": "choropleth"
           }
          ],
          "contour": [
           {
            "colorbar": {
             "outlinewidth": 0,
             "ticks": ""
            },
            "colorscale": [
             [
              0,
              "#0d0887"
             ],
             [
              0.1111111111111111,
              "#46039f"
             ],
             [
              0.2222222222222222,
              "#7201a8"
             ],
             [
              0.3333333333333333,
              "#9c179e"
             ],
             [
              0.4444444444444444,
              "#bd3786"
             ],
             [
              0.5555555555555556,
              "#d8576b"
             ],
             [
              0.6666666666666666,
              "#ed7953"
             ],
             [
              0.7777777777777778,
              "#fb9f3a"
             ],
             [
              0.8888888888888888,
              "#fdca26"
             ],
             [
              1,
              "#f0f921"
             ]
            ],
            "type": "contour"
           }
          ],
          "contourcarpet": [
           {
            "colorbar": {
             "outlinewidth": 0,
             "ticks": ""
            },
            "type": "contourcarpet"
           }
          ],
          "heatmap": [
           {
            "colorbar": {
             "outlinewidth": 0,
             "ticks": ""
            },
            "colorscale": [
             [
              0,
              "#0d0887"
             ],
             [
              0.1111111111111111,
              "#46039f"
             ],
             [
              0.2222222222222222,
              "#7201a8"
             ],
             [
              0.3333333333333333,
              "#9c179e"
             ],
             [
              0.4444444444444444,
              "#bd3786"
             ],
             [
              0.5555555555555556,
              "#d8576b"
             ],
             [
              0.6666666666666666,
              "#ed7953"
             ],
             [
              0.7777777777777778,
              "#fb9f3a"
             ],
             [
              0.8888888888888888,
              "#fdca26"
             ],
             [
              1,
              "#f0f921"
             ]
            ],
            "type": "heatmap"
           }
          ],
          "heatmapgl": [
           {
            "colorbar": {
             "outlinewidth": 0,
             "ticks": ""
            },
            "colorscale": [
             [
              0,
              "#0d0887"
             ],
             [
              0.1111111111111111,
              "#46039f"
             ],
             [
              0.2222222222222222,
              "#7201a8"
             ],
             [
              0.3333333333333333,
              "#9c179e"
             ],
             [
              0.4444444444444444,
              "#bd3786"
             ],
             [
              0.5555555555555556,
              "#d8576b"
             ],
             [
              0.6666666666666666,
              "#ed7953"
             ],
             [
              0.7777777777777778,
              "#fb9f3a"
             ],
             [
              0.8888888888888888,
              "#fdca26"
             ],
             [
              1,
              "#f0f921"
             ]
            ],
            "type": "heatmapgl"
           }
          ],
          "histogram": [
           {
            "marker": {
             "pattern": {
              "fillmode": "overlay",
              "size": 10,
              "solidity": 0.2
             }
            },
            "type": "histogram"
           }
          ],
          "histogram2d": [
           {
            "colorbar": {
             "outlinewidth": 0,
             "ticks": ""
            },
            "colorscale": [
             [
              0,
              "#0d0887"
             ],
             [
              0.1111111111111111,
              "#46039f"
             ],
             [
              0.2222222222222222,
              "#7201a8"
             ],
             [
              0.3333333333333333,
              "#9c179e"
             ],
             [
              0.4444444444444444,
              "#bd3786"
             ],
             [
              0.5555555555555556,
              "#d8576b"
             ],
             [
              0.6666666666666666,
              "#ed7953"
             ],
             [
              0.7777777777777778,
              "#fb9f3a"
             ],
             [
              0.8888888888888888,
              "#fdca26"
             ],
             [
              1,
              "#f0f921"
             ]
            ],
            "type": "histogram2d"
           }
          ],
          "histogram2dcontour": [
           {
            "colorbar": {
             "outlinewidth": 0,
             "ticks": ""
            },
            "colorscale": [
             [
              0,
              "#0d0887"
             ],
             [
              0.1111111111111111,
              "#46039f"
             ],
             [
              0.2222222222222222,
              "#7201a8"
             ],
             [
              0.3333333333333333,
              "#9c179e"
             ],
             [
              0.4444444444444444,
              "#bd3786"
             ],
             [
              0.5555555555555556,
              "#d8576b"
             ],
             [
              0.6666666666666666,
              "#ed7953"
             ],
             [
              0.7777777777777778,
              "#fb9f3a"
             ],
             [
              0.8888888888888888,
              "#fdca26"
             ],
             [
              1,
              "#f0f921"
             ]
            ],
            "type": "histogram2dcontour"
           }
          ],
          "mesh3d": [
           {
            "colorbar": {
             "outlinewidth": 0,
             "ticks": ""
            },
            "type": "mesh3d"
           }
          ],
          "parcoords": [
           {
            "line": {
             "colorbar": {
              "outlinewidth": 0,
              "ticks": ""
             }
            },
            "type": "parcoords"
           }
          ],
          "pie": [
           {
            "automargin": true,
            "type": "pie"
           }
          ],
          "scatter": [
           {
            "marker": {
             "colorbar": {
              "outlinewidth": 0,
              "ticks": ""
             }
            },
            "type": "scatter"
           }
          ],
          "scatter3d": [
           {
            "line": {
             "colorbar": {
              "outlinewidth": 0,
              "ticks": ""
             }
            },
            "marker": {
             "colorbar": {
              "outlinewidth": 0,
              "ticks": ""
             }
            },
            "type": "scatter3d"
           }
          ],
          "scattercarpet": [
           {
            "marker": {
             "colorbar": {
              "outlinewidth": 0,
              "ticks": ""
             }
            },
            "type": "scattercarpet"
           }
          ],
          "scattergeo": [
           {
            "marker": {
             "colorbar": {
              "outlinewidth": 0,
              "ticks": ""
             }
            },
            "type": "scattergeo"
           }
          ],
          "scattergl": [
           {
            "marker": {
             "colorbar": {
              "outlinewidth": 0,
              "ticks": ""
             }
            },
            "type": "scattergl"
           }
          ],
          "scattermapbox": [
           {
            "marker": {
             "colorbar": {
              "outlinewidth": 0,
              "ticks": ""
             }
            },
            "type": "scattermapbox"
           }
          ],
          "scatterpolar": [
           {
            "marker": {
             "colorbar": {
              "outlinewidth": 0,
              "ticks": ""
             }
            },
            "type": "scatterpolar"
           }
          ],
          "scatterpolargl": [
           {
            "marker": {
             "colorbar": {
              "outlinewidth": 0,
              "ticks": ""
             }
            },
            "type": "scatterpolargl"
           }
          ],
          "scatterternary": [
           {
            "marker": {
             "colorbar": {
              "outlinewidth": 0,
              "ticks": ""
             }
            },
            "type": "scatterternary"
           }
          ],
          "surface": [
           {
            "colorbar": {
             "outlinewidth": 0,
             "ticks": ""
            },
            "colorscale": [
             [
              0,
              "#0d0887"
             ],
             [
              0.1111111111111111,
              "#46039f"
             ],
             [
              0.2222222222222222,
              "#7201a8"
             ],
             [
              0.3333333333333333,
              "#9c179e"
             ],
             [
              0.4444444444444444,
              "#bd3786"
             ],
             [
              0.5555555555555556,
              "#d8576b"
             ],
             [
              0.6666666666666666,
              "#ed7953"
             ],
             [
              0.7777777777777778,
              "#fb9f3a"
             ],
             [
              0.8888888888888888,
              "#fdca26"
             ],
             [
              1,
              "#f0f921"
             ]
            ],
            "type": "surface"
           }
          ],
          "table": [
           {
            "cells": {
             "fill": {
              "color": "#EBF0F8"
             },
             "line": {
              "color": "white"
             }
            },
            "header": {
             "fill": {
              "color": "#C8D4E3"
             },
             "line": {
              "color": "white"
             }
            },
            "type": "table"
           }
          ]
         },
         "layout": {
          "annotationdefaults": {
           "arrowcolor": "#2a3f5f",
           "arrowhead": 0,
           "arrowwidth": 1
          },
          "autotypenumbers": "strict",
          "coloraxis": {
           "colorbar": {
            "outlinewidth": 0,
            "ticks": ""
           }
          },
          "colorscale": {
           "diverging": [
            [
             0,
             "#8e0152"
            ],
            [
             0.1,
             "#c51b7d"
            ],
            [
             0.2,
             "#de77ae"
            ],
            [
             0.3,
             "#f1b6da"
            ],
            [
             0.4,
             "#fde0ef"
            ],
            [
             0.5,
             "#f7f7f7"
            ],
            [
             0.6,
             "#e6f5d0"
            ],
            [
             0.7,
             "#b8e186"
            ],
            [
             0.8,
             "#7fbc41"
            ],
            [
             0.9,
             "#4d9221"
            ],
            [
             1,
             "#276419"
            ]
           ],
           "sequential": [
            [
             0,
             "#0d0887"
            ],
            [
             0.1111111111111111,
             "#46039f"
            ],
            [
             0.2222222222222222,
             "#7201a8"
            ],
            [
             0.3333333333333333,
             "#9c179e"
            ],
            [
             0.4444444444444444,
             "#bd3786"
            ],
            [
             0.5555555555555556,
             "#d8576b"
            ],
            [
             0.6666666666666666,
             "#ed7953"
            ],
            [
             0.7777777777777778,
             "#fb9f3a"
            ],
            [
             0.8888888888888888,
             "#fdca26"
            ],
            [
             1,
             "#f0f921"
            ]
           ],
           "sequentialminus": [
            [
             0,
             "#0d0887"
            ],
            [
             0.1111111111111111,
             "#46039f"
            ],
            [
             0.2222222222222222,
             "#7201a8"
            ],
            [
             0.3333333333333333,
             "#9c179e"
            ],
            [
             0.4444444444444444,
             "#bd3786"
            ],
            [
             0.5555555555555556,
             "#d8576b"
            ],
            [
             0.6666666666666666,
             "#ed7953"
            ],
            [
             0.7777777777777778,
             "#fb9f3a"
            ],
            [
             0.8888888888888888,
             "#fdca26"
            ],
            [
             1,
             "#f0f921"
            ]
           ]
          },
          "colorway": [
           "#636efa",
           "#EF553B",
           "#00cc96",
           "#ab63fa",
           "#FFA15A",
           "#19d3f3",
           "#FF6692",
           "#B6E880",
           "#FF97FF",
           "#FECB52"
          ],
          "font": {
           "color": "#2a3f5f"
          },
          "geo": {
           "bgcolor": "white",
           "lakecolor": "white",
           "landcolor": "#E5ECF6",
           "showlakes": true,
           "showland": true,
           "subunitcolor": "white"
          },
          "hoverlabel": {
           "align": "left"
          },
          "hovermode": "closest",
          "mapbox": {
           "style": "light"
          },
          "paper_bgcolor": "white",
          "plot_bgcolor": "#E5ECF6",
          "polar": {
           "angularaxis": {
            "gridcolor": "white",
            "linecolor": "white",
            "ticks": ""
           },
           "bgcolor": "#E5ECF6",
           "radialaxis": {
            "gridcolor": "white",
            "linecolor": "white",
            "ticks": ""
           }
          },
          "scene": {
           "xaxis": {
            "backgroundcolor": "#E5ECF6",
            "gridcolor": "white",
            "gridwidth": 2,
            "linecolor": "white",
            "showbackground": true,
            "ticks": "",
            "zerolinecolor": "white"
           },
           "yaxis": {
            "backgroundcolor": "#E5ECF6",
            "gridcolor": "white",
            "gridwidth": 2,
            "linecolor": "white",
            "showbackground": true,
            "ticks": "",
            "zerolinecolor": "white"
           },
           "zaxis": {
            "backgroundcolor": "#E5ECF6",
            "gridcolor": "white",
            "gridwidth": 2,
            "linecolor": "white",
            "showbackground": true,
            "ticks": "",
            "zerolinecolor": "white"
           }
          },
          "shapedefaults": {
           "line": {
            "color": "#2a3f5f"
           }
          },
          "ternary": {
           "aaxis": {
            "gridcolor": "white",
            "linecolor": "white",
            "ticks": ""
           },
           "baxis": {
            "gridcolor": "white",
            "linecolor": "white",
            "ticks": ""
           },
           "bgcolor": "#E5ECF6",
           "caxis": {
            "gridcolor": "white",
            "linecolor": "white",
            "ticks": ""
           }
          },
          "title": {
           "x": 0.05
          },
          "xaxis": {
           "automargin": true,
           "gridcolor": "white",
           "linecolor": "white",
           "ticks": "",
           "title": {
            "standoff": 15
           },
           "zerolinecolor": "white",
           "zerolinewidth": 2
          },
          "yaxis": {
           "automargin": true,
           "gridcolor": "white",
           "linecolor": "white",
           "ticks": "",
           "title": {
            "standoff": 15
           },
           "zerolinecolor": "white",
           "zerolinewidth": 2
          }
         }
        },
        "width": 1000,
        "xaxis": {
         "autorange": true,
         "dtick": 1,
         "range": [
          1993.5,
          2021.5
         ],
         "showgrid": false,
         "tickangle": -90,
         "tickvals": [],
         "type": "linear"
        },
        "yaxis": {
         "dtick": 1,
         "range": [
          0,
          3
         ],
         "type": "linear"
        }
       }
      },
      "image/png": "[encoded data removed]",
      "text/html": [
       "<div>                            <div id=\"872e2ad6-53b3-4568-9698-5ae497911ec2\" class=\"plotly-graph-div\" style=\"height:200px; width:1000px;\"></div>            <script type=\"text/javascript\">                require([\"plotly\"], function(Plotly) {                    window.PLOTLYENV=window.PLOTLYENV || {};                                    if (document.getElementById(\"872e2ad6-53b3-4568-9698-5ae497911ec2\")) {                    Plotly.newPlot(                        \"872e2ad6-53b3-4568-9698-5ae497911ec2\",                        [{\"marker\":{\"color\":\"#073b4c\"},\"name\":\"Hyperelastic model studies\",\"text\":[1.0,0.0,0.0,0.0,0.0,0.0,0.0,0.0,0.0,2.0,0.0,0.0,0.0,0.0,0.0,0.0,1.0,1.0,0.0,0.0,0.0,0.0,0.0,2.0,0.0,0.0,0.0,1.0],\"textposition\":\"auto\",\"type\":\"bar\",\"x\":[1994,1995,1996,1997,1998,1999,2000,2001,2002,2003,2004,2005,2006,2007,2008,2009,2010,2011,2012,2013,2014,2015,2016,2017,2018,2019,2020,2021],\"y\":[1,0,0,0,0,0,0,0,0,2,0,0,0,0,0,0,1,1,0,0,0,0,0,2,0,0,0,1]},{\"marker\":{\"color\":\"#ffd166\"},\"name\":\"Visco-hyperelastic model studies\",\"text\":[0.0,0.0,0.0,0.0,0.0,0.0,0.0,0.0,0.0,0.0,0.0,0.0,0.0,0.0,0.0,0.0,0.0,0.0,0.0,0.0,0.0,0.0,0.0,0.0,0.0,1.0,0.0,0.0],\"textposition\":\"auto\",\"type\":\"bar\",\"x\":[1994,1995,1996,1997,1998,1999,2000,2001,2002,2003,2004,2005,2006,2007,2008,2009,2010,2011,2012,2013,2014,2015,2016,2017,2018,2019,2020,2021],\"y\":[0,0,0,0,0,0,0,0,0,0,0,0,0,0,0,0,0,0,0,0,0,0,0,0,0,1,0,0]},{\"marker\":{\"color\":\"#06d6a0\"},\"name\":\"Active model studies\",\"text\":[0.0,0.0,0.0,0.0,0.0,0.0,0.0,0.0,0.0,0.0,0.0,0.0,0.0,0.0,0.0,1.0,0.0,0.0,0.0,0.0,0.0,0.0,1.0,0.0,0.0,0.0,0.0,0.0],\"textposition\":\"auto\",\"type\":\"bar\",\"x\":[1994,1995,1996,1997,1998,1999,2000,2001,2002,2003,2004,2005,2006,2007,2008,2009,2010,2011,2012,2013,2014,2015,2016,2017,2018,2019,2020,2021],\"y\":[0,0,0,0,0,0,0,0,0,0,0,0,0,0,0,1,0,0,0,0,0,0,1,0,0,0,0,0]}],                        {\"annotations\":[{\"font\":{\"color\":\"black\",\"size\":14},\"showarrow\":false,\"text\":\"Small intestine\",\"x\":1,\"xref\":\"paper\",\"y\":0.95,\"yref\":\"paper\"}],\"autosize\":false,\"bargap\":0.5,\"barmode\":\"stack\",\"height\":200,\"margin\":{\"t\":30},\"plot_bgcolor\":\"rgba(242, 241, 239, 0.8)\",\"showlegend\":false,\"template\":{\"data\":{\"bar\":[{\"error_x\":{\"color\":\"#2a3f5f\"},\"error_y\":{\"color\":\"#2a3f5f\"},\"marker\":{\"line\":{\"color\":\"#E5ECF6\",\"width\":0.5},\"pattern\":{\"fillmode\":\"overlay\",\"size\":10,\"solidity\":0.2}},\"type\":\"bar\"}],\"barpolar\":[{\"marker\":{\"line\":{\"color\":\"#E5ECF6\",\"width\":0.5},\"pattern\":{\"fillmode\":\"overlay\",\"size\":10,\"solidity\":0.2}},\"type\":\"barpolar\"}],\"carpet\":[{\"aaxis\":{\"endlinecolor\":\"#2a3f5f\",\"gridcolor\":\"white\",\"linecolor\":\"white\",\"minorgridcolor\":\"white\",\"startlinecolor\":\"#2a3f5f\"},\"baxis\":{\"endlinecolor\":\"#2a3f5f\",\"gridcolor\":\"white\",\"linecolor\":\"white\",\"minorgridcolor\":\"white\",\"startlinecolor\":\"#2a3f5f\"},\"type\":\"carpet\"}],\"choropleth\":[{\"colorbar\":{\"outlinewidth\":0,\"ticks\":\"\"},\"type\":\"choropleth\"}],\"contour\":[{\"colorbar\":{\"outlinewidth\":0,\"ticks\":\"\"},\"colorscale\":[[0.0,\"#0d0887\"],[0.1111111111111111,\"#46039f\"],[0.2222222222222222,\"#7201a8\"],[0.3333333333333333,\"#9c179e\"],[0.4444444444444444,\"#bd3786\"],[0.5555555555555556,\"#d8576b\"],[0.6666666666666666,\"#ed7953\"],[0.7777777777777778,\"#fb9f3a\"],[0.8888888888888888,\"#fdca26\"],[1.0,\"#f0f921\"]],\"type\":\"contour\"}],\"contourcarpet\":[{\"colorbar\":{\"outlinewidth\":0,\"ticks\":\"\"},\"type\":\"contourcarpet\"}],\"heatmap\":[{\"colorbar\":{\"outlinewidth\":0,\"ticks\":\"\"},\"colorscale\":[[0.0,\"#0d0887\"],[0.1111111111111111,\"#46039f\"],[0.2222222222222222,\"#7201a8\"],[0.3333333333333333,\"#9c179e\"],[0.4444444444444444,\"#bd3786\"],[0.5555555555555556,\"#d8576b\"],[0.6666666666666666,\"#ed7953\"],[0.7777777777777778,\"#fb9f3a\"],[0.8888888888888888,\"#fdca26\"],[1.0,\"#f0f921\"]],\"type\":\"heatmap\"}],\"heatmapgl\":[{\"colorbar\":{\"outlinewidth\":0,\"ticks\":\"\"},\"colorscale\":[[0.0,\"#0d0887\"],[0.1111111111111111,\"#46039f\"],[0.2222222222222222,\"#7201a8\"],[0.3333333333333333,\"#9c179e\"],[0.4444444444444444,\"#bd3786\"],[0.5555555555555556,\"#d8576b\"],[0.6666666666666666,\"#ed7953\"],[0.7777777777777778,\"#fb9f3a\"],[0.8888888888888888,\"#fdca26\"],[1.0,\"#f0f921\"]],\"type\":\"heatmapgl\"}],\"histogram\":[{\"marker\":{\"pattern\":{\"fillmode\":\"overlay\",\"size\":10,\"solidity\":0.2}},\"type\":\"histogram\"}],\"histogram2d\":[{\"colorbar\":{\"outlinewidth\":0,\"ticks\":\"\"},\"colorscale\":[[0.0,\"#0d0887\"],[0.1111111111111111,\"#46039f\"],[0.2222222222222222,\"#7201a8\"],[0.3333333333333333,\"#9c179e\"],[0.4444444444444444,\"#bd3786\"],[0.5555555555555556,\"#d8576b\"],[0.6666666666666666,\"#ed7953\"],[0.7777777777777778,\"#fb9f3a\"],[0.8888888888888888,\"#fdca26\"],[1.0,\"#f0f921\"]],\"type\":\"histogram2d\"}],\"histogram2dcontour\":[{\"colorbar\":{\"outlinewidth\":0,\"ticks\":\"\"},\"colorscale\":[[0.0,\"#0d0887\"],[0.1111111111111111,\"#46039f\"],[0.2222222222222222,\"#7201a8\"],[0.3333333333333333,\"#9c179e\"],[0.4444444444444444,\"#bd3786\"],[0.5555555555555556,\"#d8576b\"],[0.6666666666666666,\"#ed7953\"],[0.7777777777777778,\"#fb9f3a\"],[0.8888888888888888,\"#fdca26\"],[1.0,\"#f0f921\"]],\"type\":\"histogram2dcontour\"}],\"mesh3d\":[{\"colorbar\":{\"outlinewidth\":0,\"ticks\":\"\"},\"type\":\"mesh3d\"}],\"parcoords\":[{\"line\":{\"colorbar\":{\"outlinewidth\":0,\"ticks\":\"\"}},\"type\":\"parcoords\"}],\"pie\":[{\"automargin\":true,\"type\":\"pie\"}],\"scatter\":[{\"marker\":{\"colorbar\":{\"outlinewidth\":0,\"ticks\":\"\"}},\"type\":\"scatter\"}],\"scatter3d\":[{\"line\":{\"colorbar\":{\"outlinewidth\":0,\"ticks\":\"\"}},\"marker\":{\"colorbar\":{\"outlinewidth\":0,\"ticks\":\"\"}},\"type\":\"scatter3d\"}],\"scattercarpet\":[{\"marker\":{\"colorbar\":{\"outlinewidth\":0,\"ticks\":\"\"}},\"type\":\"scattercarpet\"}],\"scattergeo\":[{\"marker\":{\"colorbar\":{\"outlinewidth\":0,\"ticks\":\"\"}},\"type\":\"scattergeo\"}],\"scattergl\":[{\"marker\":{\"colorbar\":{\"outlinewidth\":0,\"ticks\":\"\"}},\"type\":\"scattergl\"}],\"scattermapbox\":[{\"marker\":{\"colorbar\":{\"outlinewidth\":0,\"ticks\":\"\"}},\"type\":\"scattermapbox\"}],\"scatterpolar\":[{\"marker\":{\"colorbar\":{\"outlinewidth\":0,\"ticks\":\"\"}},\"type\":\"scatterpolar\"}],\"scatterpolargl\":[{\"marker\":{\"colorbar\":{\"outlinewidth\":0,\"ticks\":\"\"}},\"type\":\"scatterpolargl\"}],\"scatterternary\":[{\"marker\":{\"colorbar\":{\"outlinewidth\":0,\"ticks\":\"\"}},\"type\":\"scatterternary\"}],\"surface\":[{\"colorbar\":{\"outlinewidth\":0,\"ticks\":\"\"},\"colorscale\":[[0.0,\"#0d0887\"],[0.1111111111111111,\"#46039f\"],[0.2222222222222222,\"#7201a8\"],[0.3333333333333333,\"#9c179e\"],[0.4444444444444444,\"#bd3786\"],[0.5555555555555556,\"#d8576b\"],[0.6666666666666666,\"#ed7953\"],[0.7777777777777778,\"#fb9f3a\"],[0.8888888888888888,\"#fdca26\"],[1.0,\"#f0f921\"]],\"type\":\"surface\"}],\"table\":[{\"cells\":{\"fill\":{\"color\":\"#EBF0F8\"},\"line\":{\"color\":\"white\"}},\"header\":{\"fill\":{\"color\":\"#C8D4E3\"},\"line\":{\"color\":\"white\"}},\"type\":\"table\"}]},\"layout\":{\"annotationdefaults\":{\"arrowcolor\":\"#2a3f5f\",\"arrowhead\":0,\"arrowwidth\":1},\"autotypenumbers\":\"strict\",\"coloraxis\":{\"colorbar\":{\"outlinewidth\":0,\"ticks\":\"\"}},\"colorscale\":{\"diverging\":[[0,\"#8e0152\"],[0.1,\"#c51b7d\"],[0.2,\"#de77ae\"],[0.3,\"#f1b6da\"],[0.4,\"#fde0ef\"],[0.5,\"#f7f7f7\"],[0.6,\"#e6f5d0\"],[0.7,\"#b8e186\"],[0.8,\"#7fbc41\"],[0.9,\"#4d9221\"],[1,\"#276419\"]],\"sequential\":[[0.0,\"#0d0887\"],[0.1111111111111111,\"#46039f\"],[0.2222222222222222,\"#7201a8\"],[0.3333333333333333,\"#9c179e\"],[0.4444444444444444,\"#bd3786\"],[0.5555555555555556,\"#d8576b\"],[0.6666666666666666,\"#ed7953\"],[0.7777777777777778,\"#fb9f3a\"],[0.8888888888888888,\"#fdca26\"],[1.0,\"#f0f921\"]],\"sequentialminus\":[[0.0,\"#0d0887\"],[0.1111111111111111,\"#46039f\"],[0.2222222222222222,\"#7201a8\"],[0.3333333333333333,\"#9c179e\"],[0.4444444444444444,\"#bd3786\"],[0.5555555555555556,\"#d8576b\"],[0.6666666666666666,\"#ed7953\"],[0.7777777777777778,\"#fb9f3a\"],[0.8888888888888888,\"#fdca26\"],[1.0,\"#f0f921\"]]},\"colorway\":[\"#636efa\",\"#EF553B\",\"#00cc96\",\"#ab63fa\",\"#FFA15A\",\"#19d3f3\",\"#FF6692\",\"#B6E880\",\"#FF97FF\",\"#FECB52\"],\"font\":{\"color\":\"#2a3f5f\"},\"geo\":{\"bgcolor\":\"white\",\"lakecolor\":\"white\",\"landcolor\":\"#E5ECF6\",\"showlakes\":true,\"showland\":true,\"subunitcolor\":\"white\"},\"hoverlabel\":{\"align\":\"left\"},\"hovermode\":\"closest\",\"mapbox\":{\"style\":\"light\"},\"paper_bgcolor\":\"white\",\"plot_bgcolor\":\"#E5ECF6\",\"polar\":{\"angularaxis\":{\"gridcolor\":\"white\",\"linecolor\":\"white\",\"ticks\":\"\"},\"bgcolor\":\"#E5ECF6\",\"radialaxis\":{\"gridcolor\":\"white\",\"linecolor\":\"white\",\"ticks\":\"\"}},\"scene\":{\"xaxis\":{\"backgroundcolor\":\"#E5ECF6\",\"gridcolor\":\"white\",\"gridwidth\":2,\"linecolor\":\"white\",\"showbackground\":true,\"ticks\":\"\",\"zerolinecolor\":\"white\"},\"yaxis\":{\"backgroundcolor\":\"#E5ECF6\",\"gridcolor\":\"white\",\"gridwidth\":2,\"linecolor\":\"white\",\"showbackground\":true,\"ticks\":\"\",\"zerolinecolor\":\"white\"},\"zaxis\":{\"backgroundcolor\":\"#E5ECF6\",\"gridcolor\":\"white\",\"gridwidth\":2,\"linecolor\":\"white\",\"showbackground\":true,\"ticks\":\"\",\"zerolinecolor\":\"white\"}},\"shapedefaults\":{\"line\":{\"color\":\"#2a3f5f\"}},\"ternary\":{\"aaxis\":{\"gridcolor\":\"white\",\"linecolor\":\"white\",\"ticks\":\"\"},\"baxis\":{\"gridcolor\":\"white\",\"linecolor\":\"white\",\"ticks\":\"\"},\"bgcolor\":\"#E5ECF6\",\"caxis\":{\"gridcolor\":\"white\",\"linecolor\":\"white\",\"ticks\":\"\"}},\"title\":{\"x\":0.05},\"xaxis\":{\"automargin\":true,\"gridcolor\":\"white\",\"linecolor\":\"white\",\"ticks\":\"\",\"title\":{\"standoff\":15},\"zerolinecolor\":\"white\",\"zerolinewidth\":2},\"yaxis\":{\"automargin\":true,\"gridcolor\":\"white\",\"linecolor\":\"white\",\"ticks\":\"\",\"title\":{\"standoff\":15},\"zerolinecolor\":\"white\",\"zerolinewidth\":2}}},\"width\":1000,\"xaxis\":{\"dtick\":1,\"showgrid\":false,\"tickangle\":-90,\"tickvals\":[]},\"yaxis\":{\"dtick\":1,\"range\":[0,3]}},                        {\"responsive\": true}                    ).then(function(){\n",
       "                            \n",
       "var gd = document.getElementById('872e2ad6-53b3-4568-9698-5ae497911ec2');\n",
       "var x = new MutationObserver(function (mutations, observer) {{\n",
       "        var display = window.getComputedStyle(gd).display;\n",
       "        if (!display || display === 'none') {{\n",
       "            console.log([gd, 'removed!']);\n",
       "            Plotly.purge(gd);\n",
       "            observer.disconnect();\n",
       "        }}\n",
       "}});\n",
       "\n",
       "// Listen for the removal of the full notebook cells\n",
       "var notebookContainer = gd.closest('#notebook-container');\n",
       "if (notebookContainer) {{\n",
       "    x.observe(notebookContainer, {childList: true});\n",
       "}}\n",
       "\n",
       "// Listen for the clearing of the current output cell\n",
       "var outputEl = gd.closest('.output');\n",
       "if (outputEl) {{\n",
       "    x.observe(outputEl, {childList: true});\n",
       "}}\n",
       "\n",
       "                        })                };                });            </script>        </div>"
      ]
     },
     "metadata": {},
     "output_type": "display_data"
    },
    {
     "data": {
      "application/vnd.plotly.v1+json": {
       "config": {
        "plotlyServerURL": "https://plot.ly"
       },
       "data": [
        {
         "marker": {
          "color": "#073b4c"
         },
         "name": "Hyperelastic model studies",
         "text": [
          0,
          0,
          0,
          0,
          0,
          0,
          0,
          0,
          0,
          0,
          0,
          0,
          0,
          0,
          0,
          1,
          0,
          2,
          0,
          3,
          1,
          0,
          0,
          0,
          2,
          1,
          1,
          0
         ],
         "textposition": "auto",
         "type": "bar",
         "x": [
          1994,
          1995,
          1996,
          1997,
          1998,
          1999,
          2000,
          2001,
          2002,
          2003,
          2004,
          2005,
          2006,
          2007,
          2008,
          2009,
          2010,
          2011,
          2012,
          2013,
          2014,
          2015,
          2016,
          2017,
          2018,
          2019,
          2020,
          2021
         ],
         "y": [
          0,
          0,
          0,
          0,
          0,
          0,
          0,
          0,
          0,
          0,
          0,
          0,
          0,
          0,
          0,
          1,
          0,
          2,
          0,
          3,
          1,
          0,
          0,
          0,
          2,
          1,
          1,
          0
         ]
        },
        {
         "marker": {
          "color": "#ffd166"
         },
         "name": "Visco-hyperelastic model studies",
         "text": [
          0,
          0,
          0,
          0,
          0,
          0,
          0,
          0,
          0,
          0,
          0,
          0,
          0,
          1,
          0,
          0,
          0,
          0,
          0,
          0,
          0,
          0,
          0,
          0,
          0,
          1,
          0,
          0
         ],
         "textposition": "auto",
         "type": "bar",
         "x": [
          1994,
          1995,
          1996,
          1997,
          1998,
          1999,
          2000,
          2001,
          2002,
          2003,
          2004,
          2005,
          2006,
          2007,
          2008,
          2009,
          2010,
          2011,
          2012,
          2013,
          2014,
          2015,
          2016,
          2017,
          2018,
          2019,
          2020,
          2021
         ],
         "y": [
          0,
          0,
          0,
          0,
          0,
          0,
          0,
          0,
          0,
          0,
          0,
          0,
          0,
          1,
          0,
          0,
          0,
          0,
          0,
          0,
          0,
          0,
          0,
          0,
          0,
          1,
          0,
          0
         ]
        },
        {
         "marker": {
          "color": "#06d6a0"
         },
         "name": "Active model studies",
         "text": [
          0,
          0,
          0,
          0,
          0,
          0,
          0,
          0,
          0,
          0,
          0,
          0,
          0,
          0,
          0,
          0,
          0,
          0,
          0,
          0,
          1,
          0,
          0,
          0,
          0,
          0,
          0,
          0
         ],
         "textposition": "auto",
         "type": "bar",
         "x": [
          1994,
          1995,
          1996,
          1997,
          1998,
          1999,
          2000,
          2001,
          2002,
          2003,
          2004,
          2005,
          2006,
          2007,
          2008,
          2009,
          2010,
          2011,
          2012,
          2013,
          2014,
          2015,
          2016,
          2017,
          2018,
          2019,
          2020,
          2021
         ],
         "y": [
          0,
          0,
          0,
          0,
          0,
          0,
          0,
          0,
          0,
          0,
          0,
          0,
          0,
          0,
          0,
          0,
          0,
          0,
          0,
          0,
          1,
          0,
          0,
          0,
          0,
          0,
          0,
          0
         ]
        }
       ],
       "layout": {
        "annotations": [
         {
          "font": {
           "color": "black",
           "size": 14
          },
          "showarrow": false,
          "text": "Large intestine",
          "x": 1,
          "xref": "paper",
          "y": 0.95,
          "yref": "paper"
         }
        ],
        "autosize": false,
        "bargap": 0.5,
        "barmode": "stack",
        "height": 200,
        "margin": {
         "t": 30
        },
        "plot_bgcolor": "rgba(242, 241, 239, 0.8)",
        "showlegend": false,
        "template": {
         "data": {
          "bar": [
           {
            "error_x": {
             "color": "#2a3f5f"
            },
            "error_y": {
             "color": "#2a3f5f"
            },
            "marker": {
             "line": {
              "color": "#E5ECF6",
              "width": 0.5
             },
             "pattern": {
              "fillmode": "overlay",
              "size": 10,
              "solidity": 0.2
             }
            },
            "type": "bar"
           }
          ],
          "barpolar": [
           {
            "marker": {
             "line": {
              "color": "#E5ECF6",
              "width": 0.5
             },
             "pattern": {
              "fillmode": "overlay",
              "size": 10,
              "solidity": 0.2
             }
            },
            "type": "barpolar"
           }
          ],
          "carpet": [
           {
            "aaxis": {
             "endlinecolor": "#2a3f5f",
             "gridcolor": "white",
             "linecolor": "white",
             "minorgridcolor": "white",
             "startlinecolor": "#2a3f5f"
            },
            "baxis": {
             "endlinecolor": "#2a3f5f",
             "gridcolor": "white",
             "linecolor": "white",
             "minorgridcolor": "white",
             "startlinecolor": "#2a3f5f"
            },
            "type": "carpet"
           }
          ],
          "choropleth": [
           {
            "colorbar": {
             "outlinewidth": 0,
             "ticks": ""
            },
            "type": "choropleth"
           }
          ],
          "contour": [
           {
            "colorbar": {
             "outlinewidth": 0,
             "ticks": ""
            },
            "colorscale": [
             [
              0,
              "#0d0887"
             ],
             [
              0.1111111111111111,
              "#46039f"
             ],
             [
              0.2222222222222222,
              "#7201a8"
             ],
             [
              0.3333333333333333,
              "#9c179e"
             ],
             [
              0.4444444444444444,
              "#bd3786"
             ],
             [
              0.5555555555555556,
              "#d8576b"
             ],
             [
              0.6666666666666666,
              "#ed7953"
             ],
             [
              0.7777777777777778,
              "#fb9f3a"
             ],
             [
              0.8888888888888888,
              "#fdca26"
             ],
             [
              1,
              "#f0f921"
             ]
            ],
            "type": "contour"
           }
          ],
          "contourcarpet": [
           {
            "colorbar": {
             "outlinewidth": 0,
             "ticks": ""
            },
            "type": "contourcarpet"
           }
          ],
          "heatmap": [
           {
            "colorbar": {
             "outlinewidth": 0,
             "ticks": ""
            },
            "colorscale": [
             [
              0,
              "#0d0887"
             ],
             [
              0.1111111111111111,
              "#46039f"
             ],
             [
              0.2222222222222222,
              "#7201a8"
             ],
             [
              0.3333333333333333,
              "#9c179e"
             ],
             [
              0.4444444444444444,
              "#bd3786"
             ],
             [
              0.5555555555555556,
              "#d8576b"
             ],
             [
              0.6666666666666666,
              "#ed7953"
             ],
             [
              0.7777777777777778,
              "#fb9f3a"
             ],
             [
              0.8888888888888888,
              "#fdca26"
             ],
             [
              1,
              "#f0f921"
             ]
            ],
            "type": "heatmap"
           }
          ],
          "heatmapgl": [
           {
            "colorbar": {
             "outlinewidth": 0,
             "ticks": ""
            },
            "colorscale": [
             [
              0,
              "#0d0887"
             ],
             [
              0.1111111111111111,
              "#46039f"
             ],
             [
              0.2222222222222222,
              "#7201a8"
             ],
             [
              0.3333333333333333,
              "#9c179e"
             ],
             [
              0.4444444444444444,
              "#bd3786"
             ],
             [
              0.5555555555555556,
              "#d8576b"
             ],
             [
              0.6666666666666666,
              "#ed7953"
             ],
             [
              0.7777777777777778,
              "#fb9f3a"
             ],
             [
              0.8888888888888888,
              "#fdca26"
             ],
             [
              1,
              "#f0f921"
             ]
            ],
            "type": "heatmapgl"
           }
          ],
          "histogram": [
           {
            "marker": {
             "pattern": {
              "fillmode": "overlay",
              "size": 10,
              "solidity": 0.2
             }
            },
            "type": "histogram"
           }
          ],
          "histogram2d": [
           {
            "colorbar": {
             "outlinewidth": 0,
             "ticks": ""
            },
            "colorscale": [
             [
              0,
              "#0d0887"
             ],
             [
              0.1111111111111111,
              "#46039f"
             ],
             [
              0.2222222222222222,
              "#7201a8"
             ],
             [
              0.3333333333333333,
              "#9c179e"
             ],
             [
              0.4444444444444444,
              "#bd3786"
             ],
             [
              0.5555555555555556,
              "#d8576b"
             ],
             [
              0.6666666666666666,
              "#ed7953"
             ],
             [
              0.7777777777777778,
              "#fb9f3a"
             ],
             [
              0.8888888888888888,
              "#fdca26"
             ],
             [
              1,
              "#f0f921"
             ]
            ],
            "type": "histogram2d"
           }
          ],
          "histogram2dcontour": [
           {
            "colorbar": {
             "outlinewidth": 0,
             "ticks": ""
            },
            "colorscale": [
             [
              0,
              "#0d0887"
             ],
             [
              0.1111111111111111,
              "#46039f"
             ],
             [
              0.2222222222222222,
              "#7201a8"
             ],
             [
              0.3333333333333333,
              "#9c179e"
             ],
             [
              0.4444444444444444,
              "#bd3786"
             ],
             [
              0.5555555555555556,
              "#d8576b"
             ],
             [
              0.6666666666666666,
              "#ed7953"
             ],
             [
              0.7777777777777778,
              "#fb9f3a"
             ],
             [
              0.8888888888888888,
              "#fdca26"
             ],
             [
              1,
              "#f0f921"
             ]
            ],
            "type": "histogram2dcontour"
           }
          ],
          "mesh3d": [
           {
            "colorbar": {
             "outlinewidth": 0,
             "ticks": ""
            },
            "type": "mesh3d"
           }
          ],
          "parcoords": [
           {
            "line": {
             "colorbar": {
              "outlinewidth": 0,
              "ticks": ""
             }
            },
            "type": "parcoords"
           }
          ],
          "pie": [
           {
            "automargin": true,
            "type": "pie"
           }
          ],
          "scatter": [
           {
            "marker": {
             "colorbar": {
              "outlinewidth": 0,
              "ticks": ""
             }
            },
            "type": "scatter"
           }
          ],
          "scatter3d": [
           {
            "line": {
             "colorbar": {
              "outlinewidth": 0,
              "ticks": ""
             }
            },
            "marker": {
             "colorbar": {
              "outlinewidth": 0,
              "ticks": ""
             }
            },
            "type": "scatter3d"
           }
          ],
          "scattercarpet": [
           {
            "marker": {
             "colorbar": {
              "outlinewidth": 0,
              "ticks": ""
             }
            },
            "type": "scattercarpet"
           }
          ],
          "scattergeo": [
           {
            "marker": {
             "colorbar": {
              "outlinewidth": 0,
              "ticks": ""
             }
            },
            "type": "scattergeo"
           }
          ],
          "scattergl": [
           {
            "marker": {
             "colorbar": {
              "outlinewidth": 0,
              "ticks": ""
             }
            },
            "type": "scattergl"
           }
          ],
          "scattermapbox": [
           {
            "marker": {
             "colorbar": {
              "outlinewidth": 0,
              "ticks": ""
             }
            },
            "type": "scattermapbox"
           }
          ],
          "scatterpolar": [
           {
            "marker": {
             "colorbar": {
              "outlinewidth": 0,
              "ticks": ""
             }
            },
            "type": "scatterpolar"
           }
          ],
          "scatterpolargl": [
           {
            "marker": {
             "colorbar": {
              "outlinewidth": 0,
              "ticks": ""
             }
            },
            "type": "scatterpolargl"
           }
          ],
          "scatterternary": [
           {
            "marker": {
             "colorbar": {
              "outlinewidth": 0,
              "ticks": ""
             }
            },
            "type": "scatterternary"
           }
          ],
          "surface": [
           {
            "colorbar": {
             "outlinewidth": 0,
             "ticks": ""
            },
            "colorscale": [
             [
              0,
              "#0d0887"
             ],
             [
              0.1111111111111111,
              "#46039f"
             ],
             [
              0.2222222222222222,
              "#7201a8"
             ],
             [
              0.3333333333333333,
              "#9c179e"
             ],
             [
              0.4444444444444444,
              "#bd3786"
             ],
             [
              0.5555555555555556,
              "#d8576b"
             ],
             [
              0.6666666666666666,
              "#ed7953"
             ],
             [
              0.7777777777777778,
              "#fb9f3a"
             ],
             [
              0.8888888888888888,
              "#fdca26"
             ],
             [
              1,
              "#f0f921"
             ]
            ],
            "type": "surface"
           }
          ],
          "table": [
           {
            "cells": {
             "fill": {
              "color": "#EBF0F8"
             },
             "line": {
              "color": "white"
             }
            },
            "header": {
             "fill": {
              "color": "#C8D4E3"
             },
             "line": {
              "color": "white"
             }
            },
            "type": "table"
           }
          ]
         },
         "layout": {
          "annotationdefaults": {
           "arrowcolor": "#2a3f5f",
           "arrowhead": 0,
           "arrowwidth": 1
          },
          "autotypenumbers": "strict",
          "coloraxis": {
           "colorbar": {
            "outlinewidth": 0,
            "ticks": ""
           }
          },
          "colorscale": {
           "diverging": [
            [
             0,
             "#8e0152"
            ],
            [
             0.1,
             "#c51b7d"
            ],
            [
             0.2,
             "#de77ae"
            ],
            [
             0.3,
             "#f1b6da"
            ],
            [
             0.4,
             "#fde0ef"
            ],
            [
             0.5,
             "#f7f7f7"
            ],
            [
             0.6,
             "#e6f5d0"
            ],
            [
             0.7,
             "#b8e186"
            ],
            [
             0.8,
             "#7fbc41"
            ],
            [
             0.9,
             "#4d9221"
            ],
            [
             1,
             "#276419"
            ]
           ],
           "sequential": [
            [
             0,
             "#0d0887"
            ],
            [
             0.1111111111111111,
             "#46039f"
            ],
            [
             0.2222222222222222,
             "#7201a8"
            ],
            [
             0.3333333333333333,
             "#9c179e"
            ],
            [
             0.4444444444444444,
             "#bd3786"
            ],
            [
             0.5555555555555556,
             "#d8576b"
            ],
            [
             0.6666666666666666,
             "#ed7953"
            ],
            [
             0.7777777777777778,
             "#fb9f3a"
            ],
            [
             0.8888888888888888,
             "#fdca26"
            ],
            [
             1,
             "#f0f921"
            ]
           ],
           "sequentialminus": [
            [
             0,
             "#0d0887"
            ],
            [
             0.1111111111111111,
             "#46039f"
            ],
            [
             0.2222222222222222,
             "#7201a8"
            ],
            [
             0.3333333333333333,
             "#9c179e"
            ],
            [
             0.4444444444444444,
             "#bd3786"
            ],
            [
             0.5555555555555556,
             "#d8576b"
            ],
            [
             0.6666666666666666,
             "#ed7953"
            ],
            [
             0.7777777777777778,
             "#fb9f3a"
            ],
            [
             0.8888888888888888,
             "#fdca26"
            ],
            [
             1,
             "#f0f921"
            ]
           ]
          },
          "colorway": [
           "#636efa",
           "#EF553B",
           "#00cc96",
           "#ab63fa",
           "#FFA15A",
           "#19d3f3",
           "#FF6692",
           "#B6E880",
           "#FF97FF",
           "#FECB52"
          ],
          "font": {
           "color": "#2a3f5f"
          },
          "geo": {
           "bgcolor": "white",
           "lakecolor": "white",
           "landcolor": "#E5ECF6",
           "showlakes": true,
           "showland": true,
           "subunitcolor": "white"
          },
          "hoverlabel": {
           "align": "left"
          },
          "hovermode": "closest",
          "mapbox": {
           "style": "light"
          },
          "paper_bgcolor": "white",
          "plot_bgcolor": "#E5ECF6",
          "polar": {
           "angularaxis": {
            "gridcolor": "white",
            "linecolor": "white",
            "ticks": ""
           },
           "bgcolor": "#E5ECF6",
           "radialaxis": {
            "gridcolor": "white",
            "linecolor": "white",
            "ticks": ""
           }
          },
          "scene": {
           "xaxis": {
            "backgroundcolor": "#E5ECF6",
            "gridcolor": "white",
            "gridwidth": 2,
            "linecolor": "white",
            "showbackground": true,
            "ticks": "",
            "zerolinecolor": "white"
           },
           "yaxis": {
            "backgroundcolor": "#E5ECF6",
            "gridcolor": "white",
            "gridwidth": 2,
            "linecolor": "white",
            "showbackground": true,
            "ticks": "",
            "zerolinecolor": "white"
           },
           "zaxis": {
            "backgroundcolor": "#E5ECF6",
            "gridcolor": "white",
            "gridwidth": 2,
            "linecolor": "white",
            "showbackground": true,
            "ticks": "",
            "zerolinecolor": "white"
           }
          },
          "shapedefaults": {
           "line": {
            "color": "#2a3f5f"
           }
          },
          "ternary": {
           "aaxis": {
            "gridcolor": "white",
            "linecolor": "white",
            "ticks": ""
           },
           "baxis": {
            "gridcolor": "white",
            "linecolor": "white",
            "ticks": ""
           },
           "bgcolor": "#E5ECF6",
           "caxis": {
            "gridcolor": "white",
            "linecolor": "white",
            "ticks": ""
           }
          },
          "title": {
           "x": 0.05
          },
          "xaxis": {
           "automargin": true,
           "gridcolor": "white",
           "linecolor": "white",
           "ticks": "",
           "title": {
            "standoff": 15
           },
           "zerolinecolor": "white",
           "zerolinewidth": 2
          },
          "yaxis": {
           "automargin": true,
           "gridcolor": "white",
           "linecolor": "white",
           "ticks": "",
           "title": {
            "standoff": 15
           },
           "zerolinecolor": "white",
           "zerolinewidth": 2
          }
         }
        },
        "width": 1000,
        "xaxis": {
         "autorange": true,
         "dtick": 1,
         "range": [
          1993.5,
          2021.5
         ],
         "showgrid": false,
         "tickangle": -90,
         "tickvals": [],
         "type": "linear"
        },
        "yaxis": {
         "dtick": 1,
         "range": [
          0,
          3
         ],
         "type": "linear"
        }
       }
      },
      "image/png": "[encoded data removed]",
      "text/html": [
       "<div>                            <div id=\"266a7c8a-db59-4753-a4ed-db08fe81dd87\" class=\"plotly-graph-div\" style=\"height:200px; width:1000px;\"></div>            <script type=\"text/javascript\">                require([\"plotly\"], function(Plotly) {                    window.PLOTLYENV=window.PLOTLYENV || {};                                    if (document.getElementById(\"266a7c8a-db59-4753-a4ed-db08fe81dd87\")) {                    Plotly.newPlot(                        \"266a7c8a-db59-4753-a4ed-db08fe81dd87\",                        [{\"marker\":{\"color\":\"#073b4c\"},\"name\":\"Hyperelastic model studies\",\"text\":[0.0,0.0,0.0,0.0,0.0,0.0,0.0,0.0,0.0,0.0,0.0,0.0,0.0,0.0,0.0,1.0,0.0,2.0,0.0,3.0,1.0,0.0,0.0,0.0,2.0,1.0,1.0,0.0],\"textposition\":\"auto\",\"type\":\"bar\",\"x\":[1994,1995,1996,1997,1998,1999,2000,2001,2002,2003,2004,2005,2006,2007,2008,2009,2010,2011,2012,2013,2014,2015,2016,2017,2018,2019,2020,2021],\"y\":[0,0,0,0,0,0,0,0,0,0,0,0,0,0,0,1,0,2,0,3,1,0,0,0,2,1,1,0]},{\"marker\":{\"color\":\"#ffd166\"},\"name\":\"Visco-hyperelastic model studies\",\"text\":[0.0,0.0,0.0,0.0,0.0,0.0,0.0,0.0,0.0,0.0,0.0,0.0,0.0,1.0,0.0,0.0,0.0,0.0,0.0,0.0,0.0,0.0,0.0,0.0,0.0,1.0,0.0,0.0],\"textposition\":\"auto\",\"type\":\"bar\",\"x\":[1994,1995,1996,1997,1998,1999,2000,2001,2002,2003,2004,2005,2006,2007,2008,2009,2010,2011,2012,2013,2014,2015,2016,2017,2018,2019,2020,2021],\"y\":[0,0,0,0,0,0,0,0,0,0,0,0,0,1,0,0,0,0,0,0,0,0,0,0,0,1,0,0]},{\"marker\":{\"color\":\"#06d6a0\"},\"name\":\"Active model studies\",\"text\":[0.0,0.0,0.0,0.0,0.0,0.0,0.0,0.0,0.0,0.0,0.0,0.0,0.0,0.0,0.0,0.0,0.0,0.0,0.0,0.0,1.0,0.0,0.0,0.0,0.0,0.0,0.0,0.0],\"textposition\":\"auto\",\"type\":\"bar\",\"x\":[1994,1995,1996,1997,1998,1999,2000,2001,2002,2003,2004,2005,2006,2007,2008,2009,2010,2011,2012,2013,2014,2015,2016,2017,2018,2019,2020,2021],\"y\":[0,0,0,0,0,0,0,0,0,0,0,0,0,0,0,0,0,0,0,0,1,0,0,0,0,0,0,0]}],                        {\"annotations\":[{\"font\":{\"color\":\"black\",\"size\":14},\"showarrow\":false,\"text\":\"Large intestine\",\"x\":1,\"xref\":\"paper\",\"y\":0.95,\"yref\":\"paper\"}],\"autosize\":false,\"bargap\":0.5,\"barmode\":\"stack\",\"height\":200,\"margin\":{\"t\":30},\"plot_bgcolor\":\"rgba(242, 241, 239, 0.8)\",\"showlegend\":false,\"template\":{\"data\":{\"bar\":[{\"error_x\":{\"color\":\"#2a3f5f\"},\"error_y\":{\"color\":\"#2a3f5f\"},\"marker\":{\"line\":{\"color\":\"#E5ECF6\",\"width\":0.5},\"pattern\":{\"fillmode\":\"overlay\",\"size\":10,\"solidity\":0.2}},\"type\":\"bar\"}],\"barpolar\":[{\"marker\":{\"line\":{\"color\":\"#E5ECF6\",\"width\":0.5},\"pattern\":{\"fillmode\":\"overlay\",\"size\":10,\"solidity\":0.2}},\"type\":\"barpolar\"}],\"carpet\":[{\"aaxis\":{\"endlinecolor\":\"#2a3f5f\",\"gridcolor\":\"white\",\"linecolor\":\"white\",\"minorgridcolor\":\"white\",\"startlinecolor\":\"#2a3f5f\"},\"baxis\":{\"endlinecolor\":\"#2a3f5f\",\"gridcolor\":\"white\",\"linecolor\":\"white\",\"minorgridcolor\":\"white\",\"startlinecolor\":\"#2a3f5f\"},\"type\":\"carpet\"}],\"choropleth\":[{\"colorbar\":{\"outlinewidth\":0,\"ticks\":\"\"},\"type\":\"choropleth\"}],\"contour\":[{\"colorbar\":{\"outlinewidth\":0,\"ticks\":\"\"},\"colorscale\":[[0.0,\"#0d0887\"],[0.1111111111111111,\"#46039f\"],[0.2222222222222222,\"#7201a8\"],[0.3333333333333333,\"#9c179e\"],[0.4444444444444444,\"#bd3786\"],[0.5555555555555556,\"#d8576b\"],[0.6666666666666666,\"#ed7953\"],[0.7777777777777778,\"#fb9f3a\"],[0.8888888888888888,\"#fdca26\"],[1.0,\"#f0f921\"]],\"type\":\"contour\"}],\"contourcarpet\":[{\"colorbar\":{\"outlinewidth\":0,\"ticks\":\"\"},\"type\":\"contourcarpet\"}],\"heatmap\":[{\"colorbar\":{\"outlinewidth\":0,\"ticks\":\"\"},\"colorscale\":[[0.0,\"#0d0887\"],[0.1111111111111111,\"#46039f\"],[0.2222222222222222,\"#7201a8\"],[0.3333333333333333,\"#9c179e\"],[0.4444444444444444,\"#bd3786\"],[0.5555555555555556,\"#d8576b\"],[0.6666666666666666,\"#ed7953\"],[0.7777777777777778,\"#fb9f3a\"],[0.8888888888888888,\"#fdca26\"],[1.0,\"#f0f921\"]],\"type\":\"heatmap\"}],\"heatmapgl\":[{\"colorbar\":{\"outlinewidth\":0,\"ticks\":\"\"},\"colorscale\":[[0.0,\"#0d0887\"],[0.1111111111111111,\"#46039f\"],[0.2222222222222222,\"#7201a8\"],[0.3333333333333333,\"#9c179e\"],[0.4444444444444444,\"#bd3786\"],[0.5555555555555556,\"#d8576b\"],[0.6666666666666666,\"#ed7953\"],[0.7777777777777778,\"#fb9f3a\"],[0.8888888888888888,\"#fdca26\"],[1.0,\"#f0f921\"]],\"type\":\"heatmapgl\"}],\"histogram\":[{\"marker\":{\"pattern\":{\"fillmode\":\"overlay\",\"size\":10,\"solidity\":0.2}},\"type\":\"histogram\"}],\"histogram2d\":[{\"colorbar\":{\"outlinewidth\":0,\"ticks\":\"\"},\"colorscale\":[[0.0,\"#0d0887\"],[0.1111111111111111,\"#46039f\"],[0.2222222222222222,\"#7201a8\"],[0.3333333333333333,\"#9c179e\"],[0.4444444444444444,\"#bd3786\"],[0.5555555555555556,\"#d8576b\"],[0.6666666666666666,\"#ed7953\"],[0.7777777777777778,\"#fb9f3a\"],[0.8888888888888888,\"#fdca26\"],[1.0,\"#f0f921\"]],\"type\":\"histogram2d\"}],\"histogram2dcontour\":[{\"colorbar\":{\"outlinewidth\":0,\"ticks\":\"\"},\"colorscale\":[[0.0,\"#0d0887\"],[0.1111111111111111,\"#46039f\"],[0.2222222222222222,\"#7201a8\"],[0.3333333333333333,\"#9c179e\"],[0.4444444444444444,\"#bd3786\"],[0.5555555555555556,\"#d8576b\"],[0.6666666666666666,\"#ed7953\"],[0.7777777777777778,\"#fb9f3a\"],[0.8888888888888888,\"#fdca26\"],[1.0,\"#f0f921\"]],\"type\":\"histogram2dcontour\"}],\"mesh3d\":[{\"colorbar\":{\"outlinewidth\":0,\"ticks\":\"\"},\"type\":\"mesh3d\"}],\"parcoords\":[{\"line\":{\"colorbar\":{\"outlinewidth\":0,\"ticks\":\"\"}},\"type\":\"parcoords\"}],\"pie\":[{\"automargin\":true,\"type\":\"pie\"}],\"scatter\":[{\"marker\":{\"colorbar\":{\"outlinewidth\":0,\"ticks\":\"\"}},\"type\":\"scatter\"}],\"scatter3d\":[{\"line\":{\"colorbar\":{\"outlinewidth\":0,\"ticks\":\"\"}},\"marker\":{\"colorbar\":{\"outlinewidth\":0,\"ticks\":\"\"}},\"type\":\"scatter3d\"}],\"scattercarpet\":[{\"marker\":{\"colorbar\":{\"outlinewidth\":0,\"ticks\":\"\"}},\"type\":\"scattercarpet\"}],\"scattergeo\":[{\"marker\":{\"colorbar\":{\"outlinewidth\":0,\"ticks\":\"\"}},\"type\":\"scattergeo\"}],\"scattergl\":[{\"marker\":{\"colorbar\":{\"outlinewidth\":0,\"ticks\":\"\"}},\"type\":\"scattergl\"}],\"scattermapbox\":[{\"marker\":{\"colorbar\":{\"outlinewidth\":0,\"ticks\":\"\"}},\"type\":\"scattermapbox\"}],\"scatterpolar\":[{\"marker\":{\"colorbar\":{\"outlinewidth\":0,\"ticks\":\"\"}},\"type\":\"scatterpolar\"}],\"scatterpolargl\":[{\"marker\":{\"colorbar\":{\"outlinewidth\":0,\"ticks\":\"\"}},\"type\":\"scatterpolargl\"}],\"scatterternary\":[{\"marker\":{\"colorbar\":{\"outlinewidth\":0,\"ticks\":\"\"}},\"type\":\"scatterternary\"}],\"surface\":[{\"colorbar\":{\"outlinewidth\":0,\"ticks\":\"\"},\"colorscale\":[[0.0,\"#0d0887\"],[0.1111111111111111,\"#46039f\"],[0.2222222222222222,\"#7201a8\"],[0.3333333333333333,\"#9c179e\"],[0.4444444444444444,\"#bd3786\"],[0.5555555555555556,\"#d8576b\"],[0.6666666666666666,\"#ed7953\"],[0.7777777777777778,\"#fb9f3a\"],[0.8888888888888888,\"#fdca26\"],[1.0,\"#f0f921\"]],\"type\":\"surface\"}],\"table\":[{\"cells\":{\"fill\":{\"color\":\"#EBF0F8\"},\"line\":{\"color\":\"white\"}},\"header\":{\"fill\":{\"color\":\"#C8D4E3\"},\"line\":{\"color\":\"white\"}},\"type\":\"table\"}]},\"layout\":{\"annotationdefaults\":{\"arrowcolor\":\"#2a3f5f\",\"arrowhead\":0,\"arrowwidth\":1},\"autotypenumbers\":\"strict\",\"coloraxis\":{\"colorbar\":{\"outlinewidth\":0,\"ticks\":\"\"}},\"colorscale\":{\"diverging\":[[0,\"#8e0152\"],[0.1,\"#c51b7d\"],[0.2,\"#de77ae\"],[0.3,\"#f1b6da\"],[0.4,\"#fde0ef\"],[0.5,\"#f7f7f7\"],[0.6,\"#e6f5d0\"],[0.7,\"#b8e186\"],[0.8,\"#7fbc41\"],[0.9,\"#4d9221\"],[1,\"#276419\"]],\"sequential\":[[0.0,\"#0d0887\"],[0.1111111111111111,\"#46039f\"],[0.2222222222222222,\"#7201a8\"],[0.3333333333333333,\"#9c179e\"],[0.4444444444444444,\"#bd3786\"],[0.5555555555555556,\"#d8576b\"],[0.6666666666666666,\"#ed7953\"],[0.7777777777777778,\"#fb9f3a\"],[0.8888888888888888,\"#fdca26\"],[1.0,\"#f0f921\"]],\"sequentialminus\":[[0.0,\"#0d0887\"],[0.1111111111111111,\"#46039f\"],[0.2222222222222222,\"#7201a8\"],[0.3333333333333333,\"#9c179e\"],[0.4444444444444444,\"#bd3786\"],[0.5555555555555556,\"#d8576b\"],[0.6666666666666666,\"#ed7953\"],[0.7777777777777778,\"#fb9f3a\"],[0.8888888888888888,\"#fdca26\"],[1.0,\"#f0f921\"]]},\"colorway\":[\"#636efa\",\"#EF553B\",\"#00cc96\",\"#ab63fa\",\"#FFA15A\",\"#19d3f3\",\"#FF6692\",\"#B6E880\",\"#FF97FF\",\"#FECB52\"],\"font\":{\"color\":\"#2a3f5f\"},\"geo\":{\"bgcolor\":\"white\",\"lakecolor\":\"white\",\"landcolor\":\"#E5ECF6\",\"showlakes\":true,\"showland\":true,\"subunitcolor\":\"white\"},\"hoverlabel\":{\"align\":\"left\"},\"hovermode\":\"closest\",\"mapbox\":{\"style\":\"light\"},\"paper_bgcolor\":\"white\",\"plot_bgcolor\":\"#E5ECF6\",\"polar\":{\"angularaxis\":{\"gridcolor\":\"white\",\"linecolor\":\"white\",\"ticks\":\"\"},\"bgcolor\":\"#E5ECF6\",\"radialaxis\":{\"gridcolor\":\"white\",\"linecolor\":\"white\",\"ticks\":\"\"}},\"scene\":{\"xaxis\":{\"backgroundcolor\":\"#E5ECF6\",\"gridcolor\":\"white\",\"gridwidth\":2,\"linecolor\":\"white\",\"showbackground\":true,\"ticks\":\"\",\"zerolinecolor\":\"white\"},\"yaxis\":{\"backgroundcolor\":\"#E5ECF6\",\"gridcolor\":\"white\",\"gridwidth\":2,\"linecolor\":\"white\",\"showbackground\":true,\"ticks\":\"\",\"zerolinecolor\":\"white\"},\"zaxis\":{\"backgroundcolor\":\"#E5ECF6\",\"gridcolor\":\"white\",\"gridwidth\":2,\"linecolor\":\"white\",\"showbackground\":true,\"ticks\":\"\",\"zerolinecolor\":\"white\"}},\"shapedefaults\":{\"line\":{\"color\":\"#2a3f5f\"}},\"ternary\":{\"aaxis\":{\"gridcolor\":\"white\",\"linecolor\":\"white\",\"ticks\":\"\"},\"baxis\":{\"gridcolor\":\"white\",\"linecolor\":\"white\",\"ticks\":\"\"},\"bgcolor\":\"#E5ECF6\",\"caxis\":{\"gridcolor\":\"white\",\"linecolor\":\"white\",\"ticks\":\"\"}},\"title\":{\"x\":0.05},\"xaxis\":{\"automargin\":true,\"gridcolor\":\"white\",\"linecolor\":\"white\",\"ticks\":\"\",\"title\":{\"standoff\":15},\"zerolinecolor\":\"white\",\"zerolinewidth\":2},\"yaxis\":{\"automargin\":true,\"gridcolor\":\"white\",\"linecolor\":\"white\",\"ticks\":\"\",\"title\":{\"standoff\":15},\"zerolinecolor\":\"white\",\"zerolinewidth\":2}}},\"width\":1000,\"xaxis\":{\"dtick\":1,\"showgrid\":false,\"tickangle\":-90,\"tickvals\":[]},\"yaxis\":{\"dtick\":1,\"range\":[0,3]}},                        {\"responsive\": true}                    ).then(function(){\n",
       "                            \n",
       "var gd = document.getElementById('266a7c8a-db59-4753-a4ed-db08fe81dd87');\n",
       "var x = new MutationObserver(function (mutations, observer) {{\n",
       "        var display = window.getComputedStyle(gd).display;\n",
       "        if (!display || display === 'none') {{\n",
       "            console.log([gd, 'removed!']);\n",
       "            Plotly.purge(gd);\n",
       "            observer.disconnect();\n",
       "        }}\n",
       "}});\n",
       "\n",
       "// Listen for the removal of the full notebook cells\n",
       "var notebookContainer = gd.closest('#notebook-container');\n",
       "if (notebookContainer) {{\n",
       "    x.observe(notebookContainer, {childList: true});\n",
       "}}\n",
       "\n",
       "// Listen for the clearing of the current output cell\n",
       "var outputEl = gd.closest('.output');\n",
       "if (outputEl) {{\n",
       "    x.observe(outputEl, {childList: true});\n",
       "}}\n",
       "\n",
       "                        })                };                });            </script>        </div>"
      ]
     },
     "metadata": {},
     "output_type": "display_data"
    },
    {
     "data": {
      "application/vnd.plotly.v1+json": {
       "config": {
        "plotlyServerURL": "https://plot.ly"
       },
       "data": [
        {
         "marker": {
          "color": "#073b4c"
         },
         "name": "Hyperelastic model studies",
         "text": [
          0,
          0,
          0,
          0,
          0,
          0,
          0,
          0,
          0,
          0,
          0,
          0,
          0,
          0,
          0,
          1,
          0,
          1,
          1,
          1,
          0,
          1,
          0,
          0,
          0,
          0,
          1,
          0
         ],
         "textposition": "auto",
         "type": "bar",
         "x": [
          1994,
          1995,
          1996,
          1997,
          1998,
          1999,
          2000,
          2001,
          2002,
          2003,
          2004,
          2005,
          2006,
          2007,
          2008,
          2009,
          2010,
          2011,
          2012,
          2013,
          2014,
          2015,
          2016,
          2017,
          2018,
          2019,
          2020,
          2021
         ],
         "y": [
          0,
          0,
          0,
          0,
          0,
          0,
          0,
          0,
          0,
          0,
          0,
          0,
          0,
          0,
          0,
          1,
          0,
          1,
          1,
          1,
          0,
          1,
          0,
          0,
          0,
          0,
          1,
          0
         ]
        },
        {
         "marker": {
          "color": "#ffd166"
         },
         "name": "Visco-hyperelastic model studies",
         "text": [
          0,
          0,
          0,
          0,
          0,
          0,
          0,
          0,
          0,
          0,
          0,
          0,
          0,
          0,
          0,
          0,
          0,
          0,
          0,
          0,
          0,
          0,
          0,
          0,
          0,
          1,
          0,
          0
         ],
         "textposition": "auto",
         "type": "bar",
         "x": [
          1994,
          1995,
          1996,
          1997,
          1998,
          1999,
          2000,
          2001,
          2002,
          2003,
          2004,
          2005,
          2006,
          2007,
          2008,
          2009,
          2010,
          2011,
          2012,
          2013,
          2014,
          2015,
          2016,
          2017,
          2018,
          2019,
          2020,
          2021
         ],
         "y": [
          0,
          0,
          0,
          0,
          0,
          0,
          0,
          0,
          0,
          0,
          0,
          0,
          0,
          0,
          0,
          0,
          0,
          0,
          0,
          0,
          0,
          0,
          0,
          0,
          0,
          1,
          0,
          0
         ]
        },
        {
         "marker": {
          "color": "#06d6a0"
         },
         "name": "Active model studies",
         "text": [
          0,
          0,
          0,
          0,
          0,
          0,
          0,
          0,
          0,
          0,
          0,
          0,
          0,
          0,
          0,
          0,
          0,
          0,
          0,
          0,
          0,
          0,
          0,
          0,
          0,
          0,
          0,
          0
         ],
         "textposition": "auto",
         "type": "bar",
         "x": [
          1994,
          1995,
          1996,
          1997,
          1998,
          1999,
          2000,
          2001,
          2002,
          2003,
          2004,
          2005,
          2006,
          2007,
          2008,
          2009,
          2010,
          2011,
          2012,
          2013,
          2014,
          2015,
          2016,
          2017,
          2018,
          2019,
          2020,
          2021
         ],
         "y": [
          0,
          0,
          0,
          0,
          0,
          0,
          0,
          0,
          0,
          0,
          0,
          0,
          0,
          0,
          0,
          0,
          0,
          0,
          0,
          0,
          0,
          0,
          0,
          0,
          0,
          0,
          0,
          0
         ]
        }
       ],
       "layout": {
        "annotations": [
         {
          "font": {
           "color": "black",
           "size": 14
          },
          "showarrow": false,
          "text": "Rectum",
          "x": 1,
          "xref": "paper",
          "y": 0.95,
          "yref": "paper"
         }
        ],
        "autosize": false,
        "bargap": 0.5,
        "barmode": "stack",
        "height": 200,
        "margin": {
         "t": 30
        },
        "plot_bgcolor": "rgba(242, 241, 239, 0.8)",
        "showlegend": false,
        "template": {
         "data": {
          "bar": [
           {
            "error_x": {
             "color": "#2a3f5f"
            },
            "error_y": {
             "color": "#2a3f5f"
            },
            "marker": {
             "line": {
              "color": "#E5ECF6",
              "width": 0.5
             },
             "pattern": {
              "fillmode": "overlay",
              "size": 10,
              "solidity": 0.2
             }
            },
            "type": "bar"
           }
          ],
          "barpolar": [
           {
            "marker": {
             "line": {
              "color": "#E5ECF6",
              "width": 0.5
             },
             "pattern": {
              "fillmode": "overlay",
              "size": 10,
              "solidity": 0.2
             }
            },
            "type": "barpolar"
           }
          ],
          "carpet": [
           {
            "aaxis": {
             "endlinecolor": "#2a3f5f",
             "gridcolor": "white",
             "linecolor": "white",
             "minorgridcolor": "white",
             "startlinecolor": "#2a3f5f"
            },
            "baxis": {
             "endlinecolor": "#2a3f5f",
             "gridcolor": "white",
             "linecolor": "white",
             "minorgridcolor": "white",
             "startlinecolor": "#2a3f5f"
            },
            "type": "carpet"
           }
          ],
          "choropleth": [
           {
            "colorbar": {
             "outlinewidth": 0,
             "ticks": ""
            },
            "type": "choropleth"
           }
          ],
          "contour": [
           {
            "colorbar": {
             "outlinewidth": 0,
             "ticks": ""
            },
            "colorscale": [
             [
              0,
              "#0d0887"
             ],
             [
              0.1111111111111111,
              "#46039f"
             ],
             [
              0.2222222222222222,
              "#7201a8"
             ],
             [
              0.3333333333333333,
              "#9c179e"
             ],
             [
              0.4444444444444444,
              "#bd3786"
             ],
             [
              0.5555555555555556,
              "#d8576b"
             ],
             [
              0.6666666666666666,
              "#ed7953"
             ],
             [
              0.7777777777777778,
              "#fb9f3a"
             ],
             [
              0.8888888888888888,
              "#fdca26"
             ],
             [
              1,
              "#f0f921"
             ]
            ],
            "type": "contour"
           }
          ],
          "contourcarpet": [
           {
            "colorbar": {
             "outlinewidth": 0,
             "ticks": ""
            },
            "type": "contourcarpet"
           }
          ],
          "heatmap": [
           {
            "colorbar": {
             "outlinewidth": 0,
             "ticks": ""
            },
            "colorscale": [
             [
              0,
              "#0d0887"
             ],
             [
              0.1111111111111111,
              "#46039f"
             ],
             [
              0.2222222222222222,
              "#7201a8"
             ],
             [
              0.3333333333333333,
              "#9c179e"
             ],
             [
              0.4444444444444444,
              "#bd3786"
             ],
             [
              0.5555555555555556,
              "#d8576b"
             ],
             [
              0.6666666666666666,
              "#ed7953"
             ],
             [
              0.7777777777777778,
              "#fb9f3a"
             ],
             [
              0.8888888888888888,
              "#fdca26"
             ],
             [
              1,
              "#f0f921"
             ]
            ],
            "type": "heatmap"
           }
          ],
          "heatmapgl": [
           {
            "colorbar": {
             "outlinewidth": 0,
             "ticks": ""
            },
            "colorscale": [
             [
              0,
              "#0d0887"
             ],
             [
              0.1111111111111111,
              "#46039f"
             ],
             [
              0.2222222222222222,
              "#7201a8"
             ],
             [
              0.3333333333333333,
              "#9c179e"
             ],
             [
              0.4444444444444444,
              "#bd3786"
             ],
             [
              0.5555555555555556,
              "#d8576b"
             ],
             [
              0.6666666666666666,
              "#ed7953"
             ],
             [
              0.7777777777777778,
              "#fb9f3a"
             ],
             [
              0.8888888888888888,
              "#fdca26"
             ],
             [
              1,
              "#f0f921"
             ]
            ],
            "type": "heatmapgl"
           }
          ],
          "histogram": [
           {
            "marker": {
             "pattern": {
              "fillmode": "overlay",
              "size": 10,
              "solidity": 0.2
             }
            },
            "type": "histogram"
           }
          ],
          "histogram2d": [
           {
            "colorbar": {
             "outlinewidth": 0,
             "ticks": ""
            },
            "colorscale": [
             [
              0,
              "#0d0887"
             ],
             [
              0.1111111111111111,
              "#46039f"
             ],
             [
              0.2222222222222222,
              "#7201a8"
             ],
             [
              0.3333333333333333,
              "#9c179e"
             ],
             [
              0.4444444444444444,
              "#bd3786"
             ],
             [
              0.5555555555555556,
              "#d8576b"
             ],
             [
              0.6666666666666666,
              "#ed7953"
             ],
             [
              0.7777777777777778,
              "#fb9f3a"
             ],
             [
              0.8888888888888888,
              "#fdca26"
             ],
             [
              1,
              "#f0f921"
             ]
            ],
            "type": "histogram2d"
           }
          ],
          "histogram2dcontour": [
           {
            "colorbar": {
             "outlinewidth": 0,
             "ticks": ""
            },
            "colorscale": [
             [
              0,
              "#0d0887"
             ],
             [
              0.1111111111111111,
              "#46039f"
             ],
             [
              0.2222222222222222,
              "#7201a8"
             ],
             [
              0.3333333333333333,
              "#9c179e"
             ],
             [
              0.4444444444444444,
              "#bd3786"
             ],
             [
              0.5555555555555556,
              "#d8576b"
             ],
             [
              0.6666666666666666,
              "#ed7953"
             ],
             [
              0.7777777777777778,
              "#fb9f3a"
             ],
             [
              0.8888888888888888,
              "#fdca26"
             ],
             [
              1,
              "#f0f921"
             ]
            ],
            "type": "histogram2dcontour"
           }
          ],
          "mesh3d": [
           {
            "colorbar": {
             "outlinewidth": 0,
             "ticks": ""
            },
            "type": "mesh3d"
           }
          ],
          "parcoords": [
           {
            "line": {
             "colorbar": {
              "outlinewidth": 0,
              "ticks": ""
             }
            },
            "type": "parcoords"
           }
          ],
          "pie": [
           {
            "automargin": true,
            "type": "pie"
           }
          ],
          "scatter": [
           {
            "marker": {
             "colorbar": {
              "outlinewidth": 0,
              "ticks": ""
             }
            },
            "type": "scatter"
           }
          ],
          "scatter3d": [
           {
            "line": {
             "colorbar": {
              "outlinewidth": 0,
              "ticks": ""
             }
            },
            "marker": {
             "colorbar": {
              "outlinewidth": 0,
              "ticks": ""
             }
            },
            "type": "scatter3d"
           }
          ],
          "scattercarpet": [
           {
            "marker": {
             "colorbar": {
              "outlinewidth": 0,
              "ticks": ""
             }
            },
            "type": "scattercarpet"
           }
          ],
          "scattergeo": [
           {
            "marker": {
             "colorbar": {
              "outlinewidth": 0,
              "ticks": ""
             }
            },
            "type": "scattergeo"
           }
          ],
          "scattergl": [
           {
            "marker": {
             "colorbar": {
              "outlinewidth": 0,
              "ticks": ""
             }
            },
            "type": "scattergl"
           }
          ],
          "scattermapbox": [
           {
            "marker": {
             "colorbar": {
              "outlinewidth": 0,
              "ticks": ""
             }
            },
            "type": "scattermapbox"
           }
          ],
          "scatterpolar": [
           {
            "marker": {
             "colorbar": {
              "outlinewidth": 0,
              "ticks": ""
             }
            },
            "type": "scatterpolar"
           }
          ],
          "scatterpolargl": [
           {
            "marker": {
             "colorbar": {
              "outlinewidth": 0,
              "ticks": ""
             }
            },
            "type": "scatterpolargl"
           }
          ],
          "scatterternary": [
           {
            "marker": {
             "colorbar": {
              "outlinewidth": 0,
              "ticks": ""
             }
            },
            "type": "scatterternary"
           }
          ],
          "surface": [
           {
            "colorbar": {
             "outlinewidth": 0,
             "ticks": ""
            },
            "colorscale": [
             [
              0,
              "#0d0887"
             ],
             [
              0.1111111111111111,
              "#46039f"
             ],
             [
              0.2222222222222222,
              "#7201a8"
             ],
             [
              0.3333333333333333,
              "#9c179e"
             ],
             [
              0.4444444444444444,
              "#bd3786"
             ],
             [
              0.5555555555555556,
              "#d8576b"
             ],
             [
              0.6666666666666666,
              "#ed7953"
             ],
             [
              0.7777777777777778,
              "#fb9f3a"
             ],
             [
              0.8888888888888888,
              "#fdca26"
             ],
             [
              1,
              "#f0f921"
             ]
            ],
            "type": "surface"
           }
          ],
          "table": [
           {
            "cells": {
             "fill": {
              "color": "#EBF0F8"
             },
             "line": {
              "color": "white"
             }
            },
            "header": {
             "fill": {
              "color": "#C8D4E3"
             },
             "line": {
              "color": "white"
             }
            },
            "type": "table"
           }
          ]
         },
         "layout": {
          "annotationdefaults": {
           "arrowcolor": "#2a3f5f",
           "arrowhead": 0,
           "arrowwidth": 1
          },
          "autotypenumbers": "strict",
          "coloraxis": {
           "colorbar": {
            "outlinewidth": 0,
            "ticks": ""
           }
          },
          "colorscale": {
           "diverging": [
            [
             0,
             "#8e0152"
            ],
            [
             0.1,
             "#c51b7d"
            ],
            [
             0.2,
             "#de77ae"
            ],
            [
             0.3,
             "#f1b6da"
            ],
            [
             0.4,
             "#fde0ef"
            ],
            [
             0.5,
             "#f7f7f7"
            ],
            [
             0.6,
             "#e6f5d0"
            ],
            [
             0.7,
             "#b8e186"
            ],
            [
             0.8,
             "#7fbc41"
            ],
            [
             0.9,
             "#4d9221"
            ],
            [
             1,
             "#276419"
            ]
           ],
           "sequential": [
            [
             0,
             "#0d0887"
            ],
            [
             0.1111111111111111,
             "#46039f"
            ],
            [
             0.2222222222222222,
             "#7201a8"
            ],
            [
             0.3333333333333333,
             "#9c179e"
            ],
            [
             0.4444444444444444,
             "#bd3786"
            ],
            [
             0.5555555555555556,
             "#d8576b"
            ],
            [
             0.6666666666666666,
             "#ed7953"
            ],
            [
             0.7777777777777778,
             "#fb9f3a"
            ],
            [
             0.8888888888888888,
             "#fdca26"
            ],
            [
             1,
             "#f0f921"
            ]
           ],
           "sequentialminus": [
            [
             0,
             "#0d0887"
            ],
            [
             0.1111111111111111,
             "#46039f"
            ],
            [
             0.2222222222222222,
             "#7201a8"
            ],
            [
             0.3333333333333333,
             "#9c179e"
            ],
            [
             0.4444444444444444,
             "#bd3786"
            ],
            [
             0.5555555555555556,
             "#d8576b"
            ],
            [
             0.6666666666666666,
             "#ed7953"
            ],
            [
             0.7777777777777778,
             "#fb9f3a"
            ],
            [
             0.8888888888888888,
             "#fdca26"
            ],
            [
             1,
             "#f0f921"
            ]
           ]
          },
          "colorway": [
           "#636efa",
           "#EF553B",
           "#00cc96",
           "#ab63fa",
           "#FFA15A",
           "#19d3f3",
           "#FF6692",
           "#B6E880",
           "#FF97FF",
           "#FECB52"
          ],
          "font": {
           "color": "#2a3f5f"
          },
          "geo": {
           "bgcolor": "white",
           "lakecolor": "white",
           "landcolor": "#E5ECF6",
           "showlakes": true,
           "showland": true,
           "subunitcolor": "white"
          },
          "hoverlabel": {
           "align": "left"
          },
          "hovermode": "closest",
          "mapbox": {
           "style": "light"
          },
          "paper_bgcolor": "white",
          "plot_bgcolor": "#E5ECF6",
          "polar": {
           "angularaxis": {
            "gridcolor": "white",
            "linecolor": "white",
            "ticks": ""
           },
           "bgcolor": "#E5ECF6",
           "radialaxis": {
            "gridcolor": "white",
            "linecolor": "white",
            "ticks": ""
           }
          },
          "scene": {
           "xaxis": {
            "backgroundcolor": "#E5ECF6",
            "gridcolor": "white",
            "gridwidth": 2,
            "linecolor": "white",
            "showbackground": true,
            "ticks": "",
            "zerolinecolor": "white"
           },
           "yaxis": {
            "backgroundcolor": "#E5ECF6",
            "gridcolor": "white",
            "gridwidth": 2,
            "linecolor": "white",
            "showbackground": true,
            "ticks": "",
            "zerolinecolor": "white"
           },
           "zaxis": {
            "backgroundcolor": "#E5ECF6",
            "gridcolor": "white",
            "gridwidth": 2,
            "linecolor": "white",
            "showbackground": true,
            "ticks": "",
            "zerolinecolor": "white"
           }
          },
          "shapedefaults": {
           "line": {
            "color": "#2a3f5f"
           }
          },
          "ternary": {
           "aaxis": {
            "gridcolor": "white",
            "linecolor": "white",
            "ticks": ""
           },
           "baxis": {
            "gridcolor": "white",
            "linecolor": "white",
            "ticks": ""
           },
           "bgcolor": "#E5ECF6",
           "caxis": {
            "gridcolor": "white",
            "linecolor": "white",
            "ticks": ""
           }
          },
          "title": {
           "x": 0.05
          },
          "xaxis": {
           "automargin": true,
           "gridcolor": "white",
           "linecolor": "white",
           "ticks": "",
           "title": {
            "standoff": 15
           },
           "zerolinecolor": "white",
           "zerolinewidth": 2
          },
          "yaxis": {
           "automargin": true,
           "gridcolor": "white",
           "linecolor": "white",
           "ticks": "",
           "title": {
            "standoff": 15
           },
           "zerolinecolor": "white",
           "zerolinewidth": 2
          }
         }
        },
        "width": 1000,
        "xaxis": {
         "autorange": true,
         "dtick": 1,
         "range": [
          1993.5,
          2021.5
         ],
         "showgrid": false,
         "tickangle": -90,
         "tickvals": [
          1994,
          1995,
          1996,
          1997,
          1998,
          1999,
          2000,
          2001,
          2002,
          2003,
          2004,
          2005,
          2006,
          2007,
          2008,
          2009,
          2010,
          2011,
          2012,
          2013,
          2014,
          2015,
          2016,
          2017,
          2018,
          2019,
          2020,
          2021
         ],
         "title": {
          "text": "<b> Year <b>"
         },
         "type": "linear"
        },
        "yaxis": {
         "dtick": 1,
         "range": [
          0,
          3
         ],
         "title": {
          "text": "<b> Number of studies <b>"
         },
         "type": "linear"
        }
       }
      },
      "image/png": "[encoded data removed]",
      "text/html": [
       "<div>                            <div id=\"202c50fc-750a-41f3-ba53-702a2eb6f87f\" class=\"plotly-graph-div\" style=\"height:200px; width:1000px;\"></div>            <script type=\"text/javascript\">                require([\"plotly\"], function(Plotly) {                    window.PLOTLYENV=window.PLOTLYENV || {};                                    if (document.getElementById(\"202c50fc-750a-41f3-ba53-702a2eb6f87f\")) {                    Plotly.newPlot(                        \"202c50fc-750a-41f3-ba53-702a2eb6f87f\",                        [{\"marker\":{\"color\":\"#073b4c\"},\"name\":\"Hyperelastic model studies\",\"text\":[0.0,0.0,0.0,0.0,0.0,0.0,0.0,0.0,0.0,0.0,0.0,0.0,0.0,0.0,0.0,1.0,0.0,1.0,1.0,1.0,0.0,1.0,0.0,0.0,0.0,0.0,1.0,0.0],\"textposition\":\"auto\",\"type\":\"bar\",\"x\":[1994,1995,1996,1997,1998,1999,2000,2001,2002,2003,2004,2005,2006,2007,2008,2009,2010,2011,2012,2013,2014,2015,2016,2017,2018,2019,2020,2021],\"y\":[0,0,0,0,0,0,0,0,0,0,0,0,0,0,0,1,0,1,1,1,0,1,0,0,0,0,1,0]},{\"marker\":{\"color\":\"#ffd166\"},\"name\":\"Visco-hyperelastic model studies\",\"text\":[0.0,0.0,0.0,0.0,0.0,0.0,0.0,0.0,0.0,0.0,0.0,0.0,0.0,0.0,0.0,0.0,0.0,0.0,0.0,0.0,0.0,0.0,0.0,0.0,0.0,1.0,0.0,0.0],\"textposition\":\"auto\",\"type\":\"bar\",\"x\":[1994,1995,1996,1997,1998,1999,2000,2001,2002,2003,2004,2005,2006,2007,2008,2009,2010,2011,2012,2013,2014,2015,2016,2017,2018,2019,2020,2021],\"y\":[0,0,0,0,0,0,0,0,0,0,0,0,0,0,0,0,0,0,0,0,0,0,0,0,0,1,0,0]},{\"marker\":{\"color\":\"#06d6a0\"},\"name\":\"Active model studies\",\"text\":[0.0,0.0,0.0,0.0,0.0,0.0,0.0,0.0,0.0,0.0,0.0,0.0,0.0,0.0,0.0,0.0,0.0,0.0,0.0,0.0,0.0,0.0,0.0,0.0,0.0,0.0,0.0,0.0],\"textposition\":\"auto\",\"type\":\"bar\",\"x\":[1994,1995,1996,1997,1998,1999,2000,2001,2002,2003,2004,2005,2006,2007,2008,2009,2010,2011,2012,2013,2014,2015,2016,2017,2018,2019,2020,2021],\"y\":[0,0,0,0,0,0,0,0,0,0,0,0,0,0,0,0,0,0,0,0,0,0,0,0,0,0,0,0]}],                        {\"annotations\":[{\"font\":{\"color\":\"black\",\"size\":14},\"showarrow\":false,\"text\":\"Rectum\",\"x\":1,\"xref\":\"paper\",\"y\":0.95,\"yref\":\"paper\"}],\"autosize\":false,\"bargap\":0.5,\"barmode\":\"stack\",\"height\":200,\"margin\":{\"t\":30},\"plot_bgcolor\":\"rgba(242, 241, 239, 0.8)\",\"showlegend\":false,\"template\":{\"data\":{\"bar\":[{\"error_x\":{\"color\":\"#2a3f5f\"},\"error_y\":{\"color\":\"#2a3f5f\"},\"marker\":{\"line\":{\"color\":\"#E5ECF6\",\"width\":0.5},\"pattern\":{\"fillmode\":\"overlay\",\"size\":10,\"solidity\":0.2}},\"type\":\"bar\"}],\"barpolar\":[{\"marker\":{\"line\":{\"color\":\"#E5ECF6\",\"width\":0.5},\"pattern\":{\"fillmode\":\"overlay\",\"size\":10,\"solidity\":0.2}},\"type\":\"barpolar\"}],\"carpet\":[{\"aaxis\":{\"endlinecolor\":\"#2a3f5f\",\"gridcolor\":\"white\",\"linecolor\":\"white\",\"minorgridcolor\":\"white\",\"startlinecolor\":\"#2a3f5f\"},\"baxis\":{\"endlinecolor\":\"#2a3f5f\",\"gridcolor\":\"white\",\"linecolor\":\"white\",\"minorgridcolor\":\"white\",\"startlinecolor\":\"#2a3f5f\"},\"type\":\"carpet\"}],\"choropleth\":[{\"colorbar\":{\"outlinewidth\":0,\"ticks\":\"\"},\"type\":\"choropleth\"}],\"contour\":[{\"colorbar\":{\"outlinewidth\":0,\"ticks\":\"\"},\"colorscale\":[[0.0,\"#0d0887\"],[0.1111111111111111,\"#46039f\"],[0.2222222222222222,\"#7201a8\"],[0.3333333333333333,\"#9c179e\"],[0.4444444444444444,\"#bd3786\"],[0.5555555555555556,\"#d8576b\"],[0.6666666666666666,\"#ed7953\"],[0.7777777777777778,\"#fb9f3a\"],[0.8888888888888888,\"#fdca26\"],[1.0,\"#f0f921\"]],\"type\":\"contour\"}],\"contourcarpet\":[{\"colorbar\":{\"outlinewidth\":0,\"ticks\":\"\"},\"type\":\"contourcarpet\"}],\"heatmap\":[{\"colorbar\":{\"outlinewidth\":0,\"ticks\":\"\"},\"colorscale\":[[0.0,\"#0d0887\"],[0.1111111111111111,\"#46039f\"],[0.2222222222222222,\"#7201a8\"],[0.3333333333333333,\"#9c179e\"],[0.4444444444444444,\"#bd3786\"],[0.5555555555555556,\"#d8576b\"],[0.6666666666666666,\"#ed7953\"],[0.7777777777777778,\"#fb9f3a\"],[0.8888888888888888,\"#fdca26\"],[1.0,\"#f0f921\"]],\"type\":\"heatmap\"}],\"heatmapgl\":[{\"colorbar\":{\"outlinewidth\":0,\"ticks\":\"\"},\"colorscale\":[[0.0,\"#0d0887\"],[0.1111111111111111,\"#46039f\"],[0.2222222222222222,\"#7201a8\"],[0.3333333333333333,\"#9c179e\"],[0.4444444444444444,\"#bd3786\"],[0.5555555555555556,\"#d8576b\"],[0.6666666666666666,\"#ed7953\"],[0.7777777777777778,\"#fb9f3a\"],[0.8888888888888888,\"#fdca26\"],[1.0,\"#f0f921\"]],\"type\":\"heatmapgl\"}],\"histogram\":[{\"marker\":{\"pattern\":{\"fillmode\":\"overlay\",\"size\":10,\"solidity\":0.2}},\"type\":\"histogram\"}],\"histogram2d\":[{\"colorbar\":{\"outlinewidth\":0,\"ticks\":\"\"},\"colorscale\":[[0.0,\"#0d0887\"],[0.1111111111111111,\"#46039f\"],[0.2222222222222222,\"#7201a8\"],[0.3333333333333333,\"#9c179e\"],[0.4444444444444444,\"#bd3786\"],[0.5555555555555556,\"#d8576b\"],[0.6666666666666666,\"#ed7953\"],[0.7777777777777778,\"#fb9f3a\"],[0.8888888888888888,\"#fdca26\"],[1.0,\"#f0f921\"]],\"type\":\"histogram2d\"}],\"histogram2dcontour\":[{\"colorbar\":{\"outlinewidth\":0,\"ticks\":\"\"},\"colorscale\":[[0.0,\"#0d0887\"],[0.1111111111111111,\"#46039f\"],[0.2222222222222222,\"#7201a8\"],[0.3333333333333333,\"#9c179e\"],[0.4444444444444444,\"#bd3786\"],[0.5555555555555556,\"#d8576b\"],[0.6666666666666666,\"#ed7953\"],[0.7777777777777778,\"#fb9f3a\"],[0.8888888888888888,\"#fdca26\"],[1.0,\"#f0f921\"]],\"type\":\"histogram2dcontour\"}],\"mesh3d\":[{\"colorbar\":{\"outlinewidth\":0,\"ticks\":\"\"},\"type\":\"mesh3d\"}],\"parcoords\":[{\"line\":{\"colorbar\":{\"outlinewidth\":0,\"ticks\":\"\"}},\"type\":\"parcoords\"}],\"pie\":[{\"automargin\":true,\"type\":\"pie\"}],\"scatter\":[{\"marker\":{\"colorbar\":{\"outlinewidth\":0,\"ticks\":\"\"}},\"type\":\"scatter\"}],\"scatter3d\":[{\"line\":{\"colorbar\":{\"outlinewidth\":0,\"ticks\":\"\"}},\"marker\":{\"colorbar\":{\"outlinewidth\":0,\"ticks\":\"\"}},\"type\":\"scatter3d\"}],\"scattercarpet\":[{\"marker\":{\"colorbar\":{\"outlinewidth\":0,\"ticks\":\"\"}},\"type\":\"scattercarpet\"}],\"scattergeo\":[{\"marker\":{\"colorbar\":{\"outlinewidth\":0,\"ticks\":\"\"}},\"type\":\"scattergeo\"}],\"scattergl\":[{\"marker\":{\"colorbar\":{\"outlinewidth\":0,\"ticks\":\"\"}},\"type\":\"scattergl\"}],\"scattermapbox\":[{\"marker\":{\"colorbar\":{\"outlinewidth\":0,\"ticks\":\"\"}},\"type\":\"scattermapbox\"}],\"scatterpolar\":[{\"marker\":{\"colorbar\":{\"outlinewidth\":0,\"ticks\":\"\"}},\"type\":\"scatterpolar\"}],\"scatterpolargl\":[{\"marker\":{\"colorbar\":{\"outlinewidth\":0,\"ticks\":\"\"}},\"type\":\"scatterpolargl\"}],\"scatterternary\":[{\"marker\":{\"colorbar\":{\"outlinewidth\":0,\"ticks\":\"\"}},\"type\":\"scatterternary\"}],\"surface\":[{\"colorbar\":{\"outlinewidth\":0,\"ticks\":\"\"},\"colorscale\":[[0.0,\"#0d0887\"],[0.1111111111111111,\"#46039f\"],[0.2222222222222222,\"#7201a8\"],[0.3333333333333333,\"#9c179e\"],[0.4444444444444444,\"#bd3786\"],[0.5555555555555556,\"#d8576b\"],[0.6666666666666666,\"#ed7953\"],[0.7777777777777778,\"#fb9f3a\"],[0.8888888888888888,\"#fdca26\"],[1.0,\"#f0f921\"]],\"type\":\"surface\"}],\"table\":[{\"cells\":{\"fill\":{\"color\":\"#EBF0F8\"},\"line\":{\"color\":\"white\"}},\"header\":{\"fill\":{\"color\":\"#C8D4E3\"},\"line\":{\"color\":\"white\"}},\"type\":\"table\"}]},\"layout\":{\"annotationdefaults\":{\"arrowcolor\":\"#2a3f5f\",\"arrowhead\":0,\"arrowwidth\":1},\"autotypenumbers\":\"strict\",\"coloraxis\":{\"colorbar\":{\"outlinewidth\":0,\"ticks\":\"\"}},\"colorscale\":{\"diverging\":[[0,\"#8e0152\"],[0.1,\"#c51b7d\"],[0.2,\"#de77ae\"],[0.3,\"#f1b6da\"],[0.4,\"#fde0ef\"],[0.5,\"#f7f7f7\"],[0.6,\"#e6f5d0\"],[0.7,\"#b8e186\"],[0.8,\"#7fbc41\"],[0.9,\"#4d9221\"],[1,\"#276419\"]],\"sequential\":[[0.0,\"#0d0887\"],[0.1111111111111111,\"#46039f\"],[0.2222222222222222,\"#7201a8\"],[0.3333333333333333,\"#9c179e\"],[0.4444444444444444,\"#bd3786\"],[0.5555555555555556,\"#d8576b\"],[0.6666666666666666,\"#ed7953\"],[0.7777777777777778,\"#fb9f3a\"],[0.8888888888888888,\"#fdca26\"],[1.0,\"#f0f921\"]],\"sequentialminus\":[[0.0,\"#0d0887\"],[0.1111111111111111,\"#46039f\"],[0.2222222222222222,\"#7201a8\"],[0.3333333333333333,\"#9c179e\"],[0.4444444444444444,\"#bd3786\"],[0.5555555555555556,\"#d8576b\"],[0.6666666666666666,\"#ed7953\"],[0.7777777777777778,\"#fb9f3a\"],[0.8888888888888888,\"#fdca26\"],[1.0,\"#f0f921\"]]},\"colorway\":[\"#636efa\",\"#EF553B\",\"#00cc96\",\"#ab63fa\",\"#FFA15A\",\"#19d3f3\",\"#FF6692\",\"#B6E880\",\"#FF97FF\",\"#FECB52\"],\"font\":{\"color\":\"#2a3f5f\"},\"geo\":{\"bgcolor\":\"white\",\"lakecolor\":\"white\",\"landcolor\":\"#E5ECF6\",\"showlakes\":true,\"showland\":true,\"subunitcolor\":\"white\"},\"hoverlabel\":{\"align\":\"left\"},\"hovermode\":\"closest\",\"mapbox\":{\"style\":\"light\"},\"paper_bgcolor\":\"white\",\"plot_bgcolor\":\"#E5ECF6\",\"polar\":{\"angularaxis\":{\"gridcolor\":\"white\",\"linecolor\":\"white\",\"ticks\":\"\"},\"bgcolor\":\"#E5ECF6\",\"radialaxis\":{\"gridcolor\":\"white\",\"linecolor\":\"white\",\"ticks\":\"\"}},\"scene\":{\"xaxis\":{\"backgroundcolor\":\"#E5ECF6\",\"gridcolor\":\"white\",\"gridwidth\":2,\"linecolor\":\"white\",\"showbackground\":true,\"ticks\":\"\",\"zerolinecolor\":\"white\"},\"yaxis\":{\"backgroundcolor\":\"#E5ECF6\",\"gridcolor\":\"white\",\"gridwidth\":2,\"linecolor\":\"white\",\"showbackground\":true,\"ticks\":\"\",\"zerolinecolor\":\"white\"},\"zaxis\":{\"backgroundcolor\":\"#E5ECF6\",\"gridcolor\":\"white\",\"gridwidth\":2,\"linecolor\":\"white\",\"showbackground\":true,\"ticks\":\"\",\"zerolinecolor\":\"white\"}},\"shapedefaults\":{\"line\":{\"color\":\"#2a3f5f\"}},\"ternary\":{\"aaxis\":{\"gridcolor\":\"white\",\"linecolor\":\"white\",\"ticks\":\"\"},\"baxis\":{\"gridcolor\":\"white\",\"linecolor\":\"white\",\"ticks\":\"\"},\"bgcolor\":\"#E5ECF6\",\"caxis\":{\"gridcolor\":\"white\",\"linecolor\":\"white\",\"ticks\":\"\"}},\"title\":{\"x\":0.05},\"xaxis\":{\"automargin\":true,\"gridcolor\":\"white\",\"linecolor\":\"white\",\"ticks\":\"\",\"title\":{\"standoff\":15},\"zerolinecolor\":\"white\",\"zerolinewidth\":2},\"yaxis\":{\"automargin\":true,\"gridcolor\":\"white\",\"linecolor\":\"white\",\"ticks\":\"\",\"title\":{\"standoff\":15},\"zerolinecolor\":\"white\",\"zerolinewidth\":2}}},\"width\":1000,\"xaxis\":{\"dtick\":1,\"showgrid\":false,\"tickangle\":-90,\"tickvals\":[1994,1995,1996,1997,1998,1999,2000,2001,2002,2003,2004,2005,2006,2007,2008,2009,2010,2011,2012,2013,2014,2015,2016,2017,2018,2019,2020,2021],\"title\":{\"text\":\"<b> Year <b>\"}},\"yaxis\":{\"dtick\":1,\"range\":[0,3],\"title\":{\"text\":\"<b> Number of studies <b>\"}}},                        {\"responsive\": true}                    ).then(function(){\n",
       "                            \n",
       "var gd = document.getElementById('202c50fc-750a-41f3-ba53-702a2eb6f87f');\n",
       "var x = new MutationObserver(function (mutations, observer) {{\n",
       "        var display = window.getComputedStyle(gd).display;\n",
       "        if (!display || display === 'none') {{\n",
       "            console.log([gd, 'removed!']);\n",
       "            Plotly.purge(gd);\n",
       "            observer.disconnect();\n",
       "        }}\n",
       "}});\n",
       "\n",
       "// Listen for the removal of the full notebook cells\n",
       "var notebookContainer = gd.closest('#notebook-container');\n",
       "if (notebookContainer) {{\n",
       "    x.observe(notebookContainer, {childList: true});\n",
       "}}\n",
       "\n",
       "// Listen for the clearing of the current output cell\n",
       "var outputEl = gd.closest('.output');\n",
       "if (outputEl) {{\n",
       "    x.observe(outputEl, {childList: true});\n",
       "}}\n",
       "\n",
       "                        })                };                });            </script>        </div>"
      ]
     },
     "metadata": {},
     "output_type": "display_data"
    }
   ],
   "source": [
    "#plot\n",
    "for organ in organ_list:\n",
    "    df = yearwise_distribution_dict[organ]\n",
    "\n",
    "    fig = go.Figure(data=[\n",
    "                go.Bar(name = 'Hyperelastic model studies',\n",
    "                x=df['Year'], y=df['Number of hyperelastic studies'],\n",
    "                text=df['Number of hyperelastic studies'],\n",
    "                textposition='auto',\n",
    "                marker=dict(color=color_palette[0])\n",
    "                      ),\n",
    "                go.Bar(name = 'Visco-hyperelastic model studies',\n",
    "                x=df['Year'], y=df['Number of visco-hyperelastic studies'],\n",
    "                text=df['Number of visco-hyperelastic studies'],\n",
    "                textposition='auto',\n",
    "                marker=dict(color=color_palette[1]),\n",
    "                      ),\n",
    "                go.Bar(name = 'Active model studies',\n",
    "                x=df['Year'], y=df['Number of active studies'],\n",
    "                text=df['Number of active studies'],\n",
    "                textposition='auto',\n",
    "                marker=dict(color=color_palette[2]),\n",
    "                      )\n",
    "    ])\n",
    "\n",
    "    fig.update_layout(\n",
    "        barmode='stack',\n",
    "        bargap=0.5,\n",
    "        autosize=False,\n",
    "        width=1000,\n",
    "        height=200,\n",
    "        xaxis = dict(tickvals = [], showgrid = False, dtick = 1),\n",
    "        xaxis_tickangle=-90, \n",
    "        yaxis = dict(dtick = 1),\n",
    "        plot_bgcolor=plot_background_color,\n",
    "        yaxis_range=[0,3],\n",
    "        showlegend=False,\n",
    "        margin=go.layout.Margin(\n",
    "            t=30, #top margin\n",
    "        )\n",
    "    )\n",
    "    \n",
    "    if organ == 'Esophagus':\n",
    "        fig.update_layout(\n",
    "            showlegend=True,\n",
    "            legend=dict(yanchor=\"top\", y=0.99, xanchor=\"left\", x=0.01), \n",
    "            legend_traceorder = 'normal',\n",
    "        )\n",
    "        \n",
    "    if organ == 'Rectum':\n",
    "        fig.update_layout(\n",
    "            xaxis = dict(tickvals = df['Year'], title=\"<b> Year <b>\"),\n",
    "            yaxis = dict(title=\"<b> Number of studies <b>\"),\n",
    "        )\n",
    "        \n",
    "    fig.add_annotation(\n",
    "            xref=\"paper\", yref=\"paper\",\n",
    "            x=1, y=0.95,\n",
    "            text=organ,\n",
    "            showarrow=False,\n",
    "            font=dict(\n",
    "                size=14,\n",
    "                color=\"black\"\n",
    "            ),\n",
    "                      )\n",
    "\n",
    "    fig.show()\n",
    "    #fig.write_image(str(organ)+ \"-year-wise.png\", engine=\"kaleido\", scale = 1.0)"
   ]
  },
  {
   "cell_type": "markdown",
   "metadata": {},
   "source": [
    "## 7.2. Tissue source"
   ]
  },
  {
   "cell_type": "code",
   "execution_count": 53,
   "metadata": {},
   "outputs": [
    {
     "name": "stdout",
     "output_type": "stream",
     "text": [
      "Species are clearly specified in  49  studies\n",
      "Swine:  45.0 %\n",
      "Rodent:  29.0 %\n",
      "Human:  12.0 %\n"
     ]
    }
   ],
   "source": [
    "# get frequency for each species\n",
    "species_list = list(df_all_data_year[\"Species category\"].dropna())\n",
    "species_list.remove('NP')\n",
    "print(\"Species are clearly specified in \", str(len(species_list)), \" studies\")\n",
    "species_list_decreasing_frequency = sorted(set(species_list), key = lambda ele: species_list.count(ele))\n",
    "species_list_decreasing_frequency.reverse()\n",
    "species_list_decreasing_frequency\n",
    "# hyperelastic \n",
    "dict_source = {}\n",
    "dict_hyperelastic = {}\n",
    "for species in species_list_decreasing_frequency:\n",
    "    dict_hyperelastic[species] = len(df_hyperelastic[df_hyperelastic['Species category']==species])\n",
    "dict_source['Hyperelastic model studies'] = dict_hyperelastic\n",
    "\n",
    "# visco-hyperelastic \n",
    "dict_viscohyper = {}\n",
    "for species in species_list_decreasing_frequency:\n",
    "    dict_viscohyper[species] = len(df_viscous[df_viscous['Species category']==species])\n",
    "dict_source['Visco-hyperelastic model studies'] = dict_viscohyper\n",
    "\n",
    "# active\n",
    "dict_active = {}\n",
    "for species in species_list_decreasing_frequency:\n",
    "    dict_active[species] = len(df_active[df_active['Species category']==species])\n",
    "dict_source['Active model studies'] = dict_active\n",
    "\n",
    "swine_proportion = round(species_list.count(\"Swine\")/len(species_list)*100,0)\n",
    "rodent_proportion = round(species_list.count(\"Rodent\")/len(species_list)*100,0)\n",
    "human_proportion = round(species_list.count(\"Human\")/len(species_list)*100,0)\n",
    "\n",
    "print(\"Swine: \", str(swine_proportion), \"%\")\n",
    "print(\"Rodent: \", str(rodent_proportion), \"%\")\n",
    "print(\"Human: \", str(human_proportion), \"%\")"
   ]
  },
  {
   "cell_type": "code",
   "execution_count": 54,
   "metadata": {},
   "outputs": [
    {
     "data": {
      "application/vnd.plotly.v1+json": {
       "config": {
        "plotlyServerURL": "https://plot.ly"
       },
       "data": [
        {
         "alignmentgroup": "True",
         "hovertemplate": "variable=Hyperelastic model studies<br>index=%{x}<br>value=%{y}<extra></extra>",
         "legendgroup": "Hyperelastic model studies",
         "marker": {
          "color": "#073b4c",
          "pattern": {
           "shape": ""
          }
         },
         "name": "Hyperelastic model studies",
         "offsetgroup": "Hyperelastic model studies",
         "orientation": "v",
         "showlegend": true,
         "text": [
          17,
          14,
          3,
          3,
          1,
          1,
          0
         ],
         "textangle": 0,
         "textposition": "auto",
         "type": "bar",
         "x": [
          "Swine",
          "Rodent",
          "Human",
          "Rabbit",
          "Ovine",
          "Guinea pig",
          "Goat"
         ],
         "xaxis": "x",
         "y": [
          17,
          14,
          3,
          3,
          1,
          1,
          0
         ],
         "yaxis": "y"
        },
        {
         "alignmentgroup": "True",
         "hovertemplate": "variable=Visco-hyperelastic model studies<br>index=%{x}<br>value=%{y}<extra></extra>",
         "legendgroup": "Visco-hyperelastic model studies",
         "marker": {
          "color": "#ffd166",
          "pattern": {
           "shape": ""
          }
         },
         "name": "Visco-hyperelastic model studies",
         "offsetgroup": "Visco-hyperelastic model studies",
         "orientation": "v",
         "showlegend": true,
         "text": [
          3,
          0,
          1,
          0,
          0,
          0,
          1
         ],
         "textangle": 0,
         "textposition": "auto",
         "type": "bar",
         "x": [
          "Swine",
          "Rodent",
          "Human",
          "Rabbit",
          "Ovine",
          "Guinea pig",
          "Goat"
         ],
         "xaxis": "x",
         "y": [
          3,
          0,
          1,
          0,
          0,
          0,
          1
         ],
         "yaxis": "y"
        },
        {
         "alignmentgroup": "True",
         "hovertemplate": "variable=Active model studies<br>index=%{x}<br>value=%{y}<extra></extra>",
         "legendgroup": "Active model studies",
         "marker": {
          "color": "#06d6a0",
          "pattern": {
           "shape": ""
          }
         },
         "name": "Active model studies",
         "offsetgroup": "Active model studies",
         "orientation": "v",
         "showlegend": true,
         "text": [
          2,
          0,
          2,
          0,
          1,
          0,
          0
         ],
         "textangle": 0,
         "textposition": "auto",
         "type": "bar",
         "x": [
          "Swine",
          "Rodent",
          "Human",
          "Rabbit",
          "Ovine",
          "Guinea pig",
          "Goat"
         ],
         "xaxis": "x",
         "y": [
          2,
          0,
          2,
          0,
          1,
          0,
          0
         ],
         "yaxis": "y"
        }
       ],
       "layout": {
        "autosize": false,
        "bargap": 0.5,
        "barmode": "stack",
        "height": 800,
        "legend": {
         "title": {},
         "tracegroupgap": 0,
         "traceorder": "normal",
         "x": 0.99,
         "xanchor": "right",
         "y": 0.99,
         "yanchor": "top"
        },
        "margin": {
         "t": 10
        },
        "plot_bgcolor": "rgba(242, 241, 239, 0.8)",
        "template": {
         "data": {
          "bar": [
           {
            "error_x": {
             "color": "#2a3f5f"
            },
            "error_y": {
             "color": "#2a3f5f"
            },
            "marker": {
             "line": {
              "color": "#E5ECF6",
              "width": 0.5
             },
             "pattern": {
              "fillmode": "overlay",
              "size": 10,
              "solidity": 0.2
             }
            },
            "type": "bar"
           }
          ],
          "barpolar": [
           {
            "marker": {
             "line": {
              "color": "#E5ECF6",
              "width": 0.5
             },
             "pattern": {
              "fillmode": "overlay",
              "size": 10,
              "solidity": 0.2
             }
            },
            "type": "barpolar"
           }
          ],
          "carpet": [
           {
            "aaxis": {
             "endlinecolor": "#2a3f5f",
             "gridcolor": "white",
             "linecolor": "white",
             "minorgridcolor": "white",
             "startlinecolor": "#2a3f5f"
            },
            "baxis": {
             "endlinecolor": "#2a3f5f",
             "gridcolor": "white",
             "linecolor": "white",
             "minorgridcolor": "white",
             "startlinecolor": "#2a3f5f"
            },
            "type": "carpet"
           }
          ],
          "choropleth": [
           {
            "colorbar": {
             "outlinewidth": 0,
             "ticks": ""
            },
            "type": "choropleth"
           }
          ],
          "contour": [
           {
            "colorbar": {
             "outlinewidth": 0,
             "ticks": ""
            },
            "colorscale": [
             [
              0,
              "#0d0887"
             ],
             [
              0.1111111111111111,
              "#46039f"
             ],
             [
              0.2222222222222222,
              "#7201a8"
             ],
             [
              0.3333333333333333,
              "#9c179e"
             ],
             [
              0.4444444444444444,
              "#bd3786"
             ],
             [
              0.5555555555555556,
              "#d8576b"
             ],
             [
              0.6666666666666666,
              "#ed7953"
             ],
             [
              0.7777777777777778,
              "#fb9f3a"
             ],
             [
              0.8888888888888888,
              "#fdca26"
             ],
             [
              1,
              "#f0f921"
             ]
            ],
            "type": "contour"
           }
          ],
          "contourcarpet": [
           {
            "colorbar": {
             "outlinewidth": 0,
             "ticks": ""
            },
            "type": "contourcarpet"
           }
          ],
          "heatmap": [
           {
            "colorbar": {
             "outlinewidth": 0,
             "ticks": ""
            },
            "colorscale": [
             [
              0,
              "#0d0887"
             ],
             [
              0.1111111111111111,
              "#46039f"
             ],
             [
              0.2222222222222222,
              "#7201a8"
             ],
             [
              0.3333333333333333,
              "#9c179e"
             ],
             [
              0.4444444444444444,
              "#bd3786"
             ],
             [
              0.5555555555555556,
              "#d8576b"
             ],
             [
              0.6666666666666666,
              "#ed7953"
             ],
             [
              0.7777777777777778,
              "#fb9f3a"
             ],
             [
              0.8888888888888888,
              "#fdca26"
             ],
             [
              1,
              "#f0f921"
             ]
            ],
            "type": "heatmap"
           }
          ],
          "heatmapgl": [
           {
            "colorbar": {
             "outlinewidth": 0,
             "ticks": ""
            },
            "colorscale": [
             [
              0,
              "#0d0887"
             ],
             [
              0.1111111111111111,
              "#46039f"
             ],
             [
              0.2222222222222222,
              "#7201a8"
             ],
             [
              0.3333333333333333,
              "#9c179e"
             ],
             [
              0.4444444444444444,
              "#bd3786"
             ],
             [
              0.5555555555555556,
              "#d8576b"
             ],
             [
              0.6666666666666666,
              "#ed7953"
             ],
             [
              0.7777777777777778,
              "#fb9f3a"
             ],
             [
              0.8888888888888888,
              "#fdca26"
             ],
             [
              1,
              "#f0f921"
             ]
            ],
            "type": "heatmapgl"
           }
          ],
          "histogram": [
           {
            "marker": {
             "pattern": {
              "fillmode": "overlay",
              "size": 10,
              "solidity": 0.2
             }
            },
            "type": "histogram"
           }
          ],
          "histogram2d": [
           {
            "colorbar": {
             "outlinewidth": 0,
             "ticks": ""
            },
            "colorscale": [
             [
              0,
              "#0d0887"
             ],
             [
              0.1111111111111111,
              "#46039f"
             ],
             [
              0.2222222222222222,
              "#7201a8"
             ],
             [
              0.3333333333333333,
              "#9c179e"
             ],
             [
              0.4444444444444444,
              "#bd3786"
             ],
             [
              0.5555555555555556,
              "#d8576b"
             ],
             [
              0.6666666666666666,
              "#ed7953"
             ],
             [
              0.7777777777777778,
              "#fb9f3a"
             ],
             [
              0.8888888888888888,
              "#fdca26"
             ],
             [
              1,
              "#f0f921"
             ]
            ],
            "type": "histogram2d"
           }
          ],
          "histogram2dcontour": [
           {
            "colorbar": {
             "outlinewidth": 0,
             "ticks": ""
            },
            "colorscale": [
             [
              0,
              "#0d0887"
             ],
             [
              0.1111111111111111,
              "#46039f"
             ],
             [
              0.2222222222222222,
              "#7201a8"
             ],
             [
              0.3333333333333333,
              "#9c179e"
             ],
             [
              0.4444444444444444,
              "#bd3786"
             ],
             [
              0.5555555555555556,
              "#d8576b"
             ],
             [
              0.6666666666666666,
              "#ed7953"
             ],
             [
              0.7777777777777778,
              "#fb9f3a"
             ],
             [
              0.8888888888888888,
              "#fdca26"
             ],
             [
              1,
              "#f0f921"
             ]
            ],
            "type": "histogram2dcontour"
           }
          ],
          "mesh3d": [
           {
            "colorbar": {
             "outlinewidth": 0,
             "ticks": ""
            },
            "type": "mesh3d"
           }
          ],
          "parcoords": [
           {
            "line": {
             "colorbar": {
              "outlinewidth": 0,
              "ticks": ""
             }
            },
            "type": "parcoords"
           }
          ],
          "pie": [
           {
            "automargin": true,
            "type": "pie"
           }
          ],
          "scatter": [
           {
            "marker": {
             "colorbar": {
              "outlinewidth": 0,
              "ticks": ""
             }
            },
            "type": "scatter"
           }
          ],
          "scatter3d": [
           {
            "line": {
             "colorbar": {
              "outlinewidth": 0,
              "ticks": ""
             }
            },
            "marker": {
             "colorbar": {
              "outlinewidth": 0,
              "ticks": ""
             }
            },
            "type": "scatter3d"
           }
          ],
          "scattercarpet": [
           {
            "marker": {
             "colorbar": {
              "outlinewidth": 0,
              "ticks": ""
             }
            },
            "type": "scattercarpet"
           }
          ],
          "scattergeo": [
           {
            "marker": {
             "colorbar": {
              "outlinewidth": 0,
              "ticks": ""
             }
            },
            "type": "scattergeo"
           }
          ],
          "scattergl": [
           {
            "marker": {
             "colorbar": {
              "outlinewidth": 0,
              "ticks": ""
             }
            },
            "type": "scattergl"
           }
          ],
          "scattermapbox": [
           {
            "marker": {
             "colorbar": {
              "outlinewidth": 0,
              "ticks": ""
             }
            },
            "type": "scattermapbox"
           }
          ],
          "scatterpolar": [
           {
            "marker": {
             "colorbar": {
              "outlinewidth": 0,
              "ticks": ""
             }
            },
            "type": "scatterpolar"
           }
          ],
          "scatterpolargl": [
           {
            "marker": {
             "colorbar": {
              "outlinewidth": 0,
              "ticks": ""
             }
            },
            "type": "scatterpolargl"
           }
          ],
          "scatterternary": [
           {
            "marker": {
             "colorbar": {
              "outlinewidth": 0,
              "ticks": ""
             }
            },
            "type": "scatterternary"
           }
          ],
          "surface": [
           {
            "colorbar": {
             "outlinewidth": 0,
             "ticks": ""
            },
            "colorscale": [
             [
              0,
              "#0d0887"
             ],
             [
              0.1111111111111111,
              "#46039f"
             ],
             [
              0.2222222222222222,
              "#7201a8"
             ],
             [
              0.3333333333333333,
              "#9c179e"
             ],
             [
              0.4444444444444444,
              "#bd3786"
             ],
             [
              0.5555555555555556,
              "#d8576b"
             ],
             [
              0.6666666666666666,
              "#ed7953"
             ],
             [
              0.7777777777777778,
              "#fb9f3a"
             ],
             [
              0.8888888888888888,
              "#fdca26"
             ],
             [
              1,
              "#f0f921"
             ]
            ],
            "type": "surface"
           }
          ],
          "table": [
           {
            "cells": {
             "fill": {
              "color": "#EBF0F8"
             },
             "line": {
              "color": "white"
             }
            },
            "header": {
             "fill": {
              "color": "#C8D4E3"
             },
             "line": {
              "color": "white"
             }
            },
            "type": "table"
           }
          ]
         },
         "layout": {
          "annotationdefaults": {
           "arrowcolor": "#2a3f5f",
           "arrowhead": 0,
           "arrowwidth": 1
          },
          "autotypenumbers": "strict",
          "coloraxis": {
           "colorbar": {
            "outlinewidth": 0,
            "ticks": ""
           }
          },
          "colorscale": {
           "diverging": [
            [
             0,
             "#8e0152"
            ],
            [
             0.1,
             "#c51b7d"
            ],
            [
             0.2,
             "#de77ae"
            ],
            [
             0.3,
             "#f1b6da"
            ],
            [
             0.4,
             "#fde0ef"
            ],
            [
             0.5,
             "#f7f7f7"
            ],
            [
             0.6,
             "#e6f5d0"
            ],
            [
             0.7,
             "#b8e186"
            ],
            [
             0.8,
             "#7fbc41"
            ],
            [
             0.9,
             "#4d9221"
            ],
            [
             1,
             "#276419"
            ]
           ],
           "sequential": [
            [
             0,
             "#0d0887"
            ],
            [
             0.1111111111111111,
             "#46039f"
            ],
            [
             0.2222222222222222,
             "#7201a8"
            ],
            [
             0.3333333333333333,
             "#9c179e"
            ],
            [
             0.4444444444444444,
             "#bd3786"
            ],
            [
             0.5555555555555556,
             "#d8576b"
            ],
            [
             0.6666666666666666,
             "#ed7953"
            ],
            [
             0.7777777777777778,
             "#fb9f3a"
            ],
            [
             0.8888888888888888,
             "#fdca26"
            ],
            [
             1,
             "#f0f921"
            ]
           ],
           "sequentialminus": [
            [
             0,
             "#0d0887"
            ],
            [
             0.1111111111111111,
             "#46039f"
            ],
            [
             0.2222222222222222,
             "#7201a8"
            ],
            [
             0.3333333333333333,
             "#9c179e"
            ],
            [
             0.4444444444444444,
             "#bd3786"
            ],
            [
             0.5555555555555556,
             "#d8576b"
            ],
            [
             0.6666666666666666,
             "#ed7953"
            ],
            [
             0.7777777777777778,
             "#fb9f3a"
            ],
            [
             0.8888888888888888,
             "#fdca26"
            ],
            [
             1,
             "#f0f921"
            ]
           ]
          },
          "colorway": [
           "#636efa",
           "#EF553B",
           "#00cc96",
           "#ab63fa",
           "#FFA15A",
           "#19d3f3",
           "#FF6692",
           "#B6E880",
           "#FF97FF",
           "#FECB52"
          ],
          "font": {
           "color": "#2a3f5f"
          },
          "geo": {
           "bgcolor": "white",
           "lakecolor": "white",
           "landcolor": "#E5ECF6",
           "showlakes": true,
           "showland": true,
           "subunitcolor": "white"
          },
          "hoverlabel": {
           "align": "left"
          },
          "hovermode": "closest",
          "mapbox": {
           "style": "light"
          },
          "paper_bgcolor": "white",
          "plot_bgcolor": "#E5ECF6",
          "polar": {
           "angularaxis": {
            "gridcolor": "white",
            "linecolor": "white",
            "ticks": ""
           },
           "bgcolor": "#E5ECF6",
           "radialaxis": {
            "gridcolor": "white",
            "linecolor": "white",
            "ticks": ""
           }
          },
          "scene": {
           "xaxis": {
            "backgroundcolor": "#E5ECF6",
            "gridcolor": "white",
            "gridwidth": 2,
            "linecolor": "white",
            "showbackground": true,
            "ticks": "",
            "zerolinecolor": "white"
           },
           "yaxis": {
            "backgroundcolor": "#E5ECF6",
            "gridcolor": "white",
            "gridwidth": 2,
            "linecolor": "white",
            "showbackground": true,
            "ticks": "",
            "zerolinecolor": "white"
           },
           "zaxis": {
            "backgroundcolor": "#E5ECF6",
            "gridcolor": "white",
            "gridwidth": 2,
            "linecolor": "white",
            "showbackground": true,
            "ticks": "",
            "zerolinecolor": "white"
           }
          },
          "shapedefaults": {
           "line": {
            "color": "#2a3f5f"
           }
          },
          "ternary": {
           "aaxis": {
            "gridcolor": "white",
            "linecolor": "white",
            "ticks": ""
           },
           "baxis": {
            "gridcolor": "white",
            "linecolor": "white",
            "ticks": ""
           },
           "bgcolor": "#E5ECF6",
           "caxis": {
            "gridcolor": "white",
            "linecolor": "white",
            "ticks": ""
           }
          },
          "title": {
           "x": 0.05
          },
          "xaxis": {
           "automargin": true,
           "gridcolor": "white",
           "linecolor": "white",
           "ticks": "",
           "title": {
            "standoff": 15
           },
           "zerolinecolor": "white",
           "zerolinewidth": 2
          },
          "yaxis": {
           "automargin": true,
           "gridcolor": "white",
           "linecolor": "white",
           "ticks": "",
           "title": {
            "standoff": 15
           },
           "zerolinecolor": "white",
           "zerolinewidth": 2
          }
         }
        },
        "width": 1000,
        "xaxis": {
         "anchor": "y",
         "autorange": true,
         "domain": [
          0,
          1
         ],
         "dtick": 1,
         "range": [
          -0.5,
          6.5
         ],
         "showgrid": false,
         "title": {
          "text": "<b> Species <b>"
         },
         "type": "category"
        },
        "yaxis": {
         "anchor": "x",
         "autorange": true,
         "domain": [
          0,
          1
         ],
         "range": [
          0,
          23.157894736842106
         ],
         "title": {
          "text": "<b> Number of studies <b>"
         },
         "type": "linear"
        }
       }
      },
      "image/png": "[encoded data removed]",
      "text/html": [
       "<div>                            <div id=\"21fdb28c-cc30-472a-acf6-496cc0711056\" class=\"plotly-graph-div\" style=\"height:800px; width:1000px;\"></div>            <script type=\"text/javascript\">                require([\"plotly\"], function(Plotly) {                    window.PLOTLYENV=window.PLOTLYENV || {};                                    if (document.getElementById(\"21fdb28c-cc30-472a-acf6-496cc0711056\")) {                    Plotly.newPlot(                        \"21fdb28c-cc30-472a-acf6-496cc0711056\",                        [{\"alignmentgroup\":\"True\",\"hovertemplate\":\"variable=Hyperelastic model studies<br>index=%{x}<br>value=%{y}<extra></extra>\",\"legendgroup\":\"Hyperelastic model studies\",\"marker\":{\"color\":\"#073b4c\",\"pattern\":{\"shape\":\"\"}},\"name\":\"Hyperelastic model studies\",\"offsetgroup\":\"Hyperelastic model studies\",\"orientation\":\"v\",\"showlegend\":true,\"text\":[17.0,14.0,3.0,3.0,1.0,1.0,0.0],\"textangle\":0,\"textposition\":\"auto\",\"type\":\"bar\",\"x\":[\"Swine\",\"Rodent\",\"Human\",\"Rabbit\",\"Ovine\",\"Guinea pig\",\"Goat\"],\"xaxis\":\"x\",\"y\":[17,14,3,3,1,1,0],\"yaxis\":\"y\"},{\"alignmentgroup\":\"True\",\"hovertemplate\":\"variable=Visco-hyperelastic model studies<br>index=%{x}<br>value=%{y}<extra></extra>\",\"legendgroup\":\"Visco-hyperelastic model studies\",\"marker\":{\"color\":\"#ffd166\",\"pattern\":{\"shape\":\"\"}},\"name\":\"Visco-hyperelastic model studies\",\"offsetgroup\":\"Visco-hyperelastic model studies\",\"orientation\":\"v\",\"showlegend\":true,\"text\":[3.0,0.0,1.0,0.0,0.0,0.0,1.0],\"textangle\":0,\"textposition\":\"auto\",\"type\":\"bar\",\"x\":[\"Swine\",\"Rodent\",\"Human\",\"Rabbit\",\"Ovine\",\"Guinea pig\",\"Goat\"],\"xaxis\":\"x\",\"y\":[3,0,1,0,0,0,1],\"yaxis\":\"y\"},{\"alignmentgroup\":\"True\",\"hovertemplate\":\"variable=Active model studies<br>index=%{x}<br>value=%{y}<extra></extra>\",\"legendgroup\":\"Active model studies\",\"marker\":{\"color\":\"#06d6a0\",\"pattern\":{\"shape\":\"\"}},\"name\":\"Active model studies\",\"offsetgroup\":\"Active model studies\",\"orientation\":\"v\",\"showlegend\":true,\"text\":[2.0,0.0,2.0,0.0,1.0,0.0,0.0],\"textangle\":0,\"textposition\":\"auto\",\"type\":\"bar\",\"x\":[\"Swine\",\"Rodent\",\"Human\",\"Rabbit\",\"Ovine\",\"Guinea pig\",\"Goat\"],\"xaxis\":\"x\",\"y\":[2,0,2,0,1,0,0],\"yaxis\":\"y\"}],                        {\"autosize\":false,\"bargap\":0.5,\"barmode\":\"stack\",\"height\":800,\"legend\":{\"title\":{},\"tracegroupgap\":0,\"traceorder\":\"normal\",\"x\":0.99,\"xanchor\":\"right\",\"y\":0.99,\"yanchor\":\"top\"},\"margin\":{\"t\":10},\"plot_bgcolor\":\"rgba(242, 241, 239, 0.8)\",\"template\":{\"data\":{\"bar\":[{\"error_x\":{\"color\":\"#2a3f5f\"},\"error_y\":{\"color\":\"#2a3f5f\"},\"marker\":{\"line\":{\"color\":\"#E5ECF6\",\"width\":0.5},\"pattern\":{\"fillmode\":\"overlay\",\"size\":10,\"solidity\":0.2}},\"type\":\"bar\"}],\"barpolar\":[{\"marker\":{\"line\":{\"color\":\"#E5ECF6\",\"width\":0.5},\"pattern\":{\"fillmode\":\"overlay\",\"size\":10,\"solidity\":0.2}},\"type\":\"barpolar\"}],\"carpet\":[{\"aaxis\":{\"endlinecolor\":\"#2a3f5f\",\"gridcolor\":\"white\",\"linecolor\":\"white\",\"minorgridcolor\":\"white\",\"startlinecolor\":\"#2a3f5f\"},\"baxis\":{\"endlinecolor\":\"#2a3f5f\",\"gridcolor\":\"white\",\"linecolor\":\"white\",\"minorgridcolor\":\"white\",\"startlinecolor\":\"#2a3f5f\"},\"type\":\"carpet\"}],\"choropleth\":[{\"colorbar\":{\"outlinewidth\":0,\"ticks\":\"\"},\"type\":\"choropleth\"}],\"contour\":[{\"colorbar\":{\"outlinewidth\":0,\"ticks\":\"\"},\"colorscale\":[[0.0,\"#0d0887\"],[0.1111111111111111,\"#46039f\"],[0.2222222222222222,\"#7201a8\"],[0.3333333333333333,\"#9c179e\"],[0.4444444444444444,\"#bd3786\"],[0.5555555555555556,\"#d8576b\"],[0.6666666666666666,\"#ed7953\"],[0.7777777777777778,\"#fb9f3a\"],[0.8888888888888888,\"#fdca26\"],[1.0,\"#f0f921\"]],\"type\":\"contour\"}],\"contourcarpet\":[{\"colorbar\":{\"outlinewidth\":0,\"ticks\":\"\"},\"type\":\"contourcarpet\"}],\"heatmap\":[{\"colorbar\":{\"outlinewidth\":0,\"ticks\":\"\"},\"colorscale\":[[0.0,\"#0d0887\"],[0.1111111111111111,\"#46039f\"],[0.2222222222222222,\"#7201a8\"],[0.3333333333333333,\"#9c179e\"],[0.4444444444444444,\"#bd3786\"],[0.5555555555555556,\"#d8576b\"],[0.6666666666666666,\"#ed7953\"],[0.7777777777777778,\"#fb9f3a\"],[0.8888888888888888,\"#fdca26\"],[1.0,\"#f0f921\"]],\"type\":\"heatmap\"}],\"heatmapgl\":[{\"colorbar\":{\"outlinewidth\":0,\"ticks\":\"\"},\"colorscale\":[[0.0,\"#0d0887\"],[0.1111111111111111,\"#46039f\"],[0.2222222222222222,\"#7201a8\"],[0.3333333333333333,\"#9c179e\"],[0.4444444444444444,\"#bd3786\"],[0.5555555555555556,\"#d8576b\"],[0.6666666666666666,\"#ed7953\"],[0.7777777777777778,\"#fb9f3a\"],[0.8888888888888888,\"#fdca26\"],[1.0,\"#f0f921\"]],\"type\":\"heatmapgl\"}],\"histogram\":[{\"marker\":{\"pattern\":{\"fillmode\":\"overlay\",\"size\":10,\"solidity\":0.2}},\"type\":\"histogram\"}],\"histogram2d\":[{\"colorbar\":{\"outlinewidth\":0,\"ticks\":\"\"},\"colorscale\":[[0.0,\"#0d0887\"],[0.1111111111111111,\"#46039f\"],[0.2222222222222222,\"#7201a8\"],[0.3333333333333333,\"#9c179e\"],[0.4444444444444444,\"#bd3786\"],[0.5555555555555556,\"#d8576b\"],[0.6666666666666666,\"#ed7953\"],[0.7777777777777778,\"#fb9f3a\"],[0.8888888888888888,\"#fdca26\"],[1.0,\"#f0f921\"]],\"type\":\"histogram2d\"}],\"histogram2dcontour\":[{\"colorbar\":{\"outlinewidth\":0,\"ticks\":\"\"},\"colorscale\":[[0.0,\"#0d0887\"],[0.1111111111111111,\"#46039f\"],[0.2222222222222222,\"#7201a8\"],[0.3333333333333333,\"#9c179e\"],[0.4444444444444444,\"#bd3786\"],[0.5555555555555556,\"#d8576b\"],[0.6666666666666666,\"#ed7953\"],[0.7777777777777778,\"#fb9f3a\"],[0.8888888888888888,\"#fdca26\"],[1.0,\"#f0f921\"]],\"type\":\"histogram2dcontour\"}],\"mesh3d\":[{\"colorbar\":{\"outlinewidth\":0,\"ticks\":\"\"},\"type\":\"mesh3d\"}],\"parcoords\":[{\"line\":{\"colorbar\":{\"outlinewidth\":0,\"ticks\":\"\"}},\"type\":\"parcoords\"}],\"pie\":[{\"automargin\":true,\"type\":\"pie\"}],\"scatter\":[{\"marker\":{\"colorbar\":{\"outlinewidth\":0,\"ticks\":\"\"}},\"type\":\"scatter\"}],\"scatter3d\":[{\"line\":{\"colorbar\":{\"outlinewidth\":0,\"ticks\":\"\"}},\"marker\":{\"colorbar\":{\"outlinewidth\":0,\"ticks\":\"\"}},\"type\":\"scatter3d\"}],\"scattercarpet\":[{\"marker\":{\"colorbar\":{\"outlinewidth\":0,\"ticks\":\"\"}},\"type\":\"scattercarpet\"}],\"scattergeo\":[{\"marker\":{\"colorbar\":{\"outlinewidth\":0,\"ticks\":\"\"}},\"type\":\"scattergeo\"}],\"scattergl\":[{\"marker\":{\"colorbar\":{\"outlinewidth\":0,\"ticks\":\"\"}},\"type\":\"scattergl\"}],\"scattermapbox\":[{\"marker\":{\"colorbar\":{\"outlinewidth\":0,\"ticks\":\"\"}},\"type\":\"scattermapbox\"}],\"scatterpolar\":[{\"marker\":{\"colorbar\":{\"outlinewidth\":0,\"ticks\":\"\"}},\"type\":\"scatterpolar\"}],\"scatterpolargl\":[{\"marker\":{\"colorbar\":{\"outlinewidth\":0,\"ticks\":\"\"}},\"type\":\"scatterpolargl\"}],\"scatterternary\":[{\"marker\":{\"colorbar\":{\"outlinewidth\":0,\"ticks\":\"\"}},\"type\":\"scatterternary\"}],\"surface\":[{\"colorbar\":{\"outlinewidth\":0,\"ticks\":\"\"},\"colorscale\":[[0.0,\"#0d0887\"],[0.1111111111111111,\"#46039f\"],[0.2222222222222222,\"#7201a8\"],[0.3333333333333333,\"#9c179e\"],[0.4444444444444444,\"#bd3786\"],[0.5555555555555556,\"#d8576b\"],[0.6666666666666666,\"#ed7953\"],[0.7777777777777778,\"#fb9f3a\"],[0.8888888888888888,\"#fdca26\"],[1.0,\"#f0f921\"]],\"type\":\"surface\"}],\"table\":[{\"cells\":{\"fill\":{\"color\":\"#EBF0F8\"},\"line\":{\"color\":\"white\"}},\"header\":{\"fill\":{\"color\":\"#C8D4E3\"},\"line\":{\"color\":\"white\"}},\"type\":\"table\"}]},\"layout\":{\"annotationdefaults\":{\"arrowcolor\":\"#2a3f5f\",\"arrowhead\":0,\"arrowwidth\":1},\"autotypenumbers\":\"strict\",\"coloraxis\":{\"colorbar\":{\"outlinewidth\":0,\"ticks\":\"\"}},\"colorscale\":{\"diverging\":[[0,\"#8e0152\"],[0.1,\"#c51b7d\"],[0.2,\"#de77ae\"],[0.3,\"#f1b6da\"],[0.4,\"#fde0ef\"],[0.5,\"#f7f7f7\"],[0.6,\"#e6f5d0\"],[0.7,\"#b8e186\"],[0.8,\"#7fbc41\"],[0.9,\"#4d9221\"],[1,\"#276419\"]],\"sequential\":[[0.0,\"#0d0887\"],[0.1111111111111111,\"#46039f\"],[0.2222222222222222,\"#7201a8\"],[0.3333333333333333,\"#9c179e\"],[0.4444444444444444,\"#bd3786\"],[0.5555555555555556,\"#d8576b\"],[0.6666666666666666,\"#ed7953\"],[0.7777777777777778,\"#fb9f3a\"],[0.8888888888888888,\"#fdca26\"],[1.0,\"#f0f921\"]],\"sequentialminus\":[[0.0,\"#0d0887\"],[0.1111111111111111,\"#46039f\"],[0.2222222222222222,\"#7201a8\"],[0.3333333333333333,\"#9c179e\"],[0.4444444444444444,\"#bd3786\"],[0.5555555555555556,\"#d8576b\"],[0.6666666666666666,\"#ed7953\"],[0.7777777777777778,\"#fb9f3a\"],[0.8888888888888888,\"#fdca26\"],[1.0,\"#f0f921\"]]},\"colorway\":[\"#636efa\",\"#EF553B\",\"#00cc96\",\"#ab63fa\",\"#FFA15A\",\"#19d3f3\",\"#FF6692\",\"#B6E880\",\"#FF97FF\",\"#FECB52\"],\"font\":{\"color\":\"#2a3f5f\"},\"geo\":{\"bgcolor\":\"white\",\"lakecolor\":\"white\",\"landcolor\":\"#E5ECF6\",\"showlakes\":true,\"showland\":true,\"subunitcolor\":\"white\"},\"hoverlabel\":{\"align\":\"left\"},\"hovermode\":\"closest\",\"mapbox\":{\"style\":\"light\"},\"paper_bgcolor\":\"white\",\"plot_bgcolor\":\"#E5ECF6\",\"polar\":{\"angularaxis\":{\"gridcolor\":\"white\",\"linecolor\":\"white\",\"ticks\":\"\"},\"bgcolor\":\"#E5ECF6\",\"radialaxis\":{\"gridcolor\":\"white\",\"linecolor\":\"white\",\"ticks\":\"\"}},\"scene\":{\"xaxis\":{\"backgroundcolor\":\"#E5ECF6\",\"gridcolor\":\"white\",\"gridwidth\":2,\"linecolor\":\"white\",\"showbackground\":true,\"ticks\":\"\",\"zerolinecolor\":\"white\"},\"yaxis\":{\"backgroundcolor\":\"#E5ECF6\",\"gridcolor\":\"white\",\"gridwidth\":2,\"linecolor\":\"white\",\"showbackground\":true,\"ticks\":\"\",\"zerolinecolor\":\"white\"},\"zaxis\":{\"backgroundcolor\":\"#E5ECF6\",\"gridcolor\":\"white\",\"gridwidth\":2,\"linecolor\":\"white\",\"showbackground\":true,\"ticks\":\"\",\"zerolinecolor\":\"white\"}},\"shapedefaults\":{\"line\":{\"color\":\"#2a3f5f\"}},\"ternary\":{\"aaxis\":{\"gridcolor\":\"white\",\"linecolor\":\"white\",\"ticks\":\"\"},\"baxis\":{\"gridcolor\":\"white\",\"linecolor\":\"white\",\"ticks\":\"\"},\"bgcolor\":\"#E5ECF6\",\"caxis\":{\"gridcolor\":\"white\",\"linecolor\":\"white\",\"ticks\":\"\"}},\"title\":{\"x\":0.05},\"xaxis\":{\"automargin\":true,\"gridcolor\":\"white\",\"linecolor\":\"white\",\"ticks\":\"\",\"title\":{\"standoff\":15},\"zerolinecolor\":\"white\",\"zerolinewidth\":2},\"yaxis\":{\"automargin\":true,\"gridcolor\":\"white\",\"linecolor\":\"white\",\"ticks\":\"\",\"title\":{\"standoff\":15},\"zerolinecolor\":\"white\",\"zerolinewidth\":2}}},\"width\":1000,\"xaxis\":{\"anchor\":\"y\",\"domain\":[0.0,1.0],\"dtick\":1,\"showgrid\":false,\"title\":{\"text\":\"<b> Species <b>\"}},\"yaxis\":{\"anchor\":\"x\",\"domain\":[0.0,1.0],\"title\":{\"text\":\"<b> Number of studies <b>\"}}},                        {\"responsive\": true}                    ).then(function(){\n",
       "                            \n",
       "var gd = document.getElementById('21fdb28c-cc30-472a-acf6-496cc0711056');\n",
       "var x = new MutationObserver(function (mutations, observer) {{\n",
       "        var display = window.getComputedStyle(gd).display;\n",
       "        if (!display || display === 'none') {{\n",
       "            console.log([gd, 'removed!']);\n",
       "            Plotly.purge(gd);\n",
       "            observer.disconnect();\n",
       "        }}\n",
       "}});\n",
       "\n",
       "// Listen for the removal of the full notebook cells\n",
       "var notebookContainer = gd.closest('#notebook-container');\n",
       "if (notebookContainer) {{\n",
       "    x.observe(notebookContainer, {childList: true});\n",
       "}}\n",
       "\n",
       "// Listen for the clearing of the current output cell\n",
       "var outputEl = gd.closest('.output');\n",
       "if (outputEl) {{\n",
       "    x.observe(outputEl, {childList: true});\n",
       "}}\n",
       "\n",
       "                        })                };                });            </script>        </div>"
      ]
     },
     "metadata": {},
     "output_type": "display_data"
    }
   ],
   "source": [
    "df = pd.DataFrame(dict_source, index=species_list_decreasing_frequency)\n",
    "# plotly\n",
    "fig = px.bar(df, \n",
    "             x = df.index,\n",
    "             y = [c for c in df.columns],\n",
    "             color_discrete_sequence=color_palette\n",
    "             )\n",
    "\n",
    "for i, val in enumerate(df.head()):\n",
    "    fig.data[i].text = df[val]\n",
    "    fig.data[i].textangle = 0\n",
    "\n",
    "fig.update_layout(\n",
    "    barmode='stack',\n",
    "    bargap=0.5,\n",
    "    autosize=False,\n",
    "    width=1000,\n",
    "    height=800,\n",
    "    xaxis = dict(title=\"<b> Species <b>\", showgrid = False, dtick = 1),\n",
    "    yaxis = dict(title=\"<b> Number of studies <b>\"),\n",
    "    plot_bgcolor= plot_background_color,\n",
    "    legend=dict(yanchor=\"top\", y=0.99, xanchor=\"right\", x=0.99, title = None), \n",
    "    legend_traceorder = 'normal',\n",
    "    margin=go.layout.Margin(\n",
    "        t=10, #top margin\n",
    "    )\n",
    ")\n",
    "\n",
    "fig.show()\n",
    "#fig.write_image(\"total-studies-tissue-source.png\", engine=\"kaleido\", scale = 1.0)"
   ]
  },
  {
   "cell_type": "markdown",
   "metadata": {},
   "source": [
    "## 7.3. Tissue from diseased subjects"
   ]
  },
  {
   "cell_type": "code",
   "execution_count": 55,
   "metadata": {},
   "outputs": [],
   "source": [
    "dict_source = {}\n",
    "# Normal only\n",
    "dict_organ = {}\n",
    "dict_organ['All studies'] = len(df_all_data_year[(df_all_data_year['Normal subjects']==\"Yes\") & (df_all_data_year['Diseased subjects']==\"No\")]) \n",
    "for organ_value in organ_list:\n",
    "    df_organ = df_all_data_year[df_all_data_year[\"Organ\"] == organ_value]\n",
    "    dict_organ[organ_value] = len(df_organ[(df_organ['Normal subjects']==\"Yes\") & (df_organ['Diseased subjects']==\"No\")])    \n",
    "dict_source[\"Normal subjects only\"] = dict_organ\n",
    "# Includes diseased\n",
    "dict_organ = {}\n",
    "dict_organ['All studies'] = len(df_all_data_year[df_all_data_year['Diseased subjects']==\"Yes\"]) \n",
    "for organ_value in organ_list:\n",
    "    df_organ = df_all_data_year[df_all_data_year[\"Organ\"] == organ_value]\n",
    "    dict_organ[organ_value] = len(df_organ[df_organ['Diseased subjects']==\"Yes\"])    \n",
    "dict_source[\"Includes diseased subjects\"] = dict_organ"
   ]
  },
  {
   "cell_type": "code",
   "execution_count": 56,
   "metadata": {},
   "outputs": [
    {
     "data": {
      "text/html": [
       "<div>\n",
       "<style scoped>\n",
       "    .dataframe tbody tr th:only-of-type {\n",
       "        vertical-align: middle;\n",
       "    }\n",
       "\n",
       "    .dataframe tbody tr th {\n",
       "        vertical-align: top;\n",
       "    }\n",
       "\n",
       "    .dataframe thead th {\n",
       "        text-align: right;\n",
       "    }\n",
       "</style>\n",
       "<table border=\"1\" class=\"dataframe\">\n",
       "  <thead>\n",
       "    <tr style=\"text-align: right;\">\n",
       "      <th></th>\n",
       "      <th>Year</th>\n",
       "      <th>Author</th>\n",
       "      <th>Organ</th>\n",
       "      <th>Species category</th>\n",
       "      <th>Hyperelastic model category</th>\n",
       "      <th>Viscous model type</th>\n",
       "      <th>Active model category</th>\n",
       "    </tr>\n",
       "  </thead>\n",
       "  <tbody>\n",
       "    <tr>\n",
       "      <th>3</th>\n",
       "      <td>2003</td>\n",
       "      <td>Zhao &amp; al.</td>\n",
       "      <td>Small intestine</td>\n",
       "      <td>Rodent</td>\n",
       "      <td>Phenomenological</td>\n",
       "      <td>NaN</td>\n",
       "      <td>NaN</td>\n",
       "    </tr>\n",
       "    <tr>\n",
       "      <th>4</th>\n",
       "      <td>2004</td>\n",
       "      <td>Zeng &amp; al.</td>\n",
       "      <td>Esophagus</td>\n",
       "      <td>Rodent</td>\n",
       "      <td>Phenomenological</td>\n",
       "      <td>NaN</td>\n",
       "      <td>NaN</td>\n",
       "    </tr>\n",
       "    <tr>\n",
       "      <th>12</th>\n",
       "      <td>2009</td>\n",
       "      <td>Gao &amp; al.</td>\n",
       "      <td>Small intestine</td>\n",
       "      <td>Human</td>\n",
       "      <td>NaN</td>\n",
       "      <td>NaN</td>\n",
       "      <td>Active stress</td>\n",
       "    </tr>\n",
       "    <tr>\n",
       "      <th>17</th>\n",
       "      <td>2010</td>\n",
       "      <td>Liao &amp; al.</td>\n",
       "      <td>Small intestine</td>\n",
       "      <td>Guinea pig</td>\n",
       "      <td>Phenomenological</td>\n",
       "      <td>NaN</td>\n",
       "      <td>NaN</td>\n",
       "    </tr>\n",
       "    <tr>\n",
       "      <th>39</th>\n",
       "      <td>2017</td>\n",
       "      <td>Sun &amp; al.</td>\n",
       "      <td>Small intestine</td>\n",
       "      <td>Rodent</td>\n",
       "      <td>Phenomenological</td>\n",
       "      <td>NaN</td>\n",
       "      <td>NaN</td>\n",
       "    </tr>\n",
       "    <tr>\n",
       "      <th>45</th>\n",
       "      <td>2019</td>\n",
       "      <td>Panda &amp; al.</td>\n",
       "      <td>Small intestine</td>\n",
       "      <td>Human</td>\n",
       "      <td>Phenomenological</td>\n",
       "      <td>Panda-type linear and nonlinear</td>\n",
       "      <td>NaN</td>\n",
       "    </tr>\n",
       "  </tbody>\n",
       "</table>\n",
       "</div>"
      ],
      "text/plain": [
       "    Year       Author            Organ Species category  \\\n",
       "3   2003   Zhao & al.  Small intestine           Rodent   \n",
       "4   2004   Zeng & al.        Esophagus           Rodent   \n",
       "12  2009    Gao & al.  Small intestine            Human   \n",
       "17  2010   Liao & al.  Small intestine       Guinea pig   \n",
       "39  2017    Sun & al.  Small intestine           Rodent   \n",
       "45  2019  Panda & al.  Small intestine            Human   \n",
       "\n",
       "   Hyperelastic model category               Viscous model type  \\\n",
       "3             Phenomenological                              NaN   \n",
       "4             Phenomenological                              NaN   \n",
       "12                         NaN                              NaN   \n",
       "17            Phenomenological                              NaN   \n",
       "39            Phenomenological                              NaN   \n",
       "45            Phenomenological  Panda-type linear and nonlinear   \n",
       "\n",
       "   Active model category  \n",
       "3                    NaN  \n",
       "4                    NaN  \n",
       "12         Active stress  \n",
       "17                   NaN  \n",
       "39                   NaN  \n",
       "45                   NaN  "
      ]
     },
     "execution_count": 56,
     "metadata": {},
     "output_type": "execute_result"
    }
   ],
   "source": [
    "df_diseased = df_all_data_year[(df_all_data_year['Diseased subjects'] == 'Yes')]\n",
    "df_diseased[['Year', 'Author', 'Organ', 'Species category', 'Hyperelastic model category', 'Viscous model type', 'Active model category']].sort_values(\"Year\")"
   ]
  },
  {
   "cell_type": "markdown",
   "metadata": {},
   "source": [
    "## 7.4. Mechanical testing conditions and protocols used"
   ]
  },
  {
   "cell_type": "markdown",
   "metadata": {},
   "source": [
    "## 7.4.1. Test condition"
   ]
  },
  {
   "cell_type": "code",
   "execution_count": 57,
   "metadata": {},
   "outputs": [
    {
     "name": "stdout",
     "output_type": "stream",
     "text": [
      "Out of 50 studies where the testing condition was specified, 48 (96.0 %) models were based on ex vivo testing data and 2 were based on in vivo testing data.\n"
     ]
    }
   ],
   "source": [
    "ex_vivo_count = len(df_all_data_year[df_all_data_year[\"Test condition\"] == 'Ex vivo'])\n",
    "in_vivo_count = len(df_all_data_year[df_all_data_year[\"Test condition\"] == 'In vivo'])\n",
    "all_condition_count = ex_vivo_count + in_vivo_count\n",
    "\n",
    "test_condition_message = \"Out of \" + str(all_condition_count) + \" studies where the testing condition was specified, \" + str(ex_vivo_count) + \" (\" + str(round(ex_vivo_count/all_condition_count*100, 1)) + \" %) models were based on ex vivo testing data and \" + str(in_vivo_count) + \" were based on in vivo testing data.\"\n",
    "print(test_condition_message)"
   ]
  },
  {
   "cell_type": "markdown",
   "metadata": {},
   "source": [
    "## 7.4.2. Test protocol"
   ]
  },
  {
   "cell_type": "code",
   "execution_count": 58,
   "metadata": {},
   "outputs": [],
   "source": [
    "#get frequency for each test protocol\n",
    "protocol_list = list(df_all_data_year[\"Test protocol\"].dropna())\n",
    "protocol_list_decreasing_frequency = sorted(set(protocol_list), key = lambda ele: protocol_list.count(ele))\n",
    "protocol_list_decreasing_frequency.reverse()\n",
    "protocol_list_decreasing_frequency.remove('NP')\n",
    "\n",
    "dict_source = {}\n",
    "for organ_value in organ_list:\n",
    "    df_organ = df_all_data_year[df_all_data_year[\"Organ\"] == organ_value]\n",
    "    dict_organ = {}\n",
    "    for protocol in protocol_list_decreasing_frequency:\n",
    "        dict_organ[protocol] = len(df_organ[df_organ[\"Test protocol\"]==protocol])\n",
    "    dict_source[organ_value] = dict_organ"
   ]
  },
  {
   "cell_type": "code",
   "execution_count": 59,
   "metadata": {},
   "outputs": [
    {
     "data": {
      "application/vnd.plotly.v1+json": {
       "config": {
        "plotlyServerURL": "https://plot.ly"
       },
       "data": [
        {
         "alignmentgroup": "True",
         "hovertemplate": "variable=Esophagus<br>index=%{x}<br>value=%{y}<extra></extra>",
         "legendgroup": "Esophagus",
         "marker": {
          "color": "#073b4c",
          "pattern": {
           "shape": ""
          }
         },
         "name": "Esophagus",
         "offsetgroup": "Esophagus",
         "orientation": "v",
         "showlegend": true,
         "text": [
          4,
          3,
          1,
          0,
          2,
          2,
          0,
          0,
          1,
          0,
          0,
          0,
          1,
          0
         ],
         "textangle": 0,
         "textposition": "auto",
         "type": "bar",
         "x": [
          "Planar uniaxial",
          "Tubular extension - Tubular inflation",
          "Tubular inflation",
          "Planar biaxial",
          "Tubular extension - Tubular inflation - Tubular torsion",
          "Planar uniaxial - Planar biaxial - Tubular extension - Tubular inflation",
          "Planar biaxial - Tubular inflation",
          "Compression",
          "Planar uniaxial - Tubular extension - Tubular inflation",
          "Compression - Planar uniaxial",
          "Impedance planimetry",
          "Planar uniaxial - Planar shear",
          "Planar uniaxial - Tubular inflation - Other",
          "Planar uniaxial - Other"
         ],
         "xaxis": "x",
         "y": [
          4,
          3,
          1,
          0,
          2,
          2,
          0,
          0,
          1,
          0,
          0,
          0,
          1,
          0
         ],
         "yaxis": "y"
        },
        {
         "alignmentgroup": "True",
         "hovertemplate": "variable=Stomach<br>index=%{x}<br>value=%{y}<extra></extra>",
         "legendgroup": "Stomach",
         "marker": {
          "color": "#ffd166",
          "pattern": {
           "shape": ""
          }
         },
         "name": "Stomach",
         "offsetgroup": "Stomach",
         "orientation": "v",
         "showlegend": true,
         "text": [
          2,
          0,
          1,
          1,
          0,
          0,
          0,
          1,
          0,
          0,
          0,
          0,
          0,
          0
         ],
         "textangle": 0,
         "textposition": "auto",
         "type": "bar",
         "x": [
          "Planar uniaxial",
          "Tubular extension - Tubular inflation",
          "Tubular inflation",
          "Planar biaxial",
          "Tubular extension - Tubular inflation - Tubular torsion",
          "Planar uniaxial - Planar biaxial - Tubular extension - Tubular inflation",
          "Planar biaxial - Tubular inflation",
          "Compression",
          "Planar uniaxial - Tubular extension - Tubular inflation",
          "Compression - Planar uniaxial",
          "Impedance planimetry",
          "Planar uniaxial - Planar shear",
          "Planar uniaxial - Tubular inflation - Other",
          "Planar uniaxial - Other"
         ],
         "xaxis": "x",
         "y": [
          2,
          0,
          1,
          1,
          0,
          0,
          0,
          1,
          0,
          0,
          0,
          0,
          0,
          0
         ],
         "yaxis": "y"
        },
        {
         "alignmentgroup": "True",
         "hovertemplate": "variable=Small intestine<br>index=%{x}<br>value=%{y}<extra></extra>",
         "legendgroup": "Small intestine",
         "marker": {
          "color": "#06d6a0",
          "pattern": {
           "shape": ""
          }
         },
         "name": "Small intestine",
         "offsetgroup": "Small intestine",
         "orientation": "v",
         "showlegend": true,
         "text": [
          0,
          3,
          3,
          2,
          1,
          0,
          0,
          0,
          0,
          0,
          1,
          0,
          0,
          0
         ],
         "textangle": 0,
         "textposition": "auto",
         "type": "bar",
         "x": [
          "Planar uniaxial",
          "Tubular extension - Tubular inflation",
          "Tubular inflation",
          "Planar biaxial",
          "Tubular extension - Tubular inflation - Tubular torsion",
          "Planar uniaxial - Planar biaxial - Tubular extension - Tubular inflation",
          "Planar biaxial - Tubular inflation",
          "Compression",
          "Planar uniaxial - Tubular extension - Tubular inflation",
          "Compression - Planar uniaxial",
          "Impedance planimetry",
          "Planar uniaxial - Planar shear",
          "Planar uniaxial - Tubular inflation - Other",
          "Planar uniaxial - Other"
         ],
         "xaxis": "x",
         "y": [
          0,
          3,
          3,
          2,
          1,
          0,
          0,
          0,
          0,
          0,
          1,
          0,
          0,
          0
         ],
         "yaxis": "y"
        },
        {
         "alignmentgroup": "True",
         "hovertemplate": "variable=Large intestine<br>index=%{x}<br>value=%{y}<extra></extra>",
         "legendgroup": "Large intestine",
         "marker": {
          "color": "#118ab2",
          "pattern": {
           "shape": ""
          }
         },
         "name": "Large intestine",
         "offsetgroup": "Large intestine",
         "orientation": "v",
         "showlegend": true,
         "text": [
          4,
          3,
          1,
          1,
          0,
          0,
          1,
          1,
          0,
          1,
          0,
          1,
          0,
          1
         ],
         "textangle": 0,
         "textposition": "auto",
         "type": "bar",
         "x": [
          "Planar uniaxial",
          "Tubular extension - Tubular inflation",
          "Tubular inflation",
          "Planar biaxial",
          "Tubular extension - Tubular inflation - Tubular torsion",
          "Planar uniaxial - Planar biaxial - Tubular extension - Tubular inflation",
          "Planar biaxial - Tubular inflation",
          "Compression",
          "Planar uniaxial - Tubular extension - Tubular inflation",
          "Compression - Planar uniaxial",
          "Impedance planimetry",
          "Planar uniaxial - Planar shear",
          "Planar uniaxial - Tubular inflation - Other",
          "Planar uniaxial - Other"
         ],
         "xaxis": "x",
         "y": [
          4,
          3,
          1,
          1,
          0,
          0,
          1,
          1,
          0,
          1,
          0,
          1,
          0,
          1
         ],
         "yaxis": "y"
        },
        {
         "alignmentgroup": "True",
         "hovertemplate": "variable=Rectum<br>index=%{x}<br>value=%{y}<extra></extra>",
         "legendgroup": "Rectum",
         "marker": {
          "color": "#ef476f",
          "pattern": {
           "shape": ""
          }
         },
         "name": "Rectum",
         "offsetgroup": "Rectum",
         "orientation": "v",
         "showlegend": true,
         "text": [
          3,
          2,
          1,
          0,
          0,
          0,
          1,
          0,
          0,
          0,
          0,
          0,
          0,
          0
         ],
         "textangle": 0,
         "textposition": "auto",
         "type": "bar",
         "x": [
          "Planar uniaxial",
          "Tubular extension - Tubular inflation",
          "Tubular inflation",
          "Planar biaxial",
          "Tubular extension - Tubular inflation - Tubular torsion",
          "Planar uniaxial - Planar biaxial - Tubular extension - Tubular inflation",
          "Planar biaxial - Tubular inflation",
          "Compression",
          "Planar uniaxial - Tubular extension - Tubular inflation",
          "Compression - Planar uniaxial",
          "Impedance planimetry",
          "Planar uniaxial - Planar shear",
          "Planar uniaxial - Tubular inflation - Other",
          "Planar uniaxial - Other"
         ],
         "xaxis": "x",
         "y": [
          3,
          2,
          1,
          0,
          0,
          0,
          1,
          0,
          0,
          0,
          0,
          0,
          0,
          0
         ],
         "yaxis": "y"
        }
       ],
       "layout": {
        "autosize": false,
        "bargap": 0.5,
        "barmode": "stack",
        "height": 800,
        "legend": {
         "title": {},
         "tracegroupgap": 0,
         "traceorder": "normal",
         "x": 0.99,
         "xanchor": "right",
         "y": 0.99,
         "yanchor": "top"
        },
        "margin": {
         "t": 10
        },
        "plot_bgcolor": "rgba(242, 241, 239, 0.8)",
        "template": {
         "data": {
          "bar": [
           {
            "error_x": {
             "color": "#2a3f5f"
            },
            "error_y": {
             "color": "#2a3f5f"
            },
            "marker": {
             "line": {
              "color": "#E5ECF6",
              "width": 0.5
             },
             "pattern": {
              "fillmode": "overlay",
              "size": 10,
              "solidity": 0.2
             }
            },
            "type": "bar"
           }
          ],
          "barpolar": [
           {
            "marker": {
             "line": {
              "color": "#E5ECF6",
              "width": 0.5
             },
             "pattern": {
              "fillmode": "overlay",
              "size": 10,
              "solidity": 0.2
             }
            },
            "type": "barpolar"
           }
          ],
          "carpet": [
           {
            "aaxis": {
             "endlinecolor": "#2a3f5f",
             "gridcolor": "white",
             "linecolor": "white",
             "minorgridcolor": "white",
             "startlinecolor": "#2a3f5f"
            },
            "baxis": {
             "endlinecolor": "#2a3f5f",
             "gridcolor": "white",
             "linecolor": "white",
             "minorgridcolor": "white",
             "startlinecolor": "#2a3f5f"
            },
            "type": "carpet"
           }
          ],
          "choropleth": [
           {
            "colorbar": {
             "outlinewidth": 0,
             "ticks": ""
            },
            "type": "choropleth"
           }
          ],
          "contour": [
           {
            "colorbar": {
             "outlinewidth": 0,
             "ticks": ""
            },
            "colorscale": [
             [
              0,
              "#0d0887"
             ],
             [
              0.1111111111111111,
              "#46039f"
             ],
             [
              0.2222222222222222,
              "#7201a8"
             ],
             [
              0.3333333333333333,
              "#9c179e"
             ],
             [
              0.4444444444444444,
              "#bd3786"
             ],
             [
              0.5555555555555556,
              "#d8576b"
             ],
             [
              0.6666666666666666,
              "#ed7953"
             ],
             [
              0.7777777777777778,
              "#fb9f3a"
             ],
             [
              0.8888888888888888,
              "#fdca26"
             ],
             [
              1,
              "#f0f921"
             ]
            ],
            "type": "contour"
           }
          ],
          "contourcarpet": [
           {
            "colorbar": {
             "outlinewidth": 0,
             "ticks": ""
            },
            "type": "contourcarpet"
           }
          ],
          "heatmap": [
           {
            "colorbar": {
             "outlinewidth": 0,
             "ticks": ""
            },
            "colorscale": [
             [
              0,
              "#0d0887"
             ],
             [
              0.1111111111111111,
              "#46039f"
             ],
             [
              0.2222222222222222,
              "#7201a8"
             ],
             [
              0.3333333333333333,
              "#9c179e"
             ],
             [
              0.4444444444444444,
              "#bd3786"
             ],
             [
              0.5555555555555556,
              "#d8576b"
             ],
             [
              0.6666666666666666,
              "#ed7953"
             ],
             [
              0.7777777777777778,
              "#fb9f3a"
             ],
             [
              0.8888888888888888,
              "#fdca26"
             ],
             [
              1,
              "#f0f921"
             ]
            ],
            "type": "heatmap"
           }
          ],
          "heatmapgl": [
           {
            "colorbar": {
             "outlinewidth": 0,
             "ticks": ""
            },
            "colorscale": [
             [
              0,
              "#0d0887"
             ],
             [
              0.1111111111111111,
              "#46039f"
             ],
             [
              0.2222222222222222,
              "#7201a8"
             ],
             [
              0.3333333333333333,
              "#9c179e"
             ],
             [
              0.4444444444444444,
              "#bd3786"
             ],
             [
              0.5555555555555556,
              "#d8576b"
             ],
             [
              0.6666666666666666,
              "#ed7953"
             ],
             [
              0.7777777777777778,
              "#fb9f3a"
             ],
             [
              0.8888888888888888,
              "#fdca26"
             ],
             [
              1,
              "#f0f921"
             ]
            ],
            "type": "heatmapgl"
           }
          ],
          "histogram": [
           {
            "marker": {
             "pattern": {
              "fillmode": "overlay",
              "size": 10,
              "solidity": 0.2
             }
            },
            "type": "histogram"
           }
          ],
          "histogram2d": [
           {
            "colorbar": {
             "outlinewidth": 0,
             "ticks": ""
            },
            "colorscale": [
             [
              0,
              "#0d0887"
             ],
             [
              0.1111111111111111,
              "#46039f"
             ],
             [
              0.2222222222222222,
              "#7201a8"
             ],
             [
              0.3333333333333333,
              "#9c179e"
             ],
             [
              0.4444444444444444,
              "#bd3786"
             ],
             [
              0.5555555555555556,
              "#d8576b"
             ],
             [
              0.6666666666666666,
              "#ed7953"
             ],
             [
              0.7777777777777778,
              "#fb9f3a"
             ],
             [
              0.8888888888888888,
              "#fdca26"
             ],
             [
              1,
              "#f0f921"
             ]
            ],
            "type": "histogram2d"
           }
          ],
          "histogram2dcontour": [
           {
            "colorbar": {
             "outlinewidth": 0,
             "ticks": ""
            },
            "colorscale": [
             [
              0,
              "#0d0887"
             ],
             [
              0.1111111111111111,
              "#46039f"
             ],
             [
              0.2222222222222222,
              "#7201a8"
             ],
             [
              0.3333333333333333,
              "#9c179e"
             ],
             [
              0.4444444444444444,
              "#bd3786"
             ],
             [
              0.5555555555555556,
              "#d8576b"
             ],
             [
              0.6666666666666666,
              "#ed7953"
             ],
             [
              0.7777777777777778,
              "#fb9f3a"
             ],
             [
              0.8888888888888888,
              "#fdca26"
             ],
             [
              1,
              "#f0f921"
             ]
            ],
            "type": "histogram2dcontour"
           }
          ],
          "mesh3d": [
           {
            "colorbar": {
             "outlinewidth": 0,
             "ticks": ""
            },
            "type": "mesh3d"
           }
          ],
          "parcoords": [
           {
            "line": {
             "colorbar": {
              "outlinewidth": 0,
              "ticks": ""
             }
            },
            "type": "parcoords"
           }
          ],
          "pie": [
           {
            "automargin": true,
            "type": "pie"
           }
          ],
          "scatter": [
           {
            "marker": {
             "colorbar": {
              "outlinewidth": 0,
              "ticks": ""
             }
            },
            "type": "scatter"
           }
          ],
          "scatter3d": [
           {
            "line": {
             "colorbar": {
              "outlinewidth": 0,
              "ticks": ""
             }
            },
            "marker": {
             "colorbar": {
              "outlinewidth": 0,
              "ticks": ""
             }
            },
            "type": "scatter3d"
           }
          ],
          "scattercarpet": [
           {
            "marker": {
             "colorbar": {
              "outlinewidth": 0,
              "ticks": ""
             }
            },
            "type": "scattercarpet"
           }
          ],
          "scattergeo": [
           {
            "marker": {
             "colorbar": {
              "outlinewidth": 0,
              "ticks": ""
             }
            },
            "type": "scattergeo"
           }
          ],
          "scattergl": [
           {
            "marker": {
             "colorbar": {
              "outlinewidth": 0,
              "ticks": ""
             }
            },
            "type": "scattergl"
           }
          ],
          "scattermapbox": [
           {
            "marker": {
             "colorbar": {
              "outlinewidth": 0,
              "ticks": ""
             }
            },
            "type": "scattermapbox"
           }
          ],
          "scatterpolar": [
           {
            "marker": {
             "colorbar": {
              "outlinewidth": 0,
              "ticks": ""
             }
            },
            "type": "scatterpolar"
           }
          ],
          "scatterpolargl": [
           {
            "marker": {
             "colorbar": {
              "outlinewidth": 0,
              "ticks": ""
             }
            },
            "type": "scatterpolargl"
           }
          ],
          "scatterternary": [
           {
            "marker": {
             "colorbar": {
              "outlinewidth": 0,
              "ticks": ""
             }
            },
            "type": "scatterternary"
           }
          ],
          "surface": [
           {
            "colorbar": {
             "outlinewidth": 0,
             "ticks": ""
            },
            "colorscale": [
             [
              0,
              "#0d0887"
             ],
             [
              0.1111111111111111,
              "#46039f"
             ],
             [
              0.2222222222222222,
              "#7201a8"
             ],
             [
              0.3333333333333333,
              "#9c179e"
             ],
             [
              0.4444444444444444,
              "#bd3786"
             ],
             [
              0.5555555555555556,
              "#d8576b"
             ],
             [
              0.6666666666666666,
              "#ed7953"
             ],
             [
              0.7777777777777778,
              "#fb9f3a"
             ],
             [
              0.8888888888888888,
              "#fdca26"
             ],
             [
              1,
              "#f0f921"
             ]
            ],
            "type": "surface"
           }
          ],
          "table": [
           {
            "cells": {
             "fill": {
              "color": "#EBF0F8"
             },
             "line": {
              "color": "white"
             }
            },
            "header": {
             "fill": {
              "color": "#C8D4E3"
             },
             "line": {
              "color": "white"
             }
            },
            "type": "table"
           }
          ]
         },
         "layout": {
          "annotationdefaults": {
           "arrowcolor": "#2a3f5f",
           "arrowhead": 0,
           "arrowwidth": 1
          },
          "autotypenumbers": "strict",
          "coloraxis": {
           "colorbar": {
            "outlinewidth": 0,
            "ticks": ""
           }
          },
          "colorscale": {
           "diverging": [
            [
             0,
             "#8e0152"
            ],
            [
             0.1,
             "#c51b7d"
            ],
            [
             0.2,
             "#de77ae"
            ],
            [
             0.3,
             "#f1b6da"
            ],
            [
             0.4,
             "#fde0ef"
            ],
            [
             0.5,
             "#f7f7f7"
            ],
            [
             0.6,
             "#e6f5d0"
            ],
            [
             0.7,
             "#b8e186"
            ],
            [
             0.8,
             "#7fbc41"
            ],
            [
             0.9,
             "#4d9221"
            ],
            [
             1,
             "#276419"
            ]
           ],
           "sequential": [
            [
             0,
             "#0d0887"
            ],
            [
             0.1111111111111111,
             "#46039f"
            ],
            [
             0.2222222222222222,
             "#7201a8"
            ],
            [
             0.3333333333333333,
             "#9c179e"
            ],
            [
             0.4444444444444444,
             "#bd3786"
            ],
            [
             0.5555555555555556,
             "#d8576b"
            ],
            [
             0.6666666666666666,
             "#ed7953"
            ],
            [
             0.7777777777777778,
             "#fb9f3a"
            ],
            [
             0.8888888888888888,
             "#fdca26"
            ],
            [
             1,
             "#f0f921"
            ]
           ],
           "sequentialminus": [
            [
             0,
             "#0d0887"
            ],
            [
             0.1111111111111111,
             "#46039f"
            ],
            [
             0.2222222222222222,
             "#7201a8"
            ],
            [
             0.3333333333333333,
             "#9c179e"
            ],
            [
             0.4444444444444444,
             "#bd3786"
            ],
            [
             0.5555555555555556,
             "#d8576b"
            ],
            [
             0.6666666666666666,
             "#ed7953"
            ],
            [
             0.7777777777777778,
             "#fb9f3a"
            ],
            [
             0.8888888888888888,
             "#fdca26"
            ],
            [
             1,
             "#f0f921"
            ]
           ]
          },
          "colorway": [
           "#636efa",
           "#EF553B",
           "#00cc96",
           "#ab63fa",
           "#FFA15A",
           "#19d3f3",
           "#FF6692",
           "#B6E880",
           "#FF97FF",
           "#FECB52"
          ],
          "font": {
           "color": "#2a3f5f"
          },
          "geo": {
           "bgcolor": "white",
           "lakecolor": "white",
           "landcolor": "#E5ECF6",
           "showlakes": true,
           "showland": true,
           "subunitcolor": "white"
          },
          "hoverlabel": {
           "align": "left"
          },
          "hovermode": "closest",
          "mapbox": {
           "style": "light"
          },
          "paper_bgcolor": "white",
          "plot_bgcolor": "#E5ECF6",
          "polar": {
           "angularaxis": {
            "gridcolor": "white",
            "linecolor": "white",
            "ticks": ""
           },
           "bgcolor": "#E5ECF6",
           "radialaxis": {
            "gridcolor": "white",
            "linecolor": "white",
            "ticks": ""
           }
          },
          "scene": {
           "xaxis": {
            "backgroundcolor": "#E5ECF6",
            "gridcolor": "white",
            "gridwidth": 2,
            "linecolor": "white",
            "showbackground": true,
            "ticks": "",
            "zerolinecolor": "white"
           },
           "yaxis": {
            "backgroundcolor": "#E5ECF6",
            "gridcolor": "white",
            "gridwidth": 2,
            "linecolor": "white",
            "showbackground": true,
            "ticks": "",
            "zerolinecolor": "white"
           },
           "zaxis": {
            "backgroundcolor": "#E5ECF6",
            "gridcolor": "white",
            "gridwidth": 2,
            "linecolor": "white",
            "showbackground": true,
            "ticks": "",
            "zerolinecolor": "white"
           }
          },
          "shapedefaults": {
           "line": {
            "color": "#2a3f5f"
           }
          },
          "ternary": {
           "aaxis": {
            "gridcolor": "white",
            "linecolor": "white",
            "ticks": ""
           },
           "baxis": {
            "gridcolor": "white",
            "linecolor": "white",
            "ticks": ""
           },
           "bgcolor": "#E5ECF6",
           "caxis": {
            "gridcolor": "white",
            "linecolor": "white",
            "ticks": ""
           }
          },
          "title": {
           "x": 0.05
          },
          "xaxis": {
           "automargin": true,
           "gridcolor": "white",
           "linecolor": "white",
           "ticks": "",
           "title": {
            "standoff": 15
           },
           "zerolinecolor": "white",
           "zerolinewidth": 2
          },
          "yaxis": {
           "automargin": true,
           "gridcolor": "white",
           "linecolor": "white",
           "ticks": "",
           "title": {
            "standoff": 15
           },
           "zerolinecolor": "white",
           "zerolinewidth": 2
          }
         }
        },
        "width": 1000,
        "xaxis": {
         "anchor": "y",
         "autorange": true,
         "domain": [
          0,
          1
         ],
         "dtick": 1,
         "range": [
          -0.5,
          13.5
         ],
         "showgrid": false,
         "title": {
          "text": "<b>  <b>"
         },
         "type": "category"
        },
        "yaxis": {
         "anchor": "x",
         "autorange": true,
         "domain": [
          0,
          1
         ],
         "range": [
          0,
          13.68421052631579
         ],
         "title": {
          "text": "<b> Number of studies <b>"
         },
         "type": "linear"
        }
       }
      },
      "image/png": "[encoded data removed]",
      "text/html": [
       "<div>                            <div id=\"72bfd2ab-141f-4e4f-8436-e740e244ec59\" class=\"plotly-graph-div\" style=\"height:800px; width:1000px;\"></div>            <script type=\"text/javascript\">                require([\"plotly\"], function(Plotly) {                    window.PLOTLYENV=window.PLOTLYENV || {};                                    if (document.getElementById(\"72bfd2ab-141f-4e4f-8436-e740e244ec59\")) {                    Plotly.newPlot(                        \"72bfd2ab-141f-4e4f-8436-e740e244ec59\",                        [{\"alignmentgroup\":\"True\",\"hovertemplate\":\"variable=Esophagus<br>index=%{x}<br>value=%{y}<extra></extra>\",\"legendgroup\":\"Esophagus\",\"marker\":{\"color\":\"#073b4c\",\"pattern\":{\"shape\":\"\"}},\"name\":\"Esophagus\",\"offsetgroup\":\"Esophagus\",\"orientation\":\"v\",\"showlegend\":true,\"text\":[4.0,3.0,1.0,0.0,2.0,2.0,0.0,0.0,1.0,0.0,0.0,0.0,1.0,0.0],\"textangle\":0,\"textposition\":\"auto\",\"type\":\"bar\",\"x\":[\"Planar uniaxial\",\"Tubular extension - Tubular inflation\",\"Tubular inflation\",\"Planar biaxial\",\"Tubular extension - Tubular inflation - Tubular torsion\",\"Planar uniaxial - Planar biaxial - Tubular extension - Tubular inflation\",\"Planar biaxial - Tubular inflation\",\"Compression\",\"Planar uniaxial - Tubular extension - Tubular inflation\",\"Compression - Planar uniaxial\",\"Impedance planimetry\",\"Planar uniaxial - Planar shear\",\"Planar uniaxial - Tubular inflation - Other\",\"Planar uniaxial - Other\"],\"xaxis\":\"x\",\"y\":[4,3,1,0,2,2,0,0,1,0,0,0,1,0],\"yaxis\":\"y\"},{\"alignmentgroup\":\"True\",\"hovertemplate\":\"variable=Stomach<br>index=%{x}<br>value=%{y}<extra></extra>\",\"legendgroup\":\"Stomach\",\"marker\":{\"color\":\"#ffd166\",\"pattern\":{\"shape\":\"\"}},\"name\":\"Stomach\",\"offsetgroup\":\"Stomach\",\"orientation\":\"v\",\"showlegend\":true,\"text\":[2.0,0.0,1.0,1.0,0.0,0.0,0.0,1.0,0.0,0.0,0.0,0.0,0.0,0.0],\"textangle\":0,\"textposition\":\"auto\",\"type\":\"bar\",\"x\":[\"Planar uniaxial\",\"Tubular extension - Tubular inflation\",\"Tubular inflation\",\"Planar biaxial\",\"Tubular extension - Tubular inflation - Tubular torsion\",\"Planar uniaxial - Planar biaxial - Tubular extension - Tubular inflation\",\"Planar biaxial - Tubular inflation\",\"Compression\",\"Planar uniaxial - Tubular extension - Tubular inflation\",\"Compression - Planar uniaxial\",\"Impedance planimetry\",\"Planar uniaxial - Planar shear\",\"Planar uniaxial - Tubular inflation - Other\",\"Planar uniaxial - Other\"],\"xaxis\":\"x\",\"y\":[2,0,1,1,0,0,0,1,0,0,0,0,0,0],\"yaxis\":\"y\"},{\"alignmentgroup\":\"True\",\"hovertemplate\":\"variable=Small intestine<br>index=%{x}<br>value=%{y}<extra></extra>\",\"legendgroup\":\"Small intestine\",\"marker\":{\"color\":\"#06d6a0\",\"pattern\":{\"shape\":\"\"}},\"name\":\"Small intestine\",\"offsetgroup\":\"Small intestine\",\"orientation\":\"v\",\"showlegend\":true,\"text\":[0.0,3.0,3.0,2.0,1.0,0.0,0.0,0.0,0.0,0.0,1.0,0.0,0.0,0.0],\"textangle\":0,\"textposition\":\"auto\",\"type\":\"bar\",\"x\":[\"Planar uniaxial\",\"Tubular extension - Tubular inflation\",\"Tubular inflation\",\"Planar biaxial\",\"Tubular extension - Tubular inflation - Tubular torsion\",\"Planar uniaxial - Planar biaxial - Tubular extension - Tubular inflation\",\"Planar biaxial - Tubular inflation\",\"Compression\",\"Planar uniaxial - Tubular extension - Tubular inflation\",\"Compression - Planar uniaxial\",\"Impedance planimetry\",\"Planar uniaxial - Planar shear\",\"Planar uniaxial - Tubular inflation - Other\",\"Planar uniaxial - Other\"],\"xaxis\":\"x\",\"y\":[0,3,3,2,1,0,0,0,0,0,1,0,0,0],\"yaxis\":\"y\"},{\"alignmentgroup\":\"True\",\"hovertemplate\":\"variable=Large intestine<br>index=%{x}<br>value=%{y}<extra></extra>\",\"legendgroup\":\"Large intestine\",\"marker\":{\"color\":\"#118ab2\",\"pattern\":{\"shape\":\"\"}},\"name\":\"Large intestine\",\"offsetgroup\":\"Large intestine\",\"orientation\":\"v\",\"showlegend\":true,\"text\":[4.0,3.0,1.0,1.0,0.0,0.0,1.0,1.0,0.0,1.0,0.0,1.0,0.0,1.0],\"textangle\":0,\"textposition\":\"auto\",\"type\":\"bar\",\"x\":[\"Planar uniaxial\",\"Tubular extension - Tubular inflation\",\"Tubular inflation\",\"Planar biaxial\",\"Tubular extension - Tubular inflation - Tubular torsion\",\"Planar uniaxial - Planar biaxial - Tubular extension - Tubular inflation\",\"Planar biaxial - Tubular inflation\",\"Compression\",\"Planar uniaxial - Tubular extension - Tubular inflation\",\"Compression - Planar uniaxial\",\"Impedance planimetry\",\"Planar uniaxial - Planar shear\",\"Planar uniaxial - Tubular inflation - Other\",\"Planar uniaxial - Other\"],\"xaxis\":\"x\",\"y\":[4,3,1,1,0,0,1,1,0,1,0,1,0,1],\"yaxis\":\"y\"},{\"alignmentgroup\":\"True\",\"hovertemplate\":\"variable=Rectum<br>index=%{x}<br>value=%{y}<extra></extra>\",\"legendgroup\":\"Rectum\",\"marker\":{\"color\":\"#ef476f\",\"pattern\":{\"shape\":\"\"}},\"name\":\"Rectum\",\"offsetgroup\":\"Rectum\",\"orientation\":\"v\",\"showlegend\":true,\"text\":[3.0,2.0,1.0,0.0,0.0,0.0,1.0,0.0,0.0,0.0,0.0,0.0,0.0,0.0],\"textangle\":0,\"textposition\":\"auto\",\"type\":\"bar\",\"x\":[\"Planar uniaxial\",\"Tubular extension - Tubular inflation\",\"Tubular inflation\",\"Planar biaxial\",\"Tubular extension - Tubular inflation - Tubular torsion\",\"Planar uniaxial - Planar biaxial - Tubular extension - Tubular inflation\",\"Planar biaxial - Tubular inflation\",\"Compression\",\"Planar uniaxial - Tubular extension - Tubular inflation\",\"Compression - Planar uniaxial\",\"Impedance planimetry\",\"Planar uniaxial - Planar shear\",\"Planar uniaxial - Tubular inflation - Other\",\"Planar uniaxial - Other\"],\"xaxis\":\"x\",\"y\":[3,2,1,0,0,0,1,0,0,0,0,0,0,0],\"yaxis\":\"y\"}],                        {\"autosize\":false,\"bargap\":0.5,\"barmode\":\"stack\",\"height\":800,\"legend\":{\"title\":{},\"tracegroupgap\":0,\"traceorder\":\"normal\",\"x\":0.99,\"xanchor\":\"right\",\"y\":0.99,\"yanchor\":\"top\"},\"margin\":{\"t\":10},\"plot_bgcolor\":\"rgba(242, 241, 239, 0.8)\",\"template\":{\"data\":{\"bar\":[{\"error_x\":{\"color\":\"#2a3f5f\"},\"error_y\":{\"color\":\"#2a3f5f\"},\"marker\":{\"line\":{\"color\":\"#E5ECF6\",\"width\":0.5},\"pattern\":{\"fillmode\":\"overlay\",\"size\":10,\"solidity\":0.2}},\"type\":\"bar\"}],\"barpolar\":[{\"marker\":{\"line\":{\"color\":\"#E5ECF6\",\"width\":0.5},\"pattern\":{\"fillmode\":\"overlay\",\"size\":10,\"solidity\":0.2}},\"type\":\"barpolar\"}],\"carpet\":[{\"aaxis\":{\"endlinecolor\":\"#2a3f5f\",\"gridcolor\":\"white\",\"linecolor\":\"white\",\"minorgridcolor\":\"white\",\"startlinecolor\":\"#2a3f5f\"},\"baxis\":{\"endlinecolor\":\"#2a3f5f\",\"gridcolor\":\"white\",\"linecolor\":\"white\",\"minorgridcolor\":\"white\",\"startlinecolor\":\"#2a3f5f\"},\"type\":\"carpet\"}],\"choropleth\":[{\"colorbar\":{\"outlinewidth\":0,\"ticks\":\"\"},\"type\":\"choropleth\"}],\"contour\":[{\"colorbar\":{\"outlinewidth\":0,\"ticks\":\"\"},\"colorscale\":[[0.0,\"#0d0887\"],[0.1111111111111111,\"#46039f\"],[0.2222222222222222,\"#7201a8\"],[0.3333333333333333,\"#9c179e\"],[0.4444444444444444,\"#bd3786\"],[0.5555555555555556,\"#d8576b\"],[0.6666666666666666,\"#ed7953\"],[0.7777777777777778,\"#fb9f3a\"],[0.8888888888888888,\"#fdca26\"],[1.0,\"#f0f921\"]],\"type\":\"contour\"}],\"contourcarpet\":[{\"colorbar\":{\"outlinewidth\":0,\"ticks\":\"\"},\"type\":\"contourcarpet\"}],\"heatmap\":[{\"colorbar\":{\"outlinewidth\":0,\"ticks\":\"\"},\"colorscale\":[[0.0,\"#0d0887\"],[0.1111111111111111,\"#46039f\"],[0.2222222222222222,\"#7201a8\"],[0.3333333333333333,\"#9c179e\"],[0.4444444444444444,\"#bd3786\"],[0.5555555555555556,\"#d8576b\"],[0.6666666666666666,\"#ed7953\"],[0.7777777777777778,\"#fb9f3a\"],[0.8888888888888888,\"#fdca26\"],[1.0,\"#f0f921\"]],\"type\":\"heatmap\"}],\"heatmapgl\":[{\"colorbar\":{\"outlinewidth\":0,\"ticks\":\"\"},\"colorscale\":[[0.0,\"#0d0887\"],[0.1111111111111111,\"#46039f\"],[0.2222222222222222,\"#7201a8\"],[0.3333333333333333,\"#9c179e\"],[0.4444444444444444,\"#bd3786\"],[0.5555555555555556,\"#d8576b\"],[0.6666666666666666,\"#ed7953\"],[0.7777777777777778,\"#fb9f3a\"],[0.8888888888888888,\"#fdca26\"],[1.0,\"#f0f921\"]],\"type\":\"heatmapgl\"}],\"histogram\":[{\"marker\":{\"pattern\":{\"fillmode\":\"overlay\",\"size\":10,\"solidity\":0.2}},\"type\":\"histogram\"}],\"histogram2d\":[{\"colorbar\":{\"outlinewidth\":0,\"ticks\":\"\"},\"colorscale\":[[0.0,\"#0d0887\"],[0.1111111111111111,\"#46039f\"],[0.2222222222222222,\"#7201a8\"],[0.3333333333333333,\"#9c179e\"],[0.4444444444444444,\"#bd3786\"],[0.5555555555555556,\"#d8576b\"],[0.6666666666666666,\"#ed7953\"],[0.7777777777777778,\"#fb9f3a\"],[0.8888888888888888,\"#fdca26\"],[1.0,\"#f0f921\"]],\"type\":\"histogram2d\"}],\"histogram2dcontour\":[{\"colorbar\":{\"outlinewidth\":0,\"ticks\":\"\"},\"colorscale\":[[0.0,\"#0d0887\"],[0.1111111111111111,\"#46039f\"],[0.2222222222222222,\"#7201a8\"],[0.3333333333333333,\"#9c179e\"],[0.4444444444444444,\"#bd3786\"],[0.5555555555555556,\"#d8576b\"],[0.6666666666666666,\"#ed7953\"],[0.7777777777777778,\"#fb9f3a\"],[0.8888888888888888,\"#fdca26\"],[1.0,\"#f0f921\"]],\"type\":\"histogram2dcontour\"}],\"mesh3d\":[{\"colorbar\":{\"outlinewidth\":0,\"ticks\":\"\"},\"type\":\"mesh3d\"}],\"parcoords\":[{\"line\":{\"colorbar\":{\"outlinewidth\":0,\"ticks\":\"\"}},\"type\":\"parcoords\"}],\"pie\":[{\"automargin\":true,\"type\":\"pie\"}],\"scatter\":[{\"marker\":{\"colorbar\":{\"outlinewidth\":0,\"ticks\":\"\"}},\"type\":\"scatter\"}],\"scatter3d\":[{\"line\":{\"colorbar\":{\"outlinewidth\":0,\"ticks\":\"\"}},\"marker\":{\"colorbar\":{\"outlinewidth\":0,\"ticks\":\"\"}},\"type\":\"scatter3d\"}],\"scattercarpet\":[{\"marker\":{\"colorbar\":{\"outlinewidth\":0,\"ticks\":\"\"}},\"type\":\"scattercarpet\"}],\"scattergeo\":[{\"marker\":{\"colorbar\":{\"outlinewidth\":0,\"ticks\":\"\"}},\"type\":\"scattergeo\"}],\"scattergl\":[{\"marker\":{\"colorbar\":{\"outlinewidth\":0,\"ticks\":\"\"}},\"type\":\"scattergl\"}],\"scattermapbox\":[{\"marker\":{\"colorbar\":{\"outlinewidth\":0,\"ticks\":\"\"}},\"type\":\"scattermapbox\"}],\"scatterpolar\":[{\"marker\":{\"colorbar\":{\"outlinewidth\":0,\"ticks\":\"\"}},\"type\":\"scatterpolar\"}],\"scatterpolargl\":[{\"marker\":{\"colorbar\":{\"outlinewidth\":0,\"ticks\":\"\"}},\"type\":\"scatterpolargl\"}],\"scatterternary\":[{\"marker\":{\"colorbar\":{\"outlinewidth\":0,\"ticks\":\"\"}},\"type\":\"scatterternary\"}],\"surface\":[{\"colorbar\":{\"outlinewidth\":0,\"ticks\":\"\"},\"colorscale\":[[0.0,\"#0d0887\"],[0.1111111111111111,\"#46039f\"],[0.2222222222222222,\"#7201a8\"],[0.3333333333333333,\"#9c179e\"],[0.4444444444444444,\"#bd3786\"],[0.5555555555555556,\"#d8576b\"],[0.6666666666666666,\"#ed7953\"],[0.7777777777777778,\"#fb9f3a\"],[0.8888888888888888,\"#fdca26\"],[1.0,\"#f0f921\"]],\"type\":\"surface\"}],\"table\":[{\"cells\":{\"fill\":{\"color\":\"#EBF0F8\"},\"line\":{\"color\":\"white\"}},\"header\":{\"fill\":{\"color\":\"#C8D4E3\"},\"line\":{\"color\":\"white\"}},\"type\":\"table\"}]},\"layout\":{\"annotationdefaults\":{\"arrowcolor\":\"#2a3f5f\",\"arrowhead\":0,\"arrowwidth\":1},\"autotypenumbers\":\"strict\",\"coloraxis\":{\"colorbar\":{\"outlinewidth\":0,\"ticks\":\"\"}},\"colorscale\":{\"diverging\":[[0,\"#8e0152\"],[0.1,\"#c51b7d\"],[0.2,\"#de77ae\"],[0.3,\"#f1b6da\"],[0.4,\"#fde0ef\"],[0.5,\"#f7f7f7\"],[0.6,\"#e6f5d0\"],[0.7,\"#b8e186\"],[0.8,\"#7fbc41\"],[0.9,\"#4d9221\"],[1,\"#276419\"]],\"sequential\":[[0.0,\"#0d0887\"],[0.1111111111111111,\"#46039f\"],[0.2222222222222222,\"#7201a8\"],[0.3333333333333333,\"#9c179e\"],[0.4444444444444444,\"#bd3786\"],[0.5555555555555556,\"#d8576b\"],[0.6666666666666666,\"#ed7953\"],[0.7777777777777778,\"#fb9f3a\"],[0.8888888888888888,\"#fdca26\"],[1.0,\"#f0f921\"]],\"sequentialminus\":[[0.0,\"#0d0887\"],[0.1111111111111111,\"#46039f\"],[0.2222222222222222,\"#7201a8\"],[0.3333333333333333,\"#9c179e\"],[0.4444444444444444,\"#bd3786\"],[0.5555555555555556,\"#d8576b\"],[0.6666666666666666,\"#ed7953\"],[0.7777777777777778,\"#fb9f3a\"],[0.8888888888888888,\"#fdca26\"],[1.0,\"#f0f921\"]]},\"colorway\":[\"#636efa\",\"#EF553B\",\"#00cc96\",\"#ab63fa\",\"#FFA15A\",\"#19d3f3\",\"#FF6692\",\"#B6E880\",\"#FF97FF\",\"#FECB52\"],\"font\":{\"color\":\"#2a3f5f\"},\"geo\":{\"bgcolor\":\"white\",\"lakecolor\":\"white\",\"landcolor\":\"#E5ECF6\",\"showlakes\":true,\"showland\":true,\"subunitcolor\":\"white\"},\"hoverlabel\":{\"align\":\"left\"},\"hovermode\":\"closest\",\"mapbox\":{\"style\":\"light\"},\"paper_bgcolor\":\"white\",\"plot_bgcolor\":\"#E5ECF6\",\"polar\":{\"angularaxis\":{\"gridcolor\":\"white\",\"linecolor\":\"white\",\"ticks\":\"\"},\"bgcolor\":\"#E5ECF6\",\"radialaxis\":{\"gridcolor\":\"white\",\"linecolor\":\"white\",\"ticks\":\"\"}},\"scene\":{\"xaxis\":{\"backgroundcolor\":\"#E5ECF6\",\"gridcolor\":\"white\",\"gridwidth\":2,\"linecolor\":\"white\",\"showbackground\":true,\"ticks\":\"\",\"zerolinecolor\":\"white\"},\"yaxis\":{\"backgroundcolor\":\"#E5ECF6\",\"gridcolor\":\"white\",\"gridwidth\":2,\"linecolor\":\"white\",\"showbackground\":true,\"ticks\":\"\",\"zerolinecolor\":\"white\"},\"zaxis\":{\"backgroundcolor\":\"#E5ECF6\",\"gridcolor\":\"white\",\"gridwidth\":2,\"linecolor\":\"white\",\"showbackground\":true,\"ticks\":\"\",\"zerolinecolor\":\"white\"}},\"shapedefaults\":{\"line\":{\"color\":\"#2a3f5f\"}},\"ternary\":{\"aaxis\":{\"gridcolor\":\"white\",\"linecolor\":\"white\",\"ticks\":\"\"},\"baxis\":{\"gridcolor\":\"white\",\"linecolor\":\"white\",\"ticks\":\"\"},\"bgcolor\":\"#E5ECF6\",\"caxis\":{\"gridcolor\":\"white\",\"linecolor\":\"white\",\"ticks\":\"\"}},\"title\":{\"x\":0.05},\"xaxis\":{\"automargin\":true,\"gridcolor\":\"white\",\"linecolor\":\"white\",\"ticks\":\"\",\"title\":{\"standoff\":15},\"zerolinecolor\":\"white\",\"zerolinewidth\":2},\"yaxis\":{\"automargin\":true,\"gridcolor\":\"white\",\"linecolor\":\"white\",\"ticks\":\"\",\"title\":{\"standoff\":15},\"zerolinecolor\":\"white\",\"zerolinewidth\":2}}},\"width\":1000,\"xaxis\":{\"anchor\":\"y\",\"domain\":[0.0,1.0],\"dtick\":1,\"showgrid\":false,\"title\":{\"text\":\"<b>  <b>\"}},\"yaxis\":{\"anchor\":\"x\",\"domain\":[0.0,1.0],\"title\":{\"text\":\"<b> Number of studies <b>\"}}},                        {\"responsive\": true}                    ).then(function(){\n",
       "                            \n",
       "var gd = document.getElementById('72bfd2ab-141f-4e4f-8436-e740e244ec59');\n",
       "var x = new MutationObserver(function (mutations, observer) {{\n",
       "        var display = window.getComputedStyle(gd).display;\n",
       "        if (!display || display === 'none') {{\n",
       "            console.log([gd, 'removed!']);\n",
       "            Plotly.purge(gd);\n",
       "            observer.disconnect();\n",
       "        }}\n",
       "}});\n",
       "\n",
       "// Listen for the removal of the full notebook cells\n",
       "var notebookContainer = gd.closest('#notebook-container');\n",
       "if (notebookContainer) {{\n",
       "    x.observe(notebookContainer, {childList: true});\n",
       "}}\n",
       "\n",
       "// Listen for the clearing of the current output cell\n",
       "var outputEl = gd.closest('.output');\n",
       "if (outputEl) {{\n",
       "    x.observe(outputEl, {childList: true});\n",
       "}}\n",
       "\n",
       "                        })                };                });            </script>        </div>"
      ]
     },
     "metadata": {},
     "output_type": "display_data"
    }
   ],
   "source": [
    "df = pd.DataFrame(dict_source, index = protocol_list_decreasing_frequency)\n",
    "# plotly\n",
    "fig = px.bar(df, \n",
    "             x = df.index,\n",
    "             y = [c for c in df.columns],\n",
    "             color_discrete_sequence=color_palette\n",
    "             )\n",
    "\n",
    "for i, val in enumerate(df.head()):\n",
    "    fig.data[i].text = df[val]\n",
    "    fig.data[i].textangle = 0\n",
    "    \n",
    "fig.update_layout(\n",
    "    barmode='stack',\n",
    "    bargap=0.5,\n",
    "    autosize=False,\n",
    "    width=1000,\n",
    "    height=800,\n",
    "    xaxis = dict(title=\"<b>  <b>\", showgrid = False, dtick = 1),\n",
    "    yaxis = dict(title=\"<b> Number of studies <b>\"),\n",
    "    plot_bgcolor= plot_background_color,\n",
    "    legend=dict(yanchor=\"top\", y=0.99, xanchor=\"right\", x=0.99, title = None), \n",
    "    legend_traceorder = 'normal',\n",
    "    margin=go.layout.Margin(\n",
    "        t=10, #top margin\n",
    "    )\n",
    ")\n",
    "\n",
    "fig.show()\n",
    "#fig.write_image(\"total-studies-test-protocol.png\", engine=\"kaleido\", scale = 1.0)"
   ]
  },
  {
   "cell_type": "code",
   "execution_count": 60,
   "metadata": {},
   "outputs": [
    {
     "name": "stdout",
     "output_type": "stream",
     "text": [
      "Studies where testing protocol is reported: 50. Planar uniaxial 26.0%, Inflation-extension 22.0%\n",
      "Total number of different testing protocols: 14\n"
     ]
    }
   ],
   "source": [
    "total = df.to_numpy().sum()\n",
    "\n",
    "sum_val = df.sum(axis=1).values\n",
    "total_planar_uniaxial = sum_val[0]\n",
    "total_inflation_extension = sum_val[1]\n",
    "\n",
    "message = \"Studies where testing protocol is reported: \" + str(total) \\\n",
    "        + \". Planar uniaxial \" + str(round(total_planar_uniaxial/total*100, 1)) \\\n",
    "        + \"%, Inflation-extension \" + str(round(total_inflation_extension/total*100, 1)) + \"%\"\n",
    "print(message)\n",
    "\n",
    "message = \"Total number of different testing protocols: \" + str(len(df))\n",
    "print(message)"
   ]
  },
  {
   "cell_type": "code",
   "execution_count": 61,
   "metadata": {},
   "outputs": [
    {
     "data": {
      "text/html": [
       "<div>\n",
       "<style scoped>\n",
       "    .dataframe tbody tr th:only-of-type {\n",
       "        vertical-align: middle;\n",
       "    }\n",
       "\n",
       "    .dataframe tbody tr th {\n",
       "        vertical-align: top;\n",
       "    }\n",
       "\n",
       "    .dataframe thead th {\n",
       "        text-align: right;\n",
       "    }\n",
       "</style>\n",
       "<table border=\"1\" class=\"dataframe\">\n",
       "  <thead>\n",
       "    <tr style=\"text-align: right;\">\n",
       "      <th></th>\n",
       "      <th>#</th>\n",
       "      <th>Title</th>\n",
       "      <th>DOI</th>\n",
       "      <th>Author</th>\n",
       "      <th>Year</th>\n",
       "      <th>Comments</th>\n",
       "      <th>Species mentioned</th>\n",
       "      <th>Species category</th>\n",
       "      <th>Number of subjects</th>\n",
       "      <th>Sex</th>\n",
       "      <th>...</th>\n",
       "      <th>Hyperelastic model category</th>\n",
       "      <th>Hyperelastic model type</th>\n",
       "      <th>Viscous model type</th>\n",
       "      <th>Active model category</th>\n",
       "      <th>Active model type</th>\n",
       "      <th>Zero stress state</th>\n",
       "      <th>Incompressibility ref</th>\n",
       "      <th>Viscoelasticity ref</th>\n",
       "      <th>Organ</th>\n",
       "      <th>Unnamed: 25</th>\n",
       "    </tr>\n",
       "  </thead>\n",
       "  <tbody>\n",
       "    <tr>\n",
       "      <th>9</th>\n",
       "      <td>1</td>\n",
       "      <td>In vivo measurements and constitutive modeling...</td>\n",
       "      <td>https://doi.org/10.1007/978-3-540-36841-0_805</td>\n",
       "      <td>Higa &amp; al.</td>\n",
       "      <td>2007</td>\n",
       "      <td>NaN</td>\n",
       "      <td>Goat</td>\n",
       "      <td>Goat</td>\n",
       "      <td>1</td>\n",
       "      <td>NP</td>\n",
       "      <td>...</td>\n",
       "      <td>NaN</td>\n",
       "      <td>Mooney-Rivlin</td>\n",
       "      <td>Convolution integral</td>\n",
       "      <td>NaN</td>\n",
       "      <td>NaN</td>\n",
       "      <td>No</td>\n",
       "      <td>No ref \"Here, the tissue is assumed to be isot...</td>\n",
       "      <td>\"In this study, Mooney-Rivlin model incorporat...</td>\n",
       "      <td>Large intestine</td>\n",
       "      <td>NaN</td>\n",
       "    </tr>\n",
       "    <tr>\n",
       "      <th>12</th>\n",
       "      <td>4</td>\n",
       "      <td>Modelling the elastin, collagen and smooth mus...</td>\n",
       "      <td>https://doi.org/10.1111/j.1365-2982.2009.01314.x</td>\n",
       "      <td>Gao &amp; al.</td>\n",
       "      <td>2009</td>\n",
       "      <td>duodenum, 6 patients (3M, 3F) all with establi...</td>\n",
       "      <td>Patient/Volunteer</td>\n",
       "      <td>Human</td>\n",
       "      <td>11</td>\n",
       "      <td>M-F</td>\n",
       "      <td>...</td>\n",
       "      <td>NaN</td>\n",
       "      <td>NaN</td>\n",
       "      <td>NaN</td>\n",
       "      <td>Active stress</td>\n",
       "      <td>Experimental</td>\n",
       "      <td>No</td>\n",
       "      <td>Not mentioned</td>\n",
       "      <td>Not mentioned</td>\n",
       "      <td>Small intestine</td>\n",
       "      <td>NaN</td>\n",
       "    </tr>\n",
       "  </tbody>\n",
       "</table>\n",
       "<p>2 rows × 27 columns</p>\n",
       "</div>"
      ],
      "text/plain": [
       "    #                                              Title  \\\n",
       "9   1  In vivo measurements and constitutive modeling...   \n",
       "12  4  Modelling the elastin, collagen and smooth mus...   \n",
       "\n",
       "                                                 DOI      Author  Year  \\\n",
       "9      https://doi.org/10.1007/978-3-540-36841-0_805  Higa & al.  2007   \n",
       "12  https://doi.org/10.1111/j.1365-2982.2009.01314.x   Gao & al.  2009   \n",
       "\n",
       "                                             Comments  Species mentioned  \\\n",
       "9                                                 NaN               Goat   \n",
       "12  duodenum, 6 patients (3M, 3F) all with establi...  Patient/Volunteer   \n",
       "\n",
       "   Species category Number of subjects  Sex  ... Hyperelastic model category  \\\n",
       "9              Goat                  1   NP  ...                         NaN   \n",
       "12            Human                 11  M-F  ...                         NaN   \n",
       "\n",
       "   Hyperelastic model type    Viscous model type Active model category  \\\n",
       "9            Mooney-Rivlin  Convolution integral                   NaN   \n",
       "12                     NaN                   NaN         Active stress   \n",
       "\n",
       "   Active model type Zero stress state  \\\n",
       "9                NaN                No   \n",
       "12      Experimental                No   \n",
       "\n",
       "                                Incompressibility ref  \\\n",
       "9   No ref \"Here, the tissue is assumed to be isot...   \n",
       "12                                      Not mentioned   \n",
       "\n",
       "                                  Viscoelasticity ref            Organ  \\\n",
       "9   \"In this study, Mooney-Rivlin model incorporat...  Large intestine   \n",
       "12                                      Not mentioned  Small intestine   \n",
       "\n",
       "   Unnamed: 25  \n",
       "9          NaN  \n",
       "12         NaN  \n",
       "\n",
       "[2 rows x 27 columns]"
      ]
     },
     "execution_count": 61,
     "metadata": {},
     "output_type": "execute_result"
    }
   ],
   "source": [
    "df_all_data_year[df_all_data_year[\"Test condition\"] == 'In vivo']"
   ]
  },
  {
   "cell_type": "markdown",
   "metadata": {},
   "source": [
    "## 7.5. Hyperelastic model types distribution"
   ]
  },
  {
   "cell_type": "code",
   "execution_count": 62,
   "metadata": {},
   "outputs": [
    {
     "name": "stdout",
     "output_type": "stream",
     "text": [
      "Phenomenological:  60.0 %\n",
      "Structure-based:  40.0 %\n",
      "Fung-type:  40.0 %\n",
      "Holzapfel-type:  30.0 %\n"
     ]
    }
   ],
   "source": [
    "#Phenomenological\n",
    "phenomenological_labels = ['Total <br> phenomenological', 'Fung-type', 'Isotropic']\n",
    "total_phenomenological = len(df_hyperelastic[df_hyperelastic[\"Hyperelastic model category\"].str.contains('Phenomenological', na = False)])\n",
    "total_fung = len(df_fung)\n",
    "total_istropic_phenomenological = len(df_isotropic)\n",
    "phenomenological_count = [total_phenomenological, total_fung, total_istropic_phenomenological]\n",
    "\n",
    "#Structure-based\n",
    "structure_based_labels = ['Total <br> structure-based', 'Holzapfel-type', 'Other']\n",
    "total_structure_based = len(df_hyperelastic[df_hyperelastic[\"Hyperelastic model category\"].str.contains('Structure-based', na = False)])\n",
    "total_holzapfel = len(df_holzapfel)\n",
    "df_sub = df_hyperelastic[df_hyperelastic[\"Hyperelastic model category\"].str.contains(\"Structure-based\", na = False)]\n",
    "total_other = len(df_sub[~df_sub[\"Hyperelastic model type\"].str.contains(\"Holzapfel\", na = False)])\n",
    "structure_based_count = [total_structure_based, total_holzapfel, total_other]\n",
    "\n",
    "\n",
    "#Microstructure-based\n",
    "microstructure_based_labels = ['Total <br> microstructure-based']\n",
    "total_microstructure_based = len(df_micro_structure_based)\n",
    "microstructure_based_count = [total_microstructure_based]\n",
    "\n",
    "phenomenological_proportion = round(total_phenomenological/len(df_hyperelastic)*100,2)\n",
    "structure_based_proportion = round(total_structure_based/len(df_hyperelastic)*100,2)\n",
    "fung_proportion = round(total_fung/len(df_hyperelastic)*100,0)\n",
    "holzapfel_proportion = round(total_holzapfel/len(df_hyperelastic)*100,0)\n",
    "\n",
    "print(\"Phenomenological: \", str(phenomenological_proportion), \"%\")\n",
    "print(\"Structure-based: \", str(structure_based_proportion), \"%\")\n",
    "print(\"Fung-type: \", str(fung_proportion), \"%\")\n",
    "print(\"Holzapfel-type: \", str(holzapfel_proportion), \"%\")"
   ]
  },
  {
   "cell_type": "code",
   "execution_count": 63,
   "metadata": {},
   "outputs": [
    {
     "data": {
      "application/vnd.plotly.v1+json": {
       "config": {
        "plotlyServerURL": "https://plot.ly"
       },
       "data": [
        {
         "marker": {
          "color": "#073b4c"
         },
         "name": "Phenomenological",
         "text": [
          "24",
          "16",
          "8"
         ],
         "textposition": "auto",
         "type": "bar",
         "x": [
          "Total <br> phenomenological",
          "Fung-type",
          "Isotropic"
         ],
         "y": [
          24,
          16,
          8
         ]
        },
        {
         "marker": {
          "color": "#ffd166"
         },
         "name": "Structure-based",
         "text": [
          "16",
          "12",
          "4"
         ],
         "textposition": "auto",
         "type": "bar",
         "x": [
          "Total <br> structure-based",
          "Holzapfel-type",
          "Other"
         ],
         "y": [
          16,
          12,
          4
         ]
        },
        {
         "marker": {
          "color": "#06d6a0"
         },
         "name": "Microtructure-based",
         "text": [
          "1"
         ],
         "textposition": "auto",
         "type": "bar",
         "x": [
          "Total <br> microstructure-based"
         ],
         "y": [
          1
         ]
        }
       ],
       "layout": {
        "autosize": false,
        "bargap": 0.2,
        "barmode": "stack",
        "height": 800,
        "legend": {
         "title": {
          "text": "Hyperelastic model category"
         },
         "traceorder": "normal",
         "x": 0.99,
         "xanchor": "right",
         "y": 0.99,
         "yanchor": "top"
        },
        "margin": {
         "t": 10
        },
        "plot_bgcolor": "rgba(242, 241, 239, 0.8)",
        "template": {
         "data": {
          "bar": [
           {
            "error_x": {
             "color": "#2a3f5f"
            },
            "error_y": {
             "color": "#2a3f5f"
            },
            "marker": {
             "line": {
              "color": "#E5ECF6",
              "width": 0.5
             },
             "pattern": {
              "fillmode": "overlay",
              "size": 10,
              "solidity": 0.2
             }
            },
            "type": "bar"
           }
          ],
          "barpolar": [
           {
            "marker": {
             "line": {
              "color": "#E5ECF6",
              "width": 0.5
             },
             "pattern": {
              "fillmode": "overlay",
              "size": 10,
              "solidity": 0.2
             }
            },
            "type": "barpolar"
           }
          ],
          "carpet": [
           {
            "aaxis": {
             "endlinecolor": "#2a3f5f",
             "gridcolor": "white",
             "linecolor": "white",
             "minorgridcolor": "white",
             "startlinecolor": "#2a3f5f"
            },
            "baxis": {
             "endlinecolor": "#2a3f5f",
             "gridcolor": "white",
             "linecolor": "white",
             "minorgridcolor": "white",
             "startlinecolor": "#2a3f5f"
            },
            "type": "carpet"
           }
          ],
          "choropleth": [
           {
            "colorbar": {
             "outlinewidth": 0,
             "ticks": ""
            },
            "type": "choropleth"
           }
          ],
          "contour": [
           {
            "colorbar": {
             "outlinewidth": 0,
             "ticks": ""
            },
            "colorscale": [
             [
              0,
              "#0d0887"
             ],
             [
              0.1111111111111111,
              "#46039f"
             ],
             [
              0.2222222222222222,
              "#7201a8"
             ],
             [
              0.3333333333333333,
              "#9c179e"
             ],
             [
              0.4444444444444444,
              "#bd3786"
             ],
             [
              0.5555555555555556,
              "#d8576b"
             ],
             [
              0.6666666666666666,
              "#ed7953"
             ],
             [
              0.7777777777777778,
              "#fb9f3a"
             ],
             [
              0.8888888888888888,
              "#fdca26"
             ],
             [
              1,
              "#f0f921"
             ]
            ],
            "type": "contour"
           }
          ],
          "contourcarpet": [
           {
            "colorbar": {
             "outlinewidth": 0,
             "ticks": ""
            },
            "type": "contourcarpet"
           }
          ],
          "heatmap": [
           {
            "colorbar": {
             "outlinewidth": 0,
             "ticks": ""
            },
            "colorscale": [
             [
              0,
              "#0d0887"
             ],
             [
              0.1111111111111111,
              "#46039f"
             ],
             [
              0.2222222222222222,
              "#7201a8"
             ],
             [
              0.3333333333333333,
              "#9c179e"
             ],
             [
              0.4444444444444444,
              "#bd3786"
             ],
             [
              0.5555555555555556,
              "#d8576b"
             ],
             [
              0.6666666666666666,
              "#ed7953"
             ],
             [
              0.7777777777777778,
              "#fb9f3a"
             ],
             [
              0.8888888888888888,
              "#fdca26"
             ],
             [
              1,
              "#f0f921"
             ]
            ],
            "type": "heatmap"
           }
          ],
          "heatmapgl": [
           {
            "colorbar": {
             "outlinewidth": 0,
             "ticks": ""
            },
            "colorscale": [
             [
              0,
              "#0d0887"
             ],
             [
              0.1111111111111111,
              "#46039f"
             ],
             [
              0.2222222222222222,
              "#7201a8"
             ],
             [
              0.3333333333333333,
              "#9c179e"
             ],
             [
              0.4444444444444444,
              "#bd3786"
             ],
             [
              0.5555555555555556,
              "#d8576b"
             ],
             [
              0.6666666666666666,
              "#ed7953"
             ],
             [
              0.7777777777777778,
              "#fb9f3a"
             ],
             [
              0.8888888888888888,
              "#fdca26"
             ],
             [
              1,
              "#f0f921"
             ]
            ],
            "type": "heatmapgl"
           }
          ],
          "histogram": [
           {
            "marker": {
             "pattern": {
              "fillmode": "overlay",
              "size": 10,
              "solidity": 0.2
             }
            },
            "type": "histogram"
           }
          ],
          "histogram2d": [
           {
            "colorbar": {
             "outlinewidth": 0,
             "ticks": ""
            },
            "colorscale": [
             [
              0,
              "#0d0887"
             ],
             [
              0.1111111111111111,
              "#46039f"
             ],
             [
              0.2222222222222222,
              "#7201a8"
             ],
             [
              0.3333333333333333,
              "#9c179e"
             ],
             [
              0.4444444444444444,
              "#bd3786"
             ],
             [
              0.5555555555555556,
              "#d8576b"
             ],
             [
              0.6666666666666666,
              "#ed7953"
             ],
             [
              0.7777777777777778,
              "#fb9f3a"
             ],
             [
              0.8888888888888888,
              "#fdca26"
             ],
             [
              1,
              "#f0f921"
             ]
            ],
            "type": "histogram2d"
           }
          ],
          "histogram2dcontour": [
           {
            "colorbar": {
             "outlinewidth": 0,
             "ticks": ""
            },
            "colorscale": [
             [
              0,
              "#0d0887"
             ],
             [
              0.1111111111111111,
              "#46039f"
             ],
             [
              0.2222222222222222,
              "#7201a8"
             ],
             [
              0.3333333333333333,
              "#9c179e"
             ],
             [
              0.4444444444444444,
              "#bd3786"
             ],
             [
              0.5555555555555556,
              "#d8576b"
             ],
             [
              0.6666666666666666,
              "#ed7953"
             ],
             [
              0.7777777777777778,
              "#fb9f3a"
             ],
             [
              0.8888888888888888,
              "#fdca26"
             ],
             [
              1,
              "#f0f921"
             ]
            ],
            "type": "histogram2dcontour"
           }
          ],
          "mesh3d": [
           {
            "colorbar": {
             "outlinewidth": 0,
             "ticks": ""
            },
            "type": "mesh3d"
           }
          ],
          "parcoords": [
           {
            "line": {
             "colorbar": {
              "outlinewidth": 0,
              "ticks": ""
             }
            },
            "type": "parcoords"
           }
          ],
          "pie": [
           {
            "automargin": true,
            "type": "pie"
           }
          ],
          "scatter": [
           {
            "marker": {
             "colorbar": {
              "outlinewidth": 0,
              "ticks": ""
             }
            },
            "type": "scatter"
           }
          ],
          "scatter3d": [
           {
            "line": {
             "colorbar": {
              "outlinewidth": 0,
              "ticks": ""
             }
            },
            "marker": {
             "colorbar": {
              "outlinewidth": 0,
              "ticks": ""
             }
            },
            "type": "scatter3d"
           }
          ],
          "scattercarpet": [
           {
            "marker": {
             "colorbar": {
              "outlinewidth": 0,
              "ticks": ""
             }
            },
            "type": "scattercarpet"
           }
          ],
          "scattergeo": [
           {
            "marker": {
             "colorbar": {
              "outlinewidth": 0,
              "ticks": ""
             }
            },
            "type": "scattergeo"
           }
          ],
          "scattergl": [
           {
            "marker": {
             "colorbar": {
              "outlinewidth": 0,
              "ticks": ""
             }
            },
            "type": "scattergl"
           }
          ],
          "scattermapbox": [
           {
            "marker": {
             "colorbar": {
              "outlinewidth": 0,
              "ticks": ""
             }
            },
            "type": "scattermapbox"
           }
          ],
          "scatterpolar": [
           {
            "marker": {
             "colorbar": {
              "outlinewidth": 0,
              "ticks": ""
             }
            },
            "type": "scatterpolar"
           }
          ],
          "scatterpolargl": [
           {
            "marker": {
             "colorbar": {
              "outlinewidth": 0,
              "ticks": ""
             }
            },
            "type": "scatterpolargl"
           }
          ],
          "scatterternary": [
           {
            "marker": {
             "colorbar": {
              "outlinewidth": 0,
              "ticks": ""
             }
            },
            "type": "scatterternary"
           }
          ],
          "surface": [
           {
            "colorbar": {
             "outlinewidth": 0,
             "ticks": ""
            },
            "colorscale": [
             [
              0,
              "#0d0887"
             ],
             [
              0.1111111111111111,
              "#46039f"
             ],
             [
              0.2222222222222222,
              "#7201a8"
             ],
             [
              0.3333333333333333,
              "#9c179e"
             ],
             [
              0.4444444444444444,
              "#bd3786"
             ],
             [
              0.5555555555555556,
              "#d8576b"
             ],
             [
              0.6666666666666666,
              "#ed7953"
             ],
             [
              0.7777777777777778,
              "#fb9f3a"
             ],
             [
              0.8888888888888888,
              "#fdca26"
             ],
             [
              1,
              "#f0f921"
             ]
            ],
            "type": "surface"
           }
          ],
          "table": [
           {
            "cells": {
             "fill": {
              "color": "#EBF0F8"
             },
             "line": {
              "color": "white"
             }
            },
            "header": {
             "fill": {
              "color": "#C8D4E3"
             },
             "line": {
              "color": "white"
             }
            },
            "type": "table"
           }
          ]
         },
         "layout": {
          "annotationdefaults": {
           "arrowcolor": "#2a3f5f",
           "arrowhead": 0,
           "arrowwidth": 1
          },
          "autotypenumbers": "strict",
          "coloraxis": {
           "colorbar": {
            "outlinewidth": 0,
            "ticks": ""
           }
          },
          "colorscale": {
           "diverging": [
            [
             0,
             "#8e0152"
            ],
            [
             0.1,
             "#c51b7d"
            ],
            [
             0.2,
             "#de77ae"
            ],
            [
             0.3,
             "#f1b6da"
            ],
            [
             0.4,
             "#fde0ef"
            ],
            [
             0.5,
             "#f7f7f7"
            ],
            [
             0.6,
             "#e6f5d0"
            ],
            [
             0.7,
             "#b8e186"
            ],
            [
             0.8,
             "#7fbc41"
            ],
            [
             0.9,
             "#4d9221"
            ],
            [
             1,
             "#276419"
            ]
           ],
           "sequential": [
            [
             0,
             "#0d0887"
            ],
            [
             0.1111111111111111,
             "#46039f"
            ],
            [
             0.2222222222222222,
             "#7201a8"
            ],
            [
             0.3333333333333333,
             "#9c179e"
            ],
            [
             0.4444444444444444,
             "#bd3786"
            ],
            [
             0.5555555555555556,
             "#d8576b"
            ],
            [
             0.6666666666666666,
             "#ed7953"
            ],
            [
             0.7777777777777778,
             "#fb9f3a"
            ],
            [
             0.8888888888888888,
             "#fdca26"
            ],
            [
             1,
             "#f0f921"
            ]
           ],
           "sequentialminus": [
            [
             0,
             "#0d0887"
            ],
            [
             0.1111111111111111,
             "#46039f"
            ],
            [
             0.2222222222222222,
             "#7201a8"
            ],
            [
             0.3333333333333333,
             "#9c179e"
            ],
            [
             0.4444444444444444,
             "#bd3786"
            ],
            [
             0.5555555555555556,
             "#d8576b"
            ],
            [
             0.6666666666666666,
             "#ed7953"
            ],
            [
             0.7777777777777778,
             "#fb9f3a"
            ],
            [
             0.8888888888888888,
             "#fdca26"
            ],
            [
             1,
             "#f0f921"
            ]
           ]
          },
          "colorway": [
           "#636efa",
           "#EF553B",
           "#00cc96",
           "#ab63fa",
           "#FFA15A",
           "#19d3f3",
           "#FF6692",
           "#B6E880",
           "#FF97FF",
           "#FECB52"
          ],
          "font": {
           "color": "#2a3f5f"
          },
          "geo": {
           "bgcolor": "white",
           "lakecolor": "white",
           "landcolor": "#E5ECF6",
           "showlakes": true,
           "showland": true,
           "subunitcolor": "white"
          },
          "hoverlabel": {
           "align": "left"
          },
          "hovermode": "closest",
          "mapbox": {
           "style": "light"
          },
          "paper_bgcolor": "white",
          "plot_bgcolor": "#E5ECF6",
          "polar": {
           "angularaxis": {
            "gridcolor": "white",
            "linecolor": "white",
            "ticks": ""
           },
           "bgcolor": "#E5ECF6",
           "radialaxis": {
            "gridcolor": "white",
            "linecolor": "white",
            "ticks": ""
           }
          },
          "scene": {
           "xaxis": {
            "backgroundcolor": "#E5ECF6",
            "gridcolor": "white",
            "gridwidth": 2,
            "linecolor": "white",
            "showbackground": true,
            "ticks": "",
            "zerolinecolor": "white"
           },
           "yaxis": {
            "backgroundcolor": "#E5ECF6",
            "gridcolor": "white",
            "gridwidth": 2,
            "linecolor": "white",
            "showbackground": true,
            "ticks": "",
            "zerolinecolor": "white"
           },
           "zaxis": {
            "backgroundcolor": "#E5ECF6",
            "gridcolor": "white",
            "gridwidth": 2,
            "linecolor": "white",
            "showbackground": true,
            "ticks": "",
            "zerolinecolor": "white"
           }
          },
          "shapedefaults": {
           "line": {
            "color": "#2a3f5f"
           }
          },
          "ternary": {
           "aaxis": {
            "gridcolor": "white",
            "linecolor": "white",
            "ticks": ""
           },
           "baxis": {
            "gridcolor": "white",
            "linecolor": "white",
            "ticks": ""
           },
           "bgcolor": "#E5ECF6",
           "caxis": {
            "gridcolor": "white",
            "linecolor": "white",
            "ticks": ""
           }
          },
          "title": {
           "x": 0.05
          },
          "xaxis": {
           "automargin": true,
           "gridcolor": "white",
           "linecolor": "white",
           "ticks": "",
           "title": {
            "standoff": 15
           },
           "zerolinecolor": "white",
           "zerolinewidth": 2
          },
          "yaxis": {
           "automargin": true,
           "gridcolor": "white",
           "linecolor": "white",
           "ticks": "",
           "title": {
            "standoff": 15
           },
           "zerolinecolor": "white",
           "zerolinewidth": 2
          }
         }
        },
        "width": 1000,
        "xaxis": {
         "autorange": true,
         "dtick": 1,
         "range": [
          -0.5,
          6.5
         ],
         "showgrid": false,
         "title": {
          "text": "<b> Hyperelastic model type <b>"
         },
         "type": "category"
        },
        "yaxis": {
         "autorange": true,
         "range": [
          0,
          25.263157894736842
         ],
         "title": {
          "text": "<b> Number of studies <b>"
         },
         "type": "linear"
        }
       }
      },
      "image/png": "[encoded data removed]",
      "text/html": [
       "<div>                            <div id=\"4ffa8ff7-e3f6-46c4-b697-3ff7d8c99082\" class=\"plotly-graph-div\" style=\"height:800px; width:1000px;\"></div>            <script type=\"text/javascript\">                require([\"plotly\"], function(Plotly) {                    window.PLOTLYENV=window.PLOTLYENV || {};                                    if (document.getElementById(\"4ffa8ff7-e3f6-46c4-b697-3ff7d8c99082\")) {                    Plotly.newPlot(                        \"4ffa8ff7-e3f6-46c4-b697-3ff7d8c99082\",                        [{\"marker\":{\"color\":\"#073b4c\"},\"name\":\"Phenomenological\",\"text\":[\"24\",\"16\",\"8\"],\"textposition\":\"auto\",\"type\":\"bar\",\"x\":[\"Total <br> phenomenological\",\"Fung-type\",\"Isotropic\"],\"y\":[24,16,8]},{\"marker\":{\"color\":\"#ffd166\"},\"name\":\"Structure-based\",\"text\":[\"16\",\"12\",\"4\"],\"textposition\":\"auto\",\"type\":\"bar\",\"x\":[\"Total <br> structure-based\",\"Holzapfel-type\",\"Other\"],\"y\":[16,12,4]},{\"marker\":{\"color\":\"#06d6a0\"},\"name\":\"Microtructure-based\",\"text\":[\"1\"],\"textposition\":\"auto\",\"type\":\"bar\",\"x\":[\"Total <br> microstructure-based\"],\"y\":[1]}],                        {\"autosize\":false,\"bargap\":0.2,\"barmode\":\"stack\",\"height\":800,\"legend\":{\"title\":{\"text\":\"Hyperelastic model category\"},\"traceorder\":\"normal\",\"x\":0.99,\"xanchor\":\"right\",\"y\":0.99,\"yanchor\":\"top\"},\"margin\":{\"t\":10},\"plot_bgcolor\":\"rgba(242, 241, 239, 0.8)\",\"template\":{\"data\":{\"bar\":[{\"error_x\":{\"color\":\"#2a3f5f\"},\"error_y\":{\"color\":\"#2a3f5f\"},\"marker\":{\"line\":{\"color\":\"#E5ECF6\",\"width\":0.5},\"pattern\":{\"fillmode\":\"overlay\",\"size\":10,\"solidity\":0.2}},\"type\":\"bar\"}],\"barpolar\":[{\"marker\":{\"line\":{\"color\":\"#E5ECF6\",\"width\":0.5},\"pattern\":{\"fillmode\":\"overlay\",\"size\":10,\"solidity\":0.2}},\"type\":\"barpolar\"}],\"carpet\":[{\"aaxis\":{\"endlinecolor\":\"#2a3f5f\",\"gridcolor\":\"white\",\"linecolor\":\"white\",\"minorgridcolor\":\"white\",\"startlinecolor\":\"#2a3f5f\"},\"baxis\":{\"endlinecolor\":\"#2a3f5f\",\"gridcolor\":\"white\",\"linecolor\":\"white\",\"minorgridcolor\":\"white\",\"startlinecolor\":\"#2a3f5f\"},\"type\":\"carpet\"}],\"choropleth\":[{\"colorbar\":{\"outlinewidth\":0,\"ticks\":\"\"},\"type\":\"choropleth\"}],\"contour\":[{\"colorbar\":{\"outlinewidth\":0,\"ticks\":\"\"},\"colorscale\":[[0.0,\"#0d0887\"],[0.1111111111111111,\"#46039f\"],[0.2222222222222222,\"#7201a8\"],[0.3333333333333333,\"#9c179e\"],[0.4444444444444444,\"#bd3786\"],[0.5555555555555556,\"#d8576b\"],[0.6666666666666666,\"#ed7953\"],[0.7777777777777778,\"#fb9f3a\"],[0.8888888888888888,\"#fdca26\"],[1.0,\"#f0f921\"]],\"type\":\"contour\"}],\"contourcarpet\":[{\"colorbar\":{\"outlinewidth\":0,\"ticks\":\"\"},\"type\":\"contourcarpet\"}],\"heatmap\":[{\"colorbar\":{\"outlinewidth\":0,\"ticks\":\"\"},\"colorscale\":[[0.0,\"#0d0887\"],[0.1111111111111111,\"#46039f\"],[0.2222222222222222,\"#7201a8\"],[0.3333333333333333,\"#9c179e\"],[0.4444444444444444,\"#bd3786\"],[0.5555555555555556,\"#d8576b\"],[0.6666666666666666,\"#ed7953\"],[0.7777777777777778,\"#fb9f3a\"],[0.8888888888888888,\"#fdca26\"],[1.0,\"#f0f921\"]],\"type\":\"heatmap\"}],\"heatmapgl\":[{\"colorbar\":{\"outlinewidth\":0,\"ticks\":\"\"},\"colorscale\":[[0.0,\"#0d0887\"],[0.1111111111111111,\"#46039f\"],[0.2222222222222222,\"#7201a8\"],[0.3333333333333333,\"#9c179e\"],[0.4444444444444444,\"#bd3786\"],[0.5555555555555556,\"#d8576b\"],[0.6666666666666666,\"#ed7953\"],[0.7777777777777778,\"#fb9f3a\"],[0.8888888888888888,\"#fdca26\"],[1.0,\"#f0f921\"]],\"type\":\"heatmapgl\"}],\"histogram\":[{\"marker\":{\"pattern\":{\"fillmode\":\"overlay\",\"size\":10,\"solidity\":0.2}},\"type\":\"histogram\"}],\"histogram2d\":[{\"colorbar\":{\"outlinewidth\":0,\"ticks\":\"\"},\"colorscale\":[[0.0,\"#0d0887\"],[0.1111111111111111,\"#46039f\"],[0.2222222222222222,\"#7201a8\"],[0.3333333333333333,\"#9c179e\"],[0.4444444444444444,\"#bd3786\"],[0.5555555555555556,\"#d8576b\"],[0.6666666666666666,\"#ed7953\"],[0.7777777777777778,\"#fb9f3a\"],[0.8888888888888888,\"#fdca26\"],[1.0,\"#f0f921\"]],\"type\":\"histogram2d\"}],\"histogram2dcontour\":[{\"colorbar\":{\"outlinewidth\":0,\"ticks\":\"\"},\"colorscale\":[[0.0,\"#0d0887\"],[0.1111111111111111,\"#46039f\"],[0.2222222222222222,\"#7201a8\"],[0.3333333333333333,\"#9c179e\"],[0.4444444444444444,\"#bd3786\"],[0.5555555555555556,\"#d8576b\"],[0.6666666666666666,\"#ed7953\"],[0.7777777777777778,\"#fb9f3a\"],[0.8888888888888888,\"#fdca26\"],[1.0,\"#f0f921\"]],\"type\":\"histogram2dcontour\"}],\"mesh3d\":[{\"colorbar\":{\"outlinewidth\":0,\"ticks\":\"\"},\"type\":\"mesh3d\"}],\"parcoords\":[{\"line\":{\"colorbar\":{\"outlinewidth\":0,\"ticks\":\"\"}},\"type\":\"parcoords\"}],\"pie\":[{\"automargin\":true,\"type\":\"pie\"}],\"scatter\":[{\"marker\":{\"colorbar\":{\"outlinewidth\":0,\"ticks\":\"\"}},\"type\":\"scatter\"}],\"scatter3d\":[{\"line\":{\"colorbar\":{\"outlinewidth\":0,\"ticks\":\"\"}},\"marker\":{\"colorbar\":{\"outlinewidth\":0,\"ticks\":\"\"}},\"type\":\"scatter3d\"}],\"scattercarpet\":[{\"marker\":{\"colorbar\":{\"outlinewidth\":0,\"ticks\":\"\"}},\"type\":\"scattercarpet\"}],\"scattergeo\":[{\"marker\":{\"colorbar\":{\"outlinewidth\":0,\"ticks\":\"\"}},\"type\":\"scattergeo\"}],\"scattergl\":[{\"marker\":{\"colorbar\":{\"outlinewidth\":0,\"ticks\":\"\"}},\"type\":\"scattergl\"}],\"scattermapbox\":[{\"marker\":{\"colorbar\":{\"outlinewidth\":0,\"ticks\":\"\"}},\"type\":\"scattermapbox\"}],\"scatterpolar\":[{\"marker\":{\"colorbar\":{\"outlinewidth\":0,\"ticks\":\"\"}},\"type\":\"scatterpolar\"}],\"scatterpolargl\":[{\"marker\":{\"colorbar\":{\"outlinewidth\":0,\"ticks\":\"\"}},\"type\":\"scatterpolargl\"}],\"scatterternary\":[{\"marker\":{\"colorbar\":{\"outlinewidth\":0,\"ticks\":\"\"}},\"type\":\"scatterternary\"}],\"surface\":[{\"colorbar\":{\"outlinewidth\":0,\"ticks\":\"\"},\"colorscale\":[[0.0,\"#0d0887\"],[0.1111111111111111,\"#46039f\"],[0.2222222222222222,\"#7201a8\"],[0.3333333333333333,\"#9c179e\"],[0.4444444444444444,\"#bd3786\"],[0.5555555555555556,\"#d8576b\"],[0.6666666666666666,\"#ed7953\"],[0.7777777777777778,\"#fb9f3a\"],[0.8888888888888888,\"#fdca26\"],[1.0,\"#f0f921\"]],\"type\":\"surface\"}],\"table\":[{\"cells\":{\"fill\":{\"color\":\"#EBF0F8\"},\"line\":{\"color\":\"white\"}},\"header\":{\"fill\":{\"color\":\"#C8D4E3\"},\"line\":{\"color\":\"white\"}},\"type\":\"table\"}]},\"layout\":{\"annotationdefaults\":{\"arrowcolor\":\"#2a3f5f\",\"arrowhead\":0,\"arrowwidth\":1},\"autotypenumbers\":\"strict\",\"coloraxis\":{\"colorbar\":{\"outlinewidth\":0,\"ticks\":\"\"}},\"colorscale\":{\"diverging\":[[0,\"#8e0152\"],[0.1,\"#c51b7d\"],[0.2,\"#de77ae\"],[0.3,\"#f1b6da\"],[0.4,\"#fde0ef\"],[0.5,\"#f7f7f7\"],[0.6,\"#e6f5d0\"],[0.7,\"#b8e186\"],[0.8,\"#7fbc41\"],[0.9,\"#4d9221\"],[1,\"#276419\"]],\"sequential\":[[0.0,\"#0d0887\"],[0.1111111111111111,\"#46039f\"],[0.2222222222222222,\"#7201a8\"],[0.3333333333333333,\"#9c179e\"],[0.4444444444444444,\"#bd3786\"],[0.5555555555555556,\"#d8576b\"],[0.6666666666666666,\"#ed7953\"],[0.7777777777777778,\"#fb9f3a\"],[0.8888888888888888,\"#fdca26\"],[1.0,\"#f0f921\"]],\"sequentialminus\":[[0.0,\"#0d0887\"],[0.1111111111111111,\"#46039f\"],[0.2222222222222222,\"#7201a8\"],[0.3333333333333333,\"#9c179e\"],[0.4444444444444444,\"#bd3786\"],[0.5555555555555556,\"#d8576b\"],[0.6666666666666666,\"#ed7953\"],[0.7777777777777778,\"#fb9f3a\"],[0.8888888888888888,\"#fdca26\"],[1.0,\"#f0f921\"]]},\"colorway\":[\"#636efa\",\"#EF553B\",\"#00cc96\",\"#ab63fa\",\"#FFA15A\",\"#19d3f3\",\"#FF6692\",\"#B6E880\",\"#FF97FF\",\"#FECB52\"],\"font\":{\"color\":\"#2a3f5f\"},\"geo\":{\"bgcolor\":\"white\",\"lakecolor\":\"white\",\"landcolor\":\"#E5ECF6\",\"showlakes\":true,\"showland\":true,\"subunitcolor\":\"white\"},\"hoverlabel\":{\"align\":\"left\"},\"hovermode\":\"closest\",\"mapbox\":{\"style\":\"light\"},\"paper_bgcolor\":\"white\",\"plot_bgcolor\":\"#E5ECF6\",\"polar\":{\"angularaxis\":{\"gridcolor\":\"white\",\"linecolor\":\"white\",\"ticks\":\"\"},\"bgcolor\":\"#E5ECF6\",\"radialaxis\":{\"gridcolor\":\"white\",\"linecolor\":\"white\",\"ticks\":\"\"}},\"scene\":{\"xaxis\":{\"backgroundcolor\":\"#E5ECF6\",\"gridcolor\":\"white\",\"gridwidth\":2,\"linecolor\":\"white\",\"showbackground\":true,\"ticks\":\"\",\"zerolinecolor\":\"white\"},\"yaxis\":{\"backgroundcolor\":\"#E5ECF6\",\"gridcolor\":\"white\",\"gridwidth\":2,\"linecolor\":\"white\",\"showbackground\":true,\"ticks\":\"\",\"zerolinecolor\":\"white\"},\"zaxis\":{\"backgroundcolor\":\"#E5ECF6\",\"gridcolor\":\"white\",\"gridwidth\":2,\"linecolor\":\"white\",\"showbackground\":true,\"ticks\":\"\",\"zerolinecolor\":\"white\"}},\"shapedefaults\":{\"line\":{\"color\":\"#2a3f5f\"}},\"ternary\":{\"aaxis\":{\"gridcolor\":\"white\",\"linecolor\":\"white\",\"ticks\":\"\"},\"baxis\":{\"gridcolor\":\"white\",\"linecolor\":\"white\",\"ticks\":\"\"},\"bgcolor\":\"#E5ECF6\",\"caxis\":{\"gridcolor\":\"white\",\"linecolor\":\"white\",\"ticks\":\"\"}},\"title\":{\"x\":0.05},\"xaxis\":{\"automargin\":true,\"gridcolor\":\"white\",\"linecolor\":\"white\",\"ticks\":\"\",\"title\":{\"standoff\":15},\"zerolinecolor\":\"white\",\"zerolinewidth\":2},\"yaxis\":{\"automargin\":true,\"gridcolor\":\"white\",\"linecolor\":\"white\",\"ticks\":\"\",\"title\":{\"standoff\":15},\"zerolinecolor\":\"white\",\"zerolinewidth\":2}}},\"width\":1000,\"xaxis\":{\"dtick\":1,\"showgrid\":false,\"title\":{\"text\":\"<b> Hyperelastic model type <b>\"}},\"yaxis\":{\"title\":{\"text\":\"<b> Number of studies <b>\"}}},                        {\"responsive\": true}                    ).then(function(){\n",
       "                            \n",
       "var gd = document.getElementById('4ffa8ff7-e3f6-46c4-b697-3ff7d8c99082');\n",
       "var x = new MutationObserver(function (mutations, observer) {{\n",
       "        var display = window.getComputedStyle(gd).display;\n",
       "        if (!display || display === 'none') {{\n",
       "            console.log([gd, 'removed!']);\n",
       "            Plotly.purge(gd);\n",
       "            observer.disconnect();\n",
       "        }}\n",
       "}});\n",
       "\n",
       "// Listen for the removal of the full notebook cells\n",
       "var notebookContainer = gd.closest('#notebook-container');\n",
       "if (notebookContainer) {{\n",
       "    x.observe(notebookContainer, {childList: true});\n",
       "}}\n",
       "\n",
       "// Listen for the clearing of the current output cell\n",
       "var outputEl = gd.closest('.output');\n",
       "if (outputEl) {{\n",
       "    x.observe(outputEl, {childList: true});\n",
       "}}\n",
       "\n",
       "                        })                };                });            </script>        </div>"
      ]
     },
     "metadata": {},
     "output_type": "display_data"
    }
   ],
   "source": [
    "fig = go.Figure()\n",
    "fig.add_trace(go.Bar(\n",
    "    x=phenomenological_labels,\n",
    "    y=phenomenological_count,\n",
    "    name='Phenomenological',\n",
    "    text = phenomenological_count,\n",
    "    textposition='auto',\n",
    "    marker_color = color_palette[0]\n",
    "))\n",
    "\n",
    "fig.add_trace(go.Bar(\n",
    "    x=structure_based_labels,\n",
    "    y=structure_based_count,\n",
    "    name='Structure-based',\n",
    "    text = structure_based_count,\n",
    "    textposition='auto',\n",
    "    marker_color=color_palette[1],\n",
    "))\n",
    "\n",
    "fig.add_trace(go.Bar(\n",
    "    x=microstructure_based_labels,\n",
    "    y=microstructure_based_count,\n",
    "    name='Microtructure-based',\n",
    "    text = microstructure_based_count,\n",
    "    textposition='auto',\n",
    "    marker_color=color_palette[2]\n",
    "))\n",
    "\n",
    "#fig.update_layout(barmode='group')\n",
    "\n",
    "fig.update_layout(\n",
    "    barmode='stack',\n",
    "    autosize=False,\n",
    "    width=1000,\n",
    "    height=800,\n",
    "    xaxis = dict(title=\"<b> Hyperelastic model type <b>\", showgrid = False, dtick = 1),\n",
    "    yaxis = dict(title=\"<b> Number of studies <b>\"),\n",
    "    plot_bgcolor= plot_background_color,\n",
    "    legend=dict(yanchor=\"top\", y=0.99, xanchor=\"right\", x=0.99, title='Hyperelastic model category'), \n",
    "    legend_traceorder = 'normal',\n",
    "    margin=go.layout.Margin(\n",
    "        t=10, #top margin\n",
    "    ),\n",
    "    bargap = 0.2,\n",
    ")\n",
    "\n",
    "fig.show()\n",
    "#fig.write_image(\"passive-model-distribution.png\", engine=\"kaleido\", scale = 1.0)\n"
   ]
  },
  {
   "cell_type": "markdown",
   "metadata": {},
   "source": [
    "## 7.6. Active model types distribution"
   ]
  },
  {
   "cell_type": "code",
   "execution_count": 64,
   "metadata": {},
   "outputs": [
    {
     "name": "stdout",
     "output_type": "stream",
     "text": [
      "Active stress:  56.0 %\n",
      "Active strain:  33.0 %\n",
      "Active electromechanics:  11.0 %\n"
     ]
    }
   ],
   "source": [
    "dict_source = {}\n",
    "active_category_list = ['Active stress', 'Active strain', 'Active electromechanics']\n",
    "category_count = []\n",
    "# Active stress\n",
    "for active_category in active_category_list:\n",
    "    df_sub = df_all_data_year[df_all_data_year[\"Active model category\"].str.contains(active_category, na = False)]\n",
    "    category_count.append(len(df_sub))  \n",
    "\n",
    "active_stress_proportion = round(category_count[0]/len(df_active)*100,0)\n",
    "active_strain_proportion = round(category_count[1]/len(df_active)*100,0)\n",
    "active_electromechanics_proportion = round(category_count[2]/len(df_active)*100,0)\n",
    "\n",
    "print(\"Active stress: \", str(active_stress_proportion), \"%\")\n",
    "print(\"Active strain: \", str(active_strain_proportion), \"%\")\n",
    "print(\"Active electromechanics: \", str(active_electromechanics_proportion), \"%\")"
   ]
  },
  {
   "cell_type": "code",
   "execution_count": 65,
   "metadata": {},
   "outputs": [
    {
     "data": {
      "application/vnd.plotly.v1+json": {
       "config": {
        "plotlyServerURL": "https://plot.ly"
       },
       "data": [
        {
         "marker": {
          "color": "#073b4c"
         },
         "text": [
          "5",
          "3",
          "1"
         ],
         "textposition": "auto",
         "type": "bar",
         "x": [
          "Active stress",
          "Active strain",
          "Active electromechanics"
         ],
         "y": [
          5,
          3,
          1
         ]
        }
       ],
       "layout": {
        "autosize": false,
        "bargap": 0.5,
        "barmode": "stack",
        "height": 800,
        "legend": {
         "title": {
          "text": "Active model type"
         },
         "traceorder": "normal",
         "x": 0.99,
         "xanchor": "right",
         "y": 0.99,
         "yanchor": "top"
        },
        "margin": {
         "t": 10
        },
        "plot_bgcolor": "rgba(242, 241, 239, 0.8)",
        "template": {
         "data": {
          "bar": [
           {
            "error_x": {
             "color": "#2a3f5f"
            },
            "error_y": {
             "color": "#2a3f5f"
            },
            "marker": {
             "line": {
              "color": "#E5ECF6",
              "width": 0.5
             },
             "pattern": {
              "fillmode": "overlay",
              "size": 10,
              "solidity": 0.2
             }
            },
            "type": "bar"
           }
          ],
          "barpolar": [
           {
            "marker": {
             "line": {
              "color": "#E5ECF6",
              "width": 0.5
             },
             "pattern": {
              "fillmode": "overlay",
              "size": 10,
              "solidity": 0.2
             }
            },
            "type": "barpolar"
           }
          ],
          "carpet": [
           {
            "aaxis": {
             "endlinecolor": "#2a3f5f",
             "gridcolor": "white",
             "linecolor": "white",
             "minorgridcolor": "white",
             "startlinecolor": "#2a3f5f"
            },
            "baxis": {
             "endlinecolor": "#2a3f5f",
             "gridcolor": "white",
             "linecolor": "white",
             "minorgridcolor": "white",
             "startlinecolor": "#2a3f5f"
            },
            "type": "carpet"
           }
          ],
          "choropleth": [
           {
            "colorbar": {
             "outlinewidth": 0,
             "ticks": ""
            },
            "type": "choropleth"
           }
          ],
          "contour": [
           {
            "colorbar": {
             "outlinewidth": 0,
             "ticks": ""
            },
            "colorscale": [
             [
              0,
              "#0d0887"
             ],
             [
              0.1111111111111111,
              "#46039f"
             ],
             [
              0.2222222222222222,
              "#7201a8"
             ],
             [
              0.3333333333333333,
              "#9c179e"
             ],
             [
              0.4444444444444444,
              "#bd3786"
             ],
             [
              0.5555555555555556,
              "#d8576b"
             ],
             [
              0.6666666666666666,
              "#ed7953"
             ],
             [
              0.7777777777777778,
              "#fb9f3a"
             ],
             [
              0.8888888888888888,
              "#fdca26"
             ],
             [
              1,
              "#f0f921"
             ]
            ],
            "type": "contour"
           }
          ],
          "contourcarpet": [
           {
            "colorbar": {
             "outlinewidth": 0,
             "ticks": ""
            },
            "type": "contourcarpet"
           }
          ],
          "heatmap": [
           {
            "colorbar": {
             "outlinewidth": 0,
             "ticks": ""
            },
            "colorscale": [
             [
              0,
              "#0d0887"
             ],
             [
              0.1111111111111111,
              "#46039f"
             ],
             [
              0.2222222222222222,
              "#7201a8"
             ],
             [
              0.3333333333333333,
              "#9c179e"
             ],
             [
              0.4444444444444444,
              "#bd3786"
             ],
             [
              0.5555555555555556,
              "#d8576b"
             ],
             [
              0.6666666666666666,
              "#ed7953"
             ],
             [
              0.7777777777777778,
              "#fb9f3a"
             ],
             [
              0.8888888888888888,
              "#fdca26"
             ],
             [
              1,
              "#f0f921"
             ]
            ],
            "type": "heatmap"
           }
          ],
          "heatmapgl": [
           {
            "colorbar": {
             "outlinewidth": 0,
             "ticks": ""
            },
            "colorscale": [
             [
              0,
              "#0d0887"
             ],
             [
              0.1111111111111111,
              "#46039f"
             ],
             [
              0.2222222222222222,
              "#7201a8"
             ],
             [
              0.3333333333333333,
              "#9c179e"
             ],
             [
              0.4444444444444444,
              "#bd3786"
             ],
             [
              0.5555555555555556,
              "#d8576b"
             ],
             [
              0.6666666666666666,
              "#ed7953"
             ],
             [
              0.7777777777777778,
              "#fb9f3a"
             ],
             [
              0.8888888888888888,
              "#fdca26"
             ],
             [
              1,
              "#f0f921"
             ]
            ],
            "type": "heatmapgl"
           }
          ],
          "histogram": [
           {
            "marker": {
             "pattern": {
              "fillmode": "overlay",
              "size": 10,
              "solidity": 0.2
             }
            },
            "type": "histogram"
           }
          ],
          "histogram2d": [
           {
            "colorbar": {
             "outlinewidth": 0,
             "ticks": ""
            },
            "colorscale": [
             [
              0,
              "#0d0887"
             ],
             [
              0.1111111111111111,
              "#46039f"
             ],
             [
              0.2222222222222222,
              "#7201a8"
             ],
             [
              0.3333333333333333,
              "#9c179e"
             ],
             [
              0.4444444444444444,
              "#bd3786"
             ],
             [
              0.5555555555555556,
              "#d8576b"
             ],
             [
              0.6666666666666666,
              "#ed7953"
             ],
             [
              0.7777777777777778,
              "#fb9f3a"
             ],
             [
              0.8888888888888888,
              "#fdca26"
             ],
             [
              1,
              "#f0f921"
             ]
            ],
            "type": "histogram2d"
           }
          ],
          "histogram2dcontour": [
           {
            "colorbar": {
             "outlinewidth": 0,
             "ticks": ""
            },
            "colorscale": [
             [
              0,
              "#0d0887"
             ],
             [
              0.1111111111111111,
              "#46039f"
             ],
             [
              0.2222222222222222,
              "#7201a8"
             ],
             [
              0.3333333333333333,
              "#9c179e"
             ],
             [
              0.4444444444444444,
              "#bd3786"
             ],
             [
              0.5555555555555556,
              "#d8576b"
             ],
             [
              0.6666666666666666,
              "#ed7953"
             ],
             [
              0.7777777777777778,
              "#fb9f3a"
             ],
             [
              0.8888888888888888,
              "#fdca26"
             ],
             [
              1,
              "#f0f921"
             ]
            ],
            "type": "histogram2dcontour"
           }
          ],
          "mesh3d": [
           {
            "colorbar": {
             "outlinewidth": 0,
             "ticks": ""
            },
            "type": "mesh3d"
           }
          ],
          "parcoords": [
           {
            "line": {
             "colorbar": {
              "outlinewidth": 0,
              "ticks": ""
             }
            },
            "type": "parcoords"
           }
          ],
          "pie": [
           {
            "automargin": true,
            "type": "pie"
           }
          ],
          "scatter": [
           {
            "marker": {
             "colorbar": {
              "outlinewidth": 0,
              "ticks": ""
             }
            },
            "type": "scatter"
           }
          ],
          "scatter3d": [
           {
            "line": {
             "colorbar": {
              "outlinewidth": 0,
              "ticks": ""
             }
            },
            "marker": {
             "colorbar": {
              "outlinewidth": 0,
              "ticks": ""
             }
            },
            "type": "scatter3d"
           }
          ],
          "scattercarpet": [
           {
            "marker": {
             "colorbar": {
              "outlinewidth": 0,
              "ticks": ""
             }
            },
            "type": "scattercarpet"
           }
          ],
          "scattergeo": [
           {
            "marker": {
             "colorbar": {
              "outlinewidth": 0,
              "ticks": ""
             }
            },
            "type": "scattergeo"
           }
          ],
          "scattergl": [
           {
            "marker": {
             "colorbar": {
              "outlinewidth": 0,
              "ticks": ""
             }
            },
            "type": "scattergl"
           }
          ],
          "scattermapbox": [
           {
            "marker": {
             "colorbar": {
              "outlinewidth": 0,
              "ticks": ""
             }
            },
            "type": "scattermapbox"
           }
          ],
          "scatterpolar": [
           {
            "marker": {
             "colorbar": {
              "outlinewidth": 0,
              "ticks": ""
             }
            },
            "type": "scatterpolar"
           }
          ],
          "scatterpolargl": [
           {
            "marker": {
             "colorbar": {
              "outlinewidth": 0,
              "ticks": ""
             }
            },
            "type": "scatterpolargl"
           }
          ],
          "scatterternary": [
           {
            "marker": {
             "colorbar": {
              "outlinewidth": 0,
              "ticks": ""
             }
            },
            "type": "scatterternary"
           }
          ],
          "surface": [
           {
            "colorbar": {
             "outlinewidth": 0,
             "ticks": ""
            },
            "colorscale": [
             [
              0,
              "#0d0887"
             ],
             [
              0.1111111111111111,
              "#46039f"
             ],
             [
              0.2222222222222222,
              "#7201a8"
             ],
             [
              0.3333333333333333,
              "#9c179e"
             ],
             [
              0.4444444444444444,
              "#bd3786"
             ],
             [
              0.5555555555555556,
              "#d8576b"
             ],
             [
              0.6666666666666666,
              "#ed7953"
             ],
             [
              0.7777777777777778,
              "#fb9f3a"
             ],
             [
              0.8888888888888888,
              "#fdca26"
             ],
             [
              1,
              "#f0f921"
             ]
            ],
            "type": "surface"
           }
          ],
          "table": [
           {
            "cells": {
             "fill": {
              "color": "#EBF0F8"
             },
             "line": {
              "color": "white"
             }
            },
            "header": {
             "fill": {
              "color": "#C8D4E3"
             },
             "line": {
              "color": "white"
             }
            },
            "type": "table"
           }
          ]
         },
         "layout": {
          "annotationdefaults": {
           "arrowcolor": "#2a3f5f",
           "arrowhead": 0,
           "arrowwidth": 1
          },
          "autotypenumbers": "strict",
          "coloraxis": {
           "colorbar": {
            "outlinewidth": 0,
            "ticks": ""
           }
          },
          "colorscale": {
           "diverging": [
            [
             0,
             "#8e0152"
            ],
            [
             0.1,
             "#c51b7d"
            ],
            [
             0.2,
             "#de77ae"
            ],
            [
             0.3,
             "#f1b6da"
            ],
            [
             0.4,
             "#fde0ef"
            ],
            [
             0.5,
             "#f7f7f7"
            ],
            [
             0.6,
             "#e6f5d0"
            ],
            [
             0.7,
             "#b8e186"
            ],
            [
             0.8,
             "#7fbc41"
            ],
            [
             0.9,
             "#4d9221"
            ],
            [
             1,
             "#276419"
            ]
           ],
           "sequential": [
            [
             0,
             "#0d0887"
            ],
            [
             0.1111111111111111,
             "#46039f"
            ],
            [
             0.2222222222222222,
             "#7201a8"
            ],
            [
             0.3333333333333333,
             "#9c179e"
            ],
            [
             0.4444444444444444,
             "#bd3786"
            ],
            [
             0.5555555555555556,
             "#d8576b"
            ],
            [
             0.6666666666666666,
             "#ed7953"
            ],
            [
             0.7777777777777778,
             "#fb9f3a"
            ],
            [
             0.8888888888888888,
             "#fdca26"
            ],
            [
             1,
             "#f0f921"
            ]
           ],
           "sequentialminus": [
            [
             0,
             "#0d0887"
            ],
            [
             0.1111111111111111,
             "#46039f"
            ],
            [
             0.2222222222222222,
             "#7201a8"
            ],
            [
             0.3333333333333333,
             "#9c179e"
            ],
            [
             0.4444444444444444,
             "#bd3786"
            ],
            [
             0.5555555555555556,
             "#d8576b"
            ],
            [
             0.6666666666666666,
             "#ed7953"
            ],
            [
             0.7777777777777778,
             "#fb9f3a"
            ],
            [
             0.8888888888888888,
             "#fdca26"
            ],
            [
             1,
             "#f0f921"
            ]
           ]
          },
          "colorway": [
           "#636efa",
           "#EF553B",
           "#00cc96",
           "#ab63fa",
           "#FFA15A",
           "#19d3f3",
           "#FF6692",
           "#B6E880",
           "#FF97FF",
           "#FECB52"
          ],
          "font": {
           "color": "#2a3f5f"
          },
          "geo": {
           "bgcolor": "white",
           "lakecolor": "white",
           "landcolor": "#E5ECF6",
           "showlakes": true,
           "showland": true,
           "subunitcolor": "white"
          },
          "hoverlabel": {
           "align": "left"
          },
          "hovermode": "closest",
          "mapbox": {
           "style": "light"
          },
          "paper_bgcolor": "white",
          "plot_bgcolor": "#E5ECF6",
          "polar": {
           "angularaxis": {
            "gridcolor": "white",
            "linecolor": "white",
            "ticks": ""
           },
           "bgcolor": "#E5ECF6",
           "radialaxis": {
            "gridcolor": "white",
            "linecolor": "white",
            "ticks": ""
           }
          },
          "scene": {
           "xaxis": {
            "backgroundcolor": "#E5ECF6",
            "gridcolor": "white",
            "gridwidth": 2,
            "linecolor": "white",
            "showbackground": true,
            "ticks": "",
            "zerolinecolor": "white"
           },
           "yaxis": {
            "backgroundcolor": "#E5ECF6",
            "gridcolor": "white",
            "gridwidth": 2,
            "linecolor": "white",
            "showbackground": true,
            "ticks": "",
            "zerolinecolor": "white"
           },
           "zaxis": {
            "backgroundcolor": "#E5ECF6",
            "gridcolor": "white",
            "gridwidth": 2,
            "linecolor": "white",
            "showbackground": true,
            "ticks": "",
            "zerolinecolor": "white"
           }
          },
          "shapedefaults": {
           "line": {
            "color": "#2a3f5f"
           }
          },
          "ternary": {
           "aaxis": {
            "gridcolor": "white",
            "linecolor": "white",
            "ticks": ""
           },
           "baxis": {
            "gridcolor": "white",
            "linecolor": "white",
            "ticks": ""
           },
           "bgcolor": "#E5ECF6",
           "caxis": {
            "gridcolor": "white",
            "linecolor": "white",
            "ticks": ""
           }
          },
          "title": {
           "x": 0.05
          },
          "xaxis": {
           "automargin": true,
           "gridcolor": "white",
           "linecolor": "white",
           "ticks": "",
           "title": {
            "standoff": 15
           },
           "zerolinecolor": "white",
           "zerolinewidth": 2
          },
          "yaxis": {
           "automargin": true,
           "gridcolor": "white",
           "linecolor": "white",
           "ticks": "",
           "title": {
            "standoff": 15
           },
           "zerolinecolor": "white",
           "zerolinewidth": 2
          }
         }
        },
        "width": 1000,
        "xaxis": {
         "autorange": true,
         "dtick": 1,
         "range": [
          -0.5,
          2.5
         ],
         "showgrid": false,
         "title": {
          "text": "<b> Active model category <b>"
         },
         "type": "category"
        },
        "yaxis": {
         "autorange": true,
         "range": [
          0,
          5.2631578947368425
         ],
         "title": {
          "text": "<b> Number of studies <b>"
         },
         "type": "linear"
        }
       }
      },
      "image/png": "[encoded data removed]",
      "text/html": [
       "<div>                            <div id=\"712f5f1b-672b-45b7-b224-f1ce36650c91\" class=\"plotly-graph-div\" style=\"height:800px; width:1000px;\"></div>            <script type=\"text/javascript\">                require([\"plotly\"], function(Plotly) {                    window.PLOTLYENV=window.PLOTLYENV || {};                                    if (document.getElementById(\"712f5f1b-672b-45b7-b224-f1ce36650c91\")) {                    Plotly.newPlot(                        \"712f5f1b-672b-45b7-b224-f1ce36650c91\",                        [{\"marker\":{\"color\":\"#073b4c\"},\"text\":[\"5\",\"3\",\"1\"],\"textposition\":\"auto\",\"type\":\"bar\",\"x\":[\"Active stress\",\"Active strain\",\"Active electromechanics\"],\"y\":[5,3,1]}],                        {\"autosize\":false,\"bargap\":0.5,\"barmode\":\"stack\",\"height\":800,\"legend\":{\"title\":{\"text\":\"Active model type\"},\"traceorder\":\"normal\",\"x\":0.99,\"xanchor\":\"right\",\"y\":0.99,\"yanchor\":\"top\"},\"margin\":{\"t\":10},\"plot_bgcolor\":\"rgba(242, 241, 239, 0.8)\",\"template\":{\"data\":{\"bar\":[{\"error_x\":{\"color\":\"#2a3f5f\"},\"error_y\":{\"color\":\"#2a3f5f\"},\"marker\":{\"line\":{\"color\":\"#E5ECF6\",\"width\":0.5},\"pattern\":{\"fillmode\":\"overlay\",\"size\":10,\"solidity\":0.2}},\"type\":\"bar\"}],\"barpolar\":[{\"marker\":{\"line\":{\"color\":\"#E5ECF6\",\"width\":0.5},\"pattern\":{\"fillmode\":\"overlay\",\"size\":10,\"solidity\":0.2}},\"type\":\"barpolar\"}],\"carpet\":[{\"aaxis\":{\"endlinecolor\":\"#2a3f5f\",\"gridcolor\":\"white\",\"linecolor\":\"white\",\"minorgridcolor\":\"white\",\"startlinecolor\":\"#2a3f5f\"},\"baxis\":{\"endlinecolor\":\"#2a3f5f\",\"gridcolor\":\"white\",\"linecolor\":\"white\",\"minorgridcolor\":\"white\",\"startlinecolor\":\"#2a3f5f\"},\"type\":\"carpet\"}],\"choropleth\":[{\"colorbar\":{\"outlinewidth\":0,\"ticks\":\"\"},\"type\":\"choropleth\"}],\"contour\":[{\"colorbar\":{\"outlinewidth\":0,\"ticks\":\"\"},\"colorscale\":[[0.0,\"#0d0887\"],[0.1111111111111111,\"#46039f\"],[0.2222222222222222,\"#7201a8\"],[0.3333333333333333,\"#9c179e\"],[0.4444444444444444,\"#bd3786\"],[0.5555555555555556,\"#d8576b\"],[0.6666666666666666,\"#ed7953\"],[0.7777777777777778,\"#fb9f3a\"],[0.8888888888888888,\"#fdca26\"],[1.0,\"#f0f921\"]],\"type\":\"contour\"}],\"contourcarpet\":[{\"colorbar\":{\"outlinewidth\":0,\"ticks\":\"\"},\"type\":\"contourcarpet\"}],\"heatmap\":[{\"colorbar\":{\"outlinewidth\":0,\"ticks\":\"\"},\"colorscale\":[[0.0,\"#0d0887\"],[0.1111111111111111,\"#46039f\"],[0.2222222222222222,\"#7201a8\"],[0.3333333333333333,\"#9c179e\"],[0.4444444444444444,\"#bd3786\"],[0.5555555555555556,\"#d8576b\"],[0.6666666666666666,\"#ed7953\"],[0.7777777777777778,\"#fb9f3a\"],[0.8888888888888888,\"#fdca26\"],[1.0,\"#f0f921\"]],\"type\":\"heatmap\"}],\"heatmapgl\":[{\"colorbar\":{\"outlinewidth\":0,\"ticks\":\"\"},\"colorscale\":[[0.0,\"#0d0887\"],[0.1111111111111111,\"#46039f\"],[0.2222222222222222,\"#7201a8\"],[0.3333333333333333,\"#9c179e\"],[0.4444444444444444,\"#bd3786\"],[0.5555555555555556,\"#d8576b\"],[0.6666666666666666,\"#ed7953\"],[0.7777777777777778,\"#fb9f3a\"],[0.8888888888888888,\"#fdca26\"],[1.0,\"#f0f921\"]],\"type\":\"heatmapgl\"}],\"histogram\":[{\"marker\":{\"pattern\":{\"fillmode\":\"overlay\",\"size\":10,\"solidity\":0.2}},\"type\":\"histogram\"}],\"histogram2d\":[{\"colorbar\":{\"outlinewidth\":0,\"ticks\":\"\"},\"colorscale\":[[0.0,\"#0d0887\"],[0.1111111111111111,\"#46039f\"],[0.2222222222222222,\"#7201a8\"],[0.3333333333333333,\"#9c179e\"],[0.4444444444444444,\"#bd3786\"],[0.5555555555555556,\"#d8576b\"],[0.6666666666666666,\"#ed7953\"],[0.7777777777777778,\"#fb9f3a\"],[0.8888888888888888,\"#fdca26\"],[1.0,\"#f0f921\"]],\"type\":\"histogram2d\"}],\"histogram2dcontour\":[{\"colorbar\":{\"outlinewidth\":0,\"ticks\":\"\"},\"colorscale\":[[0.0,\"#0d0887\"],[0.1111111111111111,\"#46039f\"],[0.2222222222222222,\"#7201a8\"],[0.3333333333333333,\"#9c179e\"],[0.4444444444444444,\"#bd3786\"],[0.5555555555555556,\"#d8576b\"],[0.6666666666666666,\"#ed7953\"],[0.7777777777777778,\"#fb9f3a\"],[0.8888888888888888,\"#fdca26\"],[1.0,\"#f0f921\"]],\"type\":\"histogram2dcontour\"}],\"mesh3d\":[{\"colorbar\":{\"outlinewidth\":0,\"ticks\":\"\"},\"type\":\"mesh3d\"}],\"parcoords\":[{\"line\":{\"colorbar\":{\"outlinewidth\":0,\"ticks\":\"\"}},\"type\":\"parcoords\"}],\"pie\":[{\"automargin\":true,\"type\":\"pie\"}],\"scatter\":[{\"marker\":{\"colorbar\":{\"outlinewidth\":0,\"ticks\":\"\"}},\"type\":\"scatter\"}],\"scatter3d\":[{\"line\":{\"colorbar\":{\"outlinewidth\":0,\"ticks\":\"\"}},\"marker\":{\"colorbar\":{\"outlinewidth\":0,\"ticks\":\"\"}},\"type\":\"scatter3d\"}],\"scattercarpet\":[{\"marker\":{\"colorbar\":{\"outlinewidth\":0,\"ticks\":\"\"}},\"type\":\"scattercarpet\"}],\"scattergeo\":[{\"marker\":{\"colorbar\":{\"outlinewidth\":0,\"ticks\":\"\"}},\"type\":\"scattergeo\"}],\"scattergl\":[{\"marker\":{\"colorbar\":{\"outlinewidth\":0,\"ticks\":\"\"}},\"type\":\"scattergl\"}],\"scattermapbox\":[{\"marker\":{\"colorbar\":{\"outlinewidth\":0,\"ticks\":\"\"}},\"type\":\"scattermapbox\"}],\"scatterpolar\":[{\"marker\":{\"colorbar\":{\"outlinewidth\":0,\"ticks\":\"\"}},\"type\":\"scatterpolar\"}],\"scatterpolargl\":[{\"marker\":{\"colorbar\":{\"outlinewidth\":0,\"ticks\":\"\"}},\"type\":\"scatterpolargl\"}],\"scatterternary\":[{\"marker\":{\"colorbar\":{\"outlinewidth\":0,\"ticks\":\"\"}},\"type\":\"scatterternary\"}],\"surface\":[{\"colorbar\":{\"outlinewidth\":0,\"ticks\":\"\"},\"colorscale\":[[0.0,\"#0d0887\"],[0.1111111111111111,\"#46039f\"],[0.2222222222222222,\"#7201a8\"],[0.3333333333333333,\"#9c179e\"],[0.4444444444444444,\"#bd3786\"],[0.5555555555555556,\"#d8576b\"],[0.6666666666666666,\"#ed7953\"],[0.7777777777777778,\"#fb9f3a\"],[0.8888888888888888,\"#fdca26\"],[1.0,\"#f0f921\"]],\"type\":\"surface\"}],\"table\":[{\"cells\":{\"fill\":{\"color\":\"#EBF0F8\"},\"line\":{\"color\":\"white\"}},\"header\":{\"fill\":{\"color\":\"#C8D4E3\"},\"line\":{\"color\":\"white\"}},\"type\":\"table\"}]},\"layout\":{\"annotationdefaults\":{\"arrowcolor\":\"#2a3f5f\",\"arrowhead\":0,\"arrowwidth\":1},\"autotypenumbers\":\"strict\",\"coloraxis\":{\"colorbar\":{\"outlinewidth\":0,\"ticks\":\"\"}},\"colorscale\":{\"diverging\":[[0,\"#8e0152\"],[0.1,\"#c51b7d\"],[0.2,\"#de77ae\"],[0.3,\"#f1b6da\"],[0.4,\"#fde0ef\"],[0.5,\"#f7f7f7\"],[0.6,\"#e6f5d0\"],[0.7,\"#b8e186\"],[0.8,\"#7fbc41\"],[0.9,\"#4d9221\"],[1,\"#276419\"]],\"sequential\":[[0.0,\"#0d0887\"],[0.1111111111111111,\"#46039f\"],[0.2222222222222222,\"#7201a8\"],[0.3333333333333333,\"#9c179e\"],[0.4444444444444444,\"#bd3786\"],[0.5555555555555556,\"#d8576b\"],[0.6666666666666666,\"#ed7953\"],[0.7777777777777778,\"#fb9f3a\"],[0.8888888888888888,\"#fdca26\"],[1.0,\"#f0f921\"]],\"sequentialminus\":[[0.0,\"#0d0887\"],[0.1111111111111111,\"#46039f\"],[0.2222222222222222,\"#7201a8\"],[0.3333333333333333,\"#9c179e\"],[0.4444444444444444,\"#bd3786\"],[0.5555555555555556,\"#d8576b\"],[0.6666666666666666,\"#ed7953\"],[0.7777777777777778,\"#fb9f3a\"],[0.8888888888888888,\"#fdca26\"],[1.0,\"#f0f921\"]]},\"colorway\":[\"#636efa\",\"#EF553B\",\"#00cc96\",\"#ab63fa\",\"#FFA15A\",\"#19d3f3\",\"#FF6692\",\"#B6E880\",\"#FF97FF\",\"#FECB52\"],\"font\":{\"color\":\"#2a3f5f\"},\"geo\":{\"bgcolor\":\"white\",\"lakecolor\":\"white\",\"landcolor\":\"#E5ECF6\",\"showlakes\":true,\"showland\":true,\"subunitcolor\":\"white\"},\"hoverlabel\":{\"align\":\"left\"},\"hovermode\":\"closest\",\"mapbox\":{\"style\":\"light\"},\"paper_bgcolor\":\"white\",\"plot_bgcolor\":\"#E5ECF6\",\"polar\":{\"angularaxis\":{\"gridcolor\":\"white\",\"linecolor\":\"white\",\"ticks\":\"\"},\"bgcolor\":\"#E5ECF6\",\"radialaxis\":{\"gridcolor\":\"white\",\"linecolor\":\"white\",\"ticks\":\"\"}},\"scene\":{\"xaxis\":{\"backgroundcolor\":\"#E5ECF6\",\"gridcolor\":\"white\",\"gridwidth\":2,\"linecolor\":\"white\",\"showbackground\":true,\"ticks\":\"\",\"zerolinecolor\":\"white\"},\"yaxis\":{\"backgroundcolor\":\"#E5ECF6\",\"gridcolor\":\"white\",\"gridwidth\":2,\"linecolor\":\"white\",\"showbackground\":true,\"ticks\":\"\",\"zerolinecolor\":\"white\"},\"zaxis\":{\"backgroundcolor\":\"#E5ECF6\",\"gridcolor\":\"white\",\"gridwidth\":2,\"linecolor\":\"white\",\"showbackground\":true,\"ticks\":\"\",\"zerolinecolor\":\"white\"}},\"shapedefaults\":{\"line\":{\"color\":\"#2a3f5f\"}},\"ternary\":{\"aaxis\":{\"gridcolor\":\"white\",\"linecolor\":\"white\",\"ticks\":\"\"},\"baxis\":{\"gridcolor\":\"white\",\"linecolor\":\"white\",\"ticks\":\"\"},\"bgcolor\":\"#E5ECF6\",\"caxis\":{\"gridcolor\":\"white\",\"linecolor\":\"white\",\"ticks\":\"\"}},\"title\":{\"x\":0.05},\"xaxis\":{\"automargin\":true,\"gridcolor\":\"white\",\"linecolor\":\"white\",\"ticks\":\"\",\"title\":{\"standoff\":15},\"zerolinecolor\":\"white\",\"zerolinewidth\":2},\"yaxis\":{\"automargin\":true,\"gridcolor\":\"white\",\"linecolor\":\"white\",\"ticks\":\"\",\"title\":{\"standoff\":15},\"zerolinecolor\":\"white\",\"zerolinewidth\":2}}},\"width\":1000,\"xaxis\":{\"dtick\":1,\"showgrid\":false,\"title\":{\"text\":\"<b> Active model category <b>\"}},\"yaxis\":{\"title\":{\"text\":\"<b> Number of studies <b>\"}}},                        {\"responsive\": true}                    ).then(function(){\n",
       "                            \n",
       "var gd = document.getElementById('712f5f1b-672b-45b7-b224-f1ce36650c91');\n",
       "var x = new MutationObserver(function (mutations, observer) {{\n",
       "        var display = window.getComputedStyle(gd).display;\n",
       "        if (!display || display === 'none') {{\n",
       "            console.log([gd, 'removed!']);\n",
       "            Plotly.purge(gd);\n",
       "            observer.disconnect();\n",
       "        }}\n",
       "}});\n",
       "\n",
       "// Listen for the removal of the full notebook cells\n",
       "var notebookContainer = gd.closest('#notebook-container');\n",
       "if (notebookContainer) {{\n",
       "    x.observe(notebookContainer, {childList: true});\n",
       "}}\n",
       "\n",
       "// Listen for the clearing of the current output cell\n",
       "var outputEl = gd.closest('.output');\n",
       "if (outputEl) {{\n",
       "    x.observe(outputEl, {childList: true});\n",
       "}}\n",
       "\n",
       "                        })                };                });            </script>        </div>"
      ]
     },
     "metadata": {},
     "output_type": "display_data"
    }
   ],
   "source": [
    "df = pd.DataFrame(dict_source)\n",
    "\n",
    "fig = go.Figure()\n",
    "fig.add_trace(go.Bar(\n",
    "             x = active_category_list,\n",
    "             y = category_count,\n",
    "             text = category_count,\n",
    "            textposition='auto',\n",
    "            marker_color = color_palette[0]\n",
    "             ))\n",
    "    \n",
    "fig.update_layout(\n",
    "    barmode='stack',\n",
    "    bargap=0.5,\n",
    "    autosize=False,\n",
    "    width=1000,\n",
    "    height=800,\n",
    "    xaxis = dict(title=\"<b> Active model category <b>\", showgrid = False, dtick = 1),\n",
    "    yaxis = dict(title=\"<b> Number of studies <b>\"),\n",
    "    plot_bgcolor= plot_background_color,\n",
    "    legend=dict(yanchor=\"top\", y=0.99, xanchor=\"right\", x=0.99, title = 'Active model type'), \n",
    "    legend_traceorder = 'normal',\n",
    "    margin=go.layout.Margin(\n",
    "        t=10, #top margin\n",
    "    )\n",
    ")\n",
    "\n",
    "fig.show()\n",
    "#fig.write_image(\"active-model-distribution.png\", engine=\"kaleido\", scale = 1.0)"
   ]
  },
  {
   "cell_type": "markdown",
   "metadata": {},
   "source": [
    "## 7.7. Human studies"
   ]
  },
  {
   "cell_type": "code",
   "execution_count": 66,
   "metadata": {},
   "outputs": [
    {
     "data": {
      "text/html": [
       "<div>\n",
       "<style scoped>\n",
       "    .dataframe tbody tr th:only-of-type {\n",
       "        vertical-align: middle;\n",
       "    }\n",
       "\n",
       "    .dataframe tbody tr th {\n",
       "        vertical-align: top;\n",
       "    }\n",
       "\n",
       "    .dataframe thead th {\n",
       "        text-align: right;\n",
       "    }\n",
       "</style>\n",
       "<table border=\"1\" class=\"dataframe\">\n",
       "  <thead>\n",
       "    <tr style=\"text-align: right;\">\n",
       "      <th></th>\n",
       "      <th>Year</th>\n",
       "      <th>Author</th>\n",
       "      <th>Organ</th>\n",
       "      <th>Diseased subjects</th>\n",
       "      <th>Species category</th>\n",
       "      <th>Modeled entity</th>\n",
       "      <th>Test condition</th>\n",
       "      <th>Test protocol</th>\n",
       "      <th>Hyperelastic model category</th>\n",
       "      <th>Hyperelastic model type</th>\n",
       "      <th>Viscous model type</th>\n",
       "      <th>Active model category</th>\n",
       "    </tr>\n",
       "  </thead>\n",
       "  <tbody>\n",
       "    <tr>\n",
       "      <th>11</th>\n",
       "      <td>2009</td>\n",
       "      <td>Boubaker &amp; al.</td>\n",
       "      <td>Rectum</td>\n",
       "      <td>No</td>\n",
       "      <td>Human</td>\n",
       "      <td>Intact tissue</td>\n",
       "      <td>Ex vivo</td>\n",
       "      <td>Planar uniaxial</td>\n",
       "      <td>Phenomenological</td>\n",
       "      <td>Ogden</td>\n",
       "      <td>NaN</td>\n",
       "      <td>NaN</td>\n",
       "    </tr>\n",
       "    <tr>\n",
       "      <th>12</th>\n",
       "      <td>2009</td>\n",
       "      <td>Gao &amp; al.</td>\n",
       "      <td>Small intestine</td>\n",
       "      <td>Yes</td>\n",
       "      <td>Human</td>\n",
       "      <td>Intact tissue</td>\n",
       "      <td>In vivo</td>\n",
       "      <td>Impedance planimetry</td>\n",
       "      <td>NaN</td>\n",
       "      <td>NaN</td>\n",
       "      <td>NaN</td>\n",
       "      <td>Active stress</td>\n",
       "    </tr>\n",
       "    <tr>\n",
       "      <th>24</th>\n",
       "      <td>2012</td>\n",
       "      <td>Rubod &amp; al.</td>\n",
       "      <td>Rectum</td>\n",
       "      <td>No</td>\n",
       "      <td>Human</td>\n",
       "      <td>Intact tissue</td>\n",
       "      <td>Ex vivo</td>\n",
       "      <td>Planar uniaxial</td>\n",
       "      <td>Phenomenological</td>\n",
       "      <td>Mooney-Rivlin</td>\n",
       "      <td>NaN</td>\n",
       "      <td>NaN</td>\n",
       "    </tr>\n",
       "    <tr>\n",
       "      <th>27</th>\n",
       "      <td>2013</td>\n",
       "      <td>Puértolas &amp; al.</td>\n",
       "      <td>Large intestine</td>\n",
       "      <td>No</td>\n",
       "      <td>Human</td>\n",
       "      <td>Intact tissue</td>\n",
       "      <td>Ex vivo</td>\n",
       "      <td>Planar uniaxial</td>\n",
       "      <td>Phenomenological</td>\n",
       "      <td>Mooney-Rivlin</td>\n",
       "      <td>NaN</td>\n",
       "      <td>NaN</td>\n",
       "    </tr>\n",
       "    <tr>\n",
       "      <th>33</th>\n",
       "      <td>2014</td>\n",
       "      <td>Altomare &amp; al.</td>\n",
       "      <td>Large intestine</td>\n",
       "      <td>No</td>\n",
       "      <td>Human</td>\n",
       "      <td>Individual layer</td>\n",
       "      <td>Ex vivo</td>\n",
       "      <td>Planar uniaxial - Other</td>\n",
       "      <td>Structure-based</td>\n",
       "      <td>Holzapfel</td>\n",
       "      <td>NaN</td>\n",
       "      <td>Active strain</td>\n",
       "    </tr>\n",
       "    <tr>\n",
       "      <th>45</th>\n",
       "      <td>2019</td>\n",
       "      <td>Panda &amp; al.</td>\n",
       "      <td>Small intestine</td>\n",
       "      <td>Yes</td>\n",
       "      <td>Human</td>\n",
       "      <td>Intact tissue</td>\n",
       "      <td>Ex vivo</td>\n",
       "      <td>Tubular inflation</td>\n",
       "      <td>Phenomenological</td>\n",
       "      <td>Neo-Hookean</td>\n",
       "      <td>Panda-type linear and nonlinear</td>\n",
       "      <td>NaN</td>\n",
       "    </tr>\n",
       "  </tbody>\n",
       "</table>\n",
       "</div>"
      ],
      "text/plain": [
       "    Year           Author            Organ Diseased subjects Species category  \\\n",
       "11  2009   Boubaker & al.           Rectum                No            Human   \n",
       "12  2009        Gao & al.  Small intestine               Yes            Human   \n",
       "24  2012      Rubod & al.           Rectum                No            Human   \n",
       "27  2013  Puértolas & al.  Large intestine                No            Human   \n",
       "33  2014   Altomare & al.  Large intestine                No            Human   \n",
       "45  2019      Panda & al.  Small intestine               Yes            Human   \n",
       "\n",
       "      Modeled entity Test condition            Test protocol  \\\n",
       "11     Intact tissue        Ex vivo          Planar uniaxial   \n",
       "12     Intact tissue        In vivo     Impedance planimetry   \n",
       "24     Intact tissue        Ex vivo          Planar uniaxial   \n",
       "27     Intact tissue        Ex vivo          Planar uniaxial   \n",
       "33  Individual layer        Ex vivo  Planar uniaxial - Other   \n",
       "45     Intact tissue        Ex vivo        Tubular inflation   \n",
       "\n",
       "   Hyperelastic model category Hyperelastic model type  \\\n",
       "11            Phenomenological                   Ogden   \n",
       "12                         NaN                     NaN   \n",
       "24            Phenomenological           Mooney-Rivlin   \n",
       "27            Phenomenological           Mooney-Rivlin   \n",
       "33             Structure-based               Holzapfel   \n",
       "45            Phenomenological             Neo-Hookean   \n",
       "\n",
       "                 Viscous model type Active model category  \n",
       "11                              NaN                   NaN  \n",
       "12                              NaN         Active stress  \n",
       "24                              NaN                   NaN  \n",
       "27                              NaN                   NaN  \n",
       "33                              NaN         Active strain  \n",
       "45  Panda-type linear and nonlinear                   NaN  "
      ]
     },
     "metadata": {},
     "output_type": "display_data"
    }
   ],
   "source": [
    "df_human = df_all_data_year[df_all_data_year['Species category']==\"Human\"]\n",
    "df_sub = df_human[['Year', 'Author', 'Organ', 'Diseased subjects', 'Species category', \"Modeled entity\", \"Test condition\", \"Test protocol\", 'Hyperelastic model category', 'Hyperelastic model type', 'Viscous model type', 'Active model category']]\n",
    "display(df_sub)\n",
    "#df_sub.to_excel(\"human_studies.xlsx\")"
   ]
  },
  {
   "cell_type": "code",
   "execution_count": null,
   "metadata": {},
   "outputs": [],
   "source": []
  }
 ],
 "metadata": {
  "kernelspec": {
   "display_name": "GI-review",
   "language": "python",
   "name": "gi-review"
  },
  "language_info": {
   "codemirror_mode": {
    "name": "ipython",
    "version": 3
   },
   "file_extension": ".py",
   "mimetype": "text/x-python",
   "name": "python",
   "nbconvert_exporter": "python",
   "pygments_lexer": "ipython3",
   "version": "3.7.11"
  }
 },
 "nbformat": 4,
 "nbformat_minor": 4
}
